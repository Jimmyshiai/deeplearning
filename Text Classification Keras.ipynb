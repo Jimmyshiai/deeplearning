{
 "cells": [
  {
   "cell_type": "markdown",
   "metadata": {},
   "source": [
    "# Deep Learning for Text Classification\n",
    "## This program is used to take tensorflow to perform the text classification, which was made based on the folk from:\n",
    "## - susanli2016/Machine-Learning-with-Python"
   ]
  },
  {
   "cell_type": "code",
   "execution_count": 1,
   "metadata": {
    "collapsed": true
   },
   "outputs": [],
   "source": [
    "from __future__ import absolute_import\n",
    "from __future__ import division\n",
    "from __future__ import print_function"
   ]
  },
  {
   "cell_type": "code",
   "execution_count": 2,
   "metadata": {},
   "outputs": [
    {
     "name": "stderr",
     "output_type": "stream",
     "text": [
      "/Library/Frameworks/Python.framework/Versions/3.6/lib/python3.6/site-packages/h5py/__init__.py:36: FutureWarning: Conversion of the second argument of issubdtype from `float` to `np.floating` is deprecated. In future, it will be treated as `np.float64 == np.dtype(float).type`.\n",
      "  from ._conv import register_converters as _register_converters\n"
     ]
    },
    {
     "name": "stdout",
     "output_type": "stream",
     "text": [
      "You have TensorFlow version 1.7.0\n"
     ]
    },
    {
     "name": "stderr",
     "output_type": "stream",
     "text": [
      "Using TensorFlow backend.\n"
     ]
    }
   ],
   "source": [
    "import itertools\n",
    "import os\n",
    "\n",
    "%matplotlib inline\n",
    "import matplotlib.pyplot as plt\n",
    "import numpy as np\n",
    "import pandas as pd\n",
    "import tensorflow as tf\n",
    "\n",
    "from sklearn.preprocessing import LabelBinarizer, LabelEncoder\n",
    "from sklearn.metrics import confusion_matrix\n",
    "\n",
    "from tensorflow import keras\n",
    "from keras.models import Sequential\n",
    "from keras.layers import Dense, Activation, Dropout\n",
    "from keras.preprocessing import text, sequence\n",
    "from keras import utils\n",
    "\n",
    "# This code was tested with TensorFlow v1.4\n",
    "print(\"You have TensorFlow version\", tf.__version__)"
   ]
  },
  {
   "cell_type": "code",
   "execution_count": 3,
   "metadata": {},
   "outputs": [
    {
     "data": {
      "text/html": [
       "<div>\n",
       "<style scoped>\n",
       "    .dataframe tbody tr th:only-of-type {\n",
       "        vertical-align: middle;\n",
       "    }\n",
       "\n",
       "    .dataframe tbody tr th {\n",
       "        vertical-align: top;\n",
       "    }\n",
       "\n",
       "    .dataframe thead th {\n",
       "        text-align: right;\n",
       "    }\n",
       "</style>\n",
       "<table border=\"1\" class=\"dataframe\">\n",
       "  <thead>\n",
       "    <tr style=\"text-align: right;\">\n",
       "      <th></th>\n",
       "      <th>question</th>\n",
       "      <th>answer</th>\n",
       "    </tr>\n",
       "  </thead>\n",
       "  <tbody>\n",
       "    <tr>\n",
       "      <th>0</th>\n",
       "      <td>I have the problem on The field city could not...</td>\n",
       "      <td>The system setting is missing, and it is corre...</td>\n",
       "    </tr>\n",
       "    <tr>\n",
       "      <th>1</th>\n",
       "      <td>I have the problem on The field city could not...</td>\n",
       "      <td>The system setting is missing, and it is corre...</td>\n",
       "    </tr>\n",
       "    <tr>\n",
       "      <th>2</th>\n",
       "      <td>I have the problem on The field city could not...</td>\n",
       "      <td>The system setting is missing, and it is corre...</td>\n",
       "    </tr>\n",
       "    <tr>\n",
       "      <th>3</th>\n",
       "      <td>I have the problem on The field city could not...</td>\n",
       "      <td>The system setting is missing, and it is corre...</td>\n",
       "    </tr>\n",
       "    <tr>\n",
       "      <th>4</th>\n",
       "      <td>I have the problem on The field city could not...</td>\n",
       "      <td>The system setting is missing, and it is corre...</td>\n",
       "    </tr>\n",
       "  </tbody>\n",
       "</table>\n",
       "</div>"
      ],
      "text/plain": [
       "                                            question  \\\n",
       "0  I have the problem on The field city could not...   \n",
       "1  I have the problem on The field city could not...   \n",
       "2  I have the problem on The field city could not...   \n",
       "3  I have the problem on The field city could not...   \n",
       "4  I have the problem on The field city could not...   \n",
       "\n",
       "                                              answer  \n",
       "0  The system setting is missing, and it is corre...  \n",
       "1  The system setting is missing, and it is corre...  \n",
       "2  The system setting is missing, and it is corre...  \n",
       "3  The system setting is missing, and it is corre...  \n",
       "4  The system setting is missing, and it is corre...  "
      ]
     },
     "execution_count": 3,
     "metadata": {},
     "output_type": "execute_result"
    }
   ],
   "source": [
    "df = pd.read_excel('./98_data/qalist_answer.xlsx', encoding='latin-1')\n",
    "df.head()"
   ]
  },
  {
   "cell_type": "code",
   "execution_count": 6,
   "metadata": {},
   "outputs": [
    {
     "data": {
      "text/html": [
       "<div>\n",
       "<style scoped>\n",
       "    .dataframe tbody tr th:only-of-type {\n",
       "        vertical-align: middle;\n",
       "    }\n",
       "\n",
       "    .dataframe tbody tr th {\n",
       "        vertical-align: top;\n",
       "    }\n",
       "\n",
       "    .dataframe thead th {\n",
       "        text-align: right;\n",
       "    }\n",
       "</style>\n",
       "<table border=\"1\" class=\"dataframe\">\n",
       "  <thead>\n",
       "    <tr style=\"text-align: right;\">\n",
       "      <th></th>\n",
       "      <th>Emails</th>\n",
       "      <th>Cat</th>\n",
       "    </tr>\n",
       "  </thead>\n",
       "  <tbody>\n",
       "    <tr>\n",
       "      <th>0</th>\n",
       "      <td>I have the problem on The field city could not...</td>\n",
       "      <td>The system setting is missing, and it is corre...</td>\n",
       "    </tr>\n",
       "    <tr>\n",
       "      <th>1</th>\n",
       "      <td>I have the problem on The field city could not...</td>\n",
       "      <td>The system setting is missing, and it is corre...</td>\n",
       "    </tr>\n",
       "    <tr>\n",
       "      <th>2</th>\n",
       "      <td>I have the problem on The field city could not...</td>\n",
       "      <td>The system setting is missing, and it is corre...</td>\n",
       "    </tr>\n",
       "    <tr>\n",
       "      <th>3</th>\n",
       "      <td>I have the problem on The field city could not...</td>\n",
       "      <td>The system setting is missing, and it is corre...</td>\n",
       "    </tr>\n",
       "    <tr>\n",
       "      <th>4</th>\n",
       "      <td>I have the problem on The field city could not...</td>\n",
       "      <td>The system setting is missing, and it is corre...</td>\n",
       "    </tr>\n",
       "  </tbody>\n",
       "</table>\n",
       "</div>"
      ],
      "text/plain": [
       "                                              Emails  \\\n",
       "0  I have the problem on The field city could not...   \n",
       "1  I have the problem on The field city could not...   \n",
       "2  I have the problem on The field city could not...   \n",
       "3  I have the problem on The field city could not...   \n",
       "4  I have the problem on The field city could not...   \n",
       "\n",
       "                                                 Cat  \n",
       "0  The system setting is missing, and it is corre...  \n",
       "1  The system setting is missing, and it is corre...  \n",
       "2  The system setting is missing, and it is corre...  \n",
       "3  The system setting is missing, and it is corre...  \n",
       "4  The system setting is missing, and it is corre...  "
      ]
     },
     "execution_count": 6,
     "metadata": {},
     "output_type": "execute_result"
    }
   ],
   "source": [
    "df.columns=['Emails', 'Cat']\n",
    "col = ['Emails', 'Cat']\n",
    "#df = df[col]\n",
    "df = df[pd.notnull(df['Emails'])]\n",
    "df.head()"
   ]
  },
  {
   "cell_type": "code",
   "execution_count": 7,
   "metadata": {},
   "outputs": [
    {
     "data": {
      "text/plain": [
       "Emails    0\n",
       "Cat       0\n",
       "dtype: int64"
      ]
     },
     "execution_count": 7,
     "metadata": {},
     "output_type": "execute_result"
    }
   ],
   "source": [
    "df.isnull().sum()"
   ]
  },
  {
   "cell_type": "code",
   "execution_count": 8,
   "metadata": {},
   "outputs": [
    {
     "data": {
      "text/plain": [
       "The system bug and it is working now after applying patch.                                                      5808\n",
       "The role was not changes since the change was not transferred to system.It was done, and should be work now.    3872\n",
       "The system setting is missing, and it is corrected after reinputting it.                                        3872\n",
       "The system change was done, and this field was removed. Please check the annoucement sent last month.           3872\n",
       "The system maintenance was completed, and it is working now.                                                    1936\n",
       "Please clear your IE cache, if not work, please upgrade your windows to windows 10.                              484\n",
       "Your authorization is insufficient, please apply for the additional authorizations.                              242\n",
       "The system setting was changed, and we will restore the system setting, after that, please try it again.         242\n",
       "Name: Cat, dtype: int64"
      ]
     },
     "execution_count": 8,
     "metadata": {},
     "output_type": "execute_result"
    }
   ],
   "source": [
    "df['Cat'].value_counts()"
   ]
  },
  {
   "cell_type": "code",
   "execution_count": 9,
   "metadata": {},
   "outputs": [
    {
     "name": "stdout",
     "output_type": "stream",
     "text": [
      "Train size: 16262\n",
      "Test size: 4066\n"
     ]
    }
   ],
   "source": [
    "# Split data into train and test\n",
    "train_size = int(len(df) * .8)\n",
    "print (\"Train size: %d\" % train_size)\n",
    "print (\"Test size: %d\" % (len(df) - train_size))"
   ]
  },
  {
   "cell_type": "code",
   "execution_count": 10,
   "metadata": {
    "collapsed": true
   },
   "outputs": [],
   "source": [
    "train_narrative = df['Emails'][:train_size]\n",
    "train_product = df['Cat'][:train_size]\n",
    "\n",
    "test_narrative = df['Emails'][train_size:]\n",
    "test_product = df['Cat'][train_size:]"
   ]
  },
  {
   "cell_type": "code",
   "execution_count": 11,
   "metadata": {
    "collapsed": true
   },
   "outputs": [],
   "source": [
    "# Open question: why the max_words is required?\n",
    "max_words = 1000\n",
    "tokenize = text.Tokenizer(num_words=max_words, char_level=False)"
   ]
  },
  {
   "cell_type": "code",
   "execution_count": 12,
   "metadata": {
    "collapsed": true
   },
   "outputs": [],
   "source": [
    "tokenize.fit_on_texts(train_narrative) # only fit on train\n",
    "x_train = tokenize.texts_to_matrix(train_narrative)\n",
    "x_test = tokenize.texts_to_matrix(test_narrative)"
   ]
  },
  {
   "cell_type": "code",
   "execution_count": 13,
   "metadata": {
    "collapsed": true
   },
   "outputs": [],
   "source": [
    "# Use sklearn utility to convert label strings to numbered index\n",
    "encoder = LabelEncoder()\n",
    "encoder.fit(train_product)\n",
    "y_train = encoder.transform(train_product)\n",
    "y_test = encoder.transform(test_product)"
   ]
  },
  {
   "cell_type": "code",
   "execution_count": 14,
   "metadata": {
    "collapsed": true
   },
   "outputs": [],
   "source": [
    "# Converts the labels to a one-hot representation\n",
    "num_classes = np.max(y_train) + 1\n",
    "y_train = utils.to_categorical(y_train, num_classes)\n",
    "y_test = utils.to_categorical(y_test, num_classes)"
   ]
  },
  {
   "cell_type": "code",
   "execution_count": 15,
   "metadata": {},
   "outputs": [
    {
     "name": "stdout",
     "output_type": "stream",
     "text": [
      "x_train shape: (16262, 1000)\n",
      "x_test shape: (4066, 1000)\n",
      "y_train shape: (16262, 8)\n",
      "y_test shape: (4066, 8)\n"
     ]
    }
   ],
   "source": [
    "# Inspect the dimenstions of our training and test data (this is helpful to debug)\n",
    "print('x_train shape:', x_train.shape)\n",
    "print('x_test shape:', x_test.shape)\n",
    "print('y_train shape:', y_train.shape)\n",
    "print('y_test shape:', y_test.shape)"
   ]
  },
  {
   "cell_type": "code",
   "execution_count": 16,
   "metadata": {
    "collapsed": true
   },
   "outputs": [],
   "source": [
    "# Open questions: why are those parameters used for?\n",
    "batch_size = 32\n",
    "epochs = 5"
   ]
  },
  {
   "cell_type": "code",
   "execution_count": 17,
   "metadata": {
    "collapsed": true
   },
   "outputs": [],
   "source": [
    "# Build the model\n",
    "model = Sequential()\n",
    "model.add(Dense(512, input_shape=(max_words,)))\n",
    "model.add(Activation('relu'))\n",
    "model.add(Dropout(0.5))\n",
    "model.add(Dense(num_classes))\n",
    "model.add(Activation('softmax'))\n",
    "\n",
    "model.compile(loss='categorical_crossentropy',\n",
    "              optimizer='adam',\n",
    "              metrics=['accuracy'])"
   ]
  },
  {
   "cell_type": "code",
   "execution_count": 18,
   "metadata": {},
   "outputs": [
    {
     "name": "stdout",
     "output_type": "stream",
     "text": [
      "Train on 14635 samples, validate on 1627 samples\n",
      "Epoch 1/5\n",
      "14635/14635 [==============================] - 2s 168us/step - loss: 0.1509 - acc: 0.9669 - val_loss: 0.0045 - val_acc: 1.0000\n",
      "Epoch 2/5\n",
      "14635/14635 [==============================] - 2s 143us/step - loss: 0.0015 - acc: 1.0000 - val_loss: 0.0011 - val_acc: 1.0000\n",
      "Epoch 3/5\n",
      "14635/14635 [==============================] - 2s 142us/step - loss: 4.8620e-04 - acc: 1.0000 - val_loss: 4.6929e-04 - val_acc: 1.0000\n",
      "Epoch 4/5\n",
      "14635/14635 [==============================] - 2s 158us/step - loss: 2.4101e-04 - acc: 1.0000 - val_loss: 2.7317e-04 - val_acc: 1.0000\n",
      "Epoch 5/5\n",
      "14635/14635 [==============================] - 2s 143us/step - loss: 1.3498e-04 - acc: 1.0000 - val_loss: 1.5714e-04 - val_acc: 1.0000\n"
     ]
    }
   ],
   "source": [
    "history = model.fit(x_train, y_train,\n",
    "                    batch_size=batch_size,\n",
    "                    epochs=epochs,\n",
    "                    verbose=1,\n",
    "                    validation_split=0.1)"
   ]
  },
  {
   "cell_type": "code",
   "execution_count": 19,
   "metadata": {},
   "outputs": [
    {
     "name": "stdout",
     "output_type": "stream",
     "text": [
      "4066/4066 [==============================] - 0s 58us/step\n",
      "Test score: 0.0006621574547917816\n",
      "Test accuracy: 1.0\n"
     ]
    }
   ],
   "source": [
    "# Evaluate the accuracy of our trained model\n",
    "score = model.evaluate(x_test, y_test,\n",
    "                       batch_size=batch_size, verbose=1)\n",
    "print('Test score:', score[0])\n",
    "print('Test accuracy:', score[1])"
   ]
  },
  {
   "cell_type": "code",
   "execution_count": 20,
   "metadata": {},
   "outputs": [
    {
     "name": "stdout",
     "output_type": "stream",
     "text": [
      "It is really frastruted to meet with the following ...\n",
      "Actual label:The system change was done, and this field was removed. Please check the annoucement sent last month.\n",
      "Predicted label: The system change was done, and this field was removed. Please check the annoucement sent last month.\n",
      "\n",
      "It is really frastruted to meet with the following ...\n",
      "Actual label:The system change was done, and this field was removed. Please check the annoucement sent last month.\n",
      "Predicted label: The system change was done, and this field was removed. Please check the annoucement sent last month.\n",
      "\n",
      "It is really frastruted to meet with the following ...\n",
      "Actual label:The system change was done, and this field was removed. Please check the annoucement sent last month.\n",
      "Predicted label: The system change was done, and this field was removed. Please check the annoucement sent last month.\n",
      "\n",
      "It is really frastruted to meet with the following ...\n",
      "Actual label:The system change was done, and this field was removed. Please check the annoucement sent last month.\n",
      "Predicted label: The system change was done, and this field was removed. Please check the annoucement sent last month.\n",
      "\n",
      "It is really frastruted to meet with the following ...\n",
      "Actual label:The system change was done, and this field was removed. Please check the annoucement sent last month.\n",
      "Predicted label: The system change was done, and this field was removed. Please check the annoucement sent last month.\n",
      "\n",
      "It is really frastruted to meet with the following ...\n",
      "Actual label:The system change was done, and this field was removed. Please check the annoucement sent last month.\n",
      "Predicted label: The system change was done, and this field was removed. Please check the annoucement sent last month.\n",
      "\n",
      "It is really frastruted to meet with the following ...\n",
      "Actual label:The system change was done, and this field was removed. Please check the annoucement sent last month.\n",
      "Predicted label: The system change was done, and this field was removed. Please check the annoucement sent last month.\n",
      "\n",
      "It is really frastruted to meet with the following ...\n",
      "Actual label:The system change was done, and this field was removed. Please check the annoucement sent last month.\n",
      "Predicted label: The system change was done, and this field was removed. Please check the annoucement sent last month.\n",
      "\n",
      "It is really frastruted to meet with the following ...\n",
      "Actual label:The system change was done, and this field was removed. Please check the annoucement sent last month.\n",
      "Predicted label: The system change was done, and this field was removed. Please check the annoucement sent last month.\n",
      "\n",
      "It is really frastruted to meet with the following ...\n",
      "Actual label:The system change was done, and this field was removed. Please check the annoucement sent last month.\n",
      "Predicted label: The system change was done, and this field was removed. Please check the annoucement sent last month.\n",
      "\n"
     ]
    }
   ],
   "source": [
    "# Here's how to generate a prediction on individual examples\n",
    "text_labels = encoder.classes_ \n",
    "\n",
    "for i in range(10):\n",
    "    prediction = model.predict(np.array([x_test[i]]))\n",
    "    predicted_label = text_labels[np.argmax(prediction)]\n",
    "    print(test_narrative.iloc[i][:50], \"...\")\n",
    "    print('Actual label:' + test_product.iloc[i])\n",
    "    print(\"Predicted label: \" + predicted_label + \"\\n\")"
   ]
  },
  {
   "cell_type": "code",
   "execution_count": null,
   "metadata": {
    "collapsed": true
   },
   "outputs": [],
   "source": []
  }
 ],
 "metadata": {
  "kernelspec": {
   "display_name": "Python 3",
   "language": "python",
   "name": "python3"
  },
  "language_info": {
   "codemirror_mode": {
    "name": "ipython",
    "version": 3
   },
   "file_extension": ".py",
   "mimetype": "text/x-python",
   "name": "python",
   "nbconvert_exporter": "python",
   "pygments_lexer": "ipython3",
   "version": "3.6.1"
  }
 },
 "nbformat": 4,
 "nbformat_minor": 2
}
