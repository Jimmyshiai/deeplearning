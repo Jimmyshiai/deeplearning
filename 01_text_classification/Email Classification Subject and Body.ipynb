{
 "cells": [
  {
   "cell_type": "markdown",
   "metadata": {
    "extensions": {
     "jupyter_dashboards": {
      "version": 1,
      "views": {
       "grid_default": {
        "hidden": true
       },
       "report_default": {}
      }
     }
    }
   },
   "source": [
    "## Email Classification based on subject and body\n",
    "This program is to demostrate how to build 3 layers of NN to integrate subject and body's classification into one result. \n",
    "\n",
    "The background is, we need to consider both subject and body to make the email classification, the approach can be:<br> </br>\n",
    "1) Build one NN to predict label of email classification (Subject as input), another NN to predict the same label ( Body as input).<br> </br>\n",
    "2) On top of the above, build one more NN to take their inputs to predict the same label.<br> </br>\n",
    "3) Train the above 3 NNs to gain the optimal weights and hyperparameters."
   ]
  },
  {
   "cell_type": "code",
   "execution_count": 1,
   "metadata": {
    "ExecuteTime": {
     "end_time": "2018-12-26T01:03:58.158356Z",
     "start_time": "2018-12-26T01:03:58.155390Z"
    },
    "collapsed": true,
    "extensions": {
     "jupyter_dashboards": {
      "version": 1,
      "views": {
       "grid_default": {
        "hidden": true
       },
       "report_default": {}
      }
     }
    }
   },
   "outputs": [],
   "source": [
    "from __future__ import absolute_import\n",
    "from __future__ import division\n",
    "from __future__ import print_function"
   ]
  },
  {
   "cell_type": "code",
   "execution_count": 2,
   "metadata": {
    "ExecuteTime": {
     "end_time": "2018-12-26T01:04:01.485602Z",
     "start_time": "2018-12-26T01:03:59.504307Z"
    },
    "extensions": {
     "jupyter_dashboards": {
      "version": 1,
      "views": {
       "grid_default": {
        "col": 0,
        "height": 4,
        "hidden": false,
        "row": 0,
        "width": 4
       },
       "report_default": {}
      }
     }
    }
   },
   "outputs": [
    {
     "name": "stderr",
     "output_type": "stream",
     "text": [
      "/Library/Frameworks/Python.framework/Versions/3.6/lib/python3.6/site-packages/h5py/__init__.py:34: FutureWarning: Conversion of the second argument of issubdtype from `float` to `np.floating` is deprecated. In future, it will be treated as `np.float64 == np.dtype(float).type`.\n",
      "  from ._conv import register_converters as _register_converters\n"
     ]
    },
    {
     "name": "stdout",
     "output_type": "stream",
     "text": [
      "You have TensorFlow version 1.12.0\n"
     ]
    },
    {
     "name": "stderr",
     "output_type": "stream",
     "text": [
      "Using TensorFlow backend.\n"
     ]
    }
   ],
   "source": [
    "import itertools\n",
    "import os\n",
    "import logging\n",
    "import csv        \n",
    "\n",
    "%matplotlib inline\n",
    "import matplotlib.pyplot as plt\n",
    "import numpy as np\n",
    "import pandas as pd\n",
    "import tensorflow as tf\n",
    "\n",
    "from sklearn.preprocessing import LabelBinarizer, LabelEncoder\n",
    "from sklearn.metrics import confusion_matrix\n",
    "from sklearn.model_selection import train_test_split\n",
    "\n",
    "from tensorflow import keras\n",
    "from keras.models import Sequential\n",
    "from keras.layers import Dense, Activation, Dropout, Embedding,LSTM,Flatten,GRU\n",
    "from keras.preprocessing import text, sequence\n",
    "from keras import utils\n",
    "\n",
    "import gensim\n",
    "from gensim.models import Word2Vec\n",
    "from gensim.models import FastText\n",
    "\n",
    "# This code was tested with TensorFlow v1.4\n",
    "print(\"You have TensorFlow version\", tf.__version__)\n",
    "\n",
    "logging.basicConfig(format = '%(asctime)s - %(levelname)s - %(name)s -   %(message)s', \n",
    "                    datefmt = '%m/%d/%Y %H:%M:%S',\n",
    "                    level = logging.INFO)\n",
    "logger = logging.getLogger(__name__)"
   ]
  },
  {
   "cell_type": "markdown",
   "metadata": {
    "extensions": {
     "jupyter_dashboards": {
      "version": 1,
      "views": {
       "grid_default": {
        "col": 4,
        "height": 4,
        "hidden": false,
        "row": 0,
        "width": 4
       },
       "report_default": {}
      }
     }
    }
   },
   "source": [
    "### Load the mock dataset"
   ]
  },
  {
   "cell_type": "code",
   "execution_count": 3,
   "metadata": {
    "ExecuteTime": {
     "end_time": "2018-12-26T01:04:01.708465Z",
     "start_time": "2018-12-26T01:04:01.505221Z"
    },
    "extensions": {
     "jupyter_dashboards": {
      "version": 1,
      "views": {
       "grid_default": {
        "col": 8,
        "height": 9,
        "hidden": false,
        "row": 0,
        "width": 4
       },
       "report_default": {}
      }
     }
    }
   },
   "outputs": [
    {
     "data": {
      "text/html": [
       "<div>\n",
       "<style scoped>\n",
       "    .dataframe tbody tr th:only-of-type {\n",
       "        vertical-align: middle;\n",
       "    }\n",
       "\n",
       "    .dataframe tbody tr th {\n",
       "        vertical-align: top;\n",
       "    }\n",
       "\n",
       "    .dataframe thead th {\n",
       "        text-align: right;\n",
       "    }\n",
       "</style>\n",
       "<table border=\"1\" class=\"dataframe\">\n",
       "  <thead>\n",
       "    <tr style=\"text-align: right;\">\n",
       "      <th></th>\n",
       "      <th>convid</th>\n",
       "      <th>subject</th>\n",
       "      <th>length</th>\n",
       "      <th>tousflag</th>\n",
       "      <th>dialognm</th>\n",
       "      <th>forwardtime</th>\n",
       "      <th>imagenm</th>\n",
       "      <th>notimagenm</th>\n",
       "      <th>mailbody</th>\n",
       "      <th>mailquestion</th>\n",
       "      <th>imagetype</th>\n",
       "      <th>firstanswername</th>\n",
       "      <th>firstforwardname</th>\n",
       "      <th>Category</th>\n",
       "      <th>Unnamed: 14</th>\n",
       "    </tr>\n",
       "  </thead>\n",
       "  <tbody>\n",
       "    <tr>\n",
       "      <th>0</th>\n",
       "      <td>AAQkAGI3MzUxMzk3LTZiZjItNDQ5Ni1hMzJlLWU5NWMxNm...</td>\n",
       "      <td>NaN</td>\n",
       "      <td>26.5</td>\n",
       "      <td>1</td>\n",
       "      <td>3.0</td>\n",
       "      <td>1</td>\n",
       "      <td>0</td>\n",
       "      <td>0</td>\n",
       "      <td>now personname change target date and able to ...</td>\n",
       "      <td>i can not find anything related to this after ...</td>\n",
       "      <td>NaN</td>\n",
       "      <td>yosong@abeam.com</td>\n",
       "      <td>yosong@abeam.com</td>\n",
       "      <td>Timesheet</td>\n",
       "      <td>NaN</td>\n",
       "    </tr>\n",
       "    <tr>\n",
       "      <th>4</th>\n",
       "      <td>AAQkAGI3MzUxMzk3LTZiZjItNDQ5Ni1hMzJlLWU5NWMxNm...</td>\n",
       "      <td>NaN</td>\n",
       "      <td>21.0</td>\n",
       "      <td>1</td>\n",
       "      <td>1.5</td>\n",
       "      <td>0</td>\n",
       "      <td>0</td>\n",
       "      <td>0</td>\n",
       "      <td>we think it was caused by google bar in your b...</td>\n",
       "      <td>hi nasa team i had a problem which accessing t...</td>\n",
       "      <td>NaN</td>\n",
       "      <td>yosong@abeam.com</td>\n",
       "      <td>NaN</td>\n",
       "      <td>Authorization</td>\n",
       "      <td>NaN</td>\n",
       "    </tr>\n",
       "    <tr>\n",
       "      <th>22</th>\n",
       "      <td>AAQkAGI3MzUxMzk3LTZiZjItNDQ5Ni1hMzJlLWU5NWMxNm...</td>\n",
       "      <td>10 15</td>\n",
       "      <td>12.0</td>\n",
       "      <td>1</td>\n",
       "      <td>1.5</td>\n",
       "      <td>0</td>\n",
       "      <td>0</td>\n",
       "      <td>0</td>\n",
       "      <td>staff 9 tel 9 9 fax 9 9 mailto emailaddress fs...</td>\n",
       "      <td>staff 9 tel 9 9 fax 9 9 mailto emailaddress fs...</td>\n",
       "      <td>NaN</td>\n",
       "      <td>NaN</td>\n",
       "      <td>NaN</td>\n",
       "      <td>Timesheet</td>\n",
       "      <td>NaN</td>\n",
       "    </tr>\n",
       "    <tr>\n",
       "      <th>26</th>\n",
       "      <td>AAQkAGI3MzUxMzk3LTZiZjItNDQ5Ni1hMzJlLWU5NWMxNm...</td>\n",
       "      <td>ab my new finance cum project executive erica ...</td>\n",
       "      <td>72.0</td>\n",
       "      <td>1</td>\n",
       "      <td>0.0</td>\n",
       "      <td>0</td>\n",
       "      <td>0</td>\n",
       "      <td>0</td>\n",
       "      <td>i would like to take this opportunity to intro...</td>\n",
       "      <td>i would like to take this opportunity to intro...</td>\n",
       "      <td>NaN</td>\n",
       "      <td>NaN</td>\n",
       "      <td>NaN</td>\n",
       "      <td>Others</td>\n",
       "      <td>NaN</td>\n",
       "    </tr>\n",
       "    <tr>\n",
       "      <th>27</th>\n",
       "      <td>AAQkAGI3MzUxMzk3LTZiZjItNDQ5Ni1hMzJlLWU5NWMxNm...</td>\n",
       "      <td>abeam consulting sap implementation for yan wa...</td>\n",
       "      <td>10.0</td>\n",
       "      <td>1</td>\n",
       "      <td>6.5</td>\n",
       "      <td>0</td>\n",
       "      <td>0</td>\n",
       "      <td>0</td>\n",
       "      <td>let s discuss with you soon please in 30 min ....</td>\n",
       "      <td>let s discuss with you soon please in 30 min ....</td>\n",
       "      <td>NaN</td>\n",
       "      <td>NaN</td>\n",
       "      <td>NaN</td>\n",
       "      <td>Others</td>\n",
       "      <td>NaN</td>\n",
       "    </tr>\n",
       "  </tbody>\n",
       "</table>\n",
       "</div>"
      ],
      "text/plain": [
       "                                               convid  \\\n",
       "0   AAQkAGI3MzUxMzk3LTZiZjItNDQ5Ni1hMzJlLWU5NWMxNm...   \n",
       "4   AAQkAGI3MzUxMzk3LTZiZjItNDQ5Ni1hMzJlLWU5NWMxNm...   \n",
       "22  AAQkAGI3MzUxMzk3LTZiZjItNDQ5Ni1hMzJlLWU5NWMxNm...   \n",
       "26  AAQkAGI3MzUxMzk3LTZiZjItNDQ5Ni1hMzJlLWU5NWMxNm...   \n",
       "27  AAQkAGI3MzUxMzk3LTZiZjItNDQ5Ni1hMzJlLWU5NWMxNm...   \n",
       "\n",
       "                                              subject  length  tousflag  \\\n",
       "0                                                 NaN    26.5         1   \n",
       "4                                                 NaN    21.0         1   \n",
       "22                                              10 15    12.0         1   \n",
       "26  ab my new finance cum project executive erica ...    72.0         1   \n",
       "27  abeam consulting sap implementation for yan wa...    10.0         1   \n",
       "\n",
       "    dialognm  forwardtime  imagenm  notimagenm  \\\n",
       "0        3.0            1        0           0   \n",
       "4        1.5            0        0           0   \n",
       "22       1.5            0        0           0   \n",
       "26       0.0            0        0           0   \n",
       "27       6.5            0        0           0   \n",
       "\n",
       "                                             mailbody  \\\n",
       "0   now personname change target date and able to ...   \n",
       "4   we think it was caused by google bar in your b...   \n",
       "22  staff 9 tel 9 9 fax 9 9 mailto emailaddress fs...   \n",
       "26  i would like to take this opportunity to intro...   \n",
       "27  let s discuss with you soon please in 30 min ....   \n",
       "\n",
       "                                         mailquestion  imagetype  \\\n",
       "0   i can not find anything related to this after ...        NaN   \n",
       "4   hi nasa team i had a problem which accessing t...        NaN   \n",
       "22  staff 9 tel 9 9 fax 9 9 mailto emailaddress fs...        NaN   \n",
       "26  i would like to take this opportunity to intro...        NaN   \n",
       "27  let s discuss with you soon please in 30 min ....        NaN   \n",
       "\n",
       "     firstanswername  firstforwardname       Category Unnamed: 14  \n",
       "0   yosong@abeam.com  yosong@abeam.com      Timesheet         NaN  \n",
       "4   yosong@abeam.com               NaN  Authorization         NaN  \n",
       "22               NaN               NaN      Timesheet         NaN  \n",
       "26               NaN               NaN         Others         NaN  \n",
       "27               NaN               NaN         Others         NaN  "
      ]
     },
     "execution_count": 3,
     "metadata": {},
     "output_type": "execute_result"
    }
   ],
   "source": [
    "source = pd.read_excel('../98_data/mail_timesheet_admin_woissue.xlsx', encoding='latin-1')\n",
    "source.head()"
   ]
  },
  {
   "cell_type": "code",
   "execution_count": 4,
   "metadata": {
    "ExecuteTime": {
     "end_time": "2018-12-26T01:04:02.837669Z",
     "start_time": "2018-12-26T01:04:02.823027Z"
    },
    "extensions": {
     "jupyter_dashboards": {
      "version": 1,
      "views": {
       "grid_default": {
        "col": 0,
        "height": 9,
        "hidden": false,
        "row": 4,
        "width": 4
       },
       "report_default": {}
      }
     }
    }
   },
   "outputs": [
    {
     "data": {
      "text/html": [
       "<div>\n",
       "<style scoped>\n",
       "    .dataframe tbody tr th:only-of-type {\n",
       "        vertical-align: middle;\n",
       "    }\n",
       "\n",
       "    .dataframe tbody tr th {\n",
       "        vertical-align: top;\n",
       "    }\n",
       "\n",
       "    .dataframe thead th {\n",
       "        text-align: right;\n",
       "    }\n",
       "</style>\n",
       "<table border=\"1\" class=\"dataframe\">\n",
       "  <thead>\n",
       "    <tr style=\"text-align: right;\">\n",
       "      <th></th>\n",
       "      <th>Subject</th>\n",
       "      <th>Emails</th>\n",
       "      <th>Cat</th>\n",
       "    </tr>\n",
       "  </thead>\n",
       "  <tbody>\n",
       "    <tr>\n",
       "      <th>22</th>\n",
       "      <td>10 15</td>\n",
       "      <td>staff 9 tel 9 9 fax 9 9 mailto emailaddress fs...</td>\n",
       "      <td>Timesheet</td>\n",
       "    </tr>\n",
       "    <tr>\n",
       "      <th>26</th>\n",
       "      <td>ab my new finance cum project executive erica ...</td>\n",
       "      <td>i would like to take this opportunity to intro...</td>\n",
       "      <td>Others</td>\n",
       "    </tr>\n",
       "    <tr>\n",
       "      <th>27</th>\n",
       "      <td>abeam consulting sap implementation for yan wa...</td>\n",
       "      <td>let s discuss with you soon please in 30 min ....</td>\n",
       "      <td>Others</td>\n",
       "    </tr>\n",
       "    <tr>\n",
       "      <th>30</th>\n",
       "      <td>about timesheet for holiday</td>\n",
       "      <td>dear i want to ask for some question for the f...</td>\n",
       "      <td>Timesheet</td>\n",
       "    </tr>\n",
       "    <tr>\n",
       "      <th>39</th>\n",
       "      <td>all button are disappeared after choose engage...</td>\n",
       "      <td>help me please after upgrade browser from vers...</td>\n",
       "      <td>Others</td>\n",
       "    </tr>\n",
       "  </tbody>\n",
       "</table>\n",
       "</div>"
      ],
      "text/plain": [
       "                                              Subject  \\\n",
       "22                                              10 15   \n",
       "26  ab my new finance cum project executive erica ...   \n",
       "27  abeam consulting sap implementation for yan wa...   \n",
       "30                        about timesheet for holiday   \n",
       "39  all button are disappeared after choose engage...   \n",
       "\n",
       "                                               Emails        Cat  \n",
       "22  staff 9 tel 9 9 fax 9 9 mailto emailaddress fs...  Timesheet  \n",
       "26  i would like to take this opportunity to intro...     Others  \n",
       "27  let s discuss with you soon please in 30 min ....     Others  \n",
       "30  dear i want to ask for some question for the f...  Timesheet  \n",
       "39  help me please after upgrade browser from vers...     Others  "
      ]
     },
     "execution_count": 4,
     "metadata": {},
     "output_type": "execute_result"
    }
   ],
   "source": [
    "# Rename the columns\n",
    "df=source[['subject','mailquestion','Category']]\n",
    "df.columns=['Subject','Emails','Cat']\n",
    "# Remove all rows whose emails or subjects are empty\n",
    "df = df[pd.notnull(df['Emails'])]\n",
    "df=df[pd.notnull(df['Subject'])]\n",
    "df.head()"
   ]
  },
  {
   "cell_type": "code",
   "execution_count": 5,
   "metadata": {
    "ExecuteTime": {
     "end_time": "2018-12-26T01:04:06.193076Z",
     "start_time": "2018-12-26T01:04:06.186437Z"
    },
    "extensions": {
     "jupyter_dashboards": {
      "version": 1,
      "views": {
       "grid_default": {
        "col": 4,
        "height": 4,
        "hidden": false,
        "row": 4,
        "width": 4
       },
       "report_default": {}
      }
     }
    }
   },
   "outputs": [
    {
     "data": {
      "text/plain": [
       "Subject    0\n",
       "Emails     0\n",
       "Cat        0\n",
       "dtype: int64"
      ]
     },
     "execution_count": 5,
     "metadata": {},
     "output_type": "execute_result"
    }
   ],
   "source": [
    "df.isnull().sum()"
   ]
  },
  {
   "cell_type": "code",
   "execution_count": 6,
   "metadata": {
    "ExecuteTime": {
     "end_time": "2018-12-26T01:04:07.296259Z",
     "start_time": "2018-12-26T01:04:07.289295Z"
    },
    "extensions": {
     "jupyter_dashboards": {
      "version": 1,
      "views": {
       "grid_default": {
        "col": 4,
        "height": 15,
        "hidden": false,
        "row": 8,
        "width": 4
       },
       "report_default": {}
      }
     }
    }
   },
   "outputs": [
    {
     "data": {
      "text/plain": [
       "Timesheet        331\n",
       "Others           155\n",
       "Authorization    129\n",
       "Project          100\n",
       "Report            55\n",
       "SAP_HR            15\n",
       "Subcon            13\n",
       "Resource           1\n",
       "Name: Cat, dtype: int64"
      ]
     },
     "execution_count": 6,
     "metadata": {},
     "output_type": "execute_result"
    }
   ],
   "source": [
    "df['Cat'].value_counts()"
   ]
  },
  {
   "cell_type": "code",
   "execution_count": 7,
   "metadata": {
    "ExecuteTime": {
     "end_time": "2018-12-26T01:04:11.143579Z",
     "start_time": "2018-12-26T01:04:10.743470Z"
    }
   },
   "outputs": [
    {
     "name": "stdout",
     "output_type": "stream",
     "text": [
      "Median words per sample: 81.0\n"
     ]
    },
    {
     "data": {
      "image/png": "[encoded data removed]",
      "text/plain": [
       "<Figure size 432x288 with 1 Axes>"
      ]
     },
     "metadata": {},
     "output_type": "display_data"
    }
   ],
   "source": [
    "from google_text_classification.explore_data import get_num_words_per_sample,plot_sample_length_distribution\n",
    "\n",
    "print(\"Median words per sample:\",get_num_words_per_sample(df['Emails']))\n",
    "\n",
    "plot_sample_length_distribution(df['Emails'])"
   ]
  },
  {
   "cell_type": "code",
   "execution_count": 8,
   "metadata": {
    "ExecuteTime": {
     "end_time": "2018-12-26T01:04:12.406426Z",
     "start_time": "2018-12-26T01:04:12.388168Z"
    },
    "extensions": {
     "jupyter_dashboards": {
      "version": 1,
      "views": {
       "grid_default": {
        "col": 8,
        "height": 4,
        "hidden": false,
        "row": 9,
        "width": 4
       },
       "report_default": {}
      }
     }
    }
   },
   "outputs": [
    {
     "name": "stdout",
     "output_type": "stream",
     "text": [
      "Train size: 639\n",
      "Test size: 160\n"
     ]
    },
    {
     "name": "stderr",
     "output_type": "stream",
     "text": [
      "/Library/Frameworks/Python.framework/Versions/3.6/lib/python3.6/site-packages/sklearn/model_selection/_split.py:2179: FutureWarning: From version 0.21, test_size will always complement train_size unless both are specified.\n",
      "  FutureWarning)\n"
     ]
    }
   ],
   "source": [
    "# Split data into train, validation, and test\n",
    "train_narrative,test_narrative,train_product, test_product = train_test_split(df['Emails'], df['Cat'],\n",
    "                                                                              random_state=42, train_size=0.8\n",
    "                                                                              )\n",
    "print (\"Train size: %d\" % train_product.shape[0])\n",
    "print (\"Test size: %d\" % test_product.shape[0])"
   ]
  },
  {
   "cell_type": "markdown",
   "metadata": {
    "extensions": {
     "jupyter_dashboards": {
      "version": 1,
      "views": {
       "grid_default": {
        "col": 0,
        "height": 4,
        "hidden": false,
        "row": 13,
        "width": 4
       },
       "report_default": {}
      }
     }
    }
   },
   "source": [
    "### Convert the words to integers"
   ]
  },
  {
   "cell_type": "code",
   "execution_count": 9,
   "metadata": {
    "ExecuteTime": {
     "end_time": "2018-12-26T01:04:17.189380Z",
     "start_time": "2018-12-26T01:04:17.168378Z"
    },
    "collapsed": true
   },
   "outputs": [],
   "source": [
    "# Find out the maximum words for the dimension of word vectors\n",
    "def text2word(doc):\n",
    "    \"\"\"\n",
    "    Usage: Convert one text into word list.\n",
    "    Input: doc - string list\n",
    "    Output: documents - string list: all sentences in words list.\n",
    "            text_len - int: maximum numbers of words in one sentense\n",
    "            max_text - strig list: the words list of the sentence with maximum words\n",
    "    \"\"\"\n",
    "    return_docs=[]\n",
    "    text_len=0\n",
    "    max_text=''\n",
    "    #for item in df['Emails']:\n",
    "    for item in doc:\n",
    "        text_words=[word for word in str(item).lower().split()]\n",
    "        return_docs.append(text_words)\n",
    "        if len(text_words)> text_len:\n",
    "            text_len=len(text_words)\n",
    "            max_text=text_words\n",
    "    #max_words = text_len\n",
    "    \n",
    "    return return_docs,text_len,max_text\n",
    "\n",
    "documents,max_words,_=text2word(df['Emails'])\n",
    "tokenize = text.Tokenizer(num_words=max_words, char_level=False)"
   ]
  },
  {
   "cell_type": "code",
   "execution_count": 10,
   "metadata": {
    "ExecuteTime": {
     "end_time": "2018-12-26T01:04:18.245339Z",
     "start_time": "2018-12-26T01:04:18.089505Z"
    },
    "extensions": {
     "jupyter_dashboards": {
      "version": 1,
      "views": {
       "grid_default": {
        "hidden": true
       },
       "report_default": {}
      }
     }
    }
   },
   "outputs": [
    {
     "name": "stdout",
     "output_type": "stream",
     "text": [
      "Found 2889 unique tokens.\n"
     ]
    }
   ],
   "source": [
    "tokenize.fit_on_texts(train_narrative) # only fit on train\n",
    "x_train_o = tokenize.texts_to_matrix(train_narrative)\n",
    "x_test_o = tokenize.texts_to_matrix(test_narrative)\n",
    "word_index = tokenize.word_index\n",
    "print('Found %s unique tokens.' % len(word_index))"
   ]
  },
  {
   "cell_type": "code",
   "execution_count": 11,
   "metadata": {
    "ExecuteTime": {
     "end_time": "2018-12-26T01:04:19.084610Z",
     "start_time": "2018-12-26T01:04:19.080224Z"
    },
    "collapsed": true,
    "extensions": {
     "jupyter_dashboards": {
      "version": 1,
      "views": {
       "grid_default": {
        "hidden": true
       },
       "report_default": {}
      }
     }
    }
   },
   "outputs": [],
   "source": [
    "# Use sklearn utility to convert label strings to numbered index\n",
    "encoder = LabelEncoder()\n",
    "encoder.fit(train_product)\n",
    "y_train_o = encoder.transform(train_product)\n",
    "y_test_o = encoder.transform(test_product)"
   ]
  },
  {
   "cell_type": "code",
   "execution_count": 12,
   "metadata": {
    "ExecuteTime": {
     "end_time": "2018-12-26T01:04:20.343821Z",
     "start_time": "2018-12-26T01:04:20.339553Z"
    },
    "collapsed": true,
    "extensions": {
     "jupyter_dashboards": {
      "version": 1,
      "views": {
       "grid_default": {
        "hidden": true
       },
       "report_default": {}
      }
     }
    }
   },
   "outputs": [],
   "source": [
    "# Converts the labels to a one-hot representation\n",
    "num_classes = np.max(y_train_o) + 1\n",
    "y_train_o = utils.to_categorical(y_train_o, num_classes)\n",
    "y_test_o = utils.to_categorical(y_test_o, num_classes)"
   ]
  },
  {
   "cell_type": "code",
   "execution_count": 13,
   "metadata": {
    "ExecuteTime": {
     "end_time": "2018-12-26T01:04:21.299863Z",
     "start_time": "2018-12-26T01:04:21.295420Z"
    }
   },
   "outputs": [
    {
     "name": "stdout",
     "output_type": "stream",
     "text": [
      "['Authorization' 'Others' 'Project' 'Report' 'Resource' 'SAP_HR' 'Subcon'\n",
      " 'Timesheet']\n"
     ]
    }
   ],
   "source": [
    "print(encoder.classes_)"
   ]
  },
  {
   "cell_type": "code",
   "execution_count": 14,
   "metadata": {
    "ExecuteTime": {
     "end_time": "2018-12-26T01:04:22.293905Z",
     "start_time": "2018-12-26T01:04:22.286750Z"
    }
   },
   "outputs": [
    {
     "name": "stdout",
     "output_type": "stream",
     "text": [
      "['Authorization' 'Others' 'Project' 'Report' 'SAP_HR' 'Subcon' 'Timesheet']\n"
     ]
    }
   ],
   "source": [
    "encoder_t = LabelEncoder()\n",
    "encoder_t.fit(test_product)\n",
    "print(encoder_t.classes_)"
   ]
  },
  {
   "cell_type": "code",
   "execution_count": 15,
   "metadata": {
    "ExecuteTime": {
     "end_time": "2018-12-26T01:04:23.153558Z",
     "start_time": "2018-12-26T01:04:23.143336Z"
    },
    "extensions": {
     "jupyter_dashboards": {
      "version": 1,
      "views": {
       "grid_default": {
        "col": 8,
        "height": 4,
        "hidden": false,
        "row": 13,
        "width": 4
       },
       "report_default": {}
      }
     }
    }
   },
   "outputs": [
    {
     "name": "stdout",
     "output_type": "stream",
     "text": [
      "x_train shape: (639, 1106)\n",
      "x_test shape: (160, 1106)\n",
      "y_train shape: (639, 8)\n",
      "y_test shape: (160, 8)\n"
     ]
    }
   ],
   "source": [
    "# Inspect the dimenstions of our training and test data (this is helpful to debug)\n",
    "print('x_train shape:', x_train_o.shape)\n",
    "print('x_test shape:', x_test_o.shape)\n",
    "print('y_train shape:', y_train_o.shape)\n",
    "print('y_test shape:', y_test_o.shape)"
   ]
  },
  {
   "cell_type": "markdown",
   "metadata": {},
   "source": [
    "## 1.  Model of Body"
   ]
  },
  {
   "cell_type": "markdown",
   "metadata": {
    "extensions": {
     "jupyter_dashboards": {
      "version": 1,
      "views": {
       "grid_default": {
        "col": 0,
        "height": 4,
        "hidden": false,
        "row": 17,
        "width": 4
       },
       "report_default": {}
      }
     }
    }
   },
   "source": [
    "### Build the model"
   ]
  },
  {
   "cell_type": "code",
   "execution_count": 16,
   "metadata": {
    "ExecuteTime": {
     "end_time": "2018-12-26T01:04:26.147248Z",
     "start_time": "2018-12-26T01:04:26.144018Z"
    },
    "collapsed": true,
    "extensions": {
     "jupyter_dashboards": {
      "version": 1,
      "views": {
       "grid_default": {
        "hidden": true
       },
       "report_default": {}
      }
     }
    }
   },
   "outputs": [],
   "source": [
    "# Open questions: why are those parameters used for?\n",
    "batch_size = 5\n",
    "epochs = 50"
   ]
  },
  {
   "cell_type": "code",
   "execution_count": 17,
   "metadata": {
    "ExecuteTime": {
     "end_time": "2018-12-26T01:04:27.072714Z",
     "start_time": "2018-12-26T01:04:26.988301Z"
    },
    "collapsed": true,
    "extensions": {
     "jupyter_dashboards": {
      "version": 1,
      "views": {
       "grid_default": {
        "hidden": true
       },
       "report_default": {}
      }
     }
    }
   },
   "outputs": [],
   "source": [
    "# Build the model\n",
    "model = Sequential()\n",
    "model.add(Dense(16, input_shape=(max_words,)))\n",
    "model.add(Activation('relu'))\n",
    "model.add(Dropout(0.8))\n",
    "model.add(Dense(num_classes))\n",
    "model.add(Activation('softmax'))"
   ]
  },
  {
   "cell_type": "markdown",
   "metadata": {
    "extensions": {
     "jupyter_dashboards": {
      "version": 1,
      "views": {
       "grid_default": {
        "hidden": true
       },
       "report_default": {}
      }
     }
    }
   },
   "source": [
    "### Loss function and optimizer\n",
    "A model needs a loss function and an optimizer for training. Since this is a categorical classification problem and the model outputs a probability (a single-unit layer with a sigmoid activation), we'll use the categorical_crossentropy loss function.\n",
    "This isn't the only choice for a loss function, you could, for instance, choose mean_squared_error. But, generally, categorical_crossentropy is better for dealing with probabilities—it measures the \"distance\" between probability distributions, or in our case, between the ground-truth distribution and the predictions.\n",
    "Later, when we are exploring regression problems (say, to predict the price of a house), we will see how to use another loss function called mean squared error.\n",
    "Now, configure the model to use an optimizer and a loss function:"
   ]
  },
  {
   "cell_type": "code",
   "execution_count": 18,
   "metadata": {
    "ExecuteTime": {
     "end_time": "2018-12-26T01:04:28.881605Z",
     "start_time": "2018-12-26T01:04:28.815503Z"
    },
    "extensions": {
     "jupyter_dashboards": {
      "version": 1,
      "views": {
       "grid_default": {
        "hidden": true
       },
       "report_default": {}
      }
     }
    }
   },
   "outputs": [
    {
     "name": "stdout",
     "output_type": "stream",
     "text": [
      "_________________________________________________________________\n",
      "Layer (type)                 Output Shape              Param #   \n",
      "=================================================================\n",
      "dense_1 (Dense)              (None, 16)                17712     \n",
      "_________________________________________________________________\n",
      "activation_1 (Activation)    (None, 16)                0         \n",
      "_________________________________________________________________\n",
      "dropout_1 (Dropout)          (None, 16)                0         \n",
      "_________________________________________________________________\n",
      "dense_2 (Dense)              (None, 8)                 136       \n",
      "_________________________________________________________________\n",
      "activation_2 (Activation)    (None, 8)                 0         \n",
      "=================================================================\n",
      "Total params: 17,848\n",
      "Trainable params: 17,848\n",
      "Non-trainable params: 0\n",
      "_________________________________________________________________\n"
     ]
    }
   ],
   "source": [
    "model.compile(loss='categorical_crossentropy',\n",
    "              optimizer='adam',\n",
    "              metrics=['accuracy'])\n",
    "model.summary()"
   ]
  },
  {
   "cell_type": "markdown",
   "metadata": {
    "extensions": {
     "jupyter_dashboards": {
      "version": 1,
      "views": {
       "grid_default": {
        "col": 8,
        "height": 4,
        "hidden": false,
        "row": 17,
        "width": 4
       },
       "report_default": {}
      }
     }
    }
   },
   "source": [
    "### Train the model"
   ]
  },
  {
   "cell_type": "code",
   "execution_count": 19,
   "metadata": {
    "ExecuteTime": {
     "end_time": "2018-12-26T01:04:39.035943Z",
     "start_time": "2018-12-26T01:04:30.959284Z"
    },
    "extensions": {
     "jupyter_dashboards": {
      "version": 1,
      "views": {
       "grid_default": {
        "col": 0,
        "height": 16,
        "hidden": false,
        "row": 21,
        "width": 4
       },
       "report_default": {}
      }
     }
    }
   },
   "outputs": [
    {
     "name": "stdout",
     "output_type": "stream",
     "text": [
      "Train on 511 samples, validate on 128 samples\n",
      "Epoch 1/50\n",
      "511/511 [==============================] - 0s 709us/step - loss: 1.8850 - acc: 0.2994 - val_loss: 1.5735 - val_acc: 0.4531\n",
      "Epoch 2/50\n",
      "511/511 [==============================] - 0s 260us/step - loss: 1.6740 - acc: 0.4012 - val_loss: 1.4115 - val_acc: 0.4844\n",
      "Epoch 3/50\n",
      "511/511 [==============================] - 0s 243us/step - loss: 1.5300 - acc: 0.4344 - val_loss: 1.2963 - val_acc: 0.5156\n",
      "Epoch 4/50\n",
      "511/511 [==============================] - 0s 246us/step - loss: 1.4197 - acc: 0.4540 - val_loss: 1.2400 - val_acc: 0.5391\n",
      "Epoch 5/50\n",
      "511/511 [==============================] - 0s 243us/step - loss: 1.3557 - acc: 0.4716 - val_loss: 1.1581 - val_acc: 0.6094\n",
      "Epoch 6/50\n",
      "511/511 [==============================] - 0s 245us/step - loss: 1.3438 - acc: 0.4736 - val_loss: 1.1183 - val_acc: 0.6094\n",
      "Epoch 7/50\n",
      "511/511 [==============================] - 0s 253us/step - loss: 1.2978 - acc: 0.5127 - val_loss: 1.1002 - val_acc: 0.5781\n",
      "Epoch 8/50\n",
      "511/511 [==============================] - 0s 260us/step - loss: 1.2342 - acc: 0.5010 - val_loss: 1.0605 - val_acc: 0.5938\n",
      "Epoch 9/50\n",
      "511/511 [==============================] - 0s 262us/step - loss: 1.1735 - acc: 0.5245 - val_loss: 1.0314 - val_acc: 0.6016\n",
      "Epoch 10/50\n",
      "511/511 [==============================] - 0s 245us/step - loss: 1.1372 - acc: 0.5460 - val_loss: 1.0110 - val_acc: 0.6250\n",
      "Epoch 11/50\n",
      "511/511 [==============================] - 0s 318us/step - loss: 1.1365 - acc: 0.5401 - val_loss: 1.0131 - val_acc: 0.6406\n",
      "Epoch 12/50\n",
      "511/511 [==============================] - 0s 383us/step - loss: 1.0815 - acc: 0.5421 - val_loss: 1.0048 - val_acc: 0.6328\n",
      "Epoch 13/50\n",
      "511/511 [==============================] - 0s 364us/step - loss: 1.0932 - acc: 0.5519 - val_loss: 0.9758 - val_acc: 0.6328\n",
      "Epoch 14/50\n",
      "511/511 [==============================] - 0s 362us/step - loss: 1.0960 - acc: 0.5656 - val_loss: 0.9551 - val_acc: 0.6563\n",
      "Epoch 15/50\n",
      "511/511 [==============================] - 0s 346us/step - loss: 1.0983 - acc: 0.5656 - val_loss: 0.9633 - val_acc: 0.6641\n",
      "Epoch 16/50\n",
      "511/511 [==============================] - 0s 348us/step - loss: 1.0273 - acc: 0.5871 - val_loss: 0.9806 - val_acc: 0.6250\n",
      "Epoch 17/50\n",
      "511/511 [==============================] - 0s 340us/step - loss: 1.0933 - acc: 0.5577 - val_loss: 0.9400 - val_acc: 0.6719\n",
      "Epoch 18/50\n",
      "511/511 [==============================] - 0s 382us/step - loss: 1.0371 - acc: 0.6125 - val_loss: 0.9311 - val_acc: 0.6719\n",
      "Epoch 19/50\n",
      "511/511 [==============================] - 0s 299us/step - loss: 0.9926 - acc: 0.6008 - val_loss: 0.9323 - val_acc: 0.6641\n",
      "Epoch 20/50\n",
      "511/511 [==============================] - 0s 251us/step - loss: 0.9761 - acc: 0.6341 - val_loss: 0.9288 - val_acc: 0.6563\n",
      "Epoch 21/50\n",
      "511/511 [==============================] - 0s 250us/step - loss: 0.9989 - acc: 0.6067 - val_loss: 0.9060 - val_acc: 0.6719\n",
      "Epoch 22/50\n",
      "511/511 [==============================] - 0s 248us/step - loss: 0.9761 - acc: 0.6321 - val_loss: 0.8779 - val_acc: 0.7031\n",
      "Epoch 23/50\n",
      "511/511 [==============================] - 0s 247us/step - loss: 0.9743 - acc: 0.5988 - val_loss: 0.9104 - val_acc: 0.6797\n",
      "Epoch 24/50\n",
      "511/511 [==============================] - 0s 250us/step - loss: 0.9527 - acc: 0.6262 - val_loss: 0.8728 - val_acc: 0.6953\n",
      "Epoch 25/50\n",
      "511/511 [==============================] - 0s 253us/step - loss: 0.9585 - acc: 0.6067 - val_loss: 0.8691 - val_acc: 0.7109\n",
      "Epoch 26/50\n",
      "511/511 [==============================] - 0s 272us/step - loss: 0.9075 - acc: 0.6438 - val_loss: 0.8736 - val_acc: 0.7109\n",
      "Epoch 27/50\n",
      "511/511 [==============================] - 0s 259us/step - loss: 0.9368 - acc: 0.6282 - val_loss: 0.8700 - val_acc: 0.7109\n",
      "Epoch 28/50\n",
      "511/511 [==============================] - 0s 331us/step - loss: 0.9288 - acc: 0.6282 - val_loss: 0.8695 - val_acc: 0.7109\n",
      "Epoch 29/50\n",
      "511/511 [==============================] - 0s 345us/step - loss: 0.9157 - acc: 0.6145 - val_loss: 0.8688 - val_acc: 0.6953\n",
      "Epoch 30/50\n",
      "511/511 [==============================] - 0s 366us/step - loss: 0.8787 - acc: 0.6282 - val_loss: 0.8497 - val_acc: 0.7031\n",
      "Epoch 31/50\n",
      "511/511 [==============================] - 0s 359us/step - loss: 0.8753 - acc: 0.6614 - val_loss: 0.8341 - val_acc: 0.7188\n",
      "Epoch 32/50\n",
      "511/511 [==============================] - 0s 352us/step - loss: 0.9264 - acc: 0.6321 - val_loss: 0.8716 - val_acc: 0.7031\n",
      "Epoch 33/50\n",
      "511/511 [==============================] - 0s 300us/step - loss: 0.9017 - acc: 0.6556 - val_loss: 0.8655 - val_acc: 0.7031\n",
      "Epoch 34/50\n",
      "511/511 [==============================] - 0s 254us/step - loss: 0.9171 - acc: 0.6301 - val_loss: 0.8712 - val_acc: 0.7031\n",
      "Epoch 35/50\n",
      "511/511 [==============================] - 0s 252us/step - loss: 0.8854 - acc: 0.6282 - val_loss: 0.8601 - val_acc: 0.7031\n",
      "Epoch 36/50\n",
      "511/511 [==============================] - 0s 248us/step - loss: 0.8610 - acc: 0.6399 - val_loss: 0.8779 - val_acc: 0.7266\n",
      "Epoch 37/50\n",
      "511/511 [==============================] - 0s 238us/step - loss: 0.8914 - acc: 0.6438 - val_loss: 0.8682 - val_acc: 0.7266\n",
      "Epoch 38/50\n",
      "511/511 [==============================] - 0s 322us/step - loss: 0.8681 - acc: 0.6497 - val_loss: 0.8548 - val_acc: 0.7266\n",
      "Epoch 39/50\n",
      "511/511 [==============================] - 0s 304us/step - loss: 0.8282 - acc: 0.6673 - val_loss: 0.8483 - val_acc: 0.7109\n",
      "Epoch 40/50\n",
      "511/511 [==============================] - 0s 325us/step - loss: 0.8929 - acc: 0.6360 - val_loss: 0.9073 - val_acc: 0.7109\n",
      "Epoch 41/50\n",
      "511/511 [==============================] - 0s 293us/step - loss: 0.8462 - acc: 0.6438 - val_loss: 0.8925 - val_acc: 0.7266\n",
      "Epoch 42/50\n",
      "511/511 [==============================] - 0s 288us/step - loss: 0.8749 - acc: 0.6380 - val_loss: 0.8828 - val_acc: 0.7188\n",
      "Epoch 43/50\n",
      "511/511 [==============================] - 0s 290us/step - loss: 0.8550 - acc: 0.6399 - val_loss: 0.8529 - val_acc: 0.7188\n",
      "Epoch 44/50\n",
      "511/511 [==============================] - 0s 282us/step - loss: 0.8385 - acc: 0.6321 - val_loss: 0.9031 - val_acc: 0.7266\n",
      "Epoch 45/50\n",
      "511/511 [==============================] - 0s 300us/step - loss: 0.8412 - acc: 0.6360 - val_loss: 0.8734 - val_acc: 0.7344\n",
      "Epoch 46/50\n",
      "511/511 [==============================] - 0s 301us/step - loss: 0.8316 - acc: 0.6575 - val_loss: 0.9196 - val_acc: 0.7109\n",
      "Epoch 47/50\n",
      "511/511 [==============================] - 0s 304us/step - loss: 0.8373 - acc: 0.6634 - val_loss: 0.8644 - val_acc: 0.7422\n",
      "Epoch 48/50\n",
      "511/511 [==============================] - 0s 308us/step - loss: 0.8117 - acc: 0.6634 - val_loss: 0.8416 - val_acc: 0.7422\n",
      "Epoch 49/50\n",
      "511/511 [==============================] - 0s 306us/step - loss: 0.7996 - acc: 0.6575 - val_loss: 0.8697 - val_acc: 0.7422\n",
      "Epoch 50/50\n",
      "511/511 [==============================] - 0s 322us/step - loss: 0.8108 - acc: 0.6751 - val_loss: 0.8771 - val_acc: 0.7344\n"
     ]
    }
   ],
   "source": [
    "history = model.fit(x_train_o, y_train_o,\n",
    "                    batch_size=batch_size,\n",
    "                    epochs=epochs,\n",
    "                    verbose=1,\n",
    "                    validation_split=0.2)"
   ]
  },
  {
   "cell_type": "code",
   "execution_count": 20,
   "metadata": {
    "ExecuteTime": {
     "end_time": "2018-12-26T01:04:43.785322Z",
     "start_time": "2018-12-26T01:04:43.525624Z"
    },
    "collapsed": true
   },
   "outputs": [],
   "source": [
    "b_prediction=np.zeros((x_train_o.shape[0],y_train_o.shape[1]))\n",
    "for i in range(x_train_o.shape[0]):\n",
    "    prediction = model.predict(np.array([x_train_o[i]]))\n",
    "    b_prediction[i]=prediction[0]\n",
    "    #s_prediction=np.vstack([s_prediction,prediction[0]])\n"
   ]
  },
  {
   "cell_type": "code",
   "execution_count": 21,
   "metadata": {
    "ExecuteTime": {
     "end_time": "2018-12-26T01:04:44.701626Z",
     "start_time": "2018-12-26T01:04:44.696055Z"
    }
   },
   "outputs": [
    {
     "data": {
      "text/plain": [
       "(639, 8)"
      ]
     },
     "execution_count": 21,
     "metadata": {},
     "output_type": "execute_result"
    }
   ],
   "source": [
    "b_prediction.shape"
   ]
  },
  {
   "cell_type": "code",
   "execution_count": 22,
   "metadata": {
    "ExecuteTime": {
     "end_time": "2018-12-26T01:04:45.745961Z",
     "start_time": "2018-12-26T01:04:45.720031Z"
    },
    "extensions": {
     "jupyter_dashboards": {
      "version": 1,
      "views": {
       "grid_default": {
        "col": 8,
        "height": 4,
        "hidden": false,
        "row": 21,
        "width": 4
       },
       "report_default": {}
      }
     }
    }
   },
   "outputs": [
    {
     "name": "stdout",
     "output_type": "stream",
     "text": [
      "160/160 [==============================] - 0s 120us/step\n",
      "Test score: 0.8945842875400558\n",
      "Test accuracy: 0.706250011920929\n"
     ]
    }
   ],
   "source": [
    "# Evaluate the accuracy of our trained model\n",
    "score = model.evaluate(x_test_o, y_test_o,\n",
    "                       batch_size=batch_size, verbose=1)\n",
    "print('Test score:', score[0])\n",
    "print('Test accuracy:', score[1])"
   ]
  },
  {
   "cell_type": "code",
   "execution_count": 23,
   "metadata": {
    "ExecuteTime": {
     "end_time": "2018-12-26T01:04:46.913257Z",
     "start_time": "2018-12-26T01:04:46.833543Z"
    },
    "collapsed": true
   },
   "outputs": [],
   "source": [
    "# Produce the test set for integrated model\n",
    "bt_prediction=np.zeros((x_test_o.shape[0],y_test_o.shape[1]))\n",
    "for i in range(x_test_o.shape[0]):\n",
    "    prediction = model.predict(np.array([x_test_o[i]]))\n",
    "    bt_prediction[i]=prediction[0]"
   ]
  },
  {
   "cell_type": "markdown",
   "metadata": {
    "extensions": {
     "jupyter_dashboards": {
      "version": 1,
      "views": {
       "grid_default": {
        "col": 0,
        "height": 4,
        "hidden": false,
        "row": 37,
        "width": 12
       },
       "report_default": {}
      }
     }
    }
   },
   "source": [
    "### Create a graph of accuracy and loss over time\n",
    "\n",
    "`model.fit()` returns a `History` object that contains a dictionary with everything that happened during training:"
   ]
  },
  {
   "cell_type": "code",
   "execution_count": 24,
   "metadata": {
    "ExecuteTime": {
     "end_time": "2018-12-26T01:04:50.316637Z",
     "start_time": "2018-12-26T01:04:50.309754Z"
    },
    "extensions": {
     "jupyter_dashboards": {
      "version": 1,
      "views": {
       "grid_default": {
        "col": 4,
        "height": 4,
        "hidden": false,
        "row": 23,
        "width": 4
       },
       "report_default": {}
      }
     }
    }
   },
   "outputs": [
    {
     "data": {
      "text/plain": [
       "dict_keys(['val_loss', 'val_acc', 'loss', 'acc'])"
      ]
     },
     "execution_count": 24,
     "metadata": {},
     "output_type": "execute_result"
    }
   ],
   "source": [
    "history_dict = history.history\n",
    "history_dict.keys()"
   ]
  },
  {
   "cell_type": "markdown",
   "metadata": {
    "extensions": {
     "jupyter_dashboards": {
      "version": 1,
      "views": {
       "grid_default": {
        "hidden": true
       },
       "report_default": {}
      }
     }
    }
   },
   "source": [
    "There are four entries: one for each monitored metric during training and validation. We can use these to plot the training and validation loss for comparison, as well as the training and validation accuracy:"
   ]
  },
  {
   "cell_type": "code",
   "execution_count": 25,
   "metadata": {
    "ExecuteTime": {
     "end_time": "2018-12-26T01:04:52.372897Z",
     "start_time": "2018-12-26T01:04:52.158392Z"
    },
    "extensions": {
     "jupyter_dashboards": {
      "version": 1,
      "views": {
       "grid_default": {
        "col": 8,
        "height": 9,
        "hidden": false,
        "row": 25,
        "width": 4
       },
       "report_default": {}
      }
     }
    }
   },
   "outputs": [
    {
     "data": {
      "image/png": "[encoded data removed]",
      "text/plain": [
       "<Figure size 432x288 with 1 Axes>"
      ]
     },
     "metadata": {},
     "output_type": "display_data"
    }
   ],
   "source": [
    "import matplotlib.pyplot as plt\n",
    "\n",
    "acc = history.history['acc']\n",
    "val_acc = history.history['val_acc']\n",
    "loss = history.history['loss']\n",
    "val_loss = history.history['val_loss']\n",
    "\n",
    "epochs = range(1, len(acc) + 1)\n",
    "\n",
    "# \"bo\" is for \"blue dot\"\n",
    "plt.plot(epochs, loss, 'bo', label='Training loss')\n",
    "# b is for \"solid blue line\"\n",
    "plt.plot(epochs, val_loss, 'b', label='Validation loss')\n",
    "plt.title('Training and validation loss')\n",
    "plt.xlabel('Epochs')\n",
    "plt.ylabel('Loss')\n",
    "plt.legend()\n",
    "\n",
    "plt.show()"
   ]
  },
  {
   "cell_type": "code",
   "execution_count": 26,
   "metadata": {
    "ExecuteTime": {
     "end_time": "2018-12-26T01:04:53.534599Z",
     "start_time": "2018-12-26T01:04:53.326029Z"
    },
    "extensions": {
     "jupyter_dashboards": {
      "version": 1,
      "views": {
       "grid_default": {
        "col": 4,
        "height": 9,
        "hidden": false,
        "row": 27,
        "width": 4
       },
       "report_default": {}
      }
     }
    }
   },
   "outputs": [
    {
     "data": {
      "image/png": "[encoded data removed]",
      "text/plain": [
       "<Figure size 432x288 with 1 Axes>"
      ]
     },
     "metadata": {},
     "output_type": "display_data"
    }
   ],
   "source": [
    "plt.clf()   # clear figure\n",
    "acc_values = history_dict['acc']\n",
    "val_acc_values = history_dict['val_acc']\n",
    "\n",
    "plt.plot(epochs, acc, 'bo', label='Training acc')\n",
    "plt.plot(epochs, val_acc, 'b', label='Validation acc')\n",
    "plt.title('Training and validation accuracy')\n",
    "plt.xlabel('Epochs')\n",
    "plt.ylabel('Accuracy')\n",
    "plt.legend()\n",
    "\n",
    "plt.show()"
   ]
  },
  {
   "cell_type": "markdown",
   "metadata": {
    "extensions": {
     "jupyter_dashboards": {
      "version": 1,
      "views": {
       "grid_default": {
        "hidden": true
       },
       "report_default": {}
      }
     }
    }
   },
   "source": [
    "In this plot, the dots represent the training loss and accuracy, and the solid lines are the validation loss and accuracy.\n",
    "Notice the training loss decreases with each epoch and the training accuracy increases with each epoch. This is expected when using a gradient descent optimization—it should minimize the desired quantity on every iteration.\n",
    "This isn't the case for the validation loss and accuracy—they seem to peak after about twenty epochs. This is an example of overfitting: the model performs better on the training data than it does on data it has never seen before. After this point, the model over-optimizes and learns representations specific to the training data that do not generalize to test data.\n",
    "For this particular case, we could prevent overfitting by simply stopping the training after twenty or so epochs. Later, you'll see how to do this automatically with a callback."
   ]
  },
  {
   "cell_type": "markdown",
   "metadata": {
    "extensions": {
     "jupyter_dashboards": {
      "version": 1,
      "views": {
       "grid_default": {
        "col": 0,
        "height": 4,
        "hidden": false,
        "row": 41,
        "width": 4
       },
       "report_default": {}
      }
     }
    }
   },
   "source": [
    "### Evaluate model"
   ]
  },
  {
   "cell_type": "markdown",
   "metadata": {
    "extensions": {
     "jupyter_dashboards": {
      "version": 1,
      "views": {
       "grid_default": {
        "col": 4,
        "height": 4,
        "hidden": false,
        "row": 41,
        "width": 4
       },
       "report_default": {}
      }
     }
    }
   },
   "source": [
    "#### Scenario 1: Verify 10 records in test dataset"
   ]
  },
  {
   "cell_type": "code",
   "execution_count": 27,
   "metadata": {
    "ExecuteTime": {
     "end_time": "2018-12-26T01:04:56.840392Z",
     "start_time": "2018-12-26T01:04:56.811396Z"
    },
    "extensions": {
     "jupyter_dashboards": {
      "version": 1,
      "views": {
       "grid_default": {
        "col": 8,
        "height": 52,
        "hidden": false,
        "row": 41,
        "width": 4
       },
       "report_default": {}
      }
     }
    }
   },
   "outputs": [
    {
     "name": "stdout",
     "output_type": "stream",
     "text": [
      "[[8.5630608e-01 3.8064253e-02 2.4517138e-02 7.0108525e-02 3.2492877e-05\n",
      "  2.6225762e-03 8.5177584e-05 8.2638403e-03]] 0\n",
      "please be informed that nasa authority has been gr ...\n",
      "Actual label:Authorization\n",
      "Predicted label: Authorization\n",
      "\n",
      "[[0.19125205 0.32764125 0.15407862 0.14264712 0.00641369 0.03113213\n",
      "  0.02007469 0.12676044]] 1\n",
      "personname nasa forecast ...\n",
      "Actual label:Others\n",
      "Predicted label: Others\n",
      "\n",
      "[[5.6978136e-02 7.9441071e-04 1.3747165e-04 2.6531707e-04 1.2708775e-06\n",
      "  2.0981533e-05 1.7744227e-05 9.4178468e-01]] 7\n",
      "hi i can not see anything for approve in my queue  ...\n",
      "Actual label:Timesheet\n",
      "Predicted label: Timesheet\n",
      "\n",
      "[[3.5430651e-02 7.3664218e-01 1.3838193e-01 5.3575922e-02 5.8644931e-05\n",
      "  1.7072469e-03 6.5664959e-04 3.3546750e-02]] 1\n",
      "is notice nasa system report nasa system pjm funct ...\n",
      "Actual label:Project\n",
      "Predicted label: Others\n",
      "\n",
      "[[6.72933698e-01 2.60616958e-01 6.25383761e-03 4.86273356e-02\n",
      "  1.14019722e-05 5.51014091e-04 1.05934574e-04 1.08997999e-02]] 0\n",
      "below approver change is done . could you confirm  ...\n",
      "Actual label:Timesheet\n",
      "Predicted label: Authorization\n",
      "\n",
      "[[8.8451797e-04 2.3761557e-03 9.9070060e-01 6.0133371e-03 3.9403281e-09\n",
      "  7.1241984e-06 4.9357151e-08 1.8197101e-05]] 2\n",
      "please kindly note the schedule of monthly close o ...\n",
      "Actual label:Project\n",
      "Predicted label: Project\n",
      "\n",
      "[[8.8484742e-04 3.0602685e-05 6.6324801e-06 1.1884109e-05 3.4692431e-09\n",
      "  8.3436277e-07 5.3238074e-07 9.9906462e-01]] 7\n",
      "dear personname 9 am abeamorg office clou phase 3  ...\n",
      "Actual label:Timesheet\n",
      "Predicted label: Timesheet\n",
      "\n",
      "[[1.99835654e-02 8.64209309e-02 7.69099593e-01 9.23299789e-02\n",
      "  1.04249266e-04 1.97994662e-03 6.88479107e-04 2.93932464e-02]] 2\n",
      "halm ams to principal and project manager this ema ...\n",
      "Actual label:Project\n",
      "Predicted label: Project\n",
      "\n",
      "[[0.17934118 0.23791791 0.11730488 0.08449481 0.00753029 0.08182366\n",
      "  0.02265959 0.26892763]] 7\n",
      "mr. suzuki akio principal staff staff staff my 9 0 ...\n",
      "Actual label:Others\n",
      "Predicted label: Timesheet\n",
      "\n",
      "[[1.0984754e-01 7.9704916e-01 2.2720817e-02 3.0495880e-02 4.6775556e-05\n",
      "  1.1367479e-03 6.2808534e-04 3.8074944e-02]] 1\n",
      "the nasa maintenance work was completed . all func ...\n",
      "Actual label:Project\n",
      "Predicted label: Others\n",
      "\n"
     ]
    }
   ],
   "source": [
    "# Here's how to generate a prediction on individual examples\n",
    "text_labels = encoder.classes_ \n",
    "\n",
    "for i in range(10):\n",
    "    prediction = model.predict(np.array([x_test_o[i]]))\n",
    "    print(prediction,np.argmax(prediction))\n",
    "    predicted_label = text_labels[np.argmax(prediction)]\n",
    "    print(test_narrative.iloc[i][:50], \"...\")\n",
    "    print('Actual label:' + test_product.iloc[i])\n",
    "    print(\"Predicted label: \" + predicted_label + \"\\n\")"
   ]
  },
  {
   "cell_type": "code",
   "execution_count": 28,
   "metadata": {
    "ExecuteTime": {
     "end_time": "2018-12-26T01:05:02.129898Z",
     "start_time": "2018-12-26T01:05:02.123719Z"
    },
    "extensions": {
     "jupyter_dashboards": {
      "version": 1,
      "views": {
       "grid_default": {
        "col": 0,
        "height": 14,
        "hidden": false,
        "row": 50,
        "width": 4
       },
       "report_default": {}
      }
     }
    }
   },
   "outputs": [
    {
     "data": {
      "text/plain": [
       "array(['Authorization', 'Others', 'Project', 'Report', 'Resource',\n",
       "       'SAP_HR', 'Subcon', 'Timesheet'], dtype=object)"
      ]
     },
     "execution_count": 28,
     "metadata": {},
     "output_type": "execute_result"
    }
   ],
   "source": [
    "encoder.classes_"
   ]
  },
  {
   "cell_type": "markdown",
   "metadata": {},
   "source": [
    "## 2.  Model of Subject"
   ]
  },
  {
   "cell_type": "code",
   "execution_count": 29,
   "metadata": {
    "ExecuteTime": {
     "end_time": "2018-12-26T01:05:03.996439Z",
     "start_time": "2018-12-26T01:05:03.989138Z"
    }
   },
   "outputs": [
    {
     "name": "stdout",
     "output_type": "stream",
     "text": [
      "Train size: 639\n",
      "Test size: 160\n"
     ]
    },
    {
     "name": "stderr",
     "output_type": "stream",
     "text": [
      "/Library/Frameworks/Python.framework/Versions/3.6/lib/python3.6/site-packages/sklearn/model_selection/_split.py:2179: FutureWarning: From version 0.21, test_size will always complement train_size unless both are specified.\n",
      "  FutureWarning)\n"
     ]
    }
   ],
   "source": [
    "# Split data into train, validation, and test for subjects\n",
    "s_train_narrative,s_test_narrative,s_train_product, s_test_product = train_test_split(df['Subject'], df['Cat'],\n",
    "                                                                              random_state=42, train_size=0.8\n",
    "                                                                              )\n",
    "print (\"Train size: %d\" % s_train_product.shape[0])\n",
    "print (\"Test size: %d\" % s_test_product.shape[0])"
   ]
  },
  {
   "cell_type": "code",
   "execution_count": 30,
   "metadata": {
    "ExecuteTime": {
     "end_time": "2018-12-26T01:05:10.156628Z",
     "start_time": "2018-12-26T01:05:10.075551Z"
    },
    "collapsed": true
   },
   "outputs": [],
   "source": [
    "subjects,s_max_words,_=text2word(df['Subject'])\n",
    "s_tokenize = text.Tokenizer(num_words=s_max_words, char_level=False)"
   ]
  },
  {
   "cell_type": "code",
   "execution_count": 31,
   "metadata": {
    "ExecuteTime": {
     "end_time": "2018-12-26T01:05:17.922409Z",
     "start_time": "2018-12-26T01:05:17.880746Z"
    }
   },
   "outputs": [
    {
     "name": "stdout",
     "output_type": "stream",
     "text": [
      "Found 734 unique tokens.\n"
     ]
    }
   ],
   "source": [
    "s_tokenize.fit_on_texts(s_train_narrative) # only fit on train\n",
    "s_x_train_o = s_tokenize.texts_to_matrix(s_train_narrative)\n",
    "s_x_test_o = s_tokenize.texts_to_matrix(s_test_narrative)\n",
    "s_word_index = s_tokenize.word_index\n",
    "print('Found %s unique tokens.' % len(s_word_index))"
   ]
  },
  {
   "cell_type": "code",
   "execution_count": 32,
   "metadata": {
    "ExecuteTime": {
     "end_time": "2018-12-26T01:05:20.303447Z",
     "start_time": "2018-12-26T01:05:20.299218Z"
    },
    "collapsed": true
   },
   "outputs": [],
   "source": [
    "# Use sklearn utility to convert label strings to numbered index\n",
    "s_encoder = LabelEncoder()\n",
    "s_encoder.fit(s_train_product)\n",
    "s_y_train_o = s_encoder.transform(s_train_product)\n",
    "s_y_test_o = s_encoder.transform(s_test_product)"
   ]
  },
  {
   "cell_type": "code",
   "execution_count": 33,
   "metadata": {
    "ExecuteTime": {
     "end_time": "2018-12-26T01:05:21.563188Z",
     "start_time": "2018-12-26T01:05:21.559091Z"
    },
    "collapsed": true
   },
   "outputs": [],
   "source": [
    "# Converts the labels to a one-hot representation\n",
    "s_num_classes = np.max(s_y_train_o) + 1\n",
    "s_y_train_o = utils.to_categorical(s_y_train_o, s_num_classes)\n",
    "s_y_test_o = utils.to_categorical(s_y_test_o, s_num_classes)"
   ]
  },
  {
   "cell_type": "code",
   "execution_count": 34,
   "metadata": {
    "ExecuteTime": {
     "end_time": "2018-12-26T01:05:22.531704Z",
     "start_time": "2018-12-26T01:05:22.526981Z"
    }
   },
   "outputs": [
    {
     "name": "stdout",
     "output_type": "stream",
     "text": [
      "['Authorization' 'Others' 'Project' 'Report' 'SAP_HR' 'Subcon' 'Timesheet']\n"
     ]
    }
   ],
   "source": [
    "s_encoder_t = LabelEncoder()\n",
    "s_encoder_t.fit(s_test_product)\n",
    "print(s_encoder_t.classes_)"
   ]
  },
  {
   "cell_type": "code",
   "execution_count": 35,
   "metadata": {
    "ExecuteTime": {
     "end_time": "2018-12-26T01:05:23.590469Z",
     "start_time": "2018-12-26T01:05:23.584520Z"
    }
   },
   "outputs": [
    {
     "name": "stdout",
     "output_type": "stream",
     "text": [
      "s_x_train shape: (639, 22)\n",
      "s_x_test shape: (160, 22)\n",
      "s_y_train shape: (639, 8)\n",
      "s_y_test shape: (160, 8)\n"
     ]
    }
   ],
   "source": [
    "# Inspect the dimenstions of our training and test data (this is helpful to debug)\n",
    "print('s_x_train shape:', s_x_train_o.shape)\n",
    "print('s_x_test shape:', s_x_test_o.shape)\n",
    "print('s_y_train shape:', s_y_train_o.shape)\n",
    "print('s_y_test shape:', s_y_test_o.shape)"
   ]
  },
  {
   "cell_type": "code",
   "execution_count": 36,
   "metadata": {
    "ExecuteTime": {
     "end_time": "2018-12-26T01:05:24.678380Z",
     "start_time": "2018-12-26T01:05:24.675190Z"
    },
    "collapsed": true
   },
   "outputs": [],
   "source": [
    "# Open questions: why are those parameters used for?\n",
    "batch_size = 5\n",
    "epochs = 50"
   ]
  },
  {
   "cell_type": "code",
   "execution_count": 37,
   "metadata": {
    "ExecuteTime": {
     "end_time": "2018-12-26T01:05:25.608072Z",
     "start_time": "2018-12-26T01:05:25.544798Z"
    },
    "collapsed": true
   },
   "outputs": [],
   "source": [
    "# Build the model\n",
    "s_model = Sequential()\n",
    "s_model.add(Dense(16, input_shape=(s_max_words,)))\n",
    "s_model.add(Activation('relu'))\n",
    "s_model.add(Dropout(0.8))\n",
    "s_model.add(Dense(s_num_classes))\n",
    "s_model.add(Activation('softmax'))"
   ]
  },
  {
   "cell_type": "code",
   "execution_count": 38,
   "metadata": {
    "ExecuteTime": {
     "end_time": "2018-12-26T01:05:26.574613Z",
     "start_time": "2018-12-26T01:05:26.510418Z"
    }
   },
   "outputs": [
    {
     "name": "stdout",
     "output_type": "stream",
     "text": [
      "_________________________________________________________________\n",
      "Layer (type)                 Output Shape              Param #   \n",
      "=================================================================\n",
      "dense_3 (Dense)              (None, 16)                368       \n",
      "_________________________________________________________________\n",
      "activation_3 (Activation)    (None, 16)                0         \n",
      "_________________________________________________________________\n",
      "dropout_2 (Dropout)          (None, 16)                0         \n",
      "_________________________________________________________________\n",
      "dense_4 (Dense)              (None, 8)                 136       \n",
      "_________________________________________________________________\n",
      "activation_4 (Activation)    (None, 8)                 0         \n",
      "=================================================================\n",
      "Total params: 504\n",
      "Trainable params: 504\n",
      "Non-trainable params: 0\n",
      "_________________________________________________________________\n"
     ]
    }
   ],
   "source": [
    "s_model.compile(loss='categorical_crossentropy',\n",
    "              optimizer='adam',\n",
    "              metrics=['accuracy'])\n",
    "s_model.summary()"
   ]
  },
  {
   "cell_type": "code",
   "execution_count": 39,
   "metadata": {
    "ExecuteTime": {
     "end_time": "2018-12-26T01:05:34.738412Z",
     "start_time": "2018-12-26T01:05:27.476841Z"
    }
   },
   "outputs": [
    {
     "name": "stdout",
     "output_type": "stream",
     "text": [
      "Train on 511 samples, validate on 128 samples\n",
      "Epoch 1/50\n",
      "511/511 [==============================] - 0s 757us/step - loss: 2.1768 - acc: 0.1898 - val_loss: 1.9456 - val_acc: 0.2891\n",
      "Epoch 2/50\n",
      "511/511 [==============================] - 0s 255us/step - loss: 2.0136 - acc: 0.2779 - val_loss: 1.8157 - val_acc: 0.3516\n",
      "Epoch 3/50\n",
      "511/511 [==============================] - 0s 252us/step - loss: 1.8618 - acc: 0.3249 - val_loss: 1.7082 - val_acc: 0.3516\n",
      "Epoch 4/50\n",
      "511/511 [==============================] - 0s 246us/step - loss: 1.7843 - acc: 0.3562 - val_loss: 1.6289 - val_acc: 0.3906\n",
      "Epoch 5/50\n",
      "511/511 [==============================] - 0s 255us/step - loss: 1.7007 - acc: 0.4012 - val_loss: 1.5568 - val_acc: 0.4063\n",
      "Epoch 6/50\n",
      "511/511 [==============================] - 0s 237us/step - loss: 1.6656 - acc: 0.4090 - val_loss: 1.5115 - val_acc: 0.3984\n",
      "Epoch 7/50\n",
      "511/511 [==============================] - 0s 243us/step - loss: 1.6238 - acc: 0.4247 - val_loss: 1.4639 - val_acc: 0.3984\n",
      "Epoch 8/50\n",
      "511/511 [==============================] - 0s 248us/step - loss: 1.5478 - acc: 0.4227 - val_loss: 1.4165 - val_acc: 0.4219\n",
      "Epoch 9/50\n",
      "511/511 [==============================] - 0s 291us/step - loss: 1.5646 - acc: 0.4403 - val_loss: 1.3891 - val_acc: 0.4297\n",
      "Epoch 10/50\n",
      "511/511 [==============================] - 0s 312us/step - loss: 1.5242 - acc: 0.4266 - val_loss: 1.3717 - val_acc: 0.4297\n",
      "Epoch 11/50\n",
      "511/511 [==============================] - 0s 255us/step - loss: 1.4714 - acc: 0.4423 - val_loss: 1.3505 - val_acc: 0.4375\n",
      "Epoch 12/50\n",
      "511/511 [==============================] - 0s 249us/step - loss: 1.4854 - acc: 0.4344 - val_loss: 1.3380 - val_acc: 0.4375\n",
      "Epoch 13/50\n",
      "511/511 [==============================] - 0s 252us/step - loss: 1.4469 - acc: 0.4638 - val_loss: 1.3249 - val_acc: 0.4453\n",
      "Epoch 14/50\n",
      "511/511 [==============================] - 0s 269us/step - loss: 1.4607 - acc: 0.4638 - val_loss: 1.3100 - val_acc: 0.4375\n",
      "Epoch 15/50\n",
      "511/511 [==============================] - 0s 265us/step - loss: 1.4382 - acc: 0.4775 - val_loss: 1.3024 - val_acc: 0.4375\n",
      "Epoch 16/50\n",
      "511/511 [==============================] - 0s 266us/step - loss: 1.4260 - acc: 0.4501 - val_loss: 1.2947 - val_acc: 0.4375\n",
      "Epoch 17/50\n",
      "511/511 [==============================] - 0s 370us/step - loss: 1.4074 - acc: 0.4834 - val_loss: 1.2882 - val_acc: 0.4609\n",
      "Epoch 18/50\n",
      "511/511 [==============================] - 0s 386us/step - loss: 1.4291 - acc: 0.4462 - val_loss: 1.2760 - val_acc: 0.4609\n",
      "Epoch 19/50\n",
      "511/511 [==============================] - 0s 324us/step - loss: 1.3899 - acc: 0.4618 - val_loss: 1.2705 - val_acc: 0.4609\n",
      "Epoch 20/50\n",
      "511/511 [==============================] - 0s 329us/step - loss: 1.3892 - acc: 0.4697 - val_loss: 1.2644 - val_acc: 0.4609\n",
      "Epoch 21/50\n",
      "511/511 [==============================] - 0s 404us/step - loss: 1.4005 - acc: 0.4658 - val_loss: 1.2582 - val_acc: 0.4609\n",
      "Epoch 22/50\n",
      "511/511 [==============================] - 0s 340us/step - loss: 1.3659 - acc: 0.4932 - val_loss: 1.2464 - val_acc: 0.4609\n",
      "Epoch 23/50\n",
      "511/511 [==============================] - 0s 351us/step - loss: 1.3442 - acc: 0.5010 - val_loss: 1.2415 - val_acc: 0.5000\n",
      "Epoch 24/50\n",
      "511/511 [==============================] - 0s 264us/step - loss: 1.3597 - acc: 0.5029 - val_loss: 1.2382 - val_acc: 0.5000\n",
      "Epoch 25/50\n",
      "511/511 [==============================] - 0s 280us/step - loss: 1.3426 - acc: 0.5029 - val_loss: 1.2351 - val_acc: 0.5156\n",
      "Epoch 26/50\n",
      "511/511 [==============================] - 0s 250us/step - loss: 1.3332 - acc: 0.5029 - val_loss: 1.2330 - val_acc: 0.5156\n",
      "Epoch 27/50\n",
      "511/511 [==============================] - 0s 260us/step - loss: 1.3297 - acc: 0.4892 - val_loss: 1.2259 - val_acc: 0.5156\n",
      "Epoch 28/50\n",
      "511/511 [==============================] - 0s 240us/step - loss: 1.3352 - acc: 0.4716 - val_loss: 1.2221 - val_acc: 0.5156\n",
      "Epoch 29/50\n",
      "511/511 [==============================] - 0s 246us/step - loss: 1.3033 - acc: 0.4873 - val_loss: 1.2201 - val_acc: 0.5234\n",
      "Epoch 30/50\n",
      "511/511 [==============================] - 0s 257us/step - loss: 1.3373 - acc: 0.4971 - val_loss: 1.2165 - val_acc: 0.5156\n",
      "Epoch 31/50\n",
      "511/511 [==============================] - 0s 266us/step - loss: 1.3628 - acc: 0.4795 - val_loss: 1.2175 - val_acc: 0.5234\n",
      "Epoch 32/50\n",
      "511/511 [==============================] - 0s 245us/step - loss: 1.2862 - acc: 0.5127 - val_loss: 1.2151 - val_acc: 0.5156\n",
      "Epoch 33/50\n",
      "511/511 [==============================] - 0s 245us/step - loss: 1.3233 - acc: 0.4638 - val_loss: 1.2133 - val_acc: 0.5156\n",
      "Epoch 34/50\n",
      "511/511 [==============================] - 0s 245us/step - loss: 1.3307 - acc: 0.4775 - val_loss: 1.2103 - val_acc: 0.5078\n",
      "Epoch 35/50\n",
      "511/511 [==============================] - 0s 238us/step - loss: 1.2998 - acc: 0.4853 - val_loss: 1.2067 - val_acc: 0.5000\n",
      "Epoch 36/50\n",
      "511/511 [==============================] - 0s 241us/step - loss: 1.2942 - acc: 0.4932 - val_loss: 1.2065 - val_acc: 0.5078\n",
      "Epoch 37/50\n",
      "511/511 [==============================] - 0s 216us/step - loss: 1.3475 - acc: 0.4834 - val_loss: 1.2037 - val_acc: 0.5156\n",
      "Epoch 38/50\n",
      "511/511 [==============================] - 0s 228us/step - loss: 1.2938 - acc: 0.5029 - val_loss: 1.2001 - val_acc: 0.5000\n",
      "Epoch 39/50\n",
      "511/511 [==============================] - 0s 226us/step - loss: 1.3019 - acc: 0.4814 - val_loss: 1.1960 - val_acc: 0.5156\n",
      "Epoch 40/50\n",
      "511/511 [==============================] - 0s 228us/step - loss: 1.3202 - acc: 0.4932 - val_loss: 1.1959 - val_acc: 0.5078\n",
      "Epoch 41/50\n",
      "511/511 [==============================] - 0s 226us/step - loss: 1.2980 - acc: 0.4814 - val_loss: 1.1942 - val_acc: 0.5156\n",
      "Epoch 42/50\n",
      "511/511 [==============================] - 0s 233us/step - loss: 1.2720 - acc: 0.5245 - val_loss: 1.1946 - val_acc: 0.5234\n",
      "Epoch 43/50\n",
      "511/511 [==============================] - 0s 226us/step - loss: 1.3065 - acc: 0.4932 - val_loss: 1.1939 - val_acc: 0.5234\n",
      "Epoch 44/50\n",
      "511/511 [==============================] - 0s 223us/step - loss: 1.2821 - acc: 0.5049 - val_loss: 1.1903 - val_acc: 0.5234\n",
      "Epoch 45/50\n",
      "511/511 [==============================] - 0s 230us/step - loss: 1.2650 - acc: 0.5205 - val_loss: 1.1873 - val_acc: 0.5234\n",
      "Epoch 46/50\n",
      "511/511 [==============================] - 0s 224us/step - loss: 1.2904 - acc: 0.5127 - val_loss: 1.1824 - val_acc: 0.5156\n",
      "Epoch 47/50\n",
      "511/511 [==============================] - 0s 223us/step - loss: 1.2908 - acc: 0.4912 - val_loss: 1.1813 - val_acc: 0.5156\n",
      "Epoch 48/50\n",
      "511/511 [==============================] - 0s 217us/step - loss: 1.3042 - acc: 0.4912 - val_loss: 1.1817 - val_acc: 0.5156\n",
      "Epoch 49/50\n",
      "511/511 [==============================] - 0s 211us/step - loss: 1.2625 - acc: 0.5205 - val_loss: 1.1799 - val_acc: 0.5156\n",
      "Epoch 50/50\n",
      "511/511 [==============================] - 0s 217us/step - loss: 1.2898 - acc: 0.4873 - val_loss: 1.1790 - val_acc: 0.5234\n"
     ]
    }
   ],
   "source": [
    "s_history = s_model.fit(s_x_train_o, s_y_train_o,\n",
    "                    batch_size=batch_size,\n",
    "                    epochs=epochs,\n",
    "                    verbose=1,\n",
    "                    validation_split=0.2)"
   ]
  },
  {
   "cell_type": "code",
   "execution_count": 40,
   "metadata": {
    "ExecuteTime": {
     "end_time": "2018-12-26T01:05:34.905811Z",
     "start_time": "2018-12-26T01:05:34.882587Z"
    }
   },
   "outputs": [
    {
     "name": "stdout",
     "output_type": "stream",
     "text": [
      "160/160 [==============================] - 0s 98us/step\n",
      "Test score: 1.106721643358469\n",
      "Test accuracy: 0.6000000117346644\n"
     ]
    }
   ],
   "source": [
    "# Evaluate the accuracy of our trained model\n",
    "s_score = s_model.evaluate(s_x_test_o, s_y_test_o,\n",
    "                       batch_size=batch_size, verbose=1)\n",
    "print('Test score:', s_score[0])\n",
    "print('Test accuracy:', s_score[1])"
   ]
  },
  {
   "cell_type": "code",
   "execution_count": 41,
   "metadata": {
    "ExecuteTime": {
     "end_time": "2018-12-26T01:05:44.028502Z",
     "start_time": "2018-12-26T01:05:43.738430Z"
    },
    "collapsed": true
   },
   "outputs": [],
   "source": [
    "# Produce the traning set for integrated model\n",
    "s_prediction=np.zeros((s_x_train_o.shape[0],s_y_train_o.shape[1]))\n",
    "for i in range(s_x_train_o.shape[0]):\n",
    "    prediction = s_model.predict(np.array([s_x_train_o[i]]))\n",
    "    s_prediction[i]=prediction[0]\n",
    "    #s_prediction=np.vstack([s_prediction,prediction[0]])"
   ]
  },
  {
   "cell_type": "code",
   "execution_count": 42,
   "metadata": {
    "ExecuteTime": {
     "end_time": "2018-12-26T01:05:44.892966Z",
     "start_time": "2018-12-26T01:05:44.814996Z"
    },
    "collapsed": true
   },
   "outputs": [],
   "source": [
    "# Produce the test set for integrated model\n",
    "st_prediction=np.zeros((s_x_test_o.shape[0],s_y_test_o.shape[1]))\n",
    "for i in range(s_x_test_o.shape[0]):\n",
    "    prediction = s_model.predict(np.array([s_x_test_o[i]]))\n",
    "    st_prediction[i]=prediction[0]"
   ]
  },
  {
   "cell_type": "markdown",
   "metadata": {},
   "source": [
    "## 3.  Model of Integration"
   ]
  },
  {
   "cell_type": "code",
   "execution_count": 43,
   "metadata": {
    "ExecuteTime": {
     "end_time": "2018-12-26T01:05:46.616883Z",
     "start_time": "2018-12-26T01:05:46.614032Z"
    },
    "collapsed": true
   },
   "outputs": [],
   "source": [
    "#### Take the prediction of subject and body as input to predict the label"
   ]
  },
  {
   "cell_type": "code",
   "execution_count": 44,
   "metadata": {
    "ExecuteTime": {
     "end_time": "2018-12-26T01:05:47.655193Z",
     "start_time": "2018-12-26T01:05:47.650629Z"
    },
    "collapsed": true
   },
   "outputs": [],
   "source": [
    "# Open questions: why are those parameters used for?\n",
    "batch_size = 5\n",
    "epochs = 50"
   ]
  },
  {
   "cell_type": "code",
   "execution_count": 45,
   "metadata": {
    "ExecuteTime": {
     "end_time": "2018-12-26T01:05:48.822337Z",
     "start_time": "2018-12-26T01:05:48.762520Z"
    },
    "collapsed": true
   },
   "outputs": [],
   "source": [
    "# Build the model\n",
    "i_model = Sequential()\n",
    "i_model.add(Dense(16, input_shape=(s_num_classes+num_classes,)))\n",
    "i_model.add(Activation('relu'))\n",
    "i_model.add(Dropout(0.8))\n",
    "i_model.add(Dense(num_classes))\n",
    "i_model.add(Activation('softmax'))"
   ]
  },
  {
   "cell_type": "code",
   "execution_count": 46,
   "metadata": {
    "ExecuteTime": {
     "end_time": "2018-12-26T01:05:50.338866Z",
     "start_time": "2018-12-26T01:05:50.290385Z"
    }
   },
   "outputs": [
    {
     "name": "stdout",
     "output_type": "stream",
     "text": [
      "_________________________________________________________________\n",
      "Layer (type)                 Output Shape              Param #   \n",
      "=================================================================\n",
      "dense_5 (Dense)              (None, 16)                272       \n",
      "_________________________________________________________________\n",
      "activation_5 (Activation)    (None, 16)                0         \n",
      "_________________________________________________________________\n",
      "dropout_3 (Dropout)          (None, 16)                0         \n",
      "_________________________________________________________________\n",
      "dense_6 (Dense)              (None, 8)                 136       \n",
      "_________________________________________________________________\n",
      "activation_6 (Activation)    (None, 8)                 0         \n",
      "=================================================================\n",
      "Total params: 408\n",
      "Trainable params: 408\n",
      "Non-trainable params: 0\n",
      "_________________________________________________________________\n"
     ]
    }
   ],
   "source": [
    "i_model.compile(loss='categorical_crossentropy',\n",
    "              optimizer='adam',\n",
    "              metrics=['accuracy'])\n",
    "i_model.summary()"
   ]
  },
  {
   "cell_type": "code",
   "execution_count": 47,
   "metadata": {
    "ExecuteTime": {
     "end_time": "2018-12-26T01:05:52.266596Z",
     "start_time": "2018-12-26T01:05:52.261032Z"
    }
   },
   "outputs": [
    {
     "data": {
      "text/plain": [
       "(639, 16)"
      ]
     },
     "execution_count": 47,
     "metadata": {},
     "output_type": "execute_result"
    }
   ],
   "source": [
    "i_prediction=np.concatenate((b_prediction,s_prediction),axis=1)\n",
    "i_prediction.shape"
   ]
  },
  {
   "cell_type": "code",
   "execution_count": 48,
   "metadata": {
    "ExecuteTime": {
     "end_time": "2018-12-26T01:06:00.320982Z",
     "start_time": "2018-12-26T01:05:53.322133Z"
    }
   },
   "outputs": [
    {
     "name": "stdout",
     "output_type": "stream",
     "text": [
      "Train on 511 samples, validate on 128 samples\n",
      "Epoch 1/50\n",
      "511/511 [==============================] - 0s 800us/step - loss: 2.2081 - acc: 0.1487 - val_loss: 2.0066 - val_acc: 0.1406\n",
      "Epoch 2/50\n",
      "511/511 [==============================] - 0s 241us/step - loss: 1.9296 - acc: 0.2994 - val_loss: 1.8010 - val_acc: 0.3906\n",
      "Epoch 3/50\n",
      "511/511 [==============================] - 0s 243us/step - loss: 1.7247 - acc: 0.3875 - val_loss: 1.6488 - val_acc: 0.3906\n",
      "Epoch 4/50\n",
      "511/511 [==============================] - 0s 236us/step - loss: 1.5671 - acc: 0.4501 - val_loss: 1.5343 - val_acc: 0.4219\n",
      "Epoch 5/50\n",
      "511/511 [==============================] - 0s 231us/step - loss: 1.4593 - acc: 0.4755 - val_loss: 1.4423 - val_acc: 0.5000\n",
      "Epoch 6/50\n",
      "511/511 [==============================] - 0s 235us/step - loss: 1.4113 - acc: 0.5147 - val_loss: 1.3749 - val_acc: 0.5469\n",
      "Epoch 7/50\n",
      "511/511 [==============================] - 0s 251us/step - loss: 1.3625 - acc: 0.5382 - val_loss: 1.3165 - val_acc: 0.5625\n",
      "Epoch 8/50\n",
      "511/511 [==============================] - 0s 247us/step - loss: 1.2576 - acc: 0.5401 - val_loss: 1.2745 - val_acc: 0.5859\n",
      "Epoch 9/50\n",
      "511/511 [==============================] - 0s 250us/step - loss: 1.2254 - acc: 0.5362 - val_loss: 1.2323 - val_acc: 0.6563\n",
      "Epoch 10/50\n",
      "511/511 [==============================] - 0s 248us/step - loss: 1.1678 - acc: 0.5421 - val_loss: 1.2042 - val_acc: 0.6563\n",
      "Epoch 11/50\n",
      "511/511 [==============================] - 0s 322us/step - loss: 1.1538 - acc: 0.5675 - val_loss: 1.1806 - val_acc: 0.6563\n",
      "Epoch 12/50\n",
      "511/511 [==============================] - 0s 249us/step - loss: 1.0897 - acc: 0.5597 - val_loss: 1.1544 - val_acc: 0.6797\n",
      "Epoch 13/50\n",
      "511/511 [==============================] - 0s 242us/step - loss: 1.1142 - acc: 0.5636 - val_loss: 1.1390 - val_acc: 0.6797\n",
      "Epoch 14/50\n",
      "511/511 [==============================] - 0s 247us/step - loss: 1.0876 - acc: 0.5714 - val_loss: 1.1240 - val_acc: 0.6797\n",
      "Epoch 15/50\n",
      "511/511 [==============================] - 0s 254us/step - loss: 1.0573 - acc: 0.5753 - val_loss: 1.1136 - val_acc: 0.6875\n",
      "Epoch 16/50\n",
      "511/511 [==============================] - 0s 242us/step - loss: 1.0986 - acc: 0.5714 - val_loss: 1.1019 - val_acc: 0.6797\n",
      "Epoch 17/50\n",
      "511/511 [==============================] - 0s 216us/step - loss: 0.9744 - acc: 0.6204 - val_loss: 1.0833 - val_acc: 0.6875\n",
      "Epoch 18/50\n",
      "511/511 [==============================] - 0s 234us/step - loss: 1.0490 - acc: 0.5851 - val_loss: 1.0675 - val_acc: 0.6875\n",
      "Epoch 19/50\n",
      "511/511 [==============================] - 0s 247us/step - loss: 1.0325 - acc: 0.5714 - val_loss: 1.0620 - val_acc: 0.6875\n",
      "Epoch 20/50\n",
      "511/511 [==============================] - 0s 238us/step - loss: 0.9555 - acc: 0.6341 - val_loss: 1.0560 - val_acc: 0.6875\n",
      "Epoch 21/50\n",
      "511/511 [==============================] - 0s 230us/step - loss: 0.9764 - acc: 0.6008 - val_loss: 1.0579 - val_acc: 0.6875\n",
      "Epoch 22/50\n",
      "511/511 [==============================] - 0s 308us/step - loss: 0.9614 - acc: 0.6106 - val_loss: 1.0437 - val_acc: 0.6953\n",
      "Epoch 23/50\n",
      "511/511 [==============================] - 0s 284us/step - loss: 0.9522 - acc: 0.6321 - val_loss: 1.0410 - val_acc: 0.6953\n",
      "Epoch 24/50\n",
      "511/511 [==============================] - 0s 268us/step - loss: 0.9757 - acc: 0.6164 - val_loss: 1.0252 - val_acc: 0.7031\n",
      "Epoch 25/50\n",
      "511/511 [==============================] - 0s 261us/step - loss: 0.9529 - acc: 0.5890 - val_loss: 1.0272 - val_acc: 0.7031\n",
      "Epoch 26/50\n",
      "511/511 [==============================] - 0s 239us/step - loss: 1.0222 - acc: 0.5812 - val_loss: 1.0180 - val_acc: 0.6953\n",
      "Epoch 27/50\n",
      "511/511 [==============================] - 0s 244us/step - loss: 0.9540 - acc: 0.6301 - val_loss: 1.0212 - val_acc: 0.6953\n",
      "Epoch 28/50\n",
      "511/511 [==============================] - 0s 252us/step - loss: 0.9244 - acc: 0.6164 - val_loss: 1.0276 - val_acc: 0.7109\n",
      "Epoch 29/50\n",
      "511/511 [==============================] - 0s 257us/step - loss: 0.9250 - acc: 0.6321 - val_loss: 1.0285 - val_acc: 0.7109\n",
      "Epoch 30/50\n",
      "511/511 [==============================] - 0s 258us/step - loss: 0.8998 - acc: 0.6497 - val_loss: 1.0249 - val_acc: 0.7188\n",
      "Epoch 31/50\n",
      "511/511 [==============================] - 0s 247us/step - loss: 0.9409 - acc: 0.6301 - val_loss: 1.0078 - val_acc: 0.7109\n",
      "Epoch 32/50\n",
      "511/511 [==============================] - 0s 235us/step - loss: 0.8995 - acc: 0.6399 - val_loss: 1.0048 - val_acc: 0.7031\n",
      "Epoch 33/50\n",
      "511/511 [==============================] - 0s 243us/step - loss: 0.9107 - acc: 0.6282 - val_loss: 1.0031 - val_acc: 0.7109\n",
      "Epoch 34/50\n",
      "511/511 [==============================] - 0s 284us/step - loss: 0.9350 - acc: 0.6106 - val_loss: 1.0151 - val_acc: 0.7109\n",
      "Epoch 35/50\n",
      "511/511 [==============================] - 0s 280us/step - loss: 0.8846 - acc: 0.6243 - val_loss: 1.0149 - val_acc: 0.7109\n",
      "Epoch 36/50\n",
      "511/511 [==============================] - 0s 287us/step - loss: 0.8984 - acc: 0.6243 - val_loss: 1.0209 - val_acc: 0.7109\n",
      "Epoch 37/50\n",
      "511/511 [==============================] - 0s 237us/step - loss: 0.9136 - acc: 0.6321 - val_loss: 1.0229 - val_acc: 0.7109\n",
      "Epoch 38/50\n",
      "511/511 [==============================] - 0s 235us/step - loss: 0.8777 - acc: 0.6360 - val_loss: 1.0372 - val_acc: 0.7188\n",
      "Epoch 39/50\n",
      "511/511 [==============================] - 0s 232us/step - loss: 0.9228 - acc: 0.6106 - val_loss: 1.0447 - val_acc: 0.7109\n",
      "Epoch 40/50\n",
      "511/511 [==============================] - 0s 232us/step - loss: 0.9098 - acc: 0.6106 - val_loss: 1.0315 - val_acc: 0.7031\n",
      "Epoch 41/50\n",
      "511/511 [==============================] - 0s 216us/step - loss: 0.9549 - acc: 0.6164 - val_loss: 1.0270 - val_acc: 0.7109\n",
      "Epoch 42/50\n",
      "511/511 [==============================] - 0s 230us/step - loss: 0.9131 - acc: 0.6282 - val_loss: 1.0188 - val_acc: 0.7109\n",
      "Epoch 43/50\n",
      "511/511 [==============================] - 0s 238us/step - loss: 0.9278 - acc: 0.6204 - val_loss: 1.0198 - val_acc: 0.7031\n",
      "Epoch 44/50\n",
      "511/511 [==============================] - 0s 302us/step - loss: 0.9094 - acc: 0.6301 - val_loss: 1.0208 - val_acc: 0.6953\n",
      "Epoch 45/50\n",
      "511/511 [==============================] - 0s 284us/step - loss: 0.9156 - acc: 0.6145 - val_loss: 1.0237 - val_acc: 0.7109\n",
      "Epoch 46/50\n",
      "511/511 [==============================] - 0s 240us/step - loss: 0.9140 - acc: 0.6419 - val_loss: 1.0296 - val_acc: 0.7188\n",
      "Epoch 47/50\n",
      "511/511 [==============================] - 0s 245us/step - loss: 0.8582 - acc: 0.6399 - val_loss: 1.0275 - val_acc: 0.7188\n",
      "Epoch 48/50\n",
      "511/511 [==============================] - 0s 246us/step - loss: 0.8941 - acc: 0.6243 - val_loss: 1.0428 - val_acc: 0.7109\n",
      "Epoch 49/50\n",
      "511/511 [==============================] - 0s 245us/step - loss: 0.8550 - acc: 0.6282 - val_loss: 1.0386 - val_acc: 0.7031\n",
      "Epoch 50/50\n",
      "511/511 [==============================] - 0s 260us/step - loss: 0.9020 - acc: 0.6282 - val_loss: 1.0306 - val_acc: 0.7109\n"
     ]
    }
   ],
   "source": [
    "i_history = i_model.fit(i_prediction, y_train_o,\n",
    "                    batch_size=batch_size,\n",
    "                    epochs=epochs,\n",
    "                    verbose=1,\n",
    "                    validation_split=0.2)"
   ]
  },
  {
   "cell_type": "code",
   "execution_count": 49,
   "metadata": {
    "ExecuteTime": {
     "end_time": "2018-12-26T01:06:02.128807Z",
     "start_time": "2018-12-26T01:06:02.105513Z"
    }
   },
   "outputs": [
    {
     "name": "stdout",
     "output_type": "stream",
     "text": [
      "160/160 [==============================] - 0s 108us/step\n",
      "Test score: 1.0077532614814118\n",
      "Test accuracy: 0.7125000110827386\n"
     ]
    }
   ],
   "source": [
    "# Evaluate the accuracy of our trained model\n",
    "it_prediction=np.concatenate((bt_prediction,st_prediction),axis=1)\n",
    "it_prediction.shape\n",
    "\n",
    "i_score = i_model.evaluate(it_prediction, y_test_o,\n",
    "                       batch_size=batch_size, verbose=1)\n",
    "print('Test score:', i_score[0])\n",
    "print('Test accuracy:', i_score[1])"
   ]
  },
  {
   "cell_type": "code",
   "execution_count": 50,
   "metadata": {
    "ExecuteTime": {
     "end_time": "2018-12-26T01:06:04.537571Z",
     "start_time": "2018-12-26T01:06:04.445457Z"
    }
   },
   "outputs": [
    {
     "name": "stdout",
     "output_type": "stream",
     "text": [
      "[Subject]:  project foudner ...\n",
      "Predicted label: Project\n",
      "[Body]:  please be informed that nasa authority has been gr ...\n",
      "Predicted label: Authorization\n",
      ">> Integrated prediction\n",
      "-->Predicted label: Authorization\n",
      "-->Actual label:Authorization\n",
      "\n",
      "[Subject]:  please be noticed there is no forecast data for ng ...\n",
      "Predicted label: Project\n",
      "[Body]:  personname nasa forecast ...\n",
      "Predicted label: Others\n",
      ">> Integrated prediction\n",
      "-->Predicted label: Project\n",
      "-->Actual label:Others\n",
      "\n",
      "[Subject]:  please approve timesheets of your staffs 2016 11 w ...\n",
      "Predicted label: Timesheet\n",
      "[Body]:  hi i can not see anything for approve in my queue  ...\n",
      "Predicted label: Timesheet\n",
      ">> Integrated prediction\n",
      "-->Predicted label: Timesheet\n",
      "-->Actual label:Timesheet\n",
      "\n",
      "[Subject]:  mis notice system trouble processing report nasa2  ...\n",
      "Predicted label: Project\n",
      "[Body]:  is notice nasa system report nasa system pjm funct ...\n",
      "Predicted label: Others\n",
      ">> Integrated prediction\n",
      "-->Predicted label: Project\n",
      "-->Actual label:Project\n",
      "\n",
      "[Subject]:  please change nasa time sheet approver c0041330 cl ...\n",
      "Predicted label: Authorization\n",
      "[Body]:  below approver change is done . could you confirm  ...\n",
      "Predicted label: Authorization\n",
      ">> Integrated prediction\n",
      "-->Predicted label: Authorization\n",
      "-->Actual label:Timesheet\n",
      "\n",
      "[Subject]:  notice nasa system project plan monthly closing is ...\n",
      "Predicted label: Project\n",
      "[Body]:  please kindly note the schedule of monthly close o ...\n",
      "Predicted label: Project\n",
      ">> Integrated prediction\n",
      "-->Predicted label: Project\n",
      "-->Actual label:Project\n",
      "\n",
      "[Subject]:  you have unapproval timesheet 2016 12 ...\n",
      "Predicted label: Timesheet\n",
      "[Body]:  dear personname 9 am abeamorg office clou phase 3  ...\n",
      "Predicted label: Timesheet\n",
      ">> Integrated prediction\n",
      "-->Predicted label: Timesheet\n",
      "-->Actual label:Timesheet\n",
      "\n",
      "[Subject]:  fy2018 period03 engagement flash billing collectio ...\n",
      "Predicted label: Timesheet\n",
      "[Body]:  halm ams to principal and project manager this ema ...\n",
      "Predicted label: Project\n",
      ">> Integrated prediction\n",
      "-->Predicted label: Others\n",
      "-->Actual label:Project\n",
      "\n",
      "[Subject]:  sg my ...\n",
      "Predicted label: Timesheet\n",
      "[Body]:  mr. suzuki akio principal staff staff staff my 9 0 ...\n",
      "Predicted label: Timesheet\n",
      ">> Integrated prediction\n",
      "-->Predicted label: Others\n",
      "-->Actual label:Others\n",
      "\n",
      "[Subject]:  completed announcement nasa2 system restrictions f ...\n",
      "Predicted label: Others\n",
      "[Body]:  the nasa maintenance work was completed . all func ...\n",
      "Predicted label: Others\n",
      ">> Integrated prediction\n",
      "-->Predicted label: Others\n",
      "-->Actual label:Project\n",
      "\n"
     ]
    }
   ],
   "source": [
    "# Here's how to generate a prediction on individual examples\n",
    "text_labels = encoder.classes_ \n",
    "\n",
    "for i in range(10):\n",
    "    # predict label based on subject:\n",
    "    es_prediction = s_model.predict(np.array([s_x_test_o[i]]))\n",
    "    #print(es_prediction[0],np.argmax(prediction))\n",
    "    predicted_label = text_labels[np.argmax(es_prediction)]\n",
    "    print(\"[Subject]: \",s_test_narrative.iloc[i][:50], \"...\")\n",
    "    print(\"Predicted label: \" + predicted_label)\n",
    "    \n",
    "    prediction = model.predict(np.array([x_test_o[i]]))\n",
    "    #print(prediction[0],np.argmax(prediction))\n",
    "    predicted_label = text_labels[np.argmax(prediction)]\n",
    "    print(\"[Body]: \",test_narrative.iloc[i][:50], \"...\")\n",
    "    print(\"Predicted label: \" + predicted_label)\n",
    "    \n",
    "    ei_prediction=np.concatenate((es_prediction,prediction),axis=1)\n",
    "    f_prediction = i_model.predict(ei_prediction)\n",
    "    #print(ei_prediction[0],np.argmax(f_prediction))\n",
    "    predicted_label = text_labels[np.argmax(f_prediction)]\n",
    "    print(\">> Integrated prediction\")\n",
    "    print(\"-->Predicted label: \" + predicted_label)\n",
    "    print('-->Actual label:' + test_product.iloc[i] + \"\\n\")"
   ]
  },
  {
   "cell_type": "code",
   "execution_count": null,
   "metadata": {
    "collapsed": true
   },
   "outputs": [],
   "source": []
  }
 ],
 "metadata": {
  "extensions": {
   "jupyter_dashboards": {
    "activeView": "grid_default",
    "version": 1,
    "views": {
     "grid_default": {
      "cellMargin": 10,
      "defaultCellHeight": 20,
      "maxColumns": 12,
      "name": "grid",
      "type": "grid"
     },
     "report_default": {
      "name": "report",
      "type": "report"
     }
    }
   }
  },
  "kernelspec": {
   "display_name": "Python 3",
   "language": "python",
   "name": "python3"
  },
  "language_info": {
   "codemirror_mode": {
    "name": "ipython",
    "version": 3
   },
   "file_extension": ".py",
   "mimetype": "text/x-python",
   "name": "python",
   "nbconvert_exporter": "python",
   "pygments_lexer": "ipython3",
   "version": "3.6.1"
  },
  "varInspector": {
   "cols": {
    "lenName": 16,
    "lenType": 16,
    "lenVar": 40
   },
   "kernels_config": {
    "python": {
     "delete_cmd_postfix": "",
     "delete_cmd_prefix": "del ",
     "library": "var_list.py",
     "varRefreshCmd": "print(var_dic_list())"
    },
    "r": {
     "delete_cmd_postfix": ") ",
     "delete_cmd_prefix": "rm(",
     "library": "var_list.r",
     "varRefreshCmd": "cat(var_dic_list()) "
    }
   },
   "types_to_exclude": [
    "module",
    "function",
    "builtin_function_or_method",
    "instance",
    "_Feature"
   ],
   "window_display": false
  }
 },
 "nbformat": 4,
 "nbformat_minor": 2
}
