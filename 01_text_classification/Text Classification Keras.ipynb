{
 "cells": [
  {
   "cell_type": "markdown",
   "metadata": {
    "extensions": {
     "jupyter_dashboards": {
      "version": 1,
      "views": {
       "grid_default": {
        "hidden": true
       },
       "report_default": {}
      }
     }
    }
   },
   "source": [
    "## Deep Learning for Text Classification & QA\n",
    "#### This program originates from the tutorial of tensorflow: https://www.tensorflow.org/tutorials/keras/basic_text_classification\n",
    "####  Based on the needs of study, the following modifications are made:\n",
    "1. Tries the different embedding approaches: word2vec, glovec.<br />\n",
    "2. Apply RNN, GRU, LSTM to compare the accuracy and efforts of algorithms. <br />\n",
    "\n",
    "In addition, the source file in this program was not uploaded, and the audience can create your own by MS excel file, in which, 2 columns, one for input question ( Data x), and one for label ( Data y)."
   ]
  },
  {
   "cell_type": "code",
   "execution_count": 1,
   "metadata": {
    "collapsed": true,
    "extensions": {
     "jupyter_dashboards": {
      "version": 1,
      "views": {
       "grid_default": {
        "hidden": true
       },
       "report_default": {}
      }
     }
    }
   },
   "outputs": [],
   "source": [
    "from __future__ import absolute_import\n",
    "from __future__ import division\n",
    "from __future__ import print_function"
   ]
  },
  {
   "cell_type": "code",
   "execution_count": 96,
   "metadata": {
    "extensions": {
     "jupyter_dashboards": {
      "version": 1,
      "views": {
       "grid_default": {
        "col": 0,
        "height": 4,
        "hidden": false,
        "row": 0,
        "width": 4
       },
       "report_default": {}
      }
     }
    }
   },
   "outputs": [
    {
     "name": "stdout",
     "output_type": "stream",
     "text": [
      "You have TensorFlow version 1.12.0\n"
     ]
    }
   ],
   "source": [
    "import itertools\n",
    "import os\n",
    "\n",
    "%matplotlib inline\n",
    "import matplotlib.pyplot as plt\n",
    "import numpy as np\n",
    "import pandas as pd\n",
    "import tensorflow as tf\n",
    "\n",
    "from sklearn.preprocessing import LabelBinarizer, LabelEncoder\n",
    "from sklearn.metrics import confusion_matrix\n",
    "\n",
    "from tensorflow import keras\n",
    "from keras.models import Sequential\n",
    "from keras.layers import Dense, Activation, Dropout, Embedding,LSTM,Flatten,GRU\n",
    "from keras.preprocessing import text, sequence\n",
    "from keras import utils\n",
    "\n",
    "import gensim\n",
    "from gensim.models import Word2Vec\n",
    "from gensim.models import FastText\n",
    "\n",
    "# This code was tested with TensorFlow v1.4\n",
    "print(\"You have TensorFlow version\", tf.__version__)"
   ]
  },
  {
   "cell_type": "markdown",
   "metadata": {
    "extensions": {
     "jupyter_dashboards": {
      "version": 1,
      "views": {
       "grid_default": {
        "col": 4,
        "height": 4,
        "hidden": false,
        "row": 0,
        "width": 4
       },
       "report_default": {}
      }
     }
    }
   },
   "source": [
    "### Load the mock dataset"
   ]
  },
  {
   "cell_type": "code",
   "execution_count": 3,
   "metadata": {
    "extensions": {
     "jupyter_dashboards": {
      "version": 1,
      "views": {
       "grid_default": {
        "col": 8,
        "height": 9,
        "hidden": false,
        "row": 0,
        "width": 4
       },
       "report_default": {}
      }
     }
    }
   },
   "outputs": [
    {
     "data": {
      "text/html": [
       "<div>\n",
       "<style scoped>\n",
       "    .dataframe tbody tr th:only-of-type {\n",
       "        vertical-align: middle;\n",
       "    }\n",
       "\n",
       "    .dataframe tbody tr th {\n",
       "        vertical-align: top;\n",
       "    }\n",
       "\n",
       "    .dataframe thead th {\n",
       "        text-align: right;\n",
       "    }\n",
       "</style>\n",
       "<table border=\"1\" class=\"dataframe\">\n",
       "  <thead>\n",
       "    <tr style=\"text-align: right;\">\n",
       "      <th></th>\n",
       "      <th>convid</th>\n",
       "      <th>subject</th>\n",
       "      <th>length</th>\n",
       "      <th>tousflag</th>\n",
       "      <th>dialognm</th>\n",
       "      <th>forwardtime</th>\n",
       "      <th>imagenm</th>\n",
       "      <th>notimagenm</th>\n",
       "      <th>mailbody</th>\n",
       "      <th>mailquestion</th>\n",
       "      <th>imagetype</th>\n",
       "      <th>firstanswername</th>\n",
       "      <th>firstforwardname</th>\n",
       "      <th>Category</th>\n",
       "    </tr>\n",
       "  </thead>\n",
       "  <tbody>\n",
       "    <tr>\n",
       "      <th>0</th>\n",
       "      <td>AAQkAGI3MzUxMzk3LTZiZjItNDQ5Ni1hMzJlLWU5NWMxNm...</td>\n",
       "      <td>NaN</td>\n",
       "      <td>26.500000</td>\n",
       "      <td>1</td>\n",
       "      <td>3.0</td>\n",
       "      <td>1</td>\n",
       "      <td>0</td>\n",
       "      <td>0</td>\n",
       "      <td>now personname change target date and able to ...</td>\n",
       "      <td>i can not find anything related to this after ...</td>\n",
       "      <td>NaN</td>\n",
       "      <td>yosong@abeam.com</td>\n",
       "      <td>yosong@abeam.com</td>\n",
       "      <td>Timesheet</td>\n",
       "    </tr>\n",
       "    <tr>\n",
       "      <th>1</th>\n",
       "      <td>AAQkAGI3MzUxMzk3LTZiZjItNDQ5Ni1hMzJlLWU5NWMxNm...</td>\n",
       "      <td>NaN</td>\n",
       "      <td>14.333333</td>\n",
       "      <td>0</td>\n",
       "      <td>2.0</td>\n",
       "      <td>0</td>\n",
       "      <td>0</td>\n",
       "      <td>0</td>\n",
       "      <td>from date from date 9 9 9 9 nasa file expense ...</td>\n",
       "      <td>the from date property in the expense module f...</td>\n",
       "      <td>NaN</td>\n",
       "      <td>NaN</td>\n",
       "      <td>NaN</td>\n",
       "      <td>non-issue</td>\n",
       "    </tr>\n",
       "    <tr>\n",
       "      <th>2</th>\n",
       "      <td>AAQkAGI3MzUxMzk3LTZiZjItNDQ5Ni1hMzJlLWU5NWMxNm...</td>\n",
       "      <td>NaN</td>\n",
       "      <td>85.000000</td>\n",
       "      <td>0</td>\n",
       "      <td>1.0</td>\n",
       "      <td>0</td>\n",
       "      <td>0</td>\n",
       "      <td>0</td>\n",
       "      <td>a virus was detected in a message you have rec...</td>\n",
       "      <td>a virus was detected in a message you have rec...</td>\n",
       "      <td>NaN</td>\n",
       "      <td>NaN</td>\n",
       "      <td>NaN</td>\n",
       "      <td>non-issue</td>\n",
       "    </tr>\n",
       "    <tr>\n",
       "      <th>3</th>\n",
       "      <td>AAQkAGI3MzUxMzk3LTZiZjItNDQ5Ni1hMzJlLWU5NWMxNm...</td>\n",
       "      <td>NaN</td>\n",
       "      <td>11.000000</td>\n",
       "      <td>0</td>\n",
       "      <td>1.0</td>\n",
       "      <td>0</td>\n",
       "      <td>0</td>\n",
       "      <td>0</td>\n",
       "      <td>please find user s question as below . kindly ...</td>\n",
       "      <td>please find user s question as below . kindly ...</td>\n",
       "      <td>NaN</td>\n",
       "      <td>NaN</td>\n",
       "      <td>NaN</td>\n",
       "      <td>non-issue</td>\n",
       "    </tr>\n",
       "    <tr>\n",
       "      <th>4</th>\n",
       "      <td>AAQkAGI3MzUxMzk3LTZiZjItNDQ5Ni1hMzJlLWU5NWMxNm...</td>\n",
       "      <td>NaN</td>\n",
       "      <td>21.000000</td>\n",
       "      <td>1</td>\n",
       "      <td>1.5</td>\n",
       "      <td>0</td>\n",
       "      <td>0</td>\n",
       "      <td>0</td>\n",
       "      <td>we think it was caused by google bar in your b...</td>\n",
       "      <td>hi nasa team i had a problem which accessing t...</td>\n",
       "      <td>NaN</td>\n",
       "      <td>yosong@abeam.com</td>\n",
       "      <td>NaN</td>\n",
       "      <td>Authorization</td>\n",
       "    </tr>\n",
       "  </tbody>\n",
       "</table>\n",
       "</div>"
      ],
      "text/plain": [
       "                                              convid subject     length  \\\n",
       "0  AAQkAGI3MzUxMzk3LTZiZjItNDQ5Ni1hMzJlLWU5NWMxNm...     NaN  26.500000   \n",
       "1  AAQkAGI3MzUxMzk3LTZiZjItNDQ5Ni1hMzJlLWU5NWMxNm...     NaN  14.333333   \n",
       "2  AAQkAGI3MzUxMzk3LTZiZjItNDQ5Ni1hMzJlLWU5NWMxNm...     NaN  85.000000   \n",
       "3  AAQkAGI3MzUxMzk3LTZiZjItNDQ5Ni1hMzJlLWU5NWMxNm...     NaN  11.000000   \n",
       "4  AAQkAGI3MzUxMzk3LTZiZjItNDQ5Ni1hMzJlLWU5NWMxNm...     NaN  21.000000   \n",
       "\n",
       "   tousflag  dialognm  forwardtime  imagenm  notimagenm  \\\n",
       "0         1       3.0            1        0           0   \n",
       "1         0       2.0            0        0           0   \n",
       "2         0       1.0            0        0           0   \n",
       "3         0       1.0            0        0           0   \n",
       "4         1       1.5            0        0           0   \n",
       "\n",
       "                                            mailbody  \\\n",
       "0  now personname change target date and able to ...   \n",
       "1  from date from date 9 9 9 9 nasa file expense ...   \n",
       "2  a virus was detected in a message you have rec...   \n",
       "3  please find user s question as below . kindly ...   \n",
       "4  we think it was caused by google bar in your b...   \n",
       "\n",
       "                                        mailquestion  imagetype  \\\n",
       "0  i can not find anything related to this after ...        NaN   \n",
       "1  the from date property in the expense module f...        NaN   \n",
       "2  a virus was detected in a message you have rec...        NaN   \n",
       "3  please find user s question as below . kindly ...        NaN   \n",
       "4  hi nasa team i had a problem which accessing t...        NaN   \n",
       "\n",
       "    firstanswername  firstforwardname       Category  \n",
       "0  yosong@abeam.com  yosong@abeam.com      Timesheet  \n",
       "1               NaN               NaN      non-issue  \n",
       "2               NaN               NaN      non-issue  \n",
       "3               NaN               NaN      non-issue  \n",
       "4  yosong@abeam.com               NaN  Authorization  "
      ]
     },
     "execution_count": 3,
     "metadata": {},
     "output_type": "execute_result"
    }
   ],
   "source": [
    "source = pd.read_excel('../98_data/mail_groupby2.xlsx', encoding='latin-1')\n",
    "source.head()"
   ]
  },
  {
   "cell_type": "code",
   "execution_count": 4,
   "metadata": {
    "extensions": {
     "jupyter_dashboards": {
      "version": 1,
      "views": {
       "grid_default": {
        "col": 0,
        "height": 9,
        "hidden": false,
        "row": 4,
        "width": 4
       },
       "report_default": {}
      }
     }
    }
   },
   "outputs": [
    {
     "data": {
      "text/html": [
       "<div>\n",
       "<style scoped>\n",
       "    .dataframe tbody tr th:only-of-type {\n",
       "        vertical-align: middle;\n",
       "    }\n",
       "\n",
       "    .dataframe tbody tr th {\n",
       "        vertical-align: top;\n",
       "    }\n",
       "\n",
       "    .dataframe thead th {\n",
       "        text-align: right;\n",
       "    }\n",
       "</style>\n",
       "<table border=\"1\" class=\"dataframe\">\n",
       "  <thead>\n",
       "    <tr style=\"text-align: right;\">\n",
       "      <th></th>\n",
       "      <th>Emails</th>\n",
       "      <th>Cat</th>\n",
       "    </tr>\n",
       "  </thead>\n",
       "  <tbody>\n",
       "    <tr>\n",
       "      <th>0</th>\n",
       "      <td>i can not find anything related to this after ...</td>\n",
       "      <td>Timesheet</td>\n",
       "    </tr>\n",
       "    <tr>\n",
       "      <th>1</th>\n",
       "      <td>the from date property in the expense module f...</td>\n",
       "      <td>non-issue</td>\n",
       "    </tr>\n",
       "    <tr>\n",
       "      <th>2</th>\n",
       "      <td>a virus was detected in a message you have rec...</td>\n",
       "      <td>non-issue</td>\n",
       "    </tr>\n",
       "    <tr>\n",
       "      <th>3</th>\n",
       "      <td>please find user s question as below . kindly ...</td>\n",
       "      <td>non-issue</td>\n",
       "    </tr>\n",
       "    <tr>\n",
       "      <th>4</th>\n",
       "      <td>hi nasa team i had a problem which accessing t...</td>\n",
       "      <td>Authorization</td>\n",
       "    </tr>\n",
       "  </tbody>\n",
       "</table>\n",
       "</div>"
      ],
      "text/plain": [
       "                                              Emails            Cat\n",
       "0  i can not find anything related to this after ...      Timesheet\n",
       "1  the from date property in the expense module f...      non-issue\n",
       "2  a virus was detected in a message you have rec...      non-issue\n",
       "3  please find user s question as below . kindly ...      non-issue\n",
       "4  hi nasa team i had a problem which accessing t...  Authorization"
      ]
     },
     "execution_count": 4,
     "metadata": {},
     "output_type": "execute_result"
    }
   ],
   "source": [
    "# Rename the columns\n",
    "df=source[['mailquestion','Category']]\n",
    "df.columns=['Emails','Cat']\n",
    "df = df[pd.notnull(df['Emails'])]\n",
    "df.head()"
   ]
  },
  {
   "cell_type": "code",
   "execution_count": 5,
   "metadata": {
    "extensions": {
     "jupyter_dashboards": {
      "version": 1,
      "views": {
       "grid_default": {
        "col": 4,
        "height": 4,
        "hidden": false,
        "row": 4,
        "width": 4
       },
       "report_default": {}
      }
     }
    }
   },
   "outputs": [
    {
     "data": {
      "text/plain": [
       "Emails    0\n",
       "Cat       0\n",
       "dtype: int64"
      ]
     },
     "execution_count": 5,
     "metadata": {},
     "output_type": "execute_result"
    }
   ],
   "source": [
    "df.isnull().sum()"
   ]
  },
  {
   "cell_type": "code",
   "execution_count": 6,
   "metadata": {
    "extensions": {
     "jupyter_dashboards": {
      "version": 1,
      "views": {
       "grid_default": {
        "col": 4,
        "height": 15,
        "hidden": false,
        "row": 8,
        "width": 4
       },
       "report_default": {}
      }
     }
    }
   },
   "outputs": [
    {
     "data": {
      "text/plain": [
       "non-issue        362\n",
       "Timesheet        285\n",
       "Authorization     59\n",
       "Others            15\n",
       "Report             7\n",
       "Project            5\n",
       "Name: Cat, dtype: int64"
      ]
     },
     "execution_count": 6,
     "metadata": {},
     "output_type": "execute_result"
    }
   ],
   "source": [
    "df['Cat'].value_counts()"
   ]
  },
  {
   "cell_type": "code",
   "execution_count": 60,
   "metadata": {
    "extensions": {
     "jupyter_dashboards": {
      "version": 1,
      "views": {
       "grid_default": {
        "col": 8,
        "height": 4,
        "hidden": false,
        "row": 9,
        "width": 4
       },
       "report_default": {}
      }
     }
    }
   },
   "outputs": [
    {
     "name": "stdout",
     "output_type": "stream",
     "text": [
      "Train size: 586\n",
      "Test size: 147\n"
     ]
    }
   ],
   "source": [
    "# Split data into train and test\n",
    "train_size = int(len(df) * .8)\n",
    "print (\"Train size: %d\" % train_size)\n",
    "print (\"Test size: %d\" % (len(df) - train_size))"
   ]
  },
  {
   "cell_type": "markdown",
   "metadata": {
    "extensions": {
     "jupyter_dashboards": {
      "version": 1,
      "views": {
       "grid_default": {
        "col": 0,
        "height": 4,
        "hidden": false,
        "row": 13,
        "width": 4
       },
       "report_default": {}
      }
     }
    }
   },
   "source": [
    "### Convert the words to integers"
   ]
  },
  {
   "cell_type": "code",
   "execution_count": 61,
   "metadata": {
    "collapsed": true,
    "extensions": {
     "jupyter_dashboards": {
      "version": 1,
      "views": {
       "grid_default": {
        "hidden": true
       },
       "report_default": {}
      }
     }
    }
   },
   "outputs": [],
   "source": [
    "train_narrative = df['Emails'][:train_size]\n",
    "train_product = df['Cat'][:train_size]\n",
    "\n",
    "test_narrative = df['Emails'][train_size:]\n",
    "test_product = df['Cat'][train_size:]"
   ]
  },
  {
   "cell_type": "code",
   "execution_count": 62,
   "metadata": {
    "collapsed": true
   },
   "outputs": [],
   "source": [
    "# Find out the maximum words for the dimension of word vectors\n",
    "def text2word(doc):\n",
    "    \"\"\"\n",
    "    Usage: Convert one text into word list.\n",
    "    Input: doc - string list\n",
    "    Output: documents - string list: all sentences in words list.\n",
    "            text_len - int: maximum numbers of words in one sentense\n",
    "            max_text - strig list: the words list of the sentence with maximum words\n",
    "    \"\"\"\n",
    "    return_docs=[]\n",
    "    text_len=0\n",
    "    max_text=''\n",
    "    #for item in df['Emails']:\n",
    "    for item in doc:\n",
    "        text_words=[word for word in str(item).lower().split()]\n",
    "        return_docs.append(text_words)\n",
    "        if len(text_words)> text_len:\n",
    "            text_len=len(text_words)\n",
    "            max_text=text_words\n",
    "    #max_words = text_len\n",
    "    \n",
    "    return return_docs,text_len,max_text\n",
    "\n",
    "documents,max_words,_=text2word(df['Emails'])\n",
    "tokenize = text.Tokenizer(num_words=max_words, char_level=False)"
   ]
  },
  {
   "cell_type": "code",
   "execution_count": 63,
   "metadata": {
    "extensions": {
     "jupyter_dashboards": {
      "version": 1,
      "views": {
       "grid_default": {
        "hidden": true
       },
       "report_default": {}
      }
     }
    }
   },
   "outputs": [
    {
     "name": "stdout",
     "output_type": "stream",
     "text": [
      "Found 2345 unique tokens.\n"
     ]
    }
   ],
   "source": [
    "tokenize.fit_on_texts(train_narrative) # only fit on train\n",
    "x_train_o = tokenize.texts_to_matrix(train_narrative)\n",
    "x_test_o = tokenize.texts_to_matrix(test_narrative)\n",
    "word_index = tokenize.word_index\n",
    "print('Found %s unique tokens.' % len(word_index))"
   ]
  },
  {
   "cell_type": "code",
   "execution_count": 64,
   "metadata": {
    "collapsed": true,
    "extensions": {
     "jupyter_dashboards": {
      "version": 1,
      "views": {
       "grid_default": {
        "hidden": true
       },
       "report_default": {}
      }
     }
    }
   },
   "outputs": [],
   "source": [
    "# Use sklearn utility to convert label strings to numbered index\n",
    "encoder = LabelEncoder()\n",
    "encoder.fit(train_product)\n",
    "y_train_o = encoder.transform(train_product)\n",
    "y_test_o = encoder.transform(test_product)"
   ]
  },
  {
   "cell_type": "code",
   "execution_count": 65,
   "metadata": {
    "collapsed": true,
    "extensions": {
     "jupyter_dashboards": {
      "version": 1,
      "views": {
       "grid_default": {
        "hidden": true
       },
       "report_default": {}
      }
     }
    }
   },
   "outputs": [],
   "source": [
    "# Converts the labels to a one-hot representation\n",
    "num_classes = np.max(y_train_o) + 1\n",
    "y_train_o = utils.to_categorical(y_train_o, num_classes)\n",
    "y_test_o = utils.to_categorical(y_test_o, num_classes)"
   ]
  },
  {
   "cell_type": "code",
   "execution_count": 66,
   "metadata": {
    "extensions": {
     "jupyter_dashboards": {
      "version": 1,
      "views": {
       "grid_default": {
        "col": 8,
        "height": 4,
        "hidden": false,
        "row": 13,
        "width": 4
       },
       "report_default": {}
      }
     }
    }
   },
   "outputs": [
    {
     "name": "stdout",
     "output_type": "stream",
     "text": [
      "x_train shape: (586, 925)\n",
      "x_test shape: (147, 925)\n",
      "y_train shape: (586, 6)\n",
      "y_test shape: (147, 6)\n"
     ]
    }
   ],
   "source": [
    "# Inspect the dimenstions of our training and test data (this is helpful to debug)\n",
    "print('x_train shape:', x_train_o.shape)\n",
    "print('x_test shape:', x_test_o.shape)\n",
    "print('y_train shape:', y_train_o.shape)\n",
    "print('y_test shape:', y_test_o.shape)"
   ]
  },
  {
   "cell_type": "markdown",
   "metadata": {},
   "source": [
    "## 1.  Model without embedding layer"
   ]
  },
  {
   "cell_type": "markdown",
   "metadata": {
    "extensions": {
     "jupyter_dashboards": {
      "version": 1,
      "views": {
       "grid_default": {
        "col": 0,
        "height": 4,
        "hidden": false,
        "row": 17,
        "width": 4
       },
       "report_default": {}
      }
     }
    }
   },
   "source": [
    "### Build the model"
   ]
  },
  {
   "cell_type": "code",
   "execution_count": 67,
   "metadata": {
    "collapsed": true,
    "extensions": {
     "jupyter_dashboards": {
      "version": 1,
      "views": {
       "grid_default": {
        "hidden": true
       },
       "report_default": {}
      }
     }
    }
   },
   "outputs": [],
   "source": [
    "# Open questions: why are those parameters used for?\n",
    "batch_size = 5\n",
    "epochs = 50"
   ]
  },
  {
   "cell_type": "code",
   "execution_count": 68,
   "metadata": {
    "collapsed": true,
    "extensions": {
     "jupyter_dashboards": {
      "version": 1,
      "views": {
       "grid_default": {
        "hidden": true
       },
       "report_default": {}
      }
     }
    }
   },
   "outputs": [],
   "source": [
    "# Build the model\n",
    "model = Sequential()\n",
    "model.add(Dense(16, input_shape=(max_words,)))\n",
    "model.add(Activation('relu'))\n",
    "model.add(Dropout(0.8))\n",
    "model.add(Dense(num_classes))\n",
    "model.add(Activation('softmax'))"
   ]
  },
  {
   "cell_type": "markdown",
   "metadata": {
    "extensions": {
     "jupyter_dashboards": {
      "version": 1,
      "views": {
       "grid_default": {
        "hidden": true
       },
       "report_default": {}
      }
     }
    }
   },
   "source": [
    "### Loss function and optimizer\n",
    "A model needs a loss function and an optimizer for training. Since this is a categorical classification problem and the model outputs a probability (a single-unit layer with a sigmoid activation), we'll use the categorical_crossentropy loss function.\n",
    "This isn't the only choice for a loss function, you could, for instance, choose mean_squared_error. But, generally, categorical_crossentropy is better for dealing with probabilities—it measures the \"distance\" between probability distributions, or in our case, between the ground-truth distribution and the predictions.\n",
    "Later, when we are exploring regression problems (say, to predict the price of a house), we will see how to use another loss function called mean squared error.\n",
    "Now, configure the model to use an optimizer and a loss function:"
   ]
  },
  {
   "cell_type": "code",
   "execution_count": 69,
   "metadata": {
    "collapsed": true,
    "extensions": {
     "jupyter_dashboards": {
      "version": 1,
      "views": {
       "grid_default": {
        "hidden": true
       },
       "report_default": {}
      }
     }
    }
   },
   "outputs": [],
   "source": [
    "model.compile(loss='categorical_crossentropy',\n",
    "              optimizer='adam',\n",
    "              metrics=['accuracy'])"
   ]
  },
  {
   "cell_type": "markdown",
   "metadata": {
    "extensions": {
     "jupyter_dashboards": {
      "version": 1,
      "views": {
       "grid_default": {
        "col": 8,
        "height": 4,
        "hidden": false,
        "row": 17,
        "width": 4
       },
       "report_default": {}
      }
     }
    }
   },
   "source": [
    "### Train the model"
   ]
  },
  {
   "cell_type": "code",
   "execution_count": 70,
   "metadata": {
    "extensions": {
     "jupyter_dashboards": {
      "version": 1,
      "views": {
       "grid_default": {
        "col": 0,
        "height": 16,
        "hidden": false,
        "row": 21,
        "width": 4
       },
       "report_default": {}
      }
     }
    }
   },
   "outputs": [
    {
     "name": "stdout",
     "output_type": "stream",
     "text": [
      "Train on 468 samples, validate on 118 samples\n",
      "Epoch 1/50\n",
      "468/468 [==============================] - 1s 2ms/step - loss: 1.6706 - acc: 0.3996 - val_loss: 1.2110 - val_acc: 0.5932\n",
      "Epoch 2/50\n",
      "468/468 [==============================] - 0s 345us/step - loss: 1.4263 - acc: 0.4957 - val_loss: 1.0111 - val_acc: 0.6102\n",
      "Epoch 3/50\n",
      "468/468 [==============================] - 0s 292us/step - loss: 1.2599 - acc: 0.5726 - val_loss: 0.9539 - val_acc: 0.7119\n",
      "Epoch 4/50\n",
      "468/468 [==============================] - 0s 276us/step - loss: 1.1198 - acc: 0.6090 - val_loss: 0.8862 - val_acc: 0.7034\n",
      "Epoch 5/50\n",
      "468/468 [==============================] - 0s 258us/step - loss: 1.0701 - acc: 0.6239 - val_loss: 0.8653 - val_acc: 0.7458\n",
      "Epoch 6/50\n",
      "468/468 [==============================] - 0s 263us/step - loss: 1.0280 - acc: 0.6261 - val_loss: 0.8814 - val_acc: 0.7203\n",
      "Epoch 7/50\n",
      "468/468 [==============================] - 0s 256us/step - loss: 1.0108 - acc: 0.6346 - val_loss: 0.7927 - val_acc: 0.7458\n",
      "Epoch 8/50\n",
      "468/468 [==============================] - 0s 263us/step - loss: 0.9319 - acc: 0.6752 - val_loss: 0.7743 - val_acc: 0.7203\n",
      "Epoch 9/50\n",
      "468/468 [==============================] - 0s 269us/step - loss: 0.9364 - acc: 0.6560 - val_loss: 0.7428 - val_acc: 0.7373\n",
      "Epoch 10/50\n",
      "468/468 [==============================] - 0s 285us/step - loss: 0.8839 - acc: 0.6517 - val_loss: 0.7475 - val_acc: 0.7119\n",
      "Epoch 11/50\n",
      "468/468 [==============================] - 0s 290us/step - loss: 0.8116 - acc: 0.6944 - val_loss: 0.6987 - val_acc: 0.7712\n",
      "Epoch 12/50\n",
      "468/468 [==============================] - 0s 275us/step - loss: 0.7968 - acc: 0.7094 - val_loss: 0.7351 - val_acc: 0.7458\n",
      "Epoch 13/50\n",
      "468/468 [==============================] - 0s 319us/step - loss: 0.8004 - acc: 0.6795 - val_loss: 0.6719 - val_acc: 0.7966\n",
      "Epoch 14/50\n",
      "468/468 [==============================] - 0s 299us/step - loss: 0.8239 - acc: 0.6880 - val_loss: 0.6742 - val_acc: 0.7373\n",
      "Epoch 15/50\n",
      "468/468 [==============================] - 0s 258us/step - loss: 0.8018 - acc: 0.6838 - val_loss: 0.7014 - val_acc: 0.7373\n",
      "Epoch 16/50\n",
      "468/468 [==============================] - 0s 256us/step - loss: 0.7527 - acc: 0.6795 - val_loss: 0.6782 - val_acc: 0.7542\n",
      "Epoch 17/50\n",
      "468/468 [==============================] - 0s 353us/step - loss: 0.7681 - acc: 0.6816 - val_loss: 0.6341 - val_acc: 0.7627\n",
      "Epoch 18/50\n",
      "468/468 [==============================] - 0s 350us/step - loss: 0.7743 - acc: 0.6923 - val_loss: 0.6220 - val_acc: 0.7966\n",
      "Epoch 19/50\n",
      "468/468 [==============================] - 0s 344us/step - loss: 0.7072 - acc: 0.7115 - val_loss: 0.6254 - val_acc: 0.7797\n",
      "Epoch 20/50\n",
      "468/468 [==============================] - 0s 267us/step - loss: 0.6955 - acc: 0.7286 - val_loss: 0.6094 - val_acc: 0.7797\n",
      "Epoch 21/50\n",
      "468/468 [==============================] - 0s 271us/step - loss: 0.7479 - acc: 0.7009 - val_loss: 0.6391 - val_acc: 0.7203\n",
      "Epoch 22/50\n",
      "468/468 [==============================] - 0s 266us/step - loss: 0.6850 - acc: 0.7051 - val_loss: 0.6164 - val_acc: 0.7881\n",
      "Epoch 23/50\n",
      "468/468 [==============================] - 0s 299us/step - loss: 0.6820 - acc: 0.7393 - val_loss: 0.6119 - val_acc: 0.7373\n",
      "Epoch 24/50\n",
      "468/468 [==============================] - 0s 318us/step - loss: 0.6730 - acc: 0.7265 - val_loss: 0.6084 - val_acc: 0.7458\n",
      "Epoch 25/50\n",
      "468/468 [==============================] - 0s 285us/step - loss: 0.7119 - acc: 0.7073 - val_loss: 0.5932 - val_acc: 0.7797\n",
      "Epoch 26/50\n",
      "468/468 [==============================] - 0s 268us/step - loss: 0.6805 - acc: 0.7137 - val_loss: 0.5968 - val_acc: 0.7881\n",
      "Epoch 27/50\n",
      "468/468 [==============================] - 0s 259us/step - loss: 0.6584 - acc: 0.7350 - val_loss: 0.6174 - val_acc: 0.7881\n",
      "Epoch 28/50\n",
      "468/468 [==============================] - 0s 374us/step - loss: 0.6430 - acc: 0.7436 - val_loss: 0.5884 - val_acc: 0.7542\n",
      "Epoch 29/50\n",
      "468/468 [==============================] - 0s 348us/step - loss: 0.6409 - acc: 0.7350 - val_loss: 0.5760 - val_acc: 0.7881\n",
      "Epoch 30/50\n",
      "468/468 [==============================] - 0s 283us/step - loss: 0.6606 - acc: 0.7244 - val_loss: 0.5861 - val_acc: 0.7881\n",
      "Epoch 31/50\n",
      "468/468 [==============================] - 0s 259us/step - loss: 0.6365 - acc: 0.7500 - val_loss: 0.5990 - val_acc: 0.7712\n",
      "Epoch 32/50\n",
      "468/468 [==============================] - 0s 263us/step - loss: 0.6351 - acc: 0.7479 - val_loss: 0.5967 - val_acc: 0.7712\n",
      "Epoch 33/50\n",
      "468/468 [==============================] - 0s 268us/step - loss: 0.6348 - acc: 0.7436 - val_loss: 0.6163 - val_acc: 0.7797\n",
      "Epoch 34/50\n",
      "468/468 [==============================] - 0s 361us/step - loss: 0.5910 - acc: 0.7735 - val_loss: 0.6164 - val_acc: 0.7966\n",
      "Epoch 35/50\n",
      "468/468 [==============================] - 0s 290us/step - loss: 0.6323 - acc: 0.7372 - val_loss: 0.6411 - val_acc: 0.7881\n",
      "Epoch 36/50\n",
      "468/468 [==============================] - 0s 266us/step - loss: 0.6118 - acc: 0.7628 - val_loss: 0.6172 - val_acc: 0.7797\n",
      "Epoch 37/50\n",
      "468/468 [==============================] - 0s 232us/step - loss: 0.6361 - acc: 0.7244 - val_loss: 0.5878 - val_acc: 0.7881\n",
      "Epoch 38/50\n",
      "468/468 [==============================] - 0s 305us/step - loss: 0.6362 - acc: 0.7244 - val_loss: 0.6088 - val_acc: 0.7966\n",
      "Epoch 39/50\n",
      "468/468 [==============================] - 0s 350us/step - loss: 0.6082 - acc: 0.7436 - val_loss: 0.6145 - val_acc: 0.7881\n",
      "Epoch 40/50\n",
      "468/468 [==============================] - 0s 310us/step - loss: 0.5848 - acc: 0.7821 - val_loss: 0.5988 - val_acc: 0.7797\n",
      "Epoch 41/50\n",
      "468/468 [==============================] - 0s 286us/step - loss: 0.5760 - acc: 0.7692 - val_loss: 0.5887 - val_acc: 0.7881\n",
      "Epoch 42/50\n",
      "468/468 [==============================] - 0s 341us/step - loss: 0.5628 - acc: 0.7906 - val_loss: 0.5876 - val_acc: 0.7881\n",
      "Epoch 43/50\n",
      "468/468 [==============================] - 0s 339us/step - loss: 0.5707 - acc: 0.7885 - val_loss: 0.5828 - val_acc: 0.7797\n",
      "Epoch 44/50\n",
      "468/468 [==============================] - 0s 258us/step - loss: 0.5401 - acc: 0.7692 - val_loss: 0.5941 - val_acc: 0.7627\n",
      "Epoch 45/50\n",
      "468/468 [==============================] - 0s 237us/step - loss: 0.5732 - acc: 0.7607 - val_loss: 0.5974 - val_acc: 0.7966\n",
      "Epoch 46/50\n",
      "468/468 [==============================] - 0s 233us/step - loss: 0.5747 - acc: 0.7650 - val_loss: 0.6091 - val_acc: 0.7627\n",
      "Epoch 47/50\n",
      "468/468 [==============================] - 0s 241us/step - loss: 0.5557 - acc: 0.7714 - val_loss: 0.5970 - val_acc: 0.7797\n",
      "Epoch 48/50\n",
      "468/468 [==============================] - 0s 285us/step - loss: 0.5597 - acc: 0.7799 - val_loss: 0.5854 - val_acc: 0.7797\n",
      "Epoch 49/50\n",
      "468/468 [==============================] - 0s 385us/step - loss: 0.5553 - acc: 0.7799 - val_loss: 0.5925 - val_acc: 0.7712\n",
      "Epoch 50/50\n",
      "468/468 [==============================] - 0s 331us/step - loss: 0.5616 - acc: 0.7607 - val_loss: 0.6302 - val_acc: 0.7627\n"
     ]
    }
   ],
   "source": [
    "history = model.fit(x_train_o, y_train_o,\n",
    "                    batch_size=batch_size,\n",
    "                    epochs=epochs,\n",
    "                    verbose=1,\n",
    "                    validation_split=0.2)"
   ]
  },
  {
   "cell_type": "code",
   "execution_count": 71,
   "metadata": {
    "extensions": {
     "jupyter_dashboards": {
      "version": 1,
      "views": {
       "grid_default": {
        "col": 8,
        "height": 4,
        "hidden": false,
        "row": 21,
        "width": 4
       },
       "report_default": {}
      }
     }
    }
   },
   "outputs": [
    {
     "name": "stdout",
     "output_type": "stream",
     "text": [
      "147/147 [==============================] - 0s 147us/step\n",
      "Test score: 1.053924291109552\n",
      "Test accuracy: 0.6598639563232863\n"
     ]
    }
   ],
   "source": [
    "# Evaluate the accuracy of our trained model\n",
    "score = model.evaluate(x_test_o, y_test_o,\n",
    "                       batch_size=batch_size, verbose=1)\n",
    "print('Test score:', score[0])\n",
    "print('Test accuracy:', score[1])"
   ]
  },
  {
   "cell_type": "markdown",
   "metadata": {
    "extensions": {
     "jupyter_dashboards": {
      "version": 1,
      "views": {
       "grid_default": {
        "col": 0,
        "height": 4,
        "hidden": false,
        "row": 37,
        "width": 12
       },
       "report_default": {}
      }
     }
    }
   },
   "source": [
    "### Create a graph of accuracy and loss over time\n",
    "\n",
    "`model.fit()` returns a `History` object that contains a dictionary with everything that happened during training:"
   ]
  },
  {
   "cell_type": "code",
   "execution_count": 72,
   "metadata": {
    "extensions": {
     "jupyter_dashboards": {
      "version": 1,
      "views": {
       "grid_default": {
        "col": 4,
        "height": 4,
        "hidden": false,
        "row": 23,
        "width": 4
       },
       "report_default": {}
      }
     }
    }
   },
   "outputs": [
    {
     "data": {
      "text/plain": [
       "dict_keys(['val_loss', 'val_acc', 'loss', 'acc'])"
      ]
     },
     "execution_count": 72,
     "metadata": {},
     "output_type": "execute_result"
    }
   ],
   "source": [
    "history_dict = history.history\n",
    "history_dict.keys()"
   ]
  },
  {
   "cell_type": "markdown",
   "metadata": {
    "extensions": {
     "jupyter_dashboards": {
      "version": 1,
      "views": {
       "grid_default": {
        "hidden": true
       },
       "report_default": {}
      }
     }
    }
   },
   "source": [
    "There are four entries: one for each monitored metric during training and validation. We can use these to plot the training and validation loss for comparison, as well as the training and validation accuracy:"
   ]
  },
  {
   "cell_type": "code",
   "execution_count": 73,
   "metadata": {
    "extensions": {
     "jupyter_dashboards": {
      "version": 1,
      "views": {
       "grid_default": {
        "col": 8,
        "height": 9,
        "hidden": false,
        "row": 25,
        "width": 4
       },
       "report_default": {}
      }
     }
    }
   },
   "outputs": [
    {
     "data": {
      "image/png": "[encoded data removed]",
      "text/plain": [
       "<matplotlib.figure.Figure at 0x143b2e710>"
      ]
     },
     "metadata": {},
     "output_type": "display_data"
    }
   ],
   "source": [
    "import matplotlib.pyplot as plt\n",
    "\n",
    "acc = history.history['acc']\n",
    "val_acc = history.history['val_acc']\n",
    "loss = history.history['loss']\n",
    "val_loss = history.history['val_loss']\n",
    "\n",
    "epochs = range(1, len(acc) + 1)\n",
    "\n",
    "# \"bo\" is for \"blue dot\"\n",
    "plt.plot(epochs, loss, 'bo', label='Training loss')\n",
    "# b is for \"solid blue line\"\n",
    "plt.plot(epochs, val_loss, 'b', label='Validation loss')\n",
    "plt.title('Training and validation loss')\n",
    "plt.xlabel('Epochs')\n",
    "plt.ylabel('Loss')\n",
    "plt.legend()\n",
    "\n",
    "plt.show()"
   ]
  },
  {
   "cell_type": "code",
   "execution_count": 74,
   "metadata": {
    "extensions": {
     "jupyter_dashboards": {
      "version": 1,
      "views": {
       "grid_default": {
        "col": 4,
        "height": 9,
        "hidden": false,
        "row": 27,
        "width": 4
       },
       "report_default": {}
      }
     }
    }
   },
   "outputs": [
    {
     "data": {
      "image/png": "[encoded data removed]",
      "text/plain": [
       "<matplotlib.figure.Figure at 0x143b2cf60>"
      ]
     },
     "metadata": {},
     "output_type": "display_data"
    }
   ],
   "source": [
    "plt.clf()   # clear figure\n",
    "acc_values = history_dict['acc']\n",
    "val_acc_values = history_dict['val_acc']\n",
    "\n",
    "plt.plot(epochs, acc, 'bo', label='Training acc')\n",
    "plt.plot(epochs, val_acc, 'b', label='Validation acc')\n",
    "plt.title('Training and validation accuracy')\n",
    "plt.xlabel('Epochs')\n",
    "plt.ylabel('Accuracy')\n",
    "plt.legend()\n",
    "\n",
    "plt.show()"
   ]
  },
  {
   "cell_type": "markdown",
   "metadata": {
    "extensions": {
     "jupyter_dashboards": {
      "version": 1,
      "views": {
       "grid_default": {
        "hidden": true
       },
       "report_default": {}
      }
     }
    }
   },
   "source": [
    "In this plot, the dots represent the training loss and accuracy, and the solid lines are the validation loss and accuracy.\n",
    "Notice the training loss decreases with each epoch and the training accuracy increases with each epoch. This is expected when using a gradient descent optimization—it should minimize the desired quantity on every iteration.\n",
    "This isn't the case for the validation loss and accuracy—they seem to peak after about twenty epochs. This is an example of overfitting: the model performs better on the training data than it does on data it has never seen before. After this point, the model over-optimizes and learns representations specific to the training data that do not generalize to test data.\n",
    "For this particular case, we could prevent overfitting by simply stopping the training after twenty or so epochs. Later, you'll see how to do this automatically with a callback."
   ]
  },
  {
   "cell_type": "markdown",
   "metadata": {
    "extensions": {
     "jupyter_dashboards": {
      "version": 1,
      "views": {
       "grid_default": {
        "col": 0,
        "height": 4,
        "hidden": false,
        "row": 41,
        "width": 4
       },
       "report_default": {}
      }
     }
    }
   },
   "source": [
    "### Evaluate model"
   ]
  },
  {
   "cell_type": "markdown",
   "metadata": {
    "extensions": {
     "jupyter_dashboards": {
      "version": 1,
      "views": {
       "grid_default": {
        "col": 4,
        "height": 4,
        "hidden": false,
        "row": 41,
        "width": 4
       },
       "report_default": {}
      }
     }
    }
   },
   "source": [
    "#### Scenario 1: Verify 10 records in test dataset"
   ]
  },
  {
   "cell_type": "code",
   "execution_count": 22,
   "metadata": {
    "extensions": {
     "jupyter_dashboards": {
      "version": 1,
      "views": {
       "grid_default": {
        "col": 8,
        "height": 52,
        "hidden": false,
        "row": 41,
        "width": 4
       },
       "report_default": {}
      }
     }
    }
   },
   "outputs": [
    {
     "ename": "NameError",
     "evalue": "name 'x_test' is not defined",
     "output_type": "error",
     "traceback": [
      "\u001b[0;31m---------------------------------------------------------------------------\u001b[0m",
      "\u001b[0;31mNameError\u001b[0m                                 Traceback (most recent call last)",
      "\u001b[0;32m<ipython-input-22-3657423da2f5>\u001b[0m in \u001b[0;36m<module>\u001b[0;34m()\u001b[0m\n\u001b[1;32m      3\u001b[0m \u001b[0;34m\u001b[0m\u001b[0m\n\u001b[1;32m      4\u001b[0m \u001b[0;32mfor\u001b[0m \u001b[0mi\u001b[0m \u001b[0;32min\u001b[0m \u001b[0mrange\u001b[0m\u001b[0;34m(\u001b[0m\u001b[0;36m10\u001b[0m\u001b[0;34m)\u001b[0m\u001b[0;34m:\u001b[0m\u001b[0;34m\u001b[0m\u001b[0m\n\u001b[0;32m----> 5\u001b[0;31m     \u001b[0mprediction\u001b[0m \u001b[0;34m=\u001b[0m \u001b[0mmodel\u001b[0m\u001b[0;34m.\u001b[0m\u001b[0mpredict\u001b[0m\u001b[0;34m(\u001b[0m\u001b[0mnp\u001b[0m\u001b[0;34m.\u001b[0m\u001b[0marray\u001b[0m\u001b[0;34m(\u001b[0m\u001b[0;34m[\u001b[0m\u001b[0mx_test\u001b[0m\u001b[0;34m[\u001b[0m\u001b[0mi\u001b[0m\u001b[0;34m]\u001b[0m\u001b[0;34m]\u001b[0m\u001b[0;34m)\u001b[0m\u001b[0;34m)\u001b[0m\u001b[0;34m\u001b[0m\u001b[0m\n\u001b[0m\u001b[1;32m      6\u001b[0m     \u001b[0mpredicted_label\u001b[0m \u001b[0;34m=\u001b[0m \u001b[0mtext_labels\u001b[0m\u001b[0;34m[\u001b[0m\u001b[0mnp\u001b[0m\u001b[0;34m.\u001b[0m\u001b[0margmax\u001b[0m\u001b[0;34m(\u001b[0m\u001b[0mprediction\u001b[0m\u001b[0;34m)\u001b[0m\u001b[0;34m]\u001b[0m\u001b[0;34m\u001b[0m\u001b[0m\n\u001b[1;32m      7\u001b[0m     \u001b[0mprint\u001b[0m\u001b[0;34m(\u001b[0m\u001b[0mtest_narrative\u001b[0m\u001b[0;34m.\u001b[0m\u001b[0miloc\u001b[0m\u001b[0;34m[\u001b[0m\u001b[0mi\u001b[0m\u001b[0;34m]\u001b[0m\u001b[0;34m[\u001b[0m\u001b[0;34m:\u001b[0m\u001b[0;36m50\u001b[0m\u001b[0;34m]\u001b[0m\u001b[0;34m,\u001b[0m \u001b[0;34m\"...\"\u001b[0m\u001b[0;34m)\u001b[0m\u001b[0;34m\u001b[0m\u001b[0m\n",
      "\u001b[0;31mNameError\u001b[0m: name 'x_test' is not defined"
     ]
    }
   ],
   "source": [
    "# Here's how to generate a prediction on individual examples\n",
    "text_labels = encoder.classes_ \n",
    "\n",
    "for i in range(10):\n",
    "    prediction = model.predict(np.array([x_test[i]]))\n",
    "    predicted_label = text_labels[np.argmax(prediction)]\n",
    "    print(test_narrative.iloc[i][:50], \"...\")\n",
    "    print('Actual label:' + test_product.iloc[i])\n",
    "    print(\"Predicted label: \" + predicted_label + \"\\n\")"
   ]
  },
  {
   "cell_type": "markdown",
   "metadata": {
    "extensions": {
     "jupyter_dashboards": {
      "version": 1,
      "views": {
       "grid_default": {
        "hidden": true
       },
       "report_default": {}
      }
     }
    }
   },
   "source": [
    "#### Scenario 2: Predict category based on manual input"
   ]
  },
  {
   "cell_type": "code",
   "execution_count": 23,
   "metadata": {
    "extensions": {
     "jupyter_dashboards": {
      "version": 1,
      "views": {
       "grid_default": {
        "hidden": true
       },
       "report_default": {}
      }
     }
    }
   },
   "outputs": [
    {
     "name": "stdout",
     "output_type": "stream",
     "text": [
      "> q\n"
     ]
    }
   ],
   "source": [
    "input_sentence = ''\n",
    "while(1):\n",
    "    try:\n",
    "        # Get input sentence\n",
    "        input_sentence = input('> ')\n",
    "        # Check if it is quit case\n",
    "        if input_sentence == 'q' or input_sentence == 'quit': \n",
    "            break\n",
    "        # Normalize sentence\n",
    "        input_sentence = tokenize.texts_to_matrix([input_sentence])       \n",
    "        pred_output = model.predict(np.array(input_sentence))\n",
    "        pred_prob=model.predict_proba(np.array(input_sentence))\n",
    "        predicted_label = text_labels[np.argmax(pred_output)]\n",
    "        print('Bot:', ' '.join([predicted_label,'Probality:',str(pred_prob[0,np.argmax(pred_output)])]))\n",
    "    except KeyError:\n",
    "        print(\"Error: Encountered unknown word.\")"
   ]
  },
  {
   "cell_type": "code",
   "execution_count": 24,
   "metadata": {
    "extensions": {
     "jupyter_dashboards": {
      "version": 1,
      "views": {
       "grid_default": {
        "col": 0,
        "height": 14,
        "hidden": false,
        "row": 50,
        "width": 4
       },
       "report_default": {}
      }
     }
    }
   },
   "outputs": [
    {
     "data": {
      "text/plain": [
       "array(['Authorization', 'Others', 'Project', 'Report', 'Timesheet',\n",
       "       'non-issue'], dtype=object)"
      ]
     },
     "execution_count": 24,
     "metadata": {},
     "output_type": "execute_result"
    }
   ],
   "source": [
    "encoder.classes_"
   ]
  },
  {
   "cell_type": "markdown",
   "metadata": {},
   "source": [
    "## 2. Model with pre-trained embedding layer - Glove"
   ]
  },
  {
   "cell_type": "code",
   "execution_count": 75,
   "metadata": {
    "collapsed": true
   },
   "outputs": [],
   "source": [
    "MAX_SEQUENCE_LENGTH = max_words\n",
    "MAX_NUM_WORDS = 20000\n",
    "EMBEDDING_DIM = 100\n",
    "VALIDATION_SPLIT = 0.2"
   ]
  },
  {
   "cell_type": "code",
   "execution_count": 76,
   "metadata": {},
   "outputs": [
    {
     "name": "stdout",
     "output_type": "stream",
     "text": [
      "Found 400001 word vectors.\n"
     ]
    }
   ],
   "source": [
    "embeddings_index = {}\n",
    "f = open(os.path.join('../98_data/glove.6B.100d.txt'))\n",
    "for line in f:\n",
    "    values = line.split()\n",
    "    word = values[0]\n",
    "    coefs = np.asarray(values[1:], dtype='float32')\n",
    "    embeddings_index[word] = coefs\n",
    "f.close()\n",
    "\n",
    "print('Found %s word vectors.' % len(embeddings_index))"
   ]
  },
  {
   "cell_type": "code",
   "execution_count": 77,
   "metadata": {
    "collapsed": true
   },
   "outputs": [],
   "source": [
    "#leverage embedding_index dictionary and word_index to compute our embedding matrix:\n",
    "embedding_matrix = np.zeros((len(word_index) + 1, EMBEDDING_DIM))\n",
    "for word, i in word_index.items():\n",
    "    embedding_vector = embeddings_index.get(word)\n",
    "    if embedding_vector is not None:\n",
    "        # words not found in embedding index will be all-zeros.\n",
    "        embedding_matrix[i] = embedding_vector"
   ]
  },
  {
   "cell_type": "code",
   "execution_count": 78,
   "metadata": {},
   "outputs": [],
   "source": [
    "embedding_layer = Embedding(len(word_index) + 1,\n",
    "                            EMBEDDING_DIM,\n",
    "                            weights=[embedding_matrix],\n",
    "                            input_length=MAX_SEQUENCE_LENGTH,\n",
    "                            trainable=False)"
   ]
  },
  {
   "cell_type": "code",
   "execution_count": 79,
   "metadata": {},
   "outputs": [],
   "source": [
    "# Build the model\n",
    "model = Sequential()\n",
    "model.add(embedding_layer)\n",
    "model.add(Flatten())\n",
    "model.add(Dense(16, activation='sigmoid'))\n",
    "model.add(Dropout(0.8))\n",
    "model.add(Dense(num_classes))\n",
    "model.add(Activation('softmax'))\n",
    "model.compile(loss='categorical_crossentropy',\n",
    "              optimizer='adam',\n",
    "              metrics=['accuracy'])"
   ]
  },
  {
   "cell_type": "code",
   "execution_count": 80,
   "metadata": {},
   "outputs": [
    {
     "name": "stdout",
     "output_type": "stream",
     "text": [
      "Train on 468 samples, validate on 118 samples\n",
      "Epoch 1/50\n",
      "468/468 [==============================] - 2s 4ms/step - loss: 1.8362 - acc: 0.3868 - val_loss: 1.7215 - val_acc: 0.5593\n",
      "Epoch 2/50\n",
      "468/468 [==============================] - 1s 3ms/step - loss: 1.6700 - acc: 0.4829 - val_loss: 1.6208 - val_acc: 0.5593\n",
      "Epoch 3/50\n",
      "468/468 [==============================] - 1s 3ms/step - loss: 1.5469 - acc: 0.5470 - val_loss: 1.4926 - val_acc: 0.5678\n",
      "Epoch 4/50\n",
      "468/468 [==============================] - 1s 3ms/step - loss: 1.4610 - acc: 0.5491 - val_loss: 1.4723 - val_acc: 0.5678\n",
      "Epoch 5/50\n",
      "468/468 [==============================] - 1s 3ms/step - loss: 1.3853 - acc: 0.5791 - val_loss: 1.4198 - val_acc: 0.5678\n",
      "Epoch 6/50\n",
      "468/468 [==============================] - 1s 3ms/step - loss: 1.3536 - acc: 0.6026 - val_loss: 1.3338 - val_acc: 0.7288\n",
      "Epoch 7/50\n",
      "468/468 [==============================] - 1s 3ms/step - loss: 1.2452 - acc: 0.6154 - val_loss: 1.2649 - val_acc: 0.7458\n",
      "Epoch 8/50\n",
      "468/468 [==============================] - 1s 3ms/step - loss: 1.2018 - acc: 0.6325 - val_loss: 1.2204 - val_acc: 0.7373\n",
      "Epoch 9/50\n",
      "468/468 [==============================] - 1s 3ms/step - loss: 1.1337 - acc: 0.6709 - val_loss: 1.1754 - val_acc: 0.7458\n",
      "Epoch 10/50\n",
      "468/468 [==============================] - 1s 3ms/step - loss: 1.1446 - acc: 0.6346 - val_loss: 1.2507 - val_acc: 0.4237\n",
      "Epoch 11/50\n",
      "468/468 [==============================] - 1s 3ms/step - loss: 1.0846 - acc: 0.6432 - val_loss: 1.2045 - val_acc: 0.5000\n",
      "Epoch 12/50\n",
      "468/468 [==============================] - 1s 3ms/step - loss: 1.0307 - acc: 0.6816 - val_loss: 1.0847 - val_acc: 0.4322\n",
      "Epoch 13/50\n",
      "468/468 [==============================] - 1s 3ms/step - loss: 1.0417 - acc: 0.6496 - val_loss: 1.0573 - val_acc: 0.4068\n",
      "Epoch 14/50\n",
      "468/468 [==============================] - 1s 3ms/step - loss: 0.9398 - acc: 0.6816 - val_loss: 1.0028 - val_acc: 0.4746\n",
      "Epoch 15/50\n",
      "468/468 [==============================] - 1s 3ms/step - loss: 0.9095 - acc: 0.6838 - val_loss: 0.8884 - val_acc: 0.5847\n",
      "Epoch 16/50\n",
      "468/468 [==============================] - 1s 3ms/step - loss: 0.9458 - acc: 0.6902 - val_loss: 0.8788 - val_acc: 0.5932\n",
      "Epoch 17/50\n",
      "468/468 [==============================] - 1s 3ms/step - loss: 0.9263 - acc: 0.6966 - val_loss: 0.9118 - val_acc: 0.7458\n",
      "Epoch 18/50\n",
      "468/468 [==============================] - 1s 2ms/step - loss: 0.8948 - acc: 0.6987 - val_loss: 0.8633 - val_acc: 0.7458\n",
      "Epoch 19/50\n",
      "468/468 [==============================] - 1s 3ms/step - loss: 0.8517 - acc: 0.7222 - val_loss: 0.8540 - val_acc: 0.7458\n",
      "Epoch 20/50\n",
      "468/468 [==============================] - 1s 3ms/step - loss: 0.8620 - acc: 0.7137 - val_loss: 0.8250 - val_acc: 0.7288\n",
      "Epoch 21/50\n",
      "468/468 [==============================] - 1s 3ms/step - loss: 0.8518 - acc: 0.7051 - val_loss: 0.8171 - val_acc: 0.7373\n",
      "Epoch 22/50\n",
      "468/468 [==============================] - 1s 3ms/step - loss: 0.8515 - acc: 0.6859 - val_loss: 0.9674 - val_acc: 0.4915\n",
      "Epoch 23/50\n",
      "468/468 [==============================] - 1s 3ms/step - loss: 0.8730 - acc: 0.6902 - val_loss: 0.9161 - val_acc: 0.5847\n",
      "Epoch 24/50\n",
      "468/468 [==============================] - 1s 3ms/step - loss: 0.8324 - acc: 0.7115 - val_loss: 0.9011 - val_acc: 0.5847\n",
      "Epoch 25/50\n",
      "468/468 [==============================] - 1s 3ms/step - loss: 0.8379 - acc: 0.7051 - val_loss: 0.8825 - val_acc: 0.6102\n",
      "Epoch 26/50\n",
      "468/468 [==============================] - 1s 3ms/step - loss: 0.8174 - acc: 0.7009 - val_loss: 0.8016 - val_acc: 0.5932\n",
      "Epoch 27/50\n",
      "468/468 [==============================] - 1s 3ms/step - loss: 0.8433 - acc: 0.7179 - val_loss: 0.8460 - val_acc: 0.7966\n",
      "Epoch 28/50\n",
      "468/468 [==============================] - 1s 3ms/step - loss: 0.7821 - acc: 0.7286 - val_loss: 0.8416 - val_acc: 0.5678\n",
      "Epoch 29/50\n",
      "468/468 [==============================] - 1s 3ms/step - loss: 0.7726 - acc: 0.7308 - val_loss: 0.8650 - val_acc: 0.7288\n",
      "Epoch 30/50\n",
      "468/468 [==============================] - 1s 3ms/step - loss: 0.7796 - acc: 0.7372 - val_loss: 0.8470 - val_acc: 0.7373\n",
      "Epoch 31/50\n",
      "468/468 [==============================] - 1s 3ms/step - loss: 0.8090 - acc: 0.6859 - val_loss: 0.8501 - val_acc: 0.7034\n",
      "Epoch 32/50\n",
      "468/468 [==============================] - 1s 3ms/step - loss: 0.7920 - acc: 0.7030 - val_loss: 0.8800 - val_acc: 0.5593\n",
      "Epoch 33/50\n",
      "468/468 [==============================] - 1s 3ms/step - loss: 0.7805 - acc: 0.7051 - val_loss: 0.8368 - val_acc: 0.7373\n",
      "Epoch 34/50\n",
      "468/468 [==============================] - 1s 3ms/step - loss: 0.7608 - acc: 0.7350 - val_loss: 0.8289 - val_acc: 0.7458\n",
      "Epoch 35/50\n",
      "468/468 [==============================] - 1s 3ms/step - loss: 0.7940 - acc: 0.7329 - val_loss: 0.8072 - val_acc: 0.7542\n",
      "Epoch 36/50\n",
      "468/468 [==============================] - 1s 2ms/step - loss: 0.7540 - acc: 0.7393 - val_loss: 0.8011 - val_acc: 0.5678\n",
      "Epoch 37/50\n",
      "468/468 [==============================] - 1s 3ms/step - loss: 0.7740 - acc: 0.7350 - val_loss: 0.8031 - val_acc: 0.5847\n",
      "Epoch 38/50\n",
      "468/468 [==============================] - 1s 3ms/step - loss: 0.7794 - acc: 0.7179 - val_loss: 0.7436 - val_acc: 0.7203\n",
      "Epoch 39/50\n",
      "468/468 [==============================] - 1s 3ms/step - loss: 0.7473 - acc: 0.7479 - val_loss: 0.8267 - val_acc: 0.5678\n",
      "Epoch 40/50\n",
      "468/468 [==============================] - 1s 3ms/step - loss: 0.7279 - acc: 0.7436 - val_loss: 0.8036 - val_acc: 0.5678\n",
      "Epoch 41/50\n",
      "468/468 [==============================] - 1s 3ms/step - loss: 0.7164 - acc: 0.7457 - val_loss: 0.8074 - val_acc: 0.5763\n",
      "Epoch 42/50\n",
      "468/468 [==============================] - 1s 3ms/step - loss: 0.7397 - acc: 0.7350 - val_loss: 0.7485 - val_acc: 0.5847\n",
      "Epoch 43/50\n",
      "468/468 [==============================] - 1s 3ms/step - loss: 0.7144 - acc: 0.7350 - val_loss: 0.8070 - val_acc: 0.6610\n",
      "Epoch 44/50\n",
      "468/468 [==============================] - 1s 3ms/step - loss: 0.7618 - acc: 0.7265 - val_loss: 0.8497 - val_acc: 0.6017\n",
      "Epoch 45/50\n",
      "468/468 [==============================] - 1s 3ms/step - loss: 0.7314 - acc: 0.7479 - val_loss: 0.7845 - val_acc: 0.7119\n",
      "Epoch 46/50\n",
      "468/468 [==============================] - 1s 3ms/step - loss: 0.7118 - acc: 0.7585 - val_loss: 0.8077 - val_acc: 0.6864\n",
      "Epoch 47/50\n",
      "468/468 [==============================] - 1s 3ms/step - loss: 0.7008 - acc: 0.7671 - val_loss: 0.7648 - val_acc: 0.7288\n",
      "Epoch 48/50\n",
      "468/468 [==============================] - 1s 3ms/step - loss: 0.7074 - acc: 0.7521 - val_loss: 0.7582 - val_acc: 0.7373\n",
      "Epoch 49/50\n",
      "468/468 [==============================] - 1s 3ms/step - loss: 0.7539 - acc: 0.7329 - val_loss: 0.7194 - val_acc: 0.7373\n",
      "Epoch 50/50\n",
      "468/468 [==============================] - 2s 3ms/step - loss: 0.7360 - acc: 0.7457 - val_loss: 0.7584 - val_acc: 0.5763\n"
     ]
    }
   ],
   "source": [
    "batch_size = 5\n",
    "epochs = 50\n",
    "history = model.fit(x_train_o, y_train_o,\n",
    "                    batch_size=batch_size,\n",
    "                    epochs=epochs,\n",
    "                    verbose=1,\n",
    "                    validation_split=0.2)"
   ]
  },
  {
   "cell_type": "code",
   "execution_count": 81,
   "metadata": {},
   "outputs": [
    {
     "name": "stdout",
     "output_type": "stream",
     "text": [
      "147/147 [==============================] - 0s 495us/step\n",
      "Test score: 0.9827404318212651\n",
      "Test accuracy: 0.6258503508811094\n"
     ]
    }
   ],
   "source": [
    "# Evaluate the accuracy of our trained model\n",
    "score = model.evaluate(x_test_o, y_test_o,\n",
    "                       batch_size=batch_size, verbose=1)\n",
    "print('Test score:', score[0])\n",
    "print('Test accuracy:', score[1])"
   ]
  },
  {
   "cell_type": "code",
   "execution_count": 82,
   "metadata": {},
   "outputs": [
    {
     "data": {
      "text/plain": [
       "dict_keys(['val_loss', 'val_acc', 'loss', 'acc'])"
      ]
     },
     "execution_count": 82,
     "metadata": {},
     "output_type": "execute_result"
    }
   ],
   "source": [
    "history_dict = history.history\n",
    "history_dict.keys()"
   ]
  },
  {
   "cell_type": "code",
   "execution_count": 83,
   "metadata": {},
   "outputs": [
    {
     "data": {
      "image/png": "[encoded data removed]",
      "text/plain": [
       "<matplotlib.figure.Figure at 0x14a51acf8>"
      ]
     },
     "metadata": {},
     "output_type": "display_data"
    }
   ],
   "source": [
    "import matplotlib.pyplot as plt\n",
    "\n",
    "acc = history.history['acc']\n",
    "val_acc = history.history['val_acc']\n",
    "loss = history.history['loss']\n",
    "val_loss = history.history['val_loss']\n",
    "\n",
    "epochs = range(1, len(acc) + 1)\n",
    "\n",
    "# \"bo\" is for \"blue dot\"\n",
    "plt.plot(epochs, loss, 'bo', label='Training loss')\n",
    "# b is for \"solid blue line\"\n",
    "plt.plot(epochs, val_loss, 'b', label='Validation loss')\n",
    "plt.title('Training and validation loss')\n",
    "plt.xlabel('Epochs')\n",
    "plt.ylabel('Loss')\n",
    "plt.legend()\n",
    "\n",
    "plt.show()"
   ]
  },
  {
   "cell_type": "code",
   "execution_count": 84,
   "metadata": {},
   "outputs": [
    {
     "data": {
      "image/png": "[encoded data removed]",
      "text/plain": [
       "<matplotlib.figure.Figure at 0x14a51a780>"
      ]
     },
     "metadata": {},
     "output_type": "display_data"
    }
   ],
   "source": [
    "plt.clf()   # clear figure\n",
    "acc_values = history_dict['acc']\n",
    "val_acc_values = history_dict['val_acc']\n",
    "\n",
    "plt.plot(epochs, acc, 'bo', label='Training acc')\n",
    "plt.plot(epochs, val_acc, 'b', label='Validation acc')\n",
    "plt.title('Training and validation accuracy')\n",
    "plt.xlabel('Epochs')\n",
    "plt.ylabel('Accuracy')\n",
    "plt.legend()\n",
    "\n",
    "plt.show()"
   ]
  },
  {
   "cell_type": "markdown",
   "metadata": {},
   "source": [
    "## 3. Model with pre-trained embedding layer - Word2Vec and FastText"
   ]
  },
  {
   "cell_type": "code",
   "execution_count": null,
   "metadata": {},
   "outputs": [],
   "source": [
    "# training the model of word2vec by mail body\n",
    "source_text=pd.DataFrame(data=pd.concat([source['mailbody'],source['mailquestion']]),columns=['mailbody'])\n",
    "mb_sen,_,_=text2word(source_text['mailbody'])\n",
    "model_embedding_w = Word2Vec(sentences=mb_sen, size=EMBEDDING_DIM, window=5, min_count=2, workers=4, sg=0)\n",
    "#model_embedding_w = FastText(mb_sen, size=EMBEDDING_DIM, window=5, min_count=1, workers=4,sg=1)\n",
    "model_embedding_w.train(mb_sen, total_examples=len(mb_sen), epochs=50)"
   ]
  },
  {
   "cell_type": "code",
   "execution_count": 46,
   "metadata": {},
   "outputs": [
    {
     "name": "stdout",
     "output_type": "stream",
     "text": [
      "k not found\n",
      "jan not found\n",
      "aug not found\n",
      "sep not found\n",
      "feb not found\n",
      "oct not found\n",
      "09 not found\n"
     ]
    }
   ],
   "source": [
    "#leverage embedding_index dictionary and word_index to compute our embedding matrix:\n",
    "embedding_matrix = np.zeros((len(word_index) + 1, EMBEDDING_DIM))\n",
    "for word, i in word_index.items():\n",
    "    try:\n",
    "        embedding_vector = model_embedding_w.wv.get_vector(word)\n",
    "        if embedding_vector is not None:\n",
    "            # words not found in embedding index will be all-zeros.\n",
    "            embedding_matrix[i] = embedding_vector\n",
    "    except: \n",
    "        print(word, 'not found')"
   ]
  },
  {
   "cell_type": "code",
   "execution_count": 47,
   "metadata": {},
   "outputs": [],
   "source": [
    "embedding_layer = Embedding(len(word_index) + 1,\n",
    "                            EMBEDDING_DIM,\n",
    "                            weights=[embedding_matrix],\n",
    "                            input_length=MAX_SEQUENCE_LENGTH,\n",
    "                            trainable=False)"
   ]
  },
  {
   "cell_type": "code",
   "execution_count": 48,
   "metadata": {
    "collapsed": true
   },
   "outputs": [],
   "source": [
    "# Build the model\n",
    "model = Sequential()\n",
    "model.add(embedding_layer)\n",
    "model.add(Flatten())\n",
    "model.add(Dense(16, activation='sigmoid'))\n",
    "model.add(Dropout(0.8))\n",
    "model.add(Dense(num_classes))\n",
    "model.add(Activation('softmax'))\n",
    "model.compile(loss='categorical_crossentropy',\n",
    "              optimizer='adam',\n",
    "              metrics=['accuracy'])"
   ]
  },
  {
   "cell_type": "code",
   "execution_count": 49,
   "metadata": {},
   "outputs": [
    {
     "name": "stdout",
     "output_type": "stream",
     "text": [
      "Train on 468 samples, validate on 118 samples\n",
      "Epoch 1/50\n",
      "468/468 [==============================] - 2s 4ms/step - loss: 1.5321 - acc: 0.4658 - val_loss: 1.1295 - val_acc: 0.5847\n",
      "Epoch 2/50\n",
      "468/468 [==============================] - 1s 2ms/step - loss: 1.2162 - acc: 0.5962 - val_loss: 0.9646 - val_acc: 0.5339\n",
      "Epoch 3/50\n",
      "468/468 [==============================] - 1s 3ms/step - loss: 1.1330 - acc: 0.5833 - val_loss: 1.0075 - val_acc: 0.5169\n",
      "Epoch 4/50\n",
      "468/468 [==============================] - 1s 3ms/step - loss: 1.1143 - acc: 0.6239 - val_loss: 1.1376 - val_acc: 0.4661\n",
      "Epoch 5/50\n",
      "468/468 [==============================] - 1s 2ms/step - loss: 1.0277 - acc: 0.6410 - val_loss: 1.0454 - val_acc: 0.4661\n",
      "Epoch 6/50\n",
      "468/468 [==============================] - 1s 2ms/step - loss: 0.9733 - acc: 0.6517 - val_loss: 0.9089 - val_acc: 0.7288\n",
      "Epoch 7/50\n",
      "468/468 [==============================] - 1s 2ms/step - loss: 0.9648 - acc: 0.6453 - val_loss: 0.9251 - val_acc: 0.6102\n",
      "Epoch 8/50\n",
      "468/468 [==============================] - 1s 3ms/step - loss: 0.9047 - acc: 0.6325 - val_loss: 0.8252 - val_acc: 0.6186\n",
      "Epoch 9/50\n",
      "468/468 [==============================] - 1s 2ms/step - loss: 0.8877 - acc: 0.6752 - val_loss: 0.9074 - val_acc: 0.4576\n",
      "Epoch 10/50\n",
      "468/468 [==============================] - 1s 2ms/step - loss: 0.9745 - acc: 0.6325 - val_loss: 0.7543 - val_acc: 0.6864\n",
      "Epoch 11/50\n",
      "468/468 [==============================] - 1s 3ms/step - loss: 0.8887 - acc: 0.6517 - val_loss: 0.7708 - val_acc: 0.7542\n",
      "Epoch 12/50\n",
      "468/468 [==============================] - 1s 3ms/step - loss: 0.9425 - acc: 0.6368 - val_loss: 0.7706 - val_acc: 0.6780\n",
      "Epoch 13/50\n",
      "468/468 [==============================] - 1s 3ms/step - loss: 0.8783 - acc: 0.6325 - val_loss: 0.7566 - val_acc: 0.7288\n",
      "Epoch 14/50\n",
      "468/468 [==============================] - 1s 3ms/step - loss: 0.8883 - acc: 0.6453 - val_loss: 0.7955 - val_acc: 0.7542\n",
      "Epoch 15/50\n",
      "468/468 [==============================] - 2s 4ms/step - loss: 0.8172 - acc: 0.6859 - val_loss: 0.7304 - val_acc: 0.7542\n",
      "Epoch 16/50\n",
      "468/468 [==============================] - 1s 3ms/step - loss: 0.7793 - acc: 0.6923 - val_loss: 0.7782 - val_acc: 0.7458\n",
      "Epoch 17/50\n",
      "468/468 [==============================] - 1s 3ms/step - loss: 0.8227 - acc: 0.6645 - val_loss: 0.8012 - val_acc: 0.7119\n",
      "Epoch 18/50\n",
      "468/468 [==============================] - 1s 2ms/step - loss: 0.8369 - acc: 0.6432 - val_loss: 0.7826 - val_acc: 0.7373\n",
      "Epoch 19/50\n",
      "468/468 [==============================] - 1s 2ms/step - loss: 0.7988 - acc: 0.6902 - val_loss: 0.7791 - val_acc: 0.7373\n",
      "Epoch 20/50\n",
      "468/468 [==============================] - 1s 2ms/step - loss: 0.8650 - acc: 0.6667 - val_loss: 0.8452 - val_acc: 0.5763\n",
      "Epoch 21/50\n",
      "468/468 [==============================] - 1s 3ms/step - loss: 0.7898 - acc: 0.7030 - val_loss: 0.8744 - val_acc: 0.4068\n",
      "Epoch 22/50\n",
      "468/468 [==============================] - 1s 3ms/step - loss: 0.7704 - acc: 0.6731 - val_loss: 0.7912 - val_acc: 0.7119\n",
      "Epoch 23/50\n",
      "468/468 [==============================] - 1s 3ms/step - loss: 0.8074 - acc: 0.6859 - val_loss: 0.7819 - val_acc: 0.7373\n",
      "Epoch 24/50\n",
      "468/468 [==============================] - 1s 3ms/step - loss: 0.7689 - acc: 0.7201 - val_loss: 0.8051 - val_acc: 0.7458\n",
      "Epoch 25/50\n",
      "468/468 [==============================] - 1s 3ms/step - loss: 0.7996 - acc: 0.6966 - val_loss: 0.7743 - val_acc: 0.7373\n",
      "Epoch 26/50\n",
      "468/468 [==============================] - 1s 3ms/step - loss: 0.7983 - acc: 0.6966 - val_loss: 0.8115 - val_acc: 0.6695\n",
      "Epoch 27/50\n",
      "468/468 [==============================] - 1s 3ms/step - loss: 0.7773 - acc: 0.6966 - val_loss: 0.7910 - val_acc: 0.6610\n",
      "Epoch 28/50\n",
      "468/468 [==============================] - 1s 3ms/step - loss: 0.7104 - acc: 0.7030 - val_loss: 0.7795 - val_acc: 0.6864\n",
      "Epoch 29/50\n",
      "468/468 [==============================] - 1s 3ms/step - loss: 0.7594 - acc: 0.7030 - val_loss: 0.7277 - val_acc: 0.7288\n",
      "Epoch 30/50\n",
      "468/468 [==============================] - 1s 3ms/step - loss: 0.7764 - acc: 0.6816 - val_loss: 0.7116 - val_acc: 0.7119\n",
      "Epoch 31/50\n",
      "468/468 [==============================] - 1s 2ms/step - loss: 0.7809 - acc: 0.7094 - val_loss: 0.6629 - val_acc: 0.7542\n",
      "Epoch 32/50\n",
      "468/468 [==============================] - 1s 3ms/step - loss: 0.8083 - acc: 0.6838 - val_loss: 0.7196 - val_acc: 0.7203\n",
      "Epoch 33/50\n",
      "468/468 [==============================] - 1s 2ms/step - loss: 0.8295 - acc: 0.6902 - val_loss: 0.7621 - val_acc: 0.5932\n",
      "Epoch 34/50\n",
      "468/468 [==============================] - 1s 2ms/step - loss: 0.7630 - acc: 0.6731 - val_loss: 0.7655 - val_acc: 0.5847\n",
      "Epoch 35/50\n",
      "468/468 [==============================] - 1s 3ms/step - loss: 0.8499 - acc: 0.6688 - val_loss: 1.1180 - val_acc: 0.4068\n",
      "Epoch 36/50\n",
      "468/468 [==============================] - 1s 3ms/step - loss: 0.8191 - acc: 0.6944 - val_loss: 0.8894 - val_acc: 0.4407\n",
      "Epoch 37/50\n",
      "468/468 [==============================] - 1s 3ms/step - loss: 0.7688 - acc: 0.7051 - val_loss: 0.7830 - val_acc: 0.5763\n",
      "Epoch 38/50\n",
      "468/468 [==============================] - 1s 2ms/step - loss: 0.7966 - acc: 0.6902 - val_loss: 0.8377 - val_acc: 0.4576\n",
      "Epoch 39/50\n",
      "468/468 [==============================] - 1s 3ms/step - loss: 0.7173 - acc: 0.7179 - val_loss: 0.8534 - val_acc: 0.4237\n",
      "Epoch 40/50\n",
      "468/468 [==============================] - 1s 3ms/step - loss: 0.7864 - acc: 0.6987 - val_loss: 0.8412 - val_acc: 0.4322\n",
      "Epoch 41/50\n",
      "468/468 [==============================] - 1s 3ms/step - loss: 0.7650 - acc: 0.7051 - val_loss: 0.8320 - val_acc: 0.4661\n",
      "Epoch 42/50\n",
      "468/468 [==============================] - 1s 3ms/step - loss: 0.7967 - acc: 0.6838 - val_loss: 0.8155 - val_acc: 0.4661\n",
      "Epoch 43/50\n",
      "468/468 [==============================] - 1s 3ms/step - loss: 0.7751 - acc: 0.6880 - val_loss: 0.8520 - val_acc: 0.4492\n",
      "Epoch 44/50\n",
      "468/468 [==============================] - 1s 3ms/step - loss: 0.7944 - acc: 0.6987 - val_loss: 0.8499 - val_acc: 0.4576\n",
      "Epoch 45/50\n",
      "468/468 [==============================] - 1s 3ms/step - loss: 0.7816 - acc: 0.6859 - val_loss: 0.8244 - val_acc: 0.4322\n",
      "Epoch 46/50\n",
      "468/468 [==============================] - 1s 2ms/step - loss: 0.7674 - acc: 0.6966 - val_loss: 0.8418 - val_acc: 0.4492\n",
      "Epoch 47/50\n",
      "468/468 [==============================] - 1s 3ms/step - loss: 0.7625 - acc: 0.6923 - val_loss: 0.8209 - val_acc: 0.4746\n",
      "Epoch 48/50\n",
      "468/468 [==============================] - 1s 2ms/step - loss: 0.7788 - acc: 0.6987 - val_loss: 0.8355 - val_acc: 0.4492\n",
      "Epoch 49/50\n",
      "468/468 [==============================] - 1s 2ms/step - loss: 0.7934 - acc: 0.6838 - val_loss: 0.7677 - val_acc: 0.6102\n",
      "Epoch 50/50\n",
      "468/468 [==============================] - 1s 2ms/step - loss: 0.7189 - acc: 0.7094 - val_loss: 0.7320 - val_acc: 0.7542\n"
     ]
    }
   ],
   "source": [
    "batch_size = 5\n",
    "epochs = 50\n",
    "history = model.fit(x_train_o, y_train_o,\n",
    "                    batch_size=batch_size,\n",
    "                    epochs=epochs,\n",
    "                    verbose=1,\n",
    "                    validation_split=0.2)"
   ]
  },
  {
   "cell_type": "code",
   "execution_count": 50,
   "metadata": {},
   "outputs": [
    {
     "name": "stdout",
     "output_type": "stream",
     "text": [
      "147/147 [==============================] - 0s 375us/step\n",
      "Test score: 0.9911400596706235\n",
      "Test accuracy: 0.6598639554109703\n"
     ]
    }
   ],
   "source": [
    "# Evaluate the accuracy of our trained model\n",
    "score = model.evaluate(x_test_o, y_test_o,\n",
    "                       batch_size=batch_size, verbose=1)\n",
    "print('Test score:', score[0])\n",
    "print('Test accuracy:', score[1])"
   ]
  },
  {
   "cell_type": "code",
   "execution_count": 51,
   "metadata": {},
   "outputs": [
    {
     "data": {
      "text/plain": [
       "dict_keys(['val_loss', 'val_acc', 'loss', 'acc'])"
      ]
     },
     "execution_count": 51,
     "metadata": {},
     "output_type": "execute_result"
    }
   ],
   "source": [
    "history_dict = history.history\n",
    "history_dict.keys()"
   ]
  },
  {
   "cell_type": "code",
   "execution_count": 52,
   "metadata": {},
   "outputs": [
    {
     "data": {
      "image/png": "[encoded data removed]",
      "text/plain": [
       "<matplotlib.figure.Figure at 0x1364ac208>"
      ]
     },
     "metadata": {},
     "output_type": "display_data"
    }
   ],
   "source": [
    "import matplotlib.pyplot as plt\n",
    "\n",
    "acc = history.history['acc']\n",
    "val_acc = history.history['val_acc']\n",
    "loss = history.history['loss']\n",
    "val_loss = history.history['val_loss']\n",
    "\n",
    "epochs = range(1, len(acc) + 1)\n",
    "\n",
    "# \"bo\" is for \"blue dot\"\n",
    "plt.plot(epochs, loss, 'bo', label='Training loss')\n",
    "# b is for \"solid blue line\"\n",
    "plt.plot(epochs, val_loss, 'b', label='Validation loss')\n",
    "plt.title('Training and validation loss')\n",
    "plt.xlabel('Epochs')\n",
    "plt.ylabel('Loss')\n",
    "plt.legend()\n",
    "\n",
    "plt.show()"
   ]
  },
  {
   "cell_type": "code",
   "execution_count": 53,
   "metadata": {},
   "outputs": [
    {
     "data": {
      "image/png": "[encoded data removed]",
      "text/plain": [
       "<matplotlib.figure.Figure at 0x1364aff28>"
      ]
     },
     "metadata": {},
     "output_type": "display_data"
    }
   ],
   "source": [
    "plt.clf()   # clear figure\n",
    "acc_values = history_dict['acc']\n",
    "val_acc_values = history_dict['val_acc']\n",
    "\n",
    "plt.plot(epochs, acc, 'bo', label='Training acc')\n",
    "plt.plot(epochs, val_acc, 'b', label='Validation acc')\n",
    "plt.title('Training and validation accuracy')\n",
    "plt.xlabel('Epochs')\n",
    "plt.ylabel('Accuracy')\n",
    "plt.legend()\n",
    "\n",
    "plt.show()"
   ]
  },
  {
   "cell_type": "markdown",
   "metadata": {},
   "source": [
    "## 4. LSTM, GRU with simple embedding layer"
   ]
  },
  {
   "cell_type": "code",
   "execution_count": 97,
   "metadata": {},
   "outputs": [],
   "source": [
    "# Open questions: why are those parameters used for?\n",
    "batch_size = 5\n",
    "epochs = 10\n",
    "# Build the model\n",
    "model = Sequential()\n",
    "model.add(Embedding(max_words, 128))\n",
    "#model.add(LSTM(128, dropout=0.2, recurrent_dropout=0.2))\n",
    "model.add(GRU(128,dropout=0.2))\n",
    "model.add(Dense(num_classes))\n",
    "model.add(Activation('softmax'))\n",
    "\n",
    "model.compile(loss='categorical_crossentropy',\n",
    "              optimizer='adam',\n",
    "              metrics=['accuracy'])"
   ]
  },
  {
   "cell_type": "code",
   "execution_count": 98,
   "metadata": {},
   "outputs": [
    {
     "name": "stdout",
     "output_type": "stream",
     "text": [
      "Train on 468 samples, validate on 118 samples\n",
      "Epoch 1/10\n",
      "468/468 [==============================] - 68s 146ms/step - loss: 1.2302 - acc: 0.5192 - val_loss: 0.8392 - val_acc: 0.5847\n",
      "Epoch 2/10\n",
      "468/468 [==============================] - 67s 144ms/step - loss: 1.1233 - acc: 0.5299 - val_loss: 0.8562 - val_acc: 0.5847\n",
      "Epoch 3/10\n",
      "468/468 [==============================] - 67s 142ms/step - loss: 1.1201 - acc: 0.5278 - val_loss: 0.8389 - val_acc: 0.5847\n",
      "Epoch 4/10\n",
      "468/468 [==============================] - 66s 141ms/step - loss: 1.1191 - acc: 0.5192 - val_loss: 0.8447 - val_acc: 0.5847\n",
      "Epoch 5/10\n",
      "468/468 [==============================] - 64s 137ms/step - loss: 1.1197 - acc: 0.5299 - val_loss: 0.8194 - val_acc: 0.5847\n",
      "Epoch 6/10\n",
      "468/468 [==============================] - 65s 139ms/step - loss: 1.1208 - acc: 0.5299 - val_loss: 0.8410 - val_acc: 0.5847\n",
      "Epoch 7/10\n",
      "468/468 [==============================] - 65s 139ms/step - loss: 1.1214 - acc: 0.5299 - val_loss: 0.8396 - val_acc: 0.5847\n",
      "Epoch 8/10\n",
      "468/468 [==============================] - 156s 333ms/step - loss: 1.1095 - acc: 0.5299 - val_loss: 0.8887 - val_acc: 0.5847\n",
      "Epoch 9/10\n",
      "468/468 [==============================] - 65s 138ms/step - loss: 1.1070 - acc: 0.5342 - val_loss: 0.8857 - val_acc: 0.5424\n",
      "Epoch 10/10\n",
      "468/468 [==============================] - 66s 140ms/step - loss: 1.0739 - acc: 0.5556 - val_loss: 0.8523 - val_acc: 0.5847\n"
     ]
    }
   ],
   "source": [
    "history = model.fit(x_train_o, y_train_o,\n",
    "                    batch_size=batch_size,\n",
    "                    epochs=epochs,\n",
    "                    verbose=1,\n",
    "                    validation_split=0.2)\n"
   ]
  },
  {
   "cell_type": "code",
   "execution_count": 92,
   "metadata": {},
   "outputs": [
    {
     "name": "stdout",
     "output_type": "stream",
     "text": [
      "147/147 [==============================] - 4s 27ms/step\n",
      "Test score: 1.188290801583504\n",
      "Test accuracy: 0.3061224544534878\n"
     ]
    }
   ],
   "source": [
    "# Evaluate the accuracy of our trained model\n",
    "score = model.evaluate(x_test_o, y_test_o,\n",
    "                       batch_size=batch_size, verbose=1)\n",
    "print('Test score:', score[0])\n",
    "print('Test accuracy:', score[1])"
   ]
  },
  {
   "cell_type": "code",
   "execution_count": 93,
   "metadata": {},
   "outputs": [
    {
     "data": {
      "image/png": "[encoded data removed]",
      "text/plain": [
       "<matplotlib.figure.Figure at 0x12b843978>"
      ]
     },
     "metadata": {},
     "output_type": "display_data"
    }
   ],
   "source": [
    "history_dict = history.history\n",
    "history_dict.keys()\n",
    "import matplotlib.pyplot as plt\n",
    "\n",
    "acc = history.history['acc']\n",
    "val_acc = history.history['val_acc']\n",
    "loss = history.history['loss']\n",
    "val_loss = history.history['val_loss']\n",
    "\n",
    "epochs = range(1, len(acc) + 1)\n",
    "\n",
    "# \"bo\" is for \"blue dot\"\n",
    "plt.plot(epochs, loss, 'bo', label='Training loss')\n",
    "# b is for \"solid blue line\"\n",
    "plt.plot(epochs, val_loss, 'b', label='Validation loss')\n",
    "plt.title('Training and validation loss')\n",
    "plt.xlabel('Epochs')\n",
    "plt.ylabel('Loss')\n",
    "plt.legend()\n",
    "\n",
    "plt.show()"
   ]
  },
  {
   "cell_type": "code",
   "execution_count": 94,
   "metadata": {},
   "outputs": [
    {
     "data": {
      "image/png": "[encoded data removed]",
      "text/plain": [
       "<matplotlib.figure.Figure at 0x12b8432b0>"
      ]
     },
     "metadata": {},
     "output_type": "display_data"
    }
   ],
   "source": [
    "plt.clf()   # clear figure\n",
    "acc_values = history_dict['acc']\n",
    "val_acc_values = history_dict['val_acc']\n",
    "\n",
    "plt.plot(epochs, acc, 'bo', label='Training acc')\n",
    "plt.plot(epochs, val_acc, 'b', label='Validation acc')\n",
    "plt.title('Training and validation accuracy')\n",
    "plt.xlabel('Epochs')\n",
    "plt.ylabel('Accuracy')\n",
    "plt.legend()\n",
    "\n",
    "plt.show()"
   ]
  },
  {
   "cell_type": "code",
   "execution_count": null,
   "metadata": {
    "collapsed": true
   },
   "outputs": [],
   "source": []
  }
 ],
 "metadata": {
  "extensions": {
   "jupyter_dashboards": {
    "activeView": "grid_default",
    "version": 1,
    "views": {
     "grid_default": {
      "cellMargin": 10,
      "defaultCellHeight": 20,
      "maxColumns": 12,
      "name": "grid",
      "type": "grid"
     },
     "report_default": {
      "name": "report",
      "type": "report"
     }
    }
   }
  },
  "kernelspec": {
   "display_name": "Python 3",
   "language": "python",
   "name": "python3"
  },
  "language_info": {
   "codemirror_mode": {
    "name": "ipython",
    "version": 3
   },
   "file_extension": ".py",
   "mimetype": "text/x-python",
   "name": "python",
   "nbconvert_exporter": "python",
   "pygments_lexer": "ipython3",
   "version": "3.6.1"
  }
 },
 "nbformat": 4,
 "nbformat_minor": 2
}
