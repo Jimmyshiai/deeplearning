{
 "cells": [
  {
   "cell_type": "markdown",
   "metadata": {
    "extensions": {
     "jupyter_dashboards": {
      "version": 1,
      "views": {
       "grid_default": {
        "hidden": true
       },
       "report_default": {}
      }
     }
    }
   },
   "source": [
    "## Deep Learning for Text Classification - Movie Dialog\n",
    "#### This program originates from the tutorial of tensorflow: https://www.tensorflow.org/tutorials/keras/basic_text_classification\n",
    "####  Based on the needs of study, the following modifications are made:\n",
    "1. Replace the data from my mock dataset.\n",
    "2. Try the following scenarios:\n",
    "   1) Found out the predicted categories is not correct, and reassigned it, and verify this reassignment works without \n",
    "      impact previous prediction of other records.\n",
    "   2) The predicted category does not exist, create new one, and verify this creation works without impact others."
   ]
  },
  {
   "cell_type": "code",
   "execution_count": 1,
   "metadata": {
    "collapsed": true,
    "extensions": {
     "jupyter_dashboards": {
      "version": 1,
      "views": {
       "grid_default": {
        "hidden": true
       },
       "report_default": {}
      }
     }
    }
   },
   "outputs": [],
   "source": [
    "from __future__ import absolute_import\n",
    "from __future__ import division\n",
    "from __future__ import print_function"
   ]
  },
  {
   "cell_type": "code",
   "execution_count": 28,
   "metadata": {
    "extensions": {
     "jupyter_dashboards": {
      "version": 1,
      "views": {
       "grid_default": {
        "col": 0,
        "height": 4,
        "hidden": false,
        "row": 0,
        "width": 4
       },
       "report_default": {}
      }
     }
    }
   },
   "outputs": [
    {
     "name": "stdout",
     "output_type": "stream",
     "text": [
      "You have TensorFlow version 1.11.0\n"
     ]
    }
   ],
   "source": [
    "import itertools\n",
    "import os\n",
    "\n",
    "%matplotlib inline\n",
    "import matplotlib.pyplot as plt\n",
    "import numpy as np\n",
    "import pandas as pd\n",
    "import tensorflow as tf\n",
    "\n",
    "from sklearn.preprocessing import LabelBinarizer, LabelEncoder\n",
    "from sklearn.metrics import confusion_matrix\n",
    "\n",
    "from tensorflow import keras\n",
    "from keras.models import Sequential,load_model\n",
    "from keras.layers import Dense, Activation, Dropout, Embedding,LSTM\n",
    "from keras.preprocessing import text, sequence\n",
    "from keras import utils\n",
    "\n",
    "# This code was tested with TensorFlow v1.4\n",
    "print(\"You have TensorFlow version\", tf.__version__)"
   ]
  },
  {
   "cell_type": "markdown",
   "metadata": {
    "extensions": {
     "jupyter_dashboards": {
      "version": 1,
      "views": {
       "grid_default": {
        "col": 4,
        "height": 4,
        "hidden": false,
        "row": 0,
        "width": 4
       },
       "report_default": {}
      }
     }
    }
   },
   "source": [
    "### Load the mock dataset"
   ]
  },
  {
   "cell_type": "code",
   "execution_count": 3,
   "metadata": {
    "extensions": {
     "jupyter_dashboards": {
      "version": 1,
      "views": {
       "grid_default": {
        "col": 8,
        "height": 9,
        "hidden": false,
        "row": 0,
        "width": 4
       },
       "report_default": {}
      }
     }
    }
   },
   "outputs": [
    {
     "data": {
      "text/html": [
       "<div>\n",
       "<style scoped>\n",
       "    .dataframe tbody tr th:only-of-type {\n",
       "        vertical-align: middle;\n",
       "    }\n",
       "\n",
       "    .dataframe tbody tr th {\n",
       "        vertical-align: top;\n",
       "    }\n",
       "\n",
       "    .dataframe thead th {\n",
       "        text-align: right;\n",
       "    }\n",
       "</style>\n",
       "<table border=\"1\" class=\"dataframe\">\n",
       "  <thead>\n",
       "    <tr style=\"text-align: right;\">\n",
       "      <th></th>\n",
       "      <th>question</th>\n",
       "      <th>answer</th>\n",
       "    </tr>\n",
       "  </thead>\n",
       "  <tbody>\n",
       "    <tr>\n",
       "      <th>0</th>\n",
       "      <td>there .</td>\n",
       "      <td>where ?</td>\n",
       "    </tr>\n",
       "    <tr>\n",
       "      <th>1</th>\n",
       "      <td>you have my word . as a gentleman</td>\n",
       "      <td>you re sweet .</td>\n",
       "    </tr>\n",
       "    <tr>\n",
       "      <th>2</th>\n",
       "      <td>hi .</td>\n",
       "      <td>looks like things worked out tonight huh ?</td>\n",
       "    </tr>\n",
       "    <tr>\n",
       "      <th>3</th>\n",
       "      <td>you know chastity ?</td>\n",
       "      <td>i believe we share an art instructor</td>\n",
       "    </tr>\n",
       "    <tr>\n",
       "      <th>4</th>\n",
       "      <td>have fun tonight ?</td>\n",
       "      <td>tons</td>\n",
       "    </tr>\n",
       "  </tbody>\n",
       "</table>\n",
       "</div>"
      ],
      "text/plain": [
       "                            question  \\\n",
       "0                            there .   \n",
       "1  you have my word . as a gentleman   \n",
       "2                               hi .   \n",
       "3                you know chastity ?   \n",
       "4                 have fun tonight ?   \n",
       "\n",
       "                                       answer  \n",
       "0                                     where ?  \n",
       "1                              you re sweet .  \n",
       "2  looks like things worked out tonight huh ?  \n",
       "3        i believe we share an art instructor  \n",
       "4                                        tons  "
      ]
     },
     "execution_count": 3,
     "metadata": {},
     "output_type": "execute_result"
    }
   ],
   "source": [
    "df = pd.read_excel('./conversation.xlsx', encoding='latin-1')\n",
    "df.head()"
   ]
  },
  {
   "cell_type": "code",
   "execution_count": 4,
   "metadata": {
    "extensions": {
     "jupyter_dashboards": {
      "version": 1,
      "views": {
       "grid_default": {
        "col": 0,
        "height": 9,
        "hidden": false,
        "row": 4,
        "width": 4
       },
       "report_default": {}
      }
     }
    }
   },
   "outputs": [
    {
     "data": {
      "text/html": [
       "<div>\n",
       "<style scoped>\n",
       "    .dataframe tbody tr th:only-of-type {\n",
       "        vertical-align: middle;\n",
       "    }\n",
       "\n",
       "    .dataframe tbody tr th {\n",
       "        vertical-align: top;\n",
       "    }\n",
       "\n",
       "    .dataframe thead th {\n",
       "        text-align: right;\n",
       "    }\n",
       "</style>\n",
       "<table border=\"1\" class=\"dataframe\">\n",
       "  <thead>\n",
       "    <tr style=\"text-align: right;\">\n",
       "      <th></th>\n",
       "      <th>Emails</th>\n",
       "      <th>Cat</th>\n",
       "    </tr>\n",
       "  </thead>\n",
       "  <tbody>\n",
       "    <tr>\n",
       "      <th>0</th>\n",
       "      <td>there .</td>\n",
       "      <td>where ?</td>\n",
       "    </tr>\n",
       "    <tr>\n",
       "      <th>1</th>\n",
       "      <td>you have my word . as a gentleman</td>\n",
       "      <td>you re sweet .</td>\n",
       "    </tr>\n",
       "    <tr>\n",
       "      <th>2</th>\n",
       "      <td>hi .</td>\n",
       "      <td>looks like things worked out tonight huh ?</td>\n",
       "    </tr>\n",
       "    <tr>\n",
       "      <th>3</th>\n",
       "      <td>you know chastity ?</td>\n",
       "      <td>i believe we share an art instructor</td>\n",
       "    </tr>\n",
       "    <tr>\n",
       "      <th>4</th>\n",
       "      <td>have fun tonight ?</td>\n",
       "      <td>tons</td>\n",
       "    </tr>\n",
       "  </tbody>\n",
       "</table>\n",
       "</div>"
      ],
      "text/plain": [
       "                              Emails  \\\n",
       "0                            there .   \n",
       "1  you have my word . as a gentleman   \n",
       "2                               hi .   \n",
       "3                you know chastity ?   \n",
       "4                 have fun tonight ?   \n",
       "\n",
       "                                          Cat  \n",
       "0                                     where ?  \n",
       "1                              you re sweet .  \n",
       "2  looks like things worked out tonight huh ?  \n",
       "3        i believe we share an art instructor  \n",
       "4                                        tons  "
      ]
     },
     "execution_count": 4,
     "metadata": {},
     "output_type": "execute_result"
    }
   ],
   "source": [
    "# Rename the columns\n",
    "df.columns=['Emails', 'Cat']\n",
    "col = ['Emails', 'Cat']\n",
    "df = df[pd.notnull(df['Emails'])]\n",
    "df.head()"
   ]
  },
  {
   "cell_type": "code",
   "execution_count": 5,
   "metadata": {
    "extensions": {
     "jupyter_dashboards": {
      "version": 1,
      "views": {
       "grid_default": {
        "col": 4,
        "height": 4,
        "hidden": false,
        "row": 4,
        "width": 4
       },
       "report_default": {}
      }
     }
    }
   },
   "outputs": [
    {
     "data": {
      "text/plain": [
       "Emails     0\n",
       "Cat       46\n",
       "dtype: int64"
      ]
     },
     "execution_count": 5,
     "metadata": {},
     "output_type": "execute_result"
    }
   ],
   "source": [
    "df.isnull().sum()"
   ]
  },
  {
   "cell_type": "code",
   "execution_count": 6,
   "metadata": {
    "collapsed": true
   },
   "outputs": [],
   "source": [
    "df[df['Cat'].isnull()]='Unknown Words'"
   ]
  },
  {
   "cell_type": "code",
   "execution_count": 7,
   "metadata": {},
   "outputs": [
    {
     "data": {
      "text/plain": [
       "Emails    0\n",
       "Cat       0\n",
       "dtype: int64"
      ]
     },
     "execution_count": 7,
     "metadata": {},
     "output_type": "execute_result"
    }
   ],
   "source": [
    "df.isnull().sum()"
   ]
  },
  {
   "cell_type": "code",
   "execution_count": 8,
   "metadata": {
    "extensions": {
     "jupyter_dashboards": {
      "version": 1,
      "views": {
       "grid_default": {
        "col": 4,
        "height": 15,
        "hidden": false,
        "row": 8,
        "width": 4
       },
       "report_default": {}
      }
     }
    }
   },
   "outputs": [
    {
     "data": {
      "text/plain": [
       "what ?                                949\n",
       "yes .                                 761\n",
       "no .                                  683\n",
       "yeah .                                530\n",
       "why ?                                 276\n",
       "i don t know .                        215\n",
       "okay .                                156\n",
       "why not ?                             146\n",
       "sure .                                140\n",
       "yeah ?                                130\n",
       "who ?                                 129\n",
       "yes ?                                 128\n",
       "nothing .                             117\n",
       "i know .                              115\n",
       "thank you .                           112\n",
       "oh .                                  106\n",
       "huh ?                                 105\n",
       "uh huh .                              104\n",
       "yes sir .                              96\n",
       "what do you mean ?                     94\n",
       "thanks .                               86\n",
       "hi .                                   86\n",
       "where ?                                86\n",
       "that s right .                         83\n",
       "good .                                 79\n",
       "no !                                   77\n",
       "right .                                74\n",
       "how ?                                  67\n",
       "what is it ?                           65\n",
       "really ?                               65\n",
       "                                     ... \n",
       "all right you buy me a drink .          1\n",
       "he s scottish col .                     1\n",
       "what happened to you ?                  1\n",
       "hidden camera .                         1\n",
       "was it worth it ?                       1\n",
       "almost through .                        1\n",
       "spare me .                              1\n",
       "quiet u quiet u                         1\n",
       "i . i                                   1\n",
       "cows . you know cows ?                  1\n",
       "then express yourself bob .             1\n",
       "when they deserve it .                  1\n",
       "why don t you try him again ?           1\n",
       "you bet your boots it does .            1\n",
       "why i give pennies ?                    1\n",
       "but no one actually saw him die .       1\n",
       "hey i have an idea . . .                1\n",
       "what s the story ?                      1\n",
       "we are what we are .                    1\n",
       "i will . come and kiss me .             1\n",
       "we ll take it !                         1\n",
       "who s the guy george s boyfriend ?      1\n",
       ". . .even his mother wouldn t .         1\n",
       "you gotta girlfrlend ?                  1\n",
       "i told you . . .                        1\n",
       "tony janiro s gotta watch out eh ?      1\n",
       "where d they get you ?                  1\n",
       "there there . . . shhh . . .            1\n",
       "thank you mr . saavik .                 1\n",
       "all right . hold on .                   1\n",
       "Name: Cat, Length: 49378, dtype: int64"
      ]
     },
     "execution_count": 8,
     "metadata": {},
     "output_type": "execute_result"
    }
   ],
   "source": [
    "df['Cat'].value_counts()"
   ]
  },
  {
   "cell_type": "code",
   "execution_count": 9,
   "metadata": {
    "extensions": {
     "jupyter_dashboards": {
      "version": 1,
      "views": {
       "grid_default": {
        "col": 8,
        "height": 4,
        "hidden": false,
        "row": 9,
        "width": 4
       },
       "report_default": {}
      }
     }
    }
   },
   "outputs": [
    {
     "name": "stdout",
     "output_type": "stream",
     "text": [
      "Train size: 51408\n",
      "Test size: 12853\n"
     ]
    }
   ],
   "source": [
    "# Split data into train and test\n",
    "train_size = int(len(df) * .8)\n",
    "print (\"Train size: %d\" % train_size)\n",
    "print (\"Test size: %d\" % (len(df) - train_size))"
   ]
  },
  {
   "cell_type": "markdown",
   "metadata": {
    "extensions": {
     "jupyter_dashboards": {
      "version": 1,
      "views": {
       "grid_default": {
        "col": 0,
        "height": 4,
        "hidden": false,
        "row": 13,
        "width": 4
       },
       "report_default": {}
      }
     }
    }
   },
   "source": [
    "### Convert the words to integers"
   ]
  },
  {
   "cell_type": "code",
   "execution_count": 10,
   "metadata": {
    "collapsed": true,
    "extensions": {
     "jupyter_dashboards": {
      "version": 1,
      "views": {
       "grid_default": {
        "hidden": true
       },
       "report_default": {}
      }
     }
    }
   },
   "outputs": [],
   "source": [
    "train_narrative = df['Emails'][:train_size]\n",
    "train_product = df['Cat'][:train_size]\n",
    "\n",
    "test_narrative = df['Emails'][train_size:]\n",
    "test_product = df['Cat'][train_size:]"
   ]
  },
  {
   "cell_type": "code",
   "execution_count": 11,
   "metadata": {
    "collapsed": true,
    "extensions": {
     "jupyter_dashboards": {
      "version": 1,
      "views": {
       "grid_default": {
        "hidden": true
       },
       "report_default": {}
      }
     }
    }
   },
   "outputs": [],
   "source": [
    "# Open question: why the max_words is required?\n",
    "max_words = 1000\n",
    "tokenize = text.Tokenizer(num_words=max_words, char_level=False)"
   ]
  },
  {
   "cell_type": "code",
   "execution_count": 12,
   "metadata": {
    "collapsed": true
   },
   "outputs": [],
   "source": [
    "tokenize.fit_on_texts(df['Emails']) # only fit on train\n",
    "x = tokenize.texts_to_matrix(df['Emails'])"
   ]
  },
  {
   "cell_type": "code",
   "execution_count": 13,
   "metadata": {
    "collapsed": true,
    "extensions": {
     "jupyter_dashboards": {
      "version": 1,
      "views": {
       "grid_default": {
        "hidden": true
       },
       "report_default": {}
      }
     }
    }
   },
   "outputs": [],
   "source": [
    "# Use sklearn utility to convert label strings to numbered index\n",
    "encoder = LabelEncoder()\n",
    "encoder.fit(df['Cat'])\n",
    "y=encoder.transform(df['Cat'])"
   ]
  },
  {
   "cell_type": "code",
   "execution_count": 14,
   "metadata": {
    "collapsed": true
   },
   "outputs": [],
   "source": [
    "x_train = x[:train_size]\n",
    "x_test = x[train_size:]\n",
    "y_train = y[:train_size]\n",
    "y_test = y[train_size:]"
   ]
  },
  {
   "cell_type": "code",
   "execution_count": 15,
   "metadata": {
    "collapsed": true,
    "extensions": {
     "jupyter_dashboards": {
      "version": 1,
      "views": {
       "grid_default": {
        "hidden": true
       },
       "report_default": {}
      }
     }
    }
   },
   "outputs": [],
   "source": [
    "# Converts the labels to a one-hot representation\n",
    "num_classes = np.max(y_train) + 1\n",
    "y_train = utils.to_categorical(y_train, num_classes)\n",
    "y_test = utils.to_categorical(y_test, num_classes)"
   ]
  },
  {
   "cell_type": "code",
   "execution_count": 16,
   "metadata": {
    "extensions": {
     "jupyter_dashboards": {
      "version": 1,
      "views": {
       "grid_default": {
        "col": 8,
        "height": 4,
        "hidden": false,
        "row": 13,
        "width": 4
       },
       "report_default": {}
      }
     }
    }
   },
   "outputs": [
    {
     "name": "stdout",
     "output_type": "stream",
     "text": [
      "x_train shape: (51408, 1000)\n",
      "x_test shape: (12853, 1000)\n",
      "y_train shape: (51408, 49378)\n",
      "y_test shape: (12853, 49378)\n"
     ]
    }
   ],
   "source": [
    "# Inspect the dimenstions of our training and test data (this is helpful to debug)\n",
    "print('x_train shape:', x_train.shape)\n",
    "print('x_test shape:', x_test.shape)\n",
    "print('y_train shape:', y_train.shape)\n",
    "print('y_test shape:', y_test.shape)"
   ]
  },
  {
   "cell_type": "markdown",
   "metadata": {
    "extensions": {
     "jupyter_dashboards": {
      "version": 1,
      "views": {
       "grid_default": {
        "col": 0,
        "height": 4,
        "hidden": false,
        "row": 17,
        "width": 4
       },
       "report_default": {}
      }
     }
    }
   },
   "source": [
    "### Build the model"
   ]
  },
  {
   "cell_type": "code",
   "execution_count": 17,
   "metadata": {
    "collapsed": true,
    "extensions": {
     "jupyter_dashboards": {
      "version": 1,
      "views": {
       "grid_default": {
        "hidden": true
       },
       "report_default": {}
      }
     }
    }
   },
   "outputs": [],
   "source": [
    "# Open questions: why are those parameters used for?\n",
    "batch_size = 32\n",
    "epochs = 40"
   ]
  },
  {
   "cell_type": "code",
   "execution_count": 18,
   "metadata": {
    "collapsed": true,
    "extensions": {
     "jupyter_dashboards": {
      "version": 1,
      "views": {
       "grid_default": {
        "hidden": true
       },
       "report_default": {}
      }
     }
    }
   },
   "outputs": [],
   "source": [
    "# Build the model\n",
    "model = Sequential()\n",
    "model.add(Dense(512, input_shape=(max_words,)))\n",
    "model.add(Activation('relu'))\n",
    "model.add(Dropout(0.5))\n",
    "model.add(Dense(num_classes))\n",
    "model.add(Activation('softmax'))"
   ]
  },
  {
   "cell_type": "markdown",
   "metadata": {
    "extensions": {
     "jupyter_dashboards": {
      "version": 1,
      "views": {
       "grid_default": {
        "hidden": true
       },
       "report_default": {}
      }
     }
    }
   },
   "source": [
    "### Loss function and optimizer\n",
    "A model needs a loss function and an optimizer for training. Since this is a categorical classification problem and the model outputs a probability (a single-unit layer with a sigmoid activation), we'll use the categorical_crossentropy loss function.\n",
    "This isn't the only choice for a loss function, you could, for instance, choose mean_squared_error. But, generally, categorical_crossentropy is better for dealing with probabilities—it measures the \"distance\" between probability distributions, or in our case, between the ground-truth distribution and the predictions.\n",
    "Later, when we are exploring regression problems (say, to predict the price of a house), we will see how to use another loss function called mean squared error.\n",
    "Now, configure the model to use an optimizer and a loss function:"
   ]
  },
  {
   "cell_type": "code",
   "execution_count": 19,
   "metadata": {
    "collapsed": true,
    "extensions": {
     "jupyter_dashboards": {
      "version": 1,
      "views": {
       "grid_default": {
        "hidden": true
       },
       "report_default": {}
      }
     }
    }
   },
   "outputs": [],
   "source": [
    "model.compile(loss='categorical_crossentropy',\n",
    "              optimizer='adam',\n",
    "              metrics=['accuracy'])"
   ]
  },
  {
   "cell_type": "markdown",
   "metadata": {
    "extensions": {
     "jupyter_dashboards": {
      "version": 1,
      "views": {
       "grid_default": {
        "col": 8,
        "height": 4,
        "hidden": false,
        "row": 17,
        "width": 4
       },
       "report_default": {}
      }
     }
    }
   },
   "source": [
    "### Train the model"
   ]
  },
  {
   "cell_type": "code",
   "execution_count": 20,
   "metadata": {
    "extensions": {
     "jupyter_dashboards": {
      "version": 1,
      "views": {
       "grid_default": {
        "col": 0,
        "height": 16,
        "hidden": false,
        "row": 21,
        "width": 4
       },
       "report_default": {}
      }
     }
    }
   },
   "outputs": [
    {
     "name": "stdout",
     "output_type": "stream",
     "text": [
      "Train on 46267 samples, validate on 5141 samples\n",
      "Epoch 1/40\n",
      "46267/46267 [==============================] - 503s 11ms/step - loss: 10.5413 - acc: 0.0159 - val_loss: 10.6853 - val_acc: 0.0191\n",
      "Epoch 2/40\n",
      "46267/46267 [==============================] - 3799s 82ms/step - loss: 9.5764 - acc: 0.0182 - val_loss: 11.0482 - val_acc: 0.0218\n",
      "Epoch 3/40\n",
      "46267/46267 [==============================] - 6849s 148ms/step - loss: 8.6587 - acc: 0.0213 - val_loss: 11.3916 - val_acc: 0.0241\n",
      "Epoch 4/40\n",
      "46267/46267 [==============================] - 2857s 62ms/step - loss: 7.4780 - acc: 0.0293 - val_loss: 11.7562 - val_acc: 0.0290\n",
      "Epoch 5/40\n",
      "46267/46267 [==============================] - 639s 14ms/step - loss: 5.9690 - acc: 0.0709 - val_loss: 12.3912 - val_acc: 0.0249\n",
      "Epoch 6/40\n",
      "46267/46267 [==============================] - 937s 20ms/step - loss: 4.4633 - acc: 0.1870 - val_loss: 13.0807 - val_acc: 0.0212\n",
      "Epoch 7/40\n",
      "46267/46267 [==============================] - 1007s 22ms/step - loss: 3.4849 - acc: 0.3244 - val_loss: 13.6607 - val_acc: 0.0181\n",
      "Epoch 8/40\n",
      "46267/46267 [==============================] - 1069s 23ms/step - loss: 2.9907 - acc: 0.4086 - val_loss: 13.9910 - val_acc: 0.0179\n",
      "Epoch 9/40\n",
      "46267/46267 [==============================] - 1106s 24ms/step - loss: 2.7109 - acc: 0.4593 - val_loss: 14.1189 - val_acc: 0.0196\n",
      "Epoch 10/40\n",
      "46267/46267 [==============================] - 1108s 24ms/step - loss: 2.5331 - acc: 0.4960 - val_loss: 14.2627 - val_acc: 0.0193\n",
      "Epoch 11/40\n",
      "46267/46267 [==============================] - 1269s 27ms/step - loss: 2.4067 - acc: 0.5159 - val_loss: 14.3328 - val_acc: 0.0187\n",
      "Epoch 12/40\n",
      "46267/46267 [==============================] - 1256s 27ms/step - loss: 2.3249 - acc: 0.5311 - val_loss: 14.3658 - val_acc: 0.0189\n",
      "Epoch 13/40\n",
      "46267/46267 [==============================] - 1234s 27ms/step - loss: 2.2597 - acc: 0.5412 - val_loss: 14.4025 - val_acc: 0.0189\n",
      "Epoch 14/40\n",
      "46267/46267 [==============================] - 1250s 27ms/step - loss: 2.2056 - acc: 0.5493 - val_loss: 14.4176 - val_acc: 0.0187\n",
      "Epoch 15/40\n",
      "46267/46267 [==============================] - 1308s 28ms/step - loss: 2.1559 - acc: 0.5582 - val_loss: 14.4408 - val_acc: 0.0179\n",
      "Epoch 16/40\n",
      "46267/46267 [==============================] - 1261s 27ms/step - loss: 2.1146 - acc: 0.5659 - val_loss: 14.4515 - val_acc: 0.0187\n",
      "Epoch 17/40\n",
      "46267/46267 [==============================] - 1213s 26ms/step - loss: 2.0832 - acc: 0.5709 - val_loss: 14.4634 - val_acc: 0.0177\n",
      "Epoch 18/40\n",
      "46267/46267 [==============================] - 539s 12ms/step - loss: 2.0577 - acc: 0.5738 - val_loss: 14.4655 - val_acc: 0.0175\n",
      "Epoch 19/40\n",
      "46267/46267 [==============================] - 552s 12ms/step - loss: 2.0289 - acc: 0.5791 - val_loss: 14.4829 - val_acc: 0.0185\n",
      "Epoch 20/40\n",
      "46267/46267 [==============================] - 537s 12ms/step - loss: 2.0076 - acc: 0.5812 - val_loss: 14.4815 - val_acc: 0.0196\n",
      "Epoch 21/40\n",
      "46267/46267 [==============================] - 1743s 38ms/step - loss: 1.9817 - acc: 0.5868 - val_loss: 14.4759 - val_acc: 0.0187\n",
      "Epoch 22/40\n",
      "46267/46267 [==============================] - 539s 12ms/step - loss: 1.9697 - acc: 0.5870 - val_loss: 14.4878 - val_acc: 0.0193\n",
      "Epoch 23/40\n",
      "46267/46267 [==============================] - 755s 16ms/step - loss: 1.9411 - acc: 0.5922 - val_loss: 14.4885 - val_acc: 0.0191\n",
      "Epoch 24/40\n",
      "46267/46267 [==============================] - 546s 12ms/step - loss: 1.9284 - acc: 0.5935 - val_loss: 14.4956 - val_acc: 0.0195\n",
      "Epoch 25/40\n",
      "46267/46267 [==============================] - 544s 12ms/step - loss: 1.9112 - acc: 0.5958 - val_loss: 14.4922 - val_acc: 0.0191\n",
      "Epoch 26/40\n",
      "46267/46267 [==============================] - 602s 13ms/step - loss: 1.8968 - acc: 0.5975 - val_loss: 14.4932 - val_acc: 0.0204\n",
      "Epoch 27/40\n",
      "46267/46267 [==============================] - 3960s 86ms/step - loss: 1.8869 - acc: 0.5984 - val_loss: 14.4743 - val_acc: 0.0196\n",
      "Epoch 28/40\n",
      "46267/46267 [==============================] - 1102s 24ms/step - loss: 1.8778 - acc: 0.6008 - val_loss: 14.4815 - val_acc: 0.0200\n",
      "Epoch 29/40\n",
      "46267/46267 [==============================] - 538s 12ms/step - loss: 1.8654 - acc: 0.6023 - val_loss: 14.4688 - val_acc: 0.0195\n",
      "Epoch 30/40\n",
      "46267/46267 [==============================] - 539s 12ms/step - loss: 1.8467 - acc: 0.6073 - val_loss: 14.4643 - val_acc: 0.0200\n",
      "Epoch 31/40\n",
      "46267/46267 [==============================] - 540s 12ms/step - loss: 1.8413 - acc: 0.6065 - val_loss: 14.4287 - val_acc: 0.0189\n",
      "Epoch 32/40\n",
      "46267/46267 [==============================] - 548s 12ms/step - loss: 1.8366 - acc: 0.6072 - val_loss: 14.4323 - val_acc: 0.0193\n",
      "Epoch 33/40\n",
      "46267/46267 [==============================] - 535s 12ms/step - loss: 1.8229 - acc: 0.6070 - val_loss: 14.4149 - val_acc: 0.0195\n",
      "Epoch 34/40\n",
      "46267/46267 [==============================] - 546s 12ms/step - loss: 1.8101 - acc: 0.6095 - val_loss: 14.4050 - val_acc: 0.0193\n",
      "Epoch 35/40\n",
      "46267/46267 [==============================] - 548s 12ms/step - loss: 1.8082 - acc: 0.6113 - val_loss: 14.4036 - val_acc: 0.0202\n",
      "Epoch 36/40\n",
      "46267/46267 [==============================] - 592s 13ms/step - loss: 1.7969 - acc: 0.6111 - val_loss: 14.3827 - val_acc: 0.0196\n",
      "Epoch 37/40\n",
      "46267/46267 [==============================] - 607s 13ms/step - loss: 1.7923 - acc: 0.6105 - val_loss: 14.3502 - val_acc: 0.0202\n",
      "Epoch 38/40\n",
      "46267/46267 [==============================] - 583s 13ms/step - loss: 1.7853 - acc: 0.6126 - val_loss: 14.3406 - val_acc: 0.0187\n",
      "Epoch 39/40\n",
      "46267/46267 [==============================] - 3199s 69ms/step - loss: 1.7734 - acc: 0.6152 - val_loss: 14.3242 - val_acc: 0.0196\n",
      "Epoch 40/40\n",
      "46267/46267 [==============================] - 4766s 103ms/step - loss: 1.7687 - acc: 0.6150 - val_loss: 14.3144 - val_acc: 0.0193\n"
     ]
    }
   ],
   "source": [
    "history = model.fit(x_train, y_train,\n",
    "                    batch_size=batch_size,\n",
    "                    epochs=epochs,\n",
    "                    verbose=1,\n",
    "                    validation_split=0.1)"
   ]
  },
  {
   "cell_type": "code",
   "execution_count": 21,
   "metadata": {
    "extensions": {
     "jupyter_dashboards": {
      "version": 1,
      "views": {
       "grid_default": {
        "col": 8,
        "height": 4,
        "hidden": false,
        "row": 21,
        "width": 4
       },
       "report_default": {}
      }
     }
    }
   },
   "outputs": [
    {
     "name": "stdout",
     "output_type": "stream",
     "text": [
      "12853/12853 [==============================] - 30s 2ms/step\n",
      "Test score: 14.322327707098179\n",
      "Test accuracy: 0.02310744573251381\n"
     ]
    }
   ],
   "source": [
    "# Evaluate the accuracy of our trained model\n",
    "score = model.evaluate(x_test, y_test,\n",
    "                       batch_size=batch_size, verbose=1)\n",
    "print('Test score:', score[0])\n",
    "print('Test accuracy:', score[1])"
   ]
  },
  {
   "cell_type": "markdown",
   "metadata": {
    "extensions": {
     "jupyter_dashboards": {
      "version": 1,
      "views": {
       "grid_default": {
        "col": 0,
        "height": 4,
        "hidden": false,
        "row": 37,
        "width": 12
       },
       "report_default": {}
      }
     }
    }
   },
   "source": [
    "### Create a graph of accuracy and loss over time\n",
    "\n",
    "`model.fit()` returns a `History` object that contains a dictionary with everything that happened during training:"
   ]
  },
  {
   "cell_type": "code",
   "execution_count": 23,
   "metadata": {
    "extensions": {
     "jupyter_dashboards": {
      "version": 1,
      "views": {
       "grid_default": {
        "col": 4,
        "height": 4,
        "hidden": false,
        "row": 23,
        "width": 4
       },
       "report_default": {}
      }
     }
    }
   },
   "outputs": [
    {
     "data": {
      "text/plain": [
       "dict_keys(['val_loss', 'val_acc', 'loss', 'acc'])"
      ]
     },
     "execution_count": 23,
     "metadata": {},
     "output_type": "execute_result"
    }
   ],
   "source": [
    "history_dict = history.history\n",
    "history_dict.keys()"
   ]
  },
  {
   "cell_type": "markdown",
   "metadata": {
    "extensions": {
     "jupyter_dashboards": {
      "version": 1,
      "views": {
       "grid_default": {
        "hidden": true
       },
       "report_default": {}
      }
     }
    }
   },
   "source": [
    "There are four entries: one for each monitored metric during training and validation. We can use these to plot the training and validation loss for comparison, as well as the training and validation accuracy:"
   ]
  },
  {
   "cell_type": "code",
   "execution_count": 24,
   "metadata": {
    "extensions": {
     "jupyter_dashboards": {
      "version": 1,
      "views": {
       "grid_default": {
        "col": 8,
        "height": 9,
        "hidden": false,
        "row": 25,
        "width": 4
       },
       "report_default": {}
      }
     }
    }
   },
   "outputs": [
    {
     "data": {
      "image/png": "[encoded data removed]",
      "text/plain": [
       "<matplotlib.figure.Figure at 0x12496c5c0>"
      ]
     },
     "metadata": {},
     "output_type": "display_data"
    }
   ],
   "source": [
    "import matplotlib.pyplot as plt\n",
    "\n",
    "acc = history.history['acc']\n",
    "val_acc = history.history['val_acc']\n",
    "loss = history.history['loss']\n",
    "val_loss = history.history['val_loss']\n",
    "\n",
    "epochs = range(1, len(acc) + 1)\n",
    "\n",
    "# \"bo\" is for \"blue dot\"\n",
    "plt.plot(epochs, loss, 'bo', label='Training loss')\n",
    "# b is for \"solid blue line\"\n",
    "plt.plot(epochs, val_loss, 'b', label='Validation loss')\n",
    "plt.title('Training and validation loss')\n",
    "plt.xlabel('Epochs')\n",
    "plt.ylabel('Loss')\n",
    "plt.legend()\n",
    "\n",
    "plt.show()"
   ]
  },
  {
   "cell_type": "code",
   "execution_count": 25,
   "metadata": {
    "extensions": {
     "jupyter_dashboards": {
      "version": 1,
      "views": {
       "grid_default": {
        "col": 4,
        "height": 9,
        "hidden": false,
        "row": 27,
        "width": 4
       },
       "report_default": {}
      }
     }
    }
   },
   "outputs": [
    {
     "data": {
      "image/png": "[encoded data removed]",
      "text/plain": [
       "<matplotlib.figure.Figure at 0x125255c18>"
      ]
     },
     "metadata": {},
     "output_type": "display_data"
    }
   ],
   "source": [
    "plt.clf()   # clear figure\n",
    "acc_values = history_dict['acc']\n",
    "val_acc_values = history_dict['val_acc']\n",
    "\n",
    "plt.plot(epochs, acc, 'bo', label='Training acc')\n",
    "plt.plot(epochs, val_acc, 'b', label='Validation acc')\n",
    "plt.title('Training and validation accuracy')\n",
    "plt.xlabel('Epochs')\n",
    "plt.ylabel('Accuracy')\n",
    "plt.legend()\n",
    "\n",
    "plt.show()"
   ]
  },
  {
   "cell_type": "markdown",
   "metadata": {
    "extensions": {
     "jupyter_dashboards": {
      "version": 1,
      "views": {
       "grid_default": {
        "hidden": true
       },
       "report_default": {}
      }
     }
    }
   },
   "source": [
    "In this plot, the dots represent the training loss and accuracy, and the solid lines are the validation loss and accuracy.\n",
    "Notice the training loss decreases with each epoch and the training accuracy increases with each epoch. This is expected when using a gradient descent optimization—it should minimize the desired quantity on every iteration.\n",
    "This isn't the case for the validation loss and accuracy—they seem to peak after about twenty epochs. This is an example of overfitting: the model performs better on the training data than it does on data it has never seen before. After this point, the model over-optimizes and learns representations specific to the training data that do not generalize to test data.\n",
    "For this particular case, we could prevent overfitting by simply stopping the training after twenty or so epochs. Later, you'll see how to do this automatically with a callback."
   ]
  },
  {
   "cell_type": "markdown",
   "metadata": {
    "extensions": {
     "jupyter_dashboards": {
      "version": 1,
      "views": {
       "grid_default": {
        "col": 0,
        "height": 4,
        "hidden": false,
        "row": 41,
        "width": 4
       },
       "report_default": {}
      }
     }
    }
   },
   "source": [
    "### Evaluate model"
   ]
  },
  {
   "cell_type": "code",
   "execution_count": 30,
   "metadata": {},
   "outputs": [],
   "source": [
    "# save the model as a HDF5 file\n",
    "model.save('./models/model_movie_dialog.h5')\n",
    "\n",
    "# deletes the existing model\n",
    "del model\n",
    "# returns a compiled model\n",
    "# identical to the previous one\n",
    "model = load_model('./models/model_movie_dialog.h5')"
   ]
  },
  {
   "cell_type": "markdown",
   "metadata": {
    "extensions": {
     "jupyter_dashboards": {
      "version": 1,
      "views": {
       "grid_default": {
        "col": 4,
        "height": 4,
        "hidden": false,
        "row": 41,
        "width": 4
       },
       "report_default": {}
      }
     }
    }
   },
   "source": [
    "#### Scenario 1: Verify 10 records in test dataset"
   ]
  },
  {
   "cell_type": "code",
   "execution_count": 31,
   "metadata": {
    "extensions": {
     "jupyter_dashboards": {
      "version": 1,
      "views": {
       "grid_default": {
        "col": 8,
        "height": 52,
        "hidden": false,
        "row": 41,
        "width": 4
       },
       "report_default": {}
      }
     }
    }
   },
   "outputs": [
    {
     "name": "stdout",
     "output_type": "stream",
     "text": [
      "my what ? ...\n",
      "Actual label:the young lady staying in your room ?\n",
      "Predicted label: right . one o .j . coming up .\n",
      "\n",
      "good afternoon mr . harris . ...\n",
      "Actual label:afternoon .\n",
      "Predicted label: jack . . .\n",
      "\n",
      "cynthia s not coming ? ...\n",
      "Actual label:no .\n",
      "Predicted label: not coming ? what happened ?\n",
      "\n",
      "oh god what ? ...\n",
      "Actual label:i ll bring it back .\n",
      "Predicted label: that was the telephone .\n",
      "\n",
      "edward did you hear me ? ...\n",
      "Actual label:i m here .\n",
      "Predicted label: you ll regret this mrs . little .\n",
      "\n",
      "i m here . ...\n",
      "Actual label:i know a lot of nice girls .\n",
      "Predicted label: you treat her nice .\n",
      "\n",
      "but edward . . . ...\n",
      "Actual label:do it .\n",
      "Predicted label: pull over .\n",
      "\n",
      "bill i d like you to meet vivian . ...\n",
      "Actual label:bill stuckey vivian . my wife elizabeth .\n",
      "Predicted label: why ?\n",
      "\n",
      "yes . . . ...\n",
      "Actual label:doing what ?\n",
      "Predicted label: why ?\n",
      "\n",
      "doing what ? ...\n",
      "Actual label:vivian s in sales .\n",
      "Predicted label: i m getting married tomorrow .\n",
      "\n"
     ]
    }
   ],
   "source": [
    "# Here's how to generate a prediction on individual examples\n",
    "text_labels = encoder.classes_ \n",
    "\n",
    "for i in range(10):\n",
    "    prediction = model.predict(np.array([x_test[i]]))\n",
    "    predicted_label = text_labels[np.argmax(prediction)]\n",
    "    print(test_narrative.iloc[i][:50], \"...\")\n",
    "    print('Actual label:' + test_product.iloc[i])\n",
    "    print(\"Predicted label: \" + predicted_label + \"\\n\")"
   ]
  },
  {
   "cell_type": "markdown",
   "metadata": {
    "extensions": {
     "jupyter_dashboards": {
      "version": 1,
      "views": {
       "grid_default": {
        "hidden": true
       },
       "report_default": {}
      }
     }
    }
   },
   "source": [
    "#### Scenario 2: Change the predicted category"
   ]
  },
  {
   "cell_type": "markdown",
   "metadata": {
    "extensions": {
     "jupyter_dashboards": {
      "version": 1,
      "views": {
       "grid_default": {
        "hidden": true
       },
       "report_default": {}
      }
     }
    }
   },
   "source": [
    "##### Step 1: Input 2 sentences to predict the categories based on the built model, and jot down the predictions."
   ]
  },
  {
   "cell_type": "code",
   "execution_count": null,
   "metadata": {
    "collapsed": true,
    "extensions": {
     "jupyter_dashboards": {
      "version": 1,
      "views": {
       "grid_default": {
        "hidden": true
       },
       "report_default": {}
      }
     }
    }
   },
   "outputs": [],
   "source": [
    "input_sentence = ''\n",
    "while(1):\n",
    "    try:\n",
    "        # Get input sentence\n",
    "        input_sentence = input('> ')\n",
    "        # Check if it is quit case\n",
    "        if input_sentence == 'q' or input_sentence == 'quit': \n",
    "            break\n",
    "        # Normalize sentence\n",
    "        input_sentence = tokenize.texts_to_matrix([input_sentence])       \n",
    "        pred_output = model.predict(np.array(input_sentence))\n",
    "        pred_prob=model.predict_proba(np.array(input_sentence))\n",
    "        predicted_label = text_labels[np.argmax(pred_output)]\n",
    "        print('Bot:', ' '.join([predicted_label,'Probality:',str(prediction_prob[0,np.argmax(pred_output)])]))\n",
    "        \"\"\"\n",
    "        input_confirmation = input('Proposal accepted? (y/n) ')\n",
    "        # Check if it is quit case\n",
    "        if input_confirmation == 'n': \n",
    "            input_confirmation = input('Which is better? (0-7)')\n",
    "        \"\"\"\n",
    "    except KeyError:\n",
    "        print(\"Error: Encountered unknown word.\")"
   ]
  },
  {
   "cell_type": "markdown",
   "metadata": {
    "extensions": {
     "jupyter_dashboards": {
      "version": 1,
      "views": {
       "grid_default": {
        "hidden": true
       },
       "report_default": {}
      }
     }
    }
   },
   "source": [
    "#####  Step 2: Input 1 more sentence to predict the category based on the built model, and jot down its prediction."
   ]
  },
  {
   "cell_type": "code",
   "execution_count": 69,
   "metadata": {
    "collapsed": true,
    "extensions": {
     "jupyter_dashboards": {
      "version": 1,
      "views": {
       "grid_default": {
        "hidden": true
       },
       "report_default": {}
      }
     }
    }
   },
   "outputs": [],
   "source": [
    "input_narratives=['My IE window could not be opened']\n",
    "input_test = tokenize.texts_to_matrix(input_narratives)"
   ]
  },
  {
   "cell_type": "code",
   "execution_count": 70,
   "metadata": {
    "extensions": {
     "jupyter_dashboards": {
      "version": 1,
      "views": {
       "grid_default": {
        "col": 0,
        "height": 5,
        "hidden": false,
        "row": 45,
        "width": 4
       },
       "report_default": {}
      }
     }
    }
   },
   "outputs": [
    {
     "name": "stdout",
     "output_type": "stream",
     "text": [
      "Please clear your IE cache, if not work, please upgrade your windows to windows 10. [[9.9999440e-01 8.1203564e-07 1.2690913e-06 1.1594949e-06 4.9413165e-07\n",
      "  4.9936165e-07 6.7573291e-07 7.5189740e-07]]\n"
     ]
    }
   ],
   "source": [
    "prediction_input = model.predict(np.array(input_test))\n",
    "prediction_prob=model.predict_proba(np.array(input_test))\n",
    "predicted_label = text_labels[np.argmax(prediction_input)]\n",
    "print(predicted_label,prediction_prob)"
   ]
  },
  {
   "cell_type": "markdown",
   "metadata": {
    "extensions": {
     "jupyter_dashboards": {
      "version": 1,
      "views": {
       "grid_default": {
        "hidden": true
       },
       "report_default": {}
      }
     }
    }
   },
   "source": [
    "#####  Step 3: Change the predicted category, and retrain the model by adding the new records into the dataset."
   ]
  },
  {
   "cell_type": "code",
   "execution_count": 71,
   "metadata": {
    "extensions": {
     "jupyter_dashboards": {
      "version": 1,
      "views": {
       "grid_default": {
        "col": 4,
        "height": 21,
        "hidden": false,
        "row": 45,
        "width": 4
       },
       "report_default": {}
      }
     }
    }
   },
   "outputs": [
    {
     "name": "stdout",
     "output_type": "stream",
     "text": [
      "0\n",
      "[[1. 0. 0. 0. 0. 0. 0. 0.]]\n",
      "Train on 14636 samples, validate on 1627 samples\n",
      "Epoch 1/5\n",
      "14636/14636 [==============================] - 3s 174us/step - loss: 0.0082 - acc: 0.9982 - val_loss: 1.4304e-04 - val_acc: 1.0000\n",
      "Epoch 2/5\n",
      "14636/14636 [==============================] - 3s 173us/step - loss: 1.1454e-04 - acc: 1.0000 - val_loss: 7.7380e-05 - val_acc: 1.0000\n",
      "Epoch 3/5\n",
      "14636/14636 [==============================] - 3s 178us/step - loss: 7.2957e-05 - acc: 1.0000 - val_loss: 4.5412e-05 - val_acc: 1.0000\n",
      "Epoch 4/5\n",
      "14636/14636 [==============================] - 3s 178us/step - loss: 4.6204e-05 - acc: 1.0000 - val_loss: 3.1568e-05 - val_acc: 1.0000\n",
      "Epoch 5/5\n",
      "14636/14636 [==============================] - 3s 193us/step - loss: 2.9467e-05 - acc: 1.0000 - val_loss: 2.3930e-05 - val_acc: 1.0000\n",
      "Please clear your IE cache, if not work, please upgrade your windows to windows 10. [[9.9768376e-01 1.5484808e-04 5.0682650e-04 2.1143293e-04 1.1219291e-04\n",
      "  9.4124011e-04 1.8709477e-04 2.0259326e-04]]\n"
     ]
    }
   ],
   "source": [
    "predict_y=np.argmax(prediction_input)\n",
    "predict_y=0\n",
    "y_output = utils.to_categorical([predict_y], num_classes)\n",
    "print(np.argmax(prediction_input))\n",
    "print(y_output)\n",
    "x_train=np.vstack([x_train,input_test])\n",
    "y_train=np.vstack([y_train,y_output])\n",
    "retrain = model.fit(x_train, y_train,\n",
    "                    batch_size=batch_size,\n",
    "                    epochs=epochs,\n",
    "                    verbose=1,\n",
    "                    validation_split=0.1)\n",
    "prediction_input = model.predict(np.array(input_test))\n",
    "prediction_prob=model.predict_proba(np.array(input_test))\n",
    "predicted_label = text_labels[np.argmax(prediction_input)]\n",
    "print(predicted_label,prediction_prob)"
   ]
  },
  {
   "cell_type": "code",
   "execution_count": 60,
   "metadata": {
    "extensions": {
     "jupyter_dashboards": {
      "version": 1,
      "views": {
       "grid_default": {
        "col": 0,
        "height": 14,
        "hidden": false,
        "row": 50,
        "width": 4
       },
       "report_default": {}
      }
     }
    }
   },
   "outputs": [
    {
     "data": {
      "text/plain": [
       "array(['Please clear your IE cache, if not work, please upgrade your windows to windows 10.',\n",
       "       'The role was not changes since the change was not transferred to system.It was done, and should be work now.',\n",
       "       'The system bug and it is working now after applying patch.',\n",
       "       'The system change was done, and this field was removed. Please check the annoucement sent last month.',\n",
       "       'The system maintenance was completed, and it is working now.',\n",
       "       'The system setting is missing, and it is corrected after reinputting it.',\n",
       "       'The system setting was changed, and we will restore the system setting, after that, please try it again.',\n",
       "       'Your authorization is insufficient, please apply for the additional authorizations.'],\n",
       "      dtype=object)"
      ]
     },
     "execution_count": 60,
     "metadata": {},
     "output_type": "execute_result"
    }
   ],
   "source": [
    "encoder.classes_"
   ]
  },
  {
   "cell_type": "markdown",
   "metadata": {
    "extensions": {
     "jupyter_dashboards": {
      "version": 1,
      "views": {
       "grid_default": {
        "col": 0,
        "height": 4,
        "hidden": false,
        "row": 64,
        "width": 4
       },
       "report_default": {}
      }
     }
    }
   },
   "source": [
    "#####  Step 4: Re-input the 2 sentences in the step 2, and the result should show one category will be changed, and other is kept unchange."
   ]
  },
  {
   "cell_type": "code",
   "execution_count": 72,
   "metadata": {
    "extensions": {
     "jupyter_dashboards": {
      "version": 1,
      "views": {
       "grid_default": {
        "col": 4,
        "height": 7,
        "hidden": false,
        "row": 66,
        "width": 4
       },
       "report_default": {}
      }
     }
    }
   },
   "outputs": [
    {
     "name": "stdout",
     "output_type": "stream",
     "text": [
      "> my ie is not working\n",
      "Bot: Please clear your IE cache, if not work, please upgrade your windows to windows 10. Probality: 0.99768376\n",
      "> my authorization is not sufficient\n",
      "Bot: The role was not changes since the change was not transferred to system.It was done, and should be work now. Probality: 0.00015484808\n",
      "> q\n"
     ]
    }
   ],
   "source": [
    "input_sentence = ''\n",
    "while(1):\n",
    "    try:\n",
    "        # Get input sentence\n",
    "        input_sentence = input('> ')\n",
    "        # Check if it is quit case\n",
    "        if input_sentence == 'q' or input_sentence == 'quit': \n",
    "            break\n",
    "        # Normalize sentence\n",
    "        input_sentence = tokenize.texts_to_matrix([input_sentence])       \n",
    "        pred_output = model.predict(np.array(input_sentence))\n",
    "        pred_prob=model.predict_proba(np.array(input_sentence))\n",
    "        predicted_label = text_labels[np.argmax(pred_output)]\n",
    "        print('Bot:', ' '.join([predicted_label,'Probality:',str(prediction_prob[0,np.argmax(pred_output)])]))\n",
    "        \"\"\"\n",
    "        input_confirmation = input('Proposal accepted? (y/n) ')\n",
    "        # Check if it is quit case\n",
    "        if input_confirmation == 'n': \n",
    "            input_confirmation = input('Which is better? (0-7)')\n",
    "        \"\"\"\n",
    "    except KeyError:\n",
    "        print(\"Error: Encountered unknown word.\")"
   ]
  }
 ],
 "metadata": {
  "extensions": {
   "jupyter_dashboards": {
    "activeView": "grid_default",
    "version": 1,
    "views": {
     "grid_default": {
      "cellMargin": 10,
      "defaultCellHeight": 20,
      "maxColumns": 12,
      "name": "grid",
      "type": "grid"
     },
     "report_default": {
      "name": "report",
      "type": "report"
     }
    }
   }
  },
  "kernelspec": {
   "display_name": "Python 3",
   "language": "python",
   "name": "python3"
  },
  "language_info": {
   "codemirror_mode": {
    "name": "ipython",
    "version": 3
   },
   "file_extension": ".py",
   "mimetype": "text/x-python",
   "name": "python",
   "nbconvert_exporter": "python",
   "pygments_lexer": "ipython3",
   "version": "3.6.1"
  }
 },
 "nbformat": 4,
 "nbformat_minor": 2
}
