{
 "cells": [
  {
   "cell_type": "markdown",
   "metadata": {
    "extensions": {
     "jupyter_dashboards": {
      "version": 1,
      "views": {
       "grid_default": {
        "hidden": true
       },
       "report_default": {}
      }
     }
    }
   },
   "source": [
    "## Email Classification\n",
    "This program is used to classify the supporting emails in my firm, this idea is inspired by: <br />\n",
    "1) the tutorial of tensorflow: https://www.tensorflow.org/tutorials/keras/basic_text_classification <br />\n",
    "2) BERT. <br />\n",
    "3) Google's best practice on text classification.<br />\n",
    "https://github.com/google/eng-edu/tree/master/ml/guides/text_classification\n",
    "https://developers.google.com/machine-learning/guides/text-classification/\n",
    "\n",
    "In addition, the source file in this program was not uploaded, and the audience can create your own by MS excel file, in which, 2 columns, one for input question ( Data x), and one for label ( Data y)."
   ]
  },
  {
   "cell_type": "code",
   "execution_count": 30,
   "metadata": {
    "collapsed": true,
    "extensions": {
     "jupyter_dashboards": {
      "version": 1,
      "views": {
       "grid_default": {
        "hidden": true
       },
       "report_default": {}
      }
     }
    }
   },
   "outputs": [],
   "source": [
    "from __future__ import absolute_import\n",
    "from __future__ import division\n",
    "from __future__ import print_function"
   ]
  },
  {
   "cell_type": "code",
   "execution_count": 31,
   "metadata": {
    "extensions": {
     "jupyter_dashboards": {
      "version": 1,
      "views": {
       "grid_default": {
        "col": 0,
        "height": 4,
        "hidden": false,
        "row": 0,
        "width": 4
       },
       "report_default": {}
      }
     }
    }
   },
   "outputs": [
    {
     "name": "stdout",
     "output_type": "stream",
     "text": [
      "You have TensorFlow version 1.12.0\n"
     ]
    }
   ],
   "source": [
    "import itertools\n",
    "import os\n",
    "import logging\n",
    "import csv        \n",
    "\n",
    "%matplotlib inline\n",
    "import matplotlib.pyplot as plt\n",
    "import numpy as np\n",
    "import pandas as pd\n",
    "import tensorflow as tf\n",
    "\n",
    "from sklearn.preprocessing import LabelBinarizer, LabelEncoder\n",
    "from sklearn.metrics import confusion_matrix\n",
    "from sklearn.model_selection import train_test_split\n",
    "\n",
    "from tensorflow import keras\n",
    "from keras.models import Sequential\n",
    "from keras.layers import Dense, Activation, Dropout, Embedding,LSTM,Flatten,GRU\n",
    "from keras.preprocessing import text, sequence\n",
    "from keras import utils\n",
    "\n",
    "import gensim\n",
    "from gensim.models import Word2Vec\n",
    "from gensim.models import FastText\n",
    "\n",
    "# This code was tested with TensorFlow v1.4\n",
    "print(\"You have TensorFlow version\", tf.__version__)\n",
    "\n",
    "logging.basicConfig(format = '%(asctime)s - %(levelname)s - %(name)s -   %(message)s', \n",
    "                    datefmt = '%m/%d/%Y %H:%M:%S',\n",
    "                    level = logging.INFO)\n",
    "logger = logging.getLogger(__name__)"
   ]
  },
  {
   "cell_type": "markdown",
   "metadata": {
    "extensions": {
     "jupyter_dashboards": {
      "version": 1,
      "views": {
       "grid_default": {
        "col": 4,
        "height": 4,
        "hidden": false,
        "row": 0,
        "width": 4
       },
       "report_default": {}
      }
     }
    }
   },
   "source": [
    "### Load the mock dataset"
   ]
  },
  {
   "cell_type": "code",
   "execution_count": 32,
   "metadata": {
    "extensions": {
     "jupyter_dashboards": {
      "version": 1,
      "views": {
       "grid_default": {
        "col": 8,
        "height": 9,
        "hidden": false,
        "row": 0,
        "width": 4
       },
       "report_default": {}
      }
     }
    }
   },
   "outputs": [
    {
     "data": {
      "text/html": [
       "<div>\n",
       "<style scoped>\n",
       "    .dataframe tbody tr th:only-of-type {\n",
       "        vertical-align: middle;\n",
       "    }\n",
       "\n",
       "    .dataframe tbody tr th {\n",
       "        vertical-align: top;\n",
       "    }\n",
       "\n",
       "    .dataframe thead th {\n",
       "        text-align: right;\n",
       "    }\n",
       "</style>\n",
       "<table border=\"1\" class=\"dataframe\">\n",
       "  <thead>\n",
       "    <tr style=\"text-align: right;\">\n",
       "      <th></th>\n",
       "      <th>convid</th>\n",
       "      <th>subject</th>\n",
       "      <th>length</th>\n",
       "      <th>tousflag</th>\n",
       "      <th>dialognm</th>\n",
       "      <th>forwardtime</th>\n",
       "      <th>imagenm</th>\n",
       "      <th>notimagenm</th>\n",
       "      <th>mailbody</th>\n",
       "      <th>mailquestion</th>\n",
       "      <th>imagetype</th>\n",
       "      <th>firstanswername</th>\n",
       "      <th>firstforwardname</th>\n",
       "      <th>Category</th>\n",
       "      <th>Unnamed: 14</th>\n",
       "    </tr>\n",
       "  </thead>\n",
       "  <tbody>\n",
       "    <tr>\n",
       "      <th>0</th>\n",
       "      <td>AAQkAGI3MzUxMzk3LTZiZjItNDQ5Ni1hMzJlLWU5NWMxNm...</td>\n",
       "      <td>NaN</td>\n",
       "      <td>26.5</td>\n",
       "      <td>1</td>\n",
       "      <td>3.0</td>\n",
       "      <td>1</td>\n",
       "      <td>0</td>\n",
       "      <td>0</td>\n",
       "      <td>now personname change target date and able to ...</td>\n",
       "      <td>i can not find anything related to this after ...</td>\n",
       "      <td>NaN</td>\n",
       "      <td>yosong@abeam.com</td>\n",
       "      <td>yosong@abeam.com</td>\n",
       "      <td>Timesheet</td>\n",
       "      <td>NaN</td>\n",
       "    </tr>\n",
       "    <tr>\n",
       "      <th>4</th>\n",
       "      <td>AAQkAGI3MzUxMzk3LTZiZjItNDQ5Ni1hMzJlLWU5NWMxNm...</td>\n",
       "      <td>NaN</td>\n",
       "      <td>21.0</td>\n",
       "      <td>1</td>\n",
       "      <td>1.5</td>\n",
       "      <td>0</td>\n",
       "      <td>0</td>\n",
       "      <td>0</td>\n",
       "      <td>we think it was caused by google bar in your b...</td>\n",
       "      <td>hi nasa team i had a problem which accessing t...</td>\n",
       "      <td>NaN</td>\n",
       "      <td>yosong@abeam.com</td>\n",
       "      <td>NaN</td>\n",
       "      <td>Authorization</td>\n",
       "      <td>NaN</td>\n",
       "    </tr>\n",
       "    <tr>\n",
       "      <th>22</th>\n",
       "      <td>AAQkAGI3MzUxMzk3LTZiZjItNDQ5Ni1hMzJlLWU5NWMxNm...</td>\n",
       "      <td>10 15</td>\n",
       "      <td>12.0</td>\n",
       "      <td>1</td>\n",
       "      <td>1.5</td>\n",
       "      <td>0</td>\n",
       "      <td>0</td>\n",
       "      <td>0</td>\n",
       "      <td>staff 9 tel 9 9 fax 9 9 mailto emailaddress fs...</td>\n",
       "      <td>staff 9 tel 9 9 fax 9 9 mailto emailaddress fs...</td>\n",
       "      <td>NaN</td>\n",
       "      <td>NaN</td>\n",
       "      <td>NaN</td>\n",
       "      <td>Timesheet</td>\n",
       "      <td>NaN</td>\n",
       "    </tr>\n",
       "    <tr>\n",
       "      <th>26</th>\n",
       "      <td>AAQkAGI3MzUxMzk3LTZiZjItNDQ5Ni1hMzJlLWU5NWMxNm...</td>\n",
       "      <td>ab my new finance cum project executive erica ...</td>\n",
       "      <td>72.0</td>\n",
       "      <td>1</td>\n",
       "      <td>0.0</td>\n",
       "      <td>0</td>\n",
       "      <td>0</td>\n",
       "      <td>0</td>\n",
       "      <td>i would like to take this opportunity to intro...</td>\n",
       "      <td>i would like to take this opportunity to intro...</td>\n",
       "      <td>NaN</td>\n",
       "      <td>NaN</td>\n",
       "      <td>NaN</td>\n",
       "      <td>Others</td>\n",
       "      <td>NaN</td>\n",
       "    </tr>\n",
       "    <tr>\n",
       "      <th>27</th>\n",
       "      <td>AAQkAGI3MzUxMzk3LTZiZjItNDQ5Ni1hMzJlLWU5NWMxNm...</td>\n",
       "      <td>abeam consulting sap implementation for yan wa...</td>\n",
       "      <td>10.0</td>\n",
       "      <td>1</td>\n",
       "      <td>6.5</td>\n",
       "      <td>0</td>\n",
       "      <td>0</td>\n",
       "      <td>0</td>\n",
       "      <td>let s discuss with you soon please in 30 min ....</td>\n",
       "      <td>let s discuss with you soon please in 30 min ....</td>\n",
       "      <td>NaN</td>\n",
       "      <td>NaN</td>\n",
       "      <td>NaN</td>\n",
       "      <td>Others</td>\n",
       "      <td>NaN</td>\n",
       "    </tr>\n",
       "  </tbody>\n",
       "</table>\n",
       "</div>"
      ],
      "text/plain": [
       "                                               convid  \\\n",
       "0   AAQkAGI3MzUxMzk3LTZiZjItNDQ5Ni1hMzJlLWU5NWMxNm...   \n",
       "4   AAQkAGI3MzUxMzk3LTZiZjItNDQ5Ni1hMzJlLWU5NWMxNm...   \n",
       "22  AAQkAGI3MzUxMzk3LTZiZjItNDQ5Ni1hMzJlLWU5NWMxNm...   \n",
       "26  AAQkAGI3MzUxMzk3LTZiZjItNDQ5Ni1hMzJlLWU5NWMxNm...   \n",
       "27  AAQkAGI3MzUxMzk3LTZiZjItNDQ5Ni1hMzJlLWU5NWMxNm...   \n",
       "\n",
       "                                              subject  length  tousflag  \\\n",
       "0                                                 NaN    26.5         1   \n",
       "4                                                 NaN    21.0         1   \n",
       "22                                              10 15    12.0         1   \n",
       "26  ab my new finance cum project executive erica ...    72.0         1   \n",
       "27  abeam consulting sap implementation for yan wa...    10.0         1   \n",
       "\n",
       "    dialognm  forwardtime  imagenm  notimagenm  \\\n",
       "0        3.0            1        0           0   \n",
       "4        1.5            0        0           0   \n",
       "22       1.5            0        0           0   \n",
       "26       0.0            0        0           0   \n",
       "27       6.5            0        0           0   \n",
       "\n",
       "                                             mailbody  \\\n",
       "0   now personname change target date and able to ...   \n",
       "4   we think it was caused by google bar in your b...   \n",
       "22  staff 9 tel 9 9 fax 9 9 mailto emailaddress fs...   \n",
       "26  i would like to take this opportunity to intro...   \n",
       "27  let s discuss with you soon please in 30 min ....   \n",
       "\n",
       "                                         mailquestion  imagetype  \\\n",
       "0   i can not find anything related to this after ...        NaN   \n",
       "4   hi nasa team i had a problem which accessing t...        NaN   \n",
       "22  staff 9 tel 9 9 fax 9 9 mailto emailaddress fs...        NaN   \n",
       "26  i would like to take this opportunity to intro...        NaN   \n",
       "27  let s discuss with you soon please in 30 min ....        NaN   \n",
       "\n",
       "     firstanswername  firstforwardname       Category Unnamed: 14  \n",
       "0   yosong@abeam.com  yosong@abeam.com      Timesheet         NaN  \n",
       "4   yosong@abeam.com               NaN  Authorization         NaN  \n",
       "22               NaN               NaN      Timesheet         NaN  \n",
       "26               NaN               NaN         Others         NaN  \n",
       "27               NaN               NaN         Others         NaN  "
      ]
     },
     "execution_count": 32,
     "metadata": {},
     "output_type": "execute_result"
    }
   ],
   "source": [
    "source = pd.read_excel('../98_data/mail_timesheet_admin_woissue.xlsx', encoding='latin-1')\n",
    "source.head()"
   ]
  },
  {
   "cell_type": "code",
   "execution_count": 43,
   "metadata": {
    "extensions": {
     "jupyter_dashboards": {
      "version": 1,
      "views": {
       "grid_default": {
        "col": 0,
        "height": 9,
        "hidden": false,
        "row": 4,
        "width": 4
       },
       "report_default": {}
      }
     }
    }
   },
   "outputs": [
    {
     "data": {
      "text/html": [
       "<div>\n",
       "<style scoped>\n",
       "    .dataframe tbody tr th:only-of-type {\n",
       "        vertical-align: middle;\n",
       "    }\n",
       "\n",
       "    .dataframe tbody tr th {\n",
       "        vertical-align: top;\n",
       "    }\n",
       "\n",
       "    .dataframe thead th {\n",
       "        text-align: right;\n",
       "    }\n",
       "</style>\n",
       "<table border=\"1\" class=\"dataframe\">\n",
       "  <thead>\n",
       "    <tr style=\"text-align: right;\">\n",
       "      <th></th>\n",
       "      <th>Emails</th>\n",
       "      <th>Cat</th>\n",
       "    </tr>\n",
       "  </thead>\n",
       "  <tbody>\n",
       "    <tr>\n",
       "      <th>0</th>\n",
       "      <td>i can not find anything related to this after ...</td>\n",
       "      <td>Timesheet</td>\n",
       "    </tr>\n",
       "    <tr>\n",
       "      <th>4</th>\n",
       "      <td>hi nasa team i had a problem which accessing t...</td>\n",
       "      <td>Authorization</td>\n",
       "    </tr>\n",
       "    <tr>\n",
       "      <th>22</th>\n",
       "      <td>staff 9 tel 9 9 fax 9 9 mailto emailaddress fs...</td>\n",
       "      <td>Timesheet</td>\n",
       "    </tr>\n",
       "    <tr>\n",
       "      <th>26</th>\n",
       "      <td>i would like to take this opportunity to intro...</td>\n",
       "      <td>Others</td>\n",
       "    </tr>\n",
       "    <tr>\n",
       "      <th>27</th>\n",
       "      <td>let s discuss with you soon please in 30 min ....</td>\n",
       "      <td>Others</td>\n",
       "    </tr>\n",
       "  </tbody>\n",
       "</table>\n",
       "</div>"
      ],
      "text/plain": [
       "                                               Emails            Cat\n",
       "0   i can not find anything related to this after ...      Timesheet\n",
       "4   hi nasa team i had a problem which accessing t...  Authorization\n",
       "22  staff 9 tel 9 9 fax 9 9 mailto emailaddress fs...      Timesheet\n",
       "26  i would like to take this opportunity to intro...         Others\n",
       "27  let s discuss with you soon please in 30 min ....         Others"
      ]
     },
     "execution_count": 43,
     "metadata": {},
     "output_type": "execute_result"
    }
   ],
   "source": [
    "# Rename the columns\n",
    "df=source[['mailquestion','Category']]\n",
    "df.columns=['Emails','Cat']\n",
    "df = df[pd.notnull(df['Emails'])]\n",
    "df.head()"
   ]
  },
  {
   "cell_type": "code",
   "execution_count": 44,
   "metadata": {
    "extensions": {
     "jupyter_dashboards": {
      "version": 1,
      "views": {
       "grid_default": {
        "col": 4,
        "height": 4,
        "hidden": false,
        "row": 4,
        "width": 4
       },
       "report_default": {}
      }
     }
    }
   },
   "outputs": [
    {
     "data": {
      "text/plain": [
       "Emails    0\n",
       "Cat       0\n",
       "dtype: int64"
      ]
     },
     "execution_count": 44,
     "metadata": {},
     "output_type": "execute_result"
    }
   ],
   "source": [
    "df.isnull().sum()"
   ]
  },
  {
   "cell_type": "code",
   "execution_count": 45,
   "metadata": {
    "extensions": {
     "jupyter_dashboards": {
      "version": 1,
      "views": {
       "grid_default": {
        "col": 4,
        "height": 15,
        "hidden": false,
        "row": 8,
        "width": 4
       },
       "report_default": {}
      }
     }
    }
   },
   "outputs": [
    {
     "data": {
      "text/plain": [
       "Timesheet        333\n",
       "Others           159\n",
       "Authorization    131\n",
       "Project          100\n",
       "Report            56\n",
       "SAP_HR            15\n",
       "Subcon            13\n",
       "Resource           1\n",
       "Name: Cat, dtype: int64"
      ]
     },
     "execution_count": 45,
     "metadata": {},
     "output_type": "execute_result"
    }
   ],
   "source": [
    "df['Cat'].value_counts()"
   ]
  },
  {
   "cell_type": "code",
   "execution_count": 46,
   "metadata": {},
   "outputs": [],
   "source": [
    "stra_cat=df.pop('Cat')"
   ]
  },
  {
   "cell_type": "code",
   "execution_count": 49,
   "metadata": {},
   "outputs": [
    {
     "data": {
      "text/plain": [
       "0           Timesheet\n",
       "4       Authorization\n",
       "22          Timesheet\n",
       "26             Others\n",
       "27             Others\n",
       "30          Timesheet\n",
       "39             Others\n",
       "40            Project\n",
       "44      Authorization\n",
       "45      Authorization\n",
       "54          Timesheet\n",
       "55          Timesheet\n",
       "56          Timesheet\n",
       "57          Timesheet\n",
       "58          Timesheet\n",
       "62      Authorization\n",
       "64      Authorization\n",
       "65             Report\n",
       "67      Authorization\n",
       "68      Authorization\n",
       "74          Timesheet\n",
       "75          Timesheet\n",
       "76      Authorization\n",
       "78          Timesheet\n",
       "81          Timesheet\n",
       "88          Timesheet\n",
       "89          Timesheet\n",
       "90      Authorization\n",
       "91             Report\n",
       "100            Report\n",
       "            ...      \n",
       "8661        Timesheet\n",
       "8663           Others\n",
       "8667        Timesheet\n",
       "8669        Timesheet\n",
       "8670        Timesheet\n",
       "8673        Timesheet\n",
       "8674        Timesheet\n",
       "8676        Timesheet\n",
       "8677        Timesheet\n",
       "8678        Timesheet\n",
       "8679        Timesheet\n",
       "8680        Timesheet\n",
       "8681        Timesheet\n",
       "8682        Timesheet\n",
       "8683        Timesheet\n",
       "8684           Others\n",
       "8686        Timesheet\n",
       "8687        Timesheet\n",
       "8688        Timesheet\n",
       "8689           Others\n",
       "8690        Timesheet\n",
       "8691        Timesheet\n",
       "8696        Timesheet\n",
       "8698        Timesheet\n",
       "8702        Timesheet\n",
       "8706           Report\n",
       "8711           Others\n",
       "8713          Project\n",
       "8716           Others\n",
       "8718           Report\n",
       "Name: Cat, Length: 808, dtype: object"
      ]
     },
     "execution_count": 49,
     "metadata": {},
     "output_type": "execute_result"
    }
   ],
   "source": [
    "stra_cat"
   ]
  },
  {
   "cell_type": "code",
   "execution_count": 47,
   "metadata": {},
   "outputs": [
    {
     "name": "stdout",
     "output_type": "stream",
     "text": [
      "Median words per sample: 80.0\n"
     ]
    },
    {
     "data": {
      "image/png": "[encoded data removed]",
      "text/plain": [
       "<Figure size 432x288 with 1 Axes>"
      ]
     },
     "metadata": {},
     "output_type": "display_data"
    }
   ],
   "source": [
    "from google_text_classification.explore_data import get_num_words_per_sample,plot_sample_length_distribution\n",
    "\n",
    "print(\"Median words per sample:\",get_num_words_per_sample(df['Emails']))\n",
    "\n",
    "plot_sample_length_distribution(df['Emails'])"
   ]
  },
  {
   "cell_type": "code",
   "execution_count": 51,
   "metadata": {
    "extensions": {
     "jupyter_dashboards": {
      "version": 1,
      "views": {
       "grid_default": {
        "col": 8,
        "height": 4,
        "hidden": false,
        "row": 9,
        "width": 4
       },
       "report_default": {}
      }
     }
    }
   },
   "outputs": [
    {
     "ename": "KeyError",
     "evalue": "'Cat'",
     "output_type": "error",
     "traceback": [
      "\u001b[0;31m---------------------------------------------------------------------------\u001b[0m",
      "\u001b[0;31mKeyError\u001b[0m                                  Traceback (most recent call last)",
      "\u001b[0;32m/Library/Frameworks/Python.framework/Versions/3.6/lib/python3.6/site-packages/pandas/core/indexes/base.py\u001b[0m in \u001b[0;36mget_loc\u001b[0;34m(self, key, method, tolerance)\u001b[0m\n\u001b[1;32m   3063\u001b[0m             \u001b[0;32mtry\u001b[0m\u001b[0;34m:\u001b[0m\u001b[0;34m\u001b[0m\u001b[0m\n\u001b[0;32m-> 3064\u001b[0;31m                 \u001b[0;32mreturn\u001b[0m \u001b[0mself\u001b[0m\u001b[0;34m.\u001b[0m\u001b[0m_engine\u001b[0m\u001b[0;34m.\u001b[0m\u001b[0mget_loc\u001b[0m\u001b[0;34m(\u001b[0m\u001b[0mkey\u001b[0m\u001b[0;34m)\u001b[0m\u001b[0;34m\u001b[0m\u001b[0m\n\u001b[0m\u001b[1;32m   3065\u001b[0m             \u001b[0;32mexcept\u001b[0m \u001b[0mKeyError\u001b[0m\u001b[0;34m:\u001b[0m\u001b[0;34m\u001b[0m\u001b[0m\n",
      "\u001b[0;32mpandas/_libs/index.pyx\u001b[0m in \u001b[0;36mpandas._libs.index.IndexEngine.get_loc\u001b[0;34m()\u001b[0m\n",
      "\u001b[0;32mpandas/_libs/index.pyx\u001b[0m in \u001b[0;36mpandas._libs.index.IndexEngine.get_loc\u001b[0;34m()\u001b[0m\n",
      "\u001b[0;32mpandas/_libs/hashtable_class_helper.pxi\u001b[0m in \u001b[0;36mpandas._libs.hashtable.PyObjectHashTable.get_item\u001b[0;34m()\u001b[0m\n",
      "\u001b[0;32mpandas/_libs/hashtable_class_helper.pxi\u001b[0m in \u001b[0;36mpandas._libs.hashtable.PyObjectHashTable.get_item\u001b[0;34m()\u001b[0m\n",
      "\u001b[0;31mKeyError\u001b[0m: 'Cat'",
      "\nDuring handling of the above exception, another exception occurred:\n",
      "\u001b[0;31mKeyError\u001b[0m                                  Traceback (most recent call last)",
      "\u001b[0;32m<ipython-input-51-9b5f0d1861a5>\u001b[0m in \u001b[0;36m<module>\u001b[0;34m()\u001b[0m\n\u001b[1;32m      1\u001b[0m \u001b[0;31m# Split data into train, validation, and test\u001b[0m\u001b[0;34m\u001b[0m\u001b[0;34m\u001b[0m\u001b[0m\n\u001b[0;32m----> 2\u001b[0;31m trans_narrative,test_narrative,trans_product, test_product = train_test_split(df['Emails'], df['Cat'],\n\u001b[0m\u001b[1;32m      3\u001b[0m                                                                               \u001b[0mrandom_state\u001b[0m\u001b[0;34m=\u001b[0m\u001b[0;36m42\u001b[0m\u001b[0;34m,\u001b[0m \u001b[0mtrain_size\u001b[0m\u001b[0;34m=\u001b[0m\u001b[0;36m0.8\u001b[0m\u001b[0;34m,\u001b[0m\u001b[0;34m\u001b[0m\u001b[0m\n\u001b[1;32m      4\u001b[0m                                                                               )\n\u001b[1;32m      5\u001b[0m train_narrative,dev_narrative,train_product, dev_product = train_test_split(trans_narrative, \n",
      "\u001b[0;32m/Library/Frameworks/Python.framework/Versions/3.6/lib/python3.6/site-packages/pandas/core/frame.py\u001b[0m in \u001b[0;36m__getitem__\u001b[0;34m(self, key)\u001b[0m\n\u001b[1;32m   2686\u001b[0m             \u001b[0;32mreturn\u001b[0m \u001b[0mself\u001b[0m\u001b[0;34m.\u001b[0m\u001b[0m_getitem_multilevel\u001b[0m\u001b[0;34m(\u001b[0m\u001b[0mkey\u001b[0m\u001b[0;34m)\u001b[0m\u001b[0;34m\u001b[0m\u001b[0m\n\u001b[1;32m   2687\u001b[0m         \u001b[0;32melse\u001b[0m\u001b[0;34m:\u001b[0m\u001b[0;34m\u001b[0m\u001b[0m\n\u001b[0;32m-> 2688\u001b[0;31m             \u001b[0;32mreturn\u001b[0m \u001b[0mself\u001b[0m\u001b[0;34m.\u001b[0m\u001b[0m_getitem_column\u001b[0m\u001b[0;34m(\u001b[0m\u001b[0mkey\u001b[0m\u001b[0;34m)\u001b[0m\u001b[0;34m\u001b[0m\u001b[0m\n\u001b[0m\u001b[1;32m   2689\u001b[0m \u001b[0;34m\u001b[0m\u001b[0m\n\u001b[1;32m   2690\u001b[0m     \u001b[0;32mdef\u001b[0m \u001b[0m_getitem_column\u001b[0m\u001b[0;34m(\u001b[0m\u001b[0mself\u001b[0m\u001b[0;34m,\u001b[0m \u001b[0mkey\u001b[0m\u001b[0;34m)\u001b[0m\u001b[0;34m:\u001b[0m\u001b[0;34m\u001b[0m\u001b[0m\n",
      "\u001b[0;32m/Library/Frameworks/Python.framework/Versions/3.6/lib/python3.6/site-packages/pandas/core/frame.py\u001b[0m in \u001b[0;36m_getitem_column\u001b[0;34m(self, key)\u001b[0m\n\u001b[1;32m   2693\u001b[0m         \u001b[0;31m# get column\u001b[0m\u001b[0;34m\u001b[0m\u001b[0;34m\u001b[0m\u001b[0m\n\u001b[1;32m   2694\u001b[0m         \u001b[0;32mif\u001b[0m \u001b[0mself\u001b[0m\u001b[0;34m.\u001b[0m\u001b[0mcolumns\u001b[0m\u001b[0;34m.\u001b[0m\u001b[0mis_unique\u001b[0m\u001b[0;34m:\u001b[0m\u001b[0;34m\u001b[0m\u001b[0m\n\u001b[0;32m-> 2695\u001b[0;31m             \u001b[0;32mreturn\u001b[0m \u001b[0mself\u001b[0m\u001b[0;34m.\u001b[0m\u001b[0m_get_item_cache\u001b[0m\u001b[0;34m(\u001b[0m\u001b[0mkey\u001b[0m\u001b[0;34m)\u001b[0m\u001b[0;34m\u001b[0m\u001b[0m\n\u001b[0m\u001b[1;32m   2696\u001b[0m \u001b[0;34m\u001b[0m\u001b[0m\n\u001b[1;32m   2697\u001b[0m         \u001b[0;31m# duplicate columns & possible reduce dimensionality\u001b[0m\u001b[0;34m\u001b[0m\u001b[0;34m\u001b[0m\u001b[0m\n",
      "\u001b[0;32m/Library/Frameworks/Python.framework/Versions/3.6/lib/python3.6/site-packages/pandas/core/generic.py\u001b[0m in \u001b[0;36m_get_item_cache\u001b[0;34m(self, item)\u001b[0m\n\u001b[1;32m   2484\u001b[0m         \u001b[0mres\u001b[0m \u001b[0;34m=\u001b[0m \u001b[0mcache\u001b[0m\u001b[0;34m.\u001b[0m\u001b[0mget\u001b[0m\u001b[0;34m(\u001b[0m\u001b[0mitem\u001b[0m\u001b[0;34m)\u001b[0m\u001b[0;34m\u001b[0m\u001b[0m\n\u001b[1;32m   2485\u001b[0m         \u001b[0;32mif\u001b[0m \u001b[0mres\u001b[0m \u001b[0;32mis\u001b[0m \u001b[0;32mNone\u001b[0m\u001b[0;34m:\u001b[0m\u001b[0;34m\u001b[0m\u001b[0m\n\u001b[0;32m-> 2486\u001b[0;31m             \u001b[0mvalues\u001b[0m \u001b[0;34m=\u001b[0m \u001b[0mself\u001b[0m\u001b[0;34m.\u001b[0m\u001b[0m_data\u001b[0m\u001b[0;34m.\u001b[0m\u001b[0mget\u001b[0m\u001b[0;34m(\u001b[0m\u001b[0mitem\u001b[0m\u001b[0;34m)\u001b[0m\u001b[0;34m\u001b[0m\u001b[0m\n\u001b[0m\u001b[1;32m   2487\u001b[0m             \u001b[0mres\u001b[0m \u001b[0;34m=\u001b[0m \u001b[0mself\u001b[0m\u001b[0;34m.\u001b[0m\u001b[0m_box_item_values\u001b[0m\u001b[0;34m(\u001b[0m\u001b[0mitem\u001b[0m\u001b[0;34m,\u001b[0m \u001b[0mvalues\u001b[0m\u001b[0;34m)\u001b[0m\u001b[0;34m\u001b[0m\u001b[0m\n\u001b[1;32m   2488\u001b[0m             \u001b[0mcache\u001b[0m\u001b[0;34m[\u001b[0m\u001b[0mitem\u001b[0m\u001b[0;34m]\u001b[0m \u001b[0;34m=\u001b[0m \u001b[0mres\u001b[0m\u001b[0;34m\u001b[0m\u001b[0m\n",
      "\u001b[0;32m/Library/Frameworks/Python.framework/Versions/3.6/lib/python3.6/site-packages/pandas/core/internals.py\u001b[0m in \u001b[0;36mget\u001b[0;34m(self, item, fastpath)\u001b[0m\n\u001b[1;32m   4113\u001b[0m \u001b[0;34m\u001b[0m\u001b[0m\n\u001b[1;32m   4114\u001b[0m             \u001b[0;32mif\u001b[0m \u001b[0;32mnot\u001b[0m \u001b[0misna\u001b[0m\u001b[0;34m(\u001b[0m\u001b[0mitem\u001b[0m\u001b[0;34m)\u001b[0m\u001b[0;34m:\u001b[0m\u001b[0;34m\u001b[0m\u001b[0m\n\u001b[0;32m-> 4115\u001b[0;31m                 \u001b[0mloc\u001b[0m \u001b[0;34m=\u001b[0m \u001b[0mself\u001b[0m\u001b[0;34m.\u001b[0m\u001b[0mitems\u001b[0m\u001b[0;34m.\u001b[0m\u001b[0mget_loc\u001b[0m\u001b[0;34m(\u001b[0m\u001b[0mitem\u001b[0m\u001b[0;34m)\u001b[0m\u001b[0;34m\u001b[0m\u001b[0m\n\u001b[0m\u001b[1;32m   4116\u001b[0m             \u001b[0;32melse\u001b[0m\u001b[0;34m:\u001b[0m\u001b[0;34m\u001b[0m\u001b[0m\n\u001b[1;32m   4117\u001b[0m                 \u001b[0mindexer\u001b[0m \u001b[0;34m=\u001b[0m \u001b[0mnp\u001b[0m\u001b[0;34m.\u001b[0m\u001b[0marange\u001b[0m\u001b[0;34m(\u001b[0m\u001b[0mlen\u001b[0m\u001b[0;34m(\u001b[0m\u001b[0mself\u001b[0m\u001b[0;34m.\u001b[0m\u001b[0mitems\u001b[0m\u001b[0;34m)\u001b[0m\u001b[0;34m)\u001b[0m\u001b[0;34m[\u001b[0m\u001b[0misna\u001b[0m\u001b[0;34m(\u001b[0m\u001b[0mself\u001b[0m\u001b[0;34m.\u001b[0m\u001b[0mitems\u001b[0m\u001b[0;34m)\u001b[0m\u001b[0;34m]\u001b[0m\u001b[0;34m\u001b[0m\u001b[0m\n",
      "\u001b[0;32m/Library/Frameworks/Python.framework/Versions/3.6/lib/python3.6/site-packages/pandas/core/indexes/base.py\u001b[0m in \u001b[0;36mget_loc\u001b[0;34m(self, key, method, tolerance)\u001b[0m\n\u001b[1;32m   3064\u001b[0m                 \u001b[0;32mreturn\u001b[0m \u001b[0mself\u001b[0m\u001b[0;34m.\u001b[0m\u001b[0m_engine\u001b[0m\u001b[0;34m.\u001b[0m\u001b[0mget_loc\u001b[0m\u001b[0;34m(\u001b[0m\u001b[0mkey\u001b[0m\u001b[0;34m)\u001b[0m\u001b[0;34m\u001b[0m\u001b[0m\n\u001b[1;32m   3065\u001b[0m             \u001b[0;32mexcept\u001b[0m \u001b[0mKeyError\u001b[0m\u001b[0;34m:\u001b[0m\u001b[0;34m\u001b[0m\u001b[0m\n\u001b[0;32m-> 3066\u001b[0;31m                 \u001b[0;32mreturn\u001b[0m \u001b[0mself\u001b[0m\u001b[0;34m.\u001b[0m\u001b[0m_engine\u001b[0m\u001b[0;34m.\u001b[0m\u001b[0mget_loc\u001b[0m\u001b[0;34m(\u001b[0m\u001b[0mself\u001b[0m\u001b[0;34m.\u001b[0m\u001b[0m_maybe_cast_indexer\u001b[0m\u001b[0;34m(\u001b[0m\u001b[0mkey\u001b[0m\u001b[0;34m)\u001b[0m\u001b[0;34m)\u001b[0m\u001b[0;34m\u001b[0m\u001b[0m\n\u001b[0m\u001b[1;32m   3067\u001b[0m \u001b[0;34m\u001b[0m\u001b[0m\n\u001b[1;32m   3068\u001b[0m         \u001b[0mindexer\u001b[0m \u001b[0;34m=\u001b[0m \u001b[0mself\u001b[0m\u001b[0;34m.\u001b[0m\u001b[0mget_indexer\u001b[0m\u001b[0;34m(\u001b[0m\u001b[0;34m[\u001b[0m\u001b[0mkey\u001b[0m\u001b[0;34m]\u001b[0m\u001b[0;34m,\u001b[0m \u001b[0mmethod\u001b[0m\u001b[0;34m=\u001b[0m\u001b[0mmethod\u001b[0m\u001b[0;34m,\u001b[0m \u001b[0mtolerance\u001b[0m\u001b[0;34m=\u001b[0m\u001b[0mtolerance\u001b[0m\u001b[0;34m)\u001b[0m\u001b[0;34m\u001b[0m\u001b[0m\n",
      "\u001b[0;32mpandas/_libs/index.pyx\u001b[0m in \u001b[0;36mpandas._libs.index.IndexEngine.get_loc\u001b[0;34m()\u001b[0m\n",
      "\u001b[0;32mpandas/_libs/index.pyx\u001b[0m in \u001b[0;36mpandas._libs.index.IndexEngine.get_loc\u001b[0;34m()\u001b[0m\n",
      "\u001b[0;32mpandas/_libs/hashtable_class_helper.pxi\u001b[0m in \u001b[0;36mpandas._libs.hashtable.PyObjectHashTable.get_item\u001b[0;34m()\u001b[0m\n",
      "\u001b[0;32mpandas/_libs/hashtable_class_helper.pxi\u001b[0m in \u001b[0;36mpandas._libs.hashtable.PyObjectHashTable.get_item\u001b[0;34m()\u001b[0m\n",
      "\u001b[0;31mKeyError\u001b[0m: 'Cat'"
     ]
    }
   ],
   "source": [
    "# Split data into train, validation, and test\n",
    "trans_narrative,test_narrative,trans_product, test_product = train_test_split(df['Emails'], df['Cat'],\n",
    "                                                                              random_state=42, train_size=0.8,\n",
    "                                                                              )\n",
    "train_narrative,dev_narrative,train_product, dev_product = train_test_split(trans_narrative, \n",
    "                                                                            trans_product,random_state=42,\n",
    "                                                                            train_size=0.8)\n",
    "print (\"Train size: %d\" % train_product.shape[0])\n",
    "print (\"Validation size: %d\" % dev_product.shape[0])\n",
    "print (\"Test size: %d\" % test_product.shape[0])"
   ]
  },
  {
   "cell_type": "code",
   "execution_count": 8,
   "metadata": {
    "collapsed": true
   },
   "outputs": [],
   "source": [
    "# Create the training, dev, test set for BERT:\n",
    "\n",
    "with open('train.tsv', 'w', newline='') as f_output:\n",
    "    tsv_output = csv.writer(f_output, delimiter='\\t')\n",
    "    for i in range(train_narrative.shape[0]):\n",
    "        tsv_output.writerow([str(1000+i),train_product.iloc[i],'',train_narrative.iloc[i]])\n",
    "\n",
    "with open('dev.tsv', 'w', newline='') as f_output:\n",
    "    tsv_output = csv.writer(f_output, delimiter='\\t')\n",
    "    for i in range(dev_narrative.shape[0]):\n",
    "        tsv_output.writerow([str(4000+i),dev_product.iloc[i],'',dev_narrative.iloc[i]])\n",
    "\n",
    "with open('test.tsv', 'w', newline='') as f_output:\n",
    "    tsv_output = csv.writer(f_output, delimiter='\\t')\n",
    "    for i in range(test_narrative.shape[0]+1):\n",
    "        if i==0:\n",
    "            tsv_output.writerow(['index','sentence','label'])\n",
    "        else:\n",
    "            tsv_output.writerow([str(6000+i),test_narrative.iloc[i-1],test_product.iloc[i-1]])\n"
   ]
  },
  {
   "cell_type": "markdown",
   "metadata": {
    "extensions": {
     "jupyter_dashboards": {
      "version": 1,
      "views": {
       "grid_default": {
        "col": 0,
        "height": 4,
        "hidden": false,
        "row": 13,
        "width": 4
       },
       "report_default": {}
      }
     }
    }
   },
   "source": [
    "### Convert the words to integers"
   ]
  },
  {
   "cell_type": "code",
   "execution_count": 10,
   "metadata": {
    "collapsed": true
   },
   "outputs": [],
   "source": [
    "# Find out the maximum words for the dimension of word vectors\n",
    "def text2word(doc):\n",
    "    \"\"\"\n",
    "    Usage: Convert one text into word list.\n",
    "    Input: doc - string list\n",
    "    Output: documents - string list: all sentences in words list.\n",
    "            text_len - int: maximum numbers of words in one sentense\n",
    "            max_text - strig list: the words list of the sentence with maximum words\n",
    "    \"\"\"\n",
    "    return_docs=[]\n",
    "    text_len=0\n",
    "    max_text=''\n",
    "    #for item in df['Emails']:\n",
    "    for item in doc:\n",
    "        text_words=[word for word in str(item).lower().split()]\n",
    "        return_docs.append(text_words)\n",
    "        if len(text_words)> text_len:\n",
    "            text_len=len(text_words)\n",
    "            max_text=text_words\n",
    "    #max_words = text_len\n",
    "    \n",
    "    return return_docs,text_len,max_text\n",
    "\n",
    "documents,max_words,_=text2word(df['Emails'])\n",
    "tokenize = text.Tokenizer(num_words=max_words, char_level=False)"
   ]
  },
  {
   "cell_type": "code",
   "execution_count": 11,
   "metadata": {
    "extensions": {
     "jupyter_dashboards": {
      "version": 1,
      "views": {
       "grid_default": {
        "hidden": true
       },
       "report_default": {}
      }
     }
    }
   },
   "outputs": [
    {
     "name": "stdout",
     "output_type": "stream",
     "text": [
      "Found 2134 unique tokens.\n"
     ]
    }
   ],
   "source": [
    "tokenize.fit_on_texts(train_narrative) # only fit on train\n",
    "x_train_o = tokenize.texts_to_matrix(train_narrative)\n",
    "x_test_o = tokenize.texts_to_matrix(test_narrative)\n",
    "word_index = tokenize.word_index\n",
    "print('Found %s unique tokens.' % len(word_index))"
   ]
  },
  {
   "cell_type": "code",
   "execution_count": 12,
   "metadata": {
    "collapsed": true,
    "extensions": {
     "jupyter_dashboards": {
      "version": 1,
      "views": {
       "grid_default": {
        "hidden": true
       },
       "report_default": {}
      }
     }
    }
   },
   "outputs": [],
   "source": [
    "# Use sklearn utility to convert label strings to numbered index\n",
    "encoder = LabelEncoder()\n",
    "encoder.fit(train_product)\n",
    "y_train_o = encoder.transform(train_product)\n",
    "y_test_o = encoder.transform(test_product)"
   ]
  },
  {
   "cell_type": "code",
   "execution_count": 13,
   "metadata": {
    "collapsed": true,
    "extensions": {
     "jupyter_dashboards": {
      "version": 1,
      "views": {
       "grid_default": {
        "hidden": true
       },
       "report_default": {}
      }
     }
    }
   },
   "outputs": [],
   "source": [
    "# Converts the labels to a one-hot representation\n",
    "num_classes = np.max(y_train_o) + 1\n",
    "y_train_o = utils.to_categorical(y_train_o, num_classes)\n",
    "y_test_o = utils.to_categorical(y_test_o, num_classes)"
   ]
  },
  {
   "cell_type": "code",
   "execution_count": 15,
   "metadata": {},
   "outputs": [
    {
     "name": "stdout",
     "output_type": "stream",
     "text": [
      "['Authorization' 'Others' 'Project' 'Report' 'Timesheet' 'non-issue']\n"
     ]
    }
   ],
   "source": [
    "print(encoder.classes_)"
   ]
  },
  {
   "cell_type": "code",
   "execution_count": 16,
   "metadata": {},
   "outputs": [
    {
     "name": "stdout",
     "output_type": "stream",
     "text": [
      "['Authorization' 'Others' 'Project' 'Report' 'Timesheet' 'non-issue']\n"
     ]
    }
   ],
   "source": [
    "encoder_t = LabelEncoder()\n",
    "encoder_t.fit(test_product)\n",
    "print(encoder_t.classes_)"
   ]
  },
  {
   "cell_type": "code",
   "execution_count": 13,
   "metadata": {
    "extensions": {
     "jupyter_dashboards": {
      "version": 1,
      "views": {
       "grid_default": {
        "col": 8,
        "height": 4,
        "hidden": false,
        "row": 13,
        "width": 4
       },
       "report_default": {}
      }
     }
    }
   },
   "outputs": [
    {
     "name": "stdout",
     "output_type": "stream",
     "text": [
      "x_train shape: (586, 925)\n",
      "x_test shape: (147, 925)\n",
      "y_train shape: (586, 6)\n",
      "y_test shape: (147, 6)\n"
     ]
    }
   ],
   "source": [
    "# Inspect the dimenstions of our training and test data (this is helpful to debug)\n",
    "print('x_train shape:', x_train_o.shape)\n",
    "print('x_test shape:', x_test_o.shape)\n",
    "print('y_train shape:', y_train_o.shape)\n",
    "print('y_test shape:', y_test_o.shape)"
   ]
  },
  {
   "cell_type": "markdown",
   "metadata": {},
   "source": [
    "## 1.  Model without embedding layer"
   ]
  },
  {
   "cell_type": "markdown",
   "metadata": {
    "extensions": {
     "jupyter_dashboards": {
      "version": 1,
      "views": {
       "grid_default": {
        "col": 0,
        "height": 4,
        "hidden": false,
        "row": 17,
        "width": 4
       },
       "report_default": {}
      }
     }
    }
   },
   "source": [
    "### Build the model"
   ]
  },
  {
   "cell_type": "code",
   "execution_count": 68,
   "metadata": {
    "collapsed": true,
    "extensions": {
     "jupyter_dashboards": {
      "version": 1,
      "views": {
       "grid_default": {
        "hidden": true
       },
       "report_default": {}
      }
     }
    }
   },
   "outputs": [],
   "source": [
    "# Open questions: why are those parameters used for?\n",
    "batch_size = 5\n",
    "epochs = 50"
   ]
  },
  {
   "cell_type": "code",
   "execution_count": 69,
   "metadata": {
    "collapsed": true,
    "extensions": {
     "jupyter_dashboards": {
      "version": 1,
      "views": {
       "grid_default": {
        "hidden": true
       },
       "report_default": {}
      }
     }
    }
   },
   "outputs": [],
   "source": [
    "# Build the model\n",
    "model = Sequential()\n",
    "model.add(Dense(16, input_shape=(max_words,)))\n",
    "model.add(Activation('relu'))\n",
    "model.add(Dropout(0.8))\n",
    "model.add(Dense(num_classes))\n",
    "model.add(Activation('softmax'))"
   ]
  },
  {
   "cell_type": "markdown",
   "metadata": {
    "extensions": {
     "jupyter_dashboards": {
      "version": 1,
      "views": {
       "grid_default": {
        "hidden": true
       },
       "report_default": {}
      }
     }
    }
   },
   "source": [
    "### Loss function and optimizer\n",
    "A model needs a loss function and an optimizer for training. Since this is a categorical classification problem and the model outputs a probability (a single-unit layer with a sigmoid activation), we'll use the categorical_crossentropy loss function.\n",
    "This isn't the only choice for a loss function, you could, for instance, choose mean_squared_error. But, generally, categorical_crossentropy is better for dealing with probabilities—it measures the \"distance\" between probability distributions, or in our case, between the ground-truth distribution and the predictions.\n",
    "Later, when we are exploring regression problems (say, to predict the price of a house), we will see how to use another loss function called mean squared error.\n",
    "Now, configure the model to use an optimizer and a loss function:"
   ]
  },
  {
   "cell_type": "code",
   "execution_count": 70,
   "metadata": {
    "extensions": {
     "jupyter_dashboards": {
      "version": 1,
      "views": {
       "grid_default": {
        "hidden": true
       },
       "report_default": {}
      }
     }
    }
   },
   "outputs": [
    {
     "name": "stdout",
     "output_type": "stream",
     "text": [
      "_________________________________________________________________\n",
      "Layer (type)                 Output Shape              Param #   \n",
      "=================================================================\n",
      "dense_15 (Dense)             (None, 16)                14816     \n",
      "_________________________________________________________________\n",
      "activation_13 (Activation)   (None, 16)                0         \n",
      "_________________________________________________________________\n",
      "dropout_4 (Dropout)          (None, 16)                0         \n",
      "_________________________________________________________________\n",
      "dense_16 (Dense)             (None, 6)                 102       \n",
      "_________________________________________________________________\n",
      "activation_14 (Activation)   (None, 6)                 0         \n",
      "=================================================================\n",
      "Total params: 14,918\n",
      "Trainable params: 14,918\n",
      "Non-trainable params: 0\n",
      "_________________________________________________________________\n"
     ]
    }
   ],
   "source": [
    "model.compile(loss='categorical_crossentropy',\n",
    "              optimizer='adam',\n",
    "              metrics=['accuracy'])\n",
    "model.summary()"
   ]
  },
  {
   "cell_type": "markdown",
   "metadata": {
    "extensions": {
     "jupyter_dashboards": {
      "version": 1,
      "views": {
       "grid_default": {
        "col": 8,
        "height": 4,
        "hidden": false,
        "row": 17,
        "width": 4
       },
       "report_default": {}
      }
     }
    }
   },
   "source": [
    "### Train the model"
   ]
  },
  {
   "cell_type": "code",
   "execution_count": 16,
   "metadata": {
    "extensions": {
     "jupyter_dashboards": {
      "version": 1,
      "views": {
       "grid_default": {
        "col": 0,
        "height": 16,
        "hidden": false,
        "row": 21,
        "width": 4
       },
       "report_default": {}
      }
     }
    }
   },
   "outputs": [
    {
     "name": "stdout",
     "output_type": "stream",
     "text": [
      "Train on 468 samples, validate on 118 samples\n",
      "Epoch 1/50\n",
      "468/468 [==============================] - 1s 1ms/step - loss: 1.5967 - acc: 0.3526 - val_loss: 1.2559 - val_acc: 0.6441\n",
      "Epoch 2/50\n",
      "468/468 [==============================] - 0s 272us/step - loss: 1.4231 - acc: 0.4808 - val_loss: 1.0363 - val_acc: 0.6186\n",
      "Epoch 3/50\n",
      "468/468 [==============================] - 0s 263us/step - loss: 1.2959 - acc: 0.5342 - val_loss: 0.9663 - val_acc: 0.6695\n",
      "Epoch 4/50\n",
      "468/468 [==============================] - 0s 265us/step - loss: 1.1911 - acc: 0.5513 - val_loss: 0.9034 - val_acc: 0.6695\n",
      "Epoch 5/50\n",
      "468/468 [==============================] - 0s 261us/step - loss: 1.1247 - acc: 0.5641 - val_loss: 0.8865 - val_acc: 0.6610\n",
      "Epoch 6/50\n",
      "468/468 [==============================] - 0s 257us/step - loss: 1.0205 - acc: 0.5662 - val_loss: 0.8363 - val_acc: 0.6780\n",
      "Epoch 7/50\n",
      "468/468 [==============================] - 0s 288us/step - loss: 0.9739 - acc: 0.5919 - val_loss: 0.7938 - val_acc: 0.6864\n",
      "Epoch 8/50\n",
      "468/468 [==============================] - 0s 400us/step - loss: 1.0286 - acc: 0.5833 - val_loss: 0.8273 - val_acc: 0.6864\n",
      "Epoch 9/50\n",
      "468/468 [==============================] - 0s 309us/step - loss: 0.9414 - acc: 0.5534 - val_loss: 0.7720 - val_acc: 0.6864\n",
      "Epoch 10/50\n",
      "468/468 [==============================] - 0s 253us/step - loss: 0.9161 - acc: 0.5748 - val_loss: 0.7931 - val_acc: 0.6780\n",
      "Epoch 11/50\n",
      "468/468 [==============================] - 0s 225us/step - loss: 0.8694 - acc: 0.6474 - val_loss: 0.7548 - val_acc: 0.6949\n",
      "Epoch 12/50\n",
      "468/468 [==============================] - 0s 232us/step - loss: 0.8927 - acc: 0.6154 - val_loss: 0.7520 - val_acc: 0.6949\n",
      "Epoch 13/50\n",
      "468/468 [==============================] - 0s 231us/step - loss: 0.8642 - acc: 0.6068 - val_loss: 0.7373 - val_acc: 0.6864\n",
      "Epoch 14/50\n",
      "468/468 [==============================] - 0s 242us/step - loss: 0.8526 - acc: 0.6517 - val_loss: 0.7300 - val_acc: 0.6949\n",
      "Epoch 15/50\n",
      "468/468 [==============================] - 0s 274us/step - loss: 0.8487 - acc: 0.6474 - val_loss: 0.7444 - val_acc: 0.6864\n",
      "Epoch 16/50\n",
      "468/468 [==============================] - 0s 288us/step - loss: 0.8008 - acc: 0.6581 - val_loss: 0.7259 - val_acc: 0.6949\n",
      "Epoch 17/50\n",
      "468/468 [==============================] - 0s 251us/step - loss: 0.7979 - acc: 0.6816 - val_loss: 0.7663 - val_acc: 0.6695\n",
      "Epoch 18/50\n",
      "468/468 [==============================] - 0s 242us/step - loss: 0.7737 - acc: 0.6688 - val_loss: 0.7352 - val_acc: 0.7034\n",
      "Epoch 19/50\n",
      "468/468 [==============================] - 0s 238us/step - loss: 0.7787 - acc: 0.6838 - val_loss: 0.7702 - val_acc: 0.6780\n",
      "Epoch 20/50\n",
      "468/468 [==============================] - 0s 237us/step - loss: 0.8003 - acc: 0.6368 - val_loss: 0.7329 - val_acc: 0.6949\n",
      "Epoch 21/50\n",
      "468/468 [==============================] - 0s 239us/step - loss: 0.7712 - acc: 0.6774 - val_loss: 0.7436 - val_acc: 0.6864\n",
      "Epoch 22/50\n",
      "468/468 [==============================] - 0s 221us/step - loss: 0.7626 - acc: 0.6816 - val_loss: 0.7302 - val_acc: 0.6949\n",
      "Epoch 23/50\n",
      "468/468 [==============================] - 0s 225us/step - loss: 0.7818 - acc: 0.6795 - val_loss: 0.7062 - val_acc: 0.6949\n",
      "Epoch 24/50\n",
      "468/468 [==============================] - 0s 231us/step - loss: 0.7697 - acc: 0.6624 - val_loss: 0.7124 - val_acc: 0.7203\n",
      "Epoch 25/50\n",
      "468/468 [==============================] - 0s 262us/step - loss: 0.7182 - acc: 0.7009 - val_loss: 0.7306 - val_acc: 0.6949\n",
      "Epoch 26/50\n",
      "468/468 [==============================] - 0s 268us/step - loss: 0.7096 - acc: 0.6859 - val_loss: 0.7877 - val_acc: 0.6949\n",
      "Epoch 27/50\n",
      "468/468 [==============================] - 0s 278us/step - loss: 0.7215 - acc: 0.6944 - val_loss: 0.7626 - val_acc: 0.6949\n",
      "Epoch 28/50\n",
      "468/468 [==============================] - 0s 263us/step - loss: 0.7120 - acc: 0.6966 - val_loss: 0.7603 - val_acc: 0.6949\n",
      "Epoch 29/50\n",
      "468/468 [==============================] - 0s 246us/step - loss: 0.7157 - acc: 0.6902 - val_loss: 0.6858 - val_acc: 0.7288\n",
      "Epoch 30/50\n",
      "468/468 [==============================] - 0s 228us/step - loss: 0.7009 - acc: 0.6859 - val_loss: 0.7404 - val_acc: 0.6949\n",
      "Epoch 31/50\n",
      "468/468 [==============================] - 0s 226us/step - loss: 0.7673 - acc: 0.6923 - val_loss: 0.7299 - val_acc: 0.7203\n",
      "Epoch 32/50\n",
      "468/468 [==============================] - 0s 282us/step - loss: 0.7059 - acc: 0.6944 - val_loss: 0.7344 - val_acc: 0.7119\n",
      "Epoch 33/50\n",
      "468/468 [==============================] - 0s 381us/step - loss: 0.7306 - acc: 0.6859 - val_loss: 0.7462 - val_acc: 0.7119\n",
      "Epoch 34/50\n",
      "468/468 [==============================] - 0s 245us/step - loss: 0.6885 - acc: 0.7265 - val_loss: 0.7610 - val_acc: 0.7203\n",
      "Epoch 35/50\n",
      "468/468 [==============================] - 0s 253us/step - loss: 0.6512 - acc: 0.7137 - val_loss: 0.7019 - val_acc: 0.7288\n",
      "Epoch 36/50\n",
      "468/468 [==============================] - 0s 252us/step - loss: 0.6893 - acc: 0.6966 - val_loss: 0.7313 - val_acc: 0.7458\n",
      "Epoch 37/50\n",
      "468/468 [==============================] - 0s 237us/step - loss: 0.6711 - acc: 0.7286 - val_loss: 0.7888 - val_acc: 0.7034\n",
      "Epoch 38/50\n",
      "468/468 [==============================] - 0s 234us/step - loss: 0.6686 - acc: 0.7286 - val_loss: 0.7781 - val_acc: 0.7034\n",
      "Epoch 39/50\n",
      "468/468 [==============================] - 0s 234us/step - loss: 0.6527 - acc: 0.7393 - val_loss: 0.7567 - val_acc: 0.7458\n",
      "Epoch 40/50\n",
      "468/468 [==============================] - 0s 268us/step - loss: 0.6909 - acc: 0.7094 - val_loss: 0.7166 - val_acc: 0.7458\n",
      "Epoch 41/50\n",
      "468/468 [==============================] - 0s 281us/step - loss: 0.6102 - acc: 0.7585 - val_loss: 0.7753 - val_acc: 0.7288\n",
      "Epoch 42/50\n",
      "468/468 [==============================] - 0s 259us/step - loss: 0.6469 - acc: 0.7265 - val_loss: 0.8169 - val_acc: 0.6949\n",
      "Epoch 43/50\n",
      "468/468 [==============================] - 0s 253us/step - loss: 0.6355 - acc: 0.7265 - val_loss: 0.7473 - val_acc: 0.7373\n",
      "Epoch 44/50\n",
      "468/468 [==============================] - 0s 341us/step - loss: 0.6046 - acc: 0.7479 - val_loss: 0.7740 - val_acc: 0.7288\n",
      "Epoch 45/50\n",
      "468/468 [==============================] - 0s 254us/step - loss: 0.5954 - acc: 0.7265 - val_loss: 0.7204 - val_acc: 0.7712\n",
      "Epoch 46/50\n",
      "468/468 [==============================] - 0s 243us/step - loss: 0.6244 - acc: 0.7500 - val_loss: 0.7374 - val_acc: 0.7627\n",
      "Epoch 47/50\n",
      "468/468 [==============================] - 0s 233us/step - loss: 0.6165 - acc: 0.7436 - val_loss: 0.7589 - val_acc: 0.7542\n",
      "Epoch 48/50\n",
      "468/468 [==============================] - 0s 245us/step - loss: 0.5992 - acc: 0.7564 - val_loss: 0.7632 - val_acc: 0.7458\n",
      "Epoch 49/50\n",
      "468/468 [==============================] - 0s 388us/step - loss: 0.6483 - acc: 0.7308 - val_loss: 0.7344 - val_acc: 0.7542\n",
      "Epoch 50/50\n",
      "468/468 [==============================] - 0s 285us/step - loss: 0.5835 - acc: 0.7543 - val_loss: 0.7196 - val_acc: 0.7542\n"
     ]
    }
   ],
   "source": [
    "history = model.fit(x_train_o, y_train_o,\n",
    "                    batch_size=batch_size,\n",
    "                    epochs=epochs,\n",
    "                    verbose=1,\n",
    "                    validation_split=0.2)"
   ]
  },
  {
   "cell_type": "code",
   "execution_count": 17,
   "metadata": {
    "extensions": {
     "jupyter_dashboards": {
      "version": 1,
      "views": {
       "grid_default": {
        "col": 8,
        "height": 4,
        "hidden": false,
        "row": 21,
        "width": 4
       },
       "report_default": {}
      }
     }
    }
   },
   "outputs": [
    {
     "name": "stdout",
     "output_type": "stream",
     "text": [
      "147/147 [==============================] - 0s 129us/step\n",
      "Test score: 0.8308596070729145\n",
      "Test accuracy: 0.7414966100940898\n"
     ]
    }
   ],
   "source": [
    "# Evaluate the accuracy of our trained model\n",
    "score = model.evaluate(x_test_o, y_test_o,\n",
    "                       batch_size=batch_size, verbose=1)\n",
    "print('Test score:', score[0])\n",
    "print('Test accuracy:', score[1])"
   ]
  },
  {
   "cell_type": "markdown",
   "metadata": {
    "extensions": {
     "jupyter_dashboards": {
      "version": 1,
      "views": {
       "grid_default": {
        "col": 0,
        "height": 4,
        "hidden": false,
        "row": 37,
        "width": 12
       },
       "report_default": {}
      }
     }
    }
   },
   "source": [
    "### Create a graph of accuracy and loss over time\n",
    "\n",
    "`model.fit()` returns a `History` object that contains a dictionary with everything that happened during training:"
   ]
  },
  {
   "cell_type": "code",
   "execution_count": 18,
   "metadata": {
    "extensions": {
     "jupyter_dashboards": {
      "version": 1,
      "views": {
       "grid_default": {
        "col": 4,
        "height": 4,
        "hidden": false,
        "row": 23,
        "width": 4
       },
       "report_default": {}
      }
     }
    }
   },
   "outputs": [
    {
     "data": {
      "text/plain": [
       "dict_keys(['val_loss', 'val_acc', 'loss', 'acc'])"
      ]
     },
     "execution_count": 18,
     "metadata": {},
     "output_type": "execute_result"
    }
   ],
   "source": [
    "history_dict = history.history\n",
    "history_dict.keys()"
   ]
  },
  {
   "cell_type": "markdown",
   "metadata": {
    "extensions": {
     "jupyter_dashboards": {
      "version": 1,
      "views": {
       "grid_default": {
        "hidden": true
       },
       "report_default": {}
      }
     }
    }
   },
   "source": [
    "There are four entries: one for each monitored metric during training and validation. We can use these to plot the training and validation loss for comparison, as well as the training and validation accuracy:"
   ]
  },
  {
   "cell_type": "code",
   "execution_count": 19,
   "metadata": {
    "extensions": {
     "jupyter_dashboards": {
      "version": 1,
      "views": {
       "grid_default": {
        "col": 8,
        "height": 9,
        "hidden": false,
        "row": 25,
        "width": 4
       },
       "report_default": {}
      }
     }
    }
   },
   "outputs": [
    {
     "data": {
      "image/png": "[encoded data removed]",
      "text/plain": [
       "<matplotlib.figure.Figure at 0x12b69c278>"
      ]
     },
     "metadata": {},
     "output_type": "display_data"
    }
   ],
   "source": [
    "import matplotlib.pyplot as plt\n",
    "\n",
    "acc = history.history['acc']\n",
    "val_acc = history.history['val_acc']\n",
    "loss = history.history['loss']\n",
    "val_loss = history.history['val_loss']\n",
    "\n",
    "epochs = range(1, len(acc) + 1)\n",
    "\n",
    "# \"bo\" is for \"blue dot\"\n",
    "plt.plot(epochs, loss, 'bo', label='Training loss')\n",
    "# b is for \"solid blue line\"\n",
    "plt.plot(epochs, val_loss, 'b', label='Validation loss')\n",
    "plt.title('Training and validation loss')\n",
    "plt.xlabel('Epochs')\n",
    "plt.ylabel('Loss')\n",
    "plt.legend()\n",
    "\n",
    "plt.show()"
   ]
  },
  {
   "cell_type": "code",
   "execution_count": 20,
   "metadata": {
    "extensions": {
     "jupyter_dashboards": {
      "version": 1,
      "views": {
       "grid_default": {
        "col": 4,
        "height": 9,
        "hidden": false,
        "row": 27,
        "width": 4
       },
       "report_default": {}
      }
     }
    }
   },
   "outputs": [
    {
     "data": {
      "image/png": "[encoded data removed]",
      "text/plain": [
       "<matplotlib.figure.Figure at 0x12b694da0>"
      ]
     },
     "metadata": {},
     "output_type": "display_data"
    }
   ],
   "source": [
    "plt.clf()   # clear figure\n",
    "acc_values = history_dict['acc']\n",
    "val_acc_values = history_dict['val_acc']\n",
    "\n",
    "plt.plot(epochs, acc, 'bo', label='Training acc')\n",
    "plt.plot(epochs, val_acc, 'b', label='Validation acc')\n",
    "plt.title('Training and validation accuracy')\n",
    "plt.xlabel('Epochs')\n",
    "plt.ylabel('Accuracy')\n",
    "plt.legend()\n",
    "\n",
    "plt.show()"
   ]
  },
  {
   "cell_type": "markdown",
   "metadata": {
    "extensions": {
     "jupyter_dashboards": {
      "version": 1,
      "views": {
       "grid_default": {
        "hidden": true
       },
       "report_default": {}
      }
     }
    }
   },
   "source": [
    "In this plot, the dots represent the training loss and accuracy, and the solid lines are the validation loss and accuracy.\n",
    "Notice the training loss decreases with each epoch and the training accuracy increases with each epoch. This is expected when using a gradient descent optimization—it should minimize the desired quantity on every iteration.\n",
    "This isn't the case for the validation loss and accuracy—they seem to peak after about twenty epochs. This is an example of overfitting: the model performs better on the training data than it does on data it has never seen before. After this point, the model over-optimizes and learns representations specific to the training data that do not generalize to test data.\n",
    "For this particular case, we could prevent overfitting by simply stopping the training after twenty or so epochs. Later, you'll see how to do this automatically with a callback."
   ]
  },
  {
   "cell_type": "markdown",
   "metadata": {
    "extensions": {
     "jupyter_dashboards": {
      "version": 1,
      "views": {
       "grid_default": {
        "col": 0,
        "height": 4,
        "hidden": false,
        "row": 41,
        "width": 4
       },
       "report_default": {}
      }
     }
    }
   },
   "source": [
    "### Evaluate model"
   ]
  },
  {
   "cell_type": "markdown",
   "metadata": {
    "extensions": {
     "jupyter_dashboards": {
      "version": 1,
      "views": {
       "grid_default": {
        "col": 4,
        "height": 4,
        "hidden": false,
        "row": 41,
        "width": 4
       },
       "report_default": {}
      }
     }
    }
   },
   "source": [
    "#### Scenario 1: Verify 10 records in test dataset"
   ]
  },
  {
   "cell_type": "code",
   "execution_count": 22,
   "metadata": {
    "extensions": {
     "jupyter_dashboards": {
      "version": 1,
      "views": {
       "grid_default": {
        "col": 8,
        "height": 52,
        "hidden": false,
        "row": 41,
        "width": 4
       },
       "report_default": {}
      }
     }
    }
   },
   "outputs": [
    {
     "name": "stdout",
     "output_type": "stream",
     "text": [
      "do you have user guide as to what i need to do . f ...\n",
      "Actual label:Timesheet\n",
      "Predicted label: Timesheet\n",
      "\n",
      "as you know there s still missing approver data as ...\n",
      "Actual label:non-issue\n",
      "Predicted label: non-issue\n",
      "\n",
      "we already assigned cheng shin aik staff as 2nd ap ...\n",
      "Actual label:Authorization\n",
      "Predicted label: Timesheet\n",
      "\n",
      "when i click on choose button to select timesheet  ...\n",
      "Actual label:Timesheet\n",
      "Predicted label: Timesheet\n",
      "\n",
      "you must be busy now but there s timesheet missing ...\n",
      "Actual label:Timesheet\n",
      "Predicted label: Timesheet\n",
      "\n",
      "i would like to inform the problem that i couldn t ...\n",
      "Actual label:Authorization\n",
      "Predicted label: Timesheet\n",
      "\n",
      "sorry to bother you please approve my timesheet kh ...\n",
      "Actual label:Timesheet\n",
      "Predicted label: Timesheet\n",
      "\n",
      "could you please set up your browser according to  ...\n",
      "Actual label:non-issue\n",
      "Predicted label: non-issue\n",
      "\n",
      "i d like to check why 0 hour charged following sta ...\n",
      "Actual label:non-issue\n",
      "Predicted label: non-issue\n",
      "\n",
      "i d like to check why 0 hour charged as below . if ...\n",
      "Actual label:non-issue\n",
      "Predicted label: non-issue\n",
      "\n"
     ]
    }
   ],
   "source": [
    "# Here's how to generate a prediction on individual examples\n",
    "text_labels = encoder.classes_ \n",
    "\n",
    "for i in range(10):\n",
    "    prediction = model.predict(np.array([x_test_o[i]]))\n",
    "    predicted_label = text_labels[np.argmax(prediction)]\n",
    "    print(test_narrative.iloc[i][:50], \"...\")\n",
    "    print('Actual label:' + test_product.iloc[i])\n",
    "    print(\"Predicted label: \" + predicted_label + \"\\n\")"
   ]
  },
  {
   "cell_type": "markdown",
   "metadata": {
    "extensions": {
     "jupyter_dashboards": {
      "version": 1,
      "views": {
       "grid_default": {
        "hidden": true
       },
       "report_default": {}
      }
     }
    }
   },
   "source": [
    "#### Scenario 2: Predict category based on manual input"
   ]
  },
  {
   "cell_type": "code",
   "execution_count": 23,
   "metadata": {
    "extensions": {
     "jupyter_dashboards": {
      "version": 1,
      "views": {
       "grid_default": {
        "hidden": true
       },
       "report_default": {}
      }
     }
    }
   },
   "outputs": [
    {
     "name": "stdout",
     "output_type": "stream",
     "text": [
      "> I have assigned mr. li with accessing timesheet\n",
      "Bot: Timesheet Probality: 0.6140563\n",
      "> quit\n"
     ]
    }
   ],
   "source": [
    "input_sentence = ''\n",
    "while(1):\n",
    "    try:\n",
    "        # Get input sentence\n",
    "        input_sentence = input('> ')\n",
    "        # Check if it is quit case\n",
    "        if input_sentence == 'q' or input_sentence == 'quit': \n",
    "            break\n",
    "        # Normalize sentence\n",
    "        input_sentence = tokenize.texts_to_matrix([input_sentence])       \n",
    "        pred_output = model.predict(np.array(input_sentence))\n",
    "        pred_prob=model.predict_proba(np.array(input_sentence))\n",
    "        predicted_label = text_labels[np.argmax(pred_output)]\n",
    "        print('Bot:', ' '.join([predicted_label,'Probality:',str(pred_prob[0,np.argmax(pred_output)])]))\n",
    "    except KeyError:\n",
    "        print(\"Error: Encountered unknown word.\")"
   ]
  },
  {
   "cell_type": "code",
   "execution_count": 24,
   "metadata": {
    "extensions": {
     "jupyter_dashboards": {
      "version": 1,
      "views": {
       "grid_default": {
        "col": 0,
        "height": 14,
        "hidden": false,
        "row": 50,
        "width": 4
       },
       "report_default": {}
      }
     }
    }
   },
   "outputs": [
    {
     "data": {
      "text/plain": [
       "array(['Authorization', 'Others', 'Project', 'Report', 'Timesheet',\n",
       "       'non-issue'], dtype=object)"
      ]
     },
     "execution_count": 24,
     "metadata": {},
     "output_type": "execute_result"
    }
   ],
   "source": [
    "encoder.classes_"
   ]
  },
  {
   "cell_type": "markdown",
   "metadata": {},
   "source": [
    "## 2. Model with pre-trained embedding layer - Glove"
   ]
  },
  {
   "cell_type": "code",
   "execution_count": 25,
   "metadata": {
    "collapsed": true
   },
   "outputs": [],
   "source": [
    "MAX_SEQUENCE_LENGTH = max_words\n",
    "MAX_NUM_WORDS = 20000\n",
    "EMBEDDING_DIM = 100\n",
    "VALIDATION_SPLIT = 0.2"
   ]
  },
  {
   "cell_type": "code",
   "execution_count": 26,
   "metadata": {},
   "outputs": [
    {
     "name": "stdout",
     "output_type": "stream",
     "text": [
      "Found 400001 word vectors.\n"
     ]
    }
   ],
   "source": [
    "embeddings_index = {}\n",
    "f = open(os.path.join('../98_data/glove.6B.100d.txt'))\n",
    "for line in f:\n",
    "    values = line.split()\n",
    "    word = values[0]\n",
    "    coefs = np.asarray(values[1:], dtype='float32')\n",
    "    embeddings_index[word] = coefs\n",
    "f.close()\n",
    "\n",
    "print('Found %s word vectors.' % len(embeddings_index))"
   ]
  },
  {
   "cell_type": "code",
   "execution_count": 71,
   "metadata": {
    "collapsed": true
   },
   "outputs": [],
   "source": [
    "#leverage embedding_index dictionary and word_index to compute our embedding matrix:\n",
    "embedding_matrix = np.zeros((len(word_index) + 1, EMBEDDING_DIM))\n",
    "for word, i in word_index.items():\n",
    "    embedding_vector = embeddings_index.get(word)\n",
    "    if embedding_vector is not None:\n",
    "        # words not found in embedding index will be all-zeros.\n",
    "        embedding_matrix[i] = embedding_vector"
   ]
  },
  {
   "cell_type": "code",
   "execution_count": 72,
   "metadata": {
    "collapsed": true
   },
   "outputs": [],
   "source": [
    "embedding_layer = Embedding(len(word_index) + 1,\n",
    "                            EMBEDDING_DIM,\n",
    "                            weights=[embedding_matrix],\n",
    "                            input_length=MAX_SEQUENCE_LENGTH,\n",
    "                            trainable=False)"
   ]
  },
  {
   "cell_type": "code",
   "execution_count": 73,
   "metadata": {},
   "outputs": [
    {
     "name": "stdout",
     "output_type": "stream",
     "text": [
      "_________________________________________________________________\n",
      "Layer (type)                 Output Shape              Param #   \n",
      "=================================================================\n",
      "embedding_7 (Embedding)      (None, 925, 100)          238700    \n",
      "_________________________________________________________________\n",
      "flatten_3 (Flatten)          (None, 92500)             0         \n",
      "_________________________________________________________________\n",
      "dense_17 (Dense)             (None, 16)                1480016   \n",
      "_________________________________________________________________\n",
      "dropout_5 (Dropout)          (None, 16)                0         \n",
      "_________________________________________________________________\n",
      "dense_18 (Dense)             (None, 6)                 102       \n",
      "_________________________________________________________________\n",
      "activation_15 (Activation)   (None, 6)                 0         \n",
      "=================================================================\n",
      "Total params: 1,718,818\n",
      "Trainable params: 1,480,118\n",
      "Non-trainable params: 238,700\n",
      "_________________________________________________________________\n"
     ]
    }
   ],
   "source": [
    "# Build the model\n",
    "model = Sequential()\n",
    "model.add(embedding_layer)\n",
    "model.add(Flatten())\n",
    "model.add(Dense(16, activation='sigmoid'))\n",
    "model.add(Dropout(0.8))\n",
    "model.add(Dense(num_classes))\n",
    "model.add(Activation('softmax'))\n",
    "model.compile(loss='categorical_crossentropy',\n",
    "              optimizer='adam',\n",
    "              metrics=['accuracy'])\n",
    "model.summary()"
   ]
  },
  {
   "cell_type": "code",
   "execution_count": 30,
   "metadata": {},
   "outputs": [
    {
     "name": "stdout",
     "output_type": "stream",
     "text": [
      "Train on 468 samples, validate on 118 samples\n",
      "Epoch 1/50\n",
      "468/468 [==============================] - 1s 3ms/step - loss: 1.5297 - acc: 0.4103 - val_loss: 1.0540 - val_acc: 0.6780\n",
      "Epoch 2/50\n",
      "468/468 [==============================] - 1s 2ms/step - loss: 1.3488 - acc: 0.5128 - val_loss: 0.9750 - val_acc: 0.7373\n",
      "Epoch 3/50\n",
      "468/468 [==============================] - 1s 2ms/step - loss: 1.2051 - acc: 0.5491 - val_loss: 0.9446 - val_acc: 0.6441\n",
      "Epoch 4/50\n",
      "468/468 [==============================] - 1s 2ms/step - loss: 1.2005 - acc: 0.5620 - val_loss: 0.9322 - val_acc: 0.6780\n",
      "Epoch 5/50\n",
      "468/468 [==============================] - 1s 2ms/step - loss: 1.1051 - acc: 0.5919 - val_loss: 0.8734 - val_acc: 0.7288\n",
      "Epoch 6/50\n",
      "468/468 [==============================] - 1s 2ms/step - loss: 1.0878 - acc: 0.5726 - val_loss: 0.8583 - val_acc: 0.7119\n",
      "Epoch 7/50\n",
      "468/468 [==============================] - 1s 2ms/step - loss: 1.0054 - acc: 0.5833 - val_loss: 0.8322 - val_acc: 0.6949\n",
      "Epoch 8/50\n",
      "468/468 [==============================] - 1s 2ms/step - loss: 0.9329 - acc: 0.6282 - val_loss: 0.7944 - val_acc: 0.7458\n",
      "Epoch 9/50\n",
      "468/468 [==============================] - 1s 2ms/step - loss: 0.9995 - acc: 0.6026 - val_loss: 0.8648 - val_acc: 0.6695\n",
      "Epoch 10/50\n",
      "468/468 [==============================] - 1s 2ms/step - loss: 0.9557 - acc: 0.6389 - val_loss: 0.8235 - val_acc: 0.7119\n",
      "Epoch 11/50\n",
      "468/468 [==============================] - 1s 3ms/step - loss: 0.9852 - acc: 0.5919 - val_loss: 0.8137 - val_acc: 0.7119\n",
      "Epoch 12/50\n",
      "468/468 [==============================] - 1s 3ms/step - loss: 0.8968 - acc: 0.6068 - val_loss: 0.8018 - val_acc: 0.6864\n",
      "Epoch 13/50\n",
      "468/468 [==============================] - 1s 3ms/step - loss: 0.9300 - acc: 0.6111 - val_loss: 0.8231 - val_acc: 0.6864\n",
      "Epoch 14/50\n",
      "468/468 [==============================] - 1s 2ms/step - loss: 0.8665 - acc: 0.6346 - val_loss: 0.7931 - val_acc: 0.7119\n",
      "Epoch 15/50\n",
      "468/468 [==============================] - 1s 2ms/step - loss: 0.8226 - acc: 0.6816 - val_loss: 0.7909 - val_acc: 0.7203\n",
      "Epoch 16/50\n",
      "468/468 [==============================] - 1s 2ms/step - loss: 0.8847 - acc: 0.6282 - val_loss: 0.8095 - val_acc: 0.7288\n",
      "Epoch 17/50\n",
      "468/468 [==============================] - 1s 2ms/step - loss: 0.8791 - acc: 0.6581 - val_loss: 0.7720 - val_acc: 0.7458\n",
      "Epoch 18/50\n",
      "468/468 [==============================] - 1s 2ms/step - loss: 0.8674 - acc: 0.6538 - val_loss: 0.8540 - val_acc: 0.7034\n",
      "Epoch 19/50\n",
      "468/468 [==============================] - 1s 2ms/step - loss: 0.8748 - acc: 0.6175 - val_loss: 0.7729 - val_acc: 0.6864\n",
      "Epoch 20/50\n",
      "468/468 [==============================] - 1s 2ms/step - loss: 0.8697 - acc: 0.6346 - val_loss: 0.7621 - val_acc: 0.7203\n",
      "Epoch 21/50\n",
      "468/468 [==============================] - 1s 2ms/step - loss: 0.8518 - acc: 0.6282 - val_loss: 0.8126 - val_acc: 0.6525\n",
      "Epoch 22/50\n",
      "468/468 [==============================] - 1s 2ms/step - loss: 0.8201 - acc: 0.6090 - val_loss: 0.7963 - val_acc: 0.7119\n",
      "Epoch 23/50\n",
      "468/468 [==============================] - 1s 2ms/step - loss: 0.8529 - acc: 0.6090 - val_loss: 0.7399 - val_acc: 0.7373\n",
      "Epoch 24/50\n",
      "468/468 [==============================] - 1s 2ms/step - loss: 0.8292 - acc: 0.6303 - val_loss: 0.7897 - val_acc: 0.7034\n",
      "Epoch 25/50\n",
      "468/468 [==============================] - 1s 2ms/step - loss: 0.7941 - acc: 0.6282 - val_loss: 0.8267 - val_acc: 0.7203\n",
      "Epoch 26/50\n",
      "468/468 [==============================] - 1s 3ms/step - loss: 0.7954 - acc: 0.6709 - val_loss: 0.8030 - val_acc: 0.7203\n",
      "Epoch 27/50\n",
      "468/468 [==============================] - 1s 3ms/step - loss: 0.8076 - acc: 0.6368 - val_loss: 0.7719 - val_acc: 0.7034\n",
      "Epoch 28/50\n",
      "468/468 [==============================] - 1s 2ms/step - loss: 0.7587 - acc: 0.6688 - val_loss: 0.7219 - val_acc: 0.7288\n",
      "Epoch 29/50\n",
      "468/468 [==============================] - 1s 2ms/step - loss: 0.7807 - acc: 0.6453 - val_loss: 0.8282 - val_acc: 0.7034\n",
      "Epoch 30/50\n",
      "468/468 [==============================] - 1s 2ms/step - loss: 0.8231 - acc: 0.6517 - val_loss: 0.7358 - val_acc: 0.7203\n",
      "Epoch 31/50\n",
      "468/468 [==============================] - 1s 2ms/step - loss: 0.7588 - acc: 0.6624 - val_loss: 0.7887 - val_acc: 0.7288\n",
      "Epoch 32/50\n",
      "468/468 [==============================] - 1s 3ms/step - loss: 0.7923 - acc: 0.6560 - val_loss: 0.7446 - val_acc: 0.7288\n",
      "Epoch 33/50\n",
      "468/468 [==============================] - 1s 3ms/step - loss: 0.7345 - acc: 0.6944 - val_loss: 0.7309 - val_acc: 0.7119\n",
      "Epoch 34/50\n",
      "468/468 [==============================] - 1s 2ms/step - loss: 0.7845 - acc: 0.6709 - val_loss: 0.7357 - val_acc: 0.7119\n",
      "Epoch 35/50\n",
      "468/468 [==============================] - 1s 2ms/step - loss: 0.7314 - acc: 0.6517 - val_loss: 0.7162 - val_acc: 0.7288\n",
      "Epoch 36/50\n",
      "468/468 [==============================] - 1s 2ms/step - loss: 0.7094 - acc: 0.6902 - val_loss: 0.7678 - val_acc: 0.7458\n",
      "Epoch 37/50\n",
      "468/468 [==============================] - 1s 2ms/step - loss: 0.7251 - acc: 0.6902 - val_loss: 0.7123 - val_acc: 0.7542\n",
      "Epoch 38/50\n",
      "468/468 [==============================] - 1s 3ms/step - loss: 0.7430 - acc: 0.6432 - val_loss: 0.7323 - val_acc: 0.7373\n",
      "Epoch 39/50\n",
      "468/468 [==============================] - 1s 3ms/step - loss: 0.7234 - acc: 0.6688 - val_loss: 0.7254 - val_acc: 0.7373\n",
      "Epoch 40/50\n",
      "468/468 [==============================] - 2s 3ms/step - loss: 0.7345 - acc: 0.6603 - val_loss: 0.7255 - val_acc: 0.7119\n",
      "Epoch 41/50\n",
      "468/468 [==============================] - 2s 4ms/step - loss: 0.7138 - acc: 0.6838 - val_loss: 0.6969 - val_acc: 0.7373\n",
      "Epoch 42/50\n",
      "468/468 [==============================] - 2s 3ms/step - loss: 0.6768 - acc: 0.7222 - val_loss: 0.7785 - val_acc: 0.7288\n",
      "Epoch 43/50\n",
      "468/468 [==============================] - 1s 3ms/step - loss: 0.7122 - acc: 0.7329 - val_loss: 0.7099 - val_acc: 0.7373\n",
      "Epoch 44/50\n",
      "468/468 [==============================] - 1s 3ms/step - loss: 0.7038 - acc: 0.6923 - val_loss: 0.7115 - val_acc: 0.7373\n",
      "Epoch 45/50\n",
      "468/468 [==============================] - 1s 3ms/step - loss: 0.7142 - acc: 0.7009 - val_loss: 0.7703 - val_acc: 0.7119\n",
      "Epoch 46/50\n",
      "468/468 [==============================] - 1s 3ms/step - loss: 0.6850 - acc: 0.7030 - val_loss: 0.7334 - val_acc: 0.7458\n",
      "Epoch 47/50\n",
      "468/468 [==============================] - 1s 3ms/step - loss: 0.7050 - acc: 0.6731 - val_loss: 0.7411 - val_acc: 0.7373\n",
      "Epoch 48/50\n",
      "468/468 [==============================] - 1s 3ms/step - loss: 0.7719 - acc: 0.6709 - val_loss: 0.7534 - val_acc: 0.7288\n",
      "Epoch 49/50\n",
      "468/468 [==============================] - 1s 3ms/step - loss: 0.7240 - acc: 0.6859 - val_loss: 0.7446 - val_acc: 0.7542\n",
      "Epoch 50/50\n",
      "468/468 [==============================] - 1s 3ms/step - loss: 0.7032 - acc: 0.6966 - val_loss: 0.7185 - val_acc: 0.7288\n"
     ]
    }
   ],
   "source": [
    "batch_size = 5\n",
    "epochs = 50\n",
    "history = model.fit(x_train_o, y_train_o,\n",
    "                    batch_size=batch_size,\n",
    "                    epochs=epochs,\n",
    "                    verbose=1,\n",
    "                    validation_split=0.2)"
   ]
  },
  {
   "cell_type": "code",
   "execution_count": 31,
   "metadata": {},
   "outputs": [
    {
     "name": "stdout",
     "output_type": "stream",
     "text": [
      "147/147 [==============================] - 0s 469us/step\n",
      "Test score: 0.8581229376346886\n",
      "Test accuracy: 0.7346938909316549\n"
     ]
    }
   ],
   "source": [
    "# Evaluate the accuracy of our trained model\n",
    "score = model.evaluate(x_test_o, y_test_o,\n",
    "                       batch_size=batch_size, verbose=1)\n",
    "print('Test score:', score[0])\n",
    "print('Test accuracy:', score[1])"
   ]
  },
  {
   "cell_type": "code",
   "execution_count": 32,
   "metadata": {},
   "outputs": [
    {
     "data": {
      "text/plain": [
       "dict_keys(['val_loss', 'val_acc', 'loss', 'acc'])"
      ]
     },
     "execution_count": 32,
     "metadata": {},
     "output_type": "execute_result"
    }
   ],
   "source": [
    "history_dict = history.history\n",
    "history_dict.keys()"
   ]
  },
  {
   "cell_type": "code",
   "execution_count": 33,
   "metadata": {},
   "outputs": [
    {
     "data": {
      "image/png": "[encoded data removed]",
      "text/plain": [
       "<matplotlib.figure.Figure at 0x127c90320>"
      ]
     },
     "metadata": {},
     "output_type": "display_data"
    }
   ],
   "source": [
    "import matplotlib.pyplot as plt\n",
    "\n",
    "acc = history.history['acc']\n",
    "val_acc = history.history['val_acc']\n",
    "loss = history.history['loss']\n",
    "val_loss = history.history['val_loss']\n",
    "\n",
    "epochs = range(1, len(acc) + 1)\n",
    "\n",
    "# \"bo\" is for \"blue dot\"\n",
    "plt.plot(epochs, loss, 'bo', label='Training loss')\n",
    "# b is for \"solid blue line\"\n",
    "plt.plot(epochs, val_loss, 'b', label='Validation loss')\n",
    "plt.title('Training and validation loss')\n",
    "plt.xlabel('Epochs')\n",
    "plt.ylabel('Loss')\n",
    "plt.legend()\n",
    "\n",
    "plt.show()"
   ]
  },
  {
   "cell_type": "code",
   "execution_count": 34,
   "metadata": {},
   "outputs": [
    {
     "data": {
      "image/png": "[encoded data removed]",
      "text/plain": [
       "<matplotlib.figure.Figure at 0x127cbe358>"
      ]
     },
     "metadata": {},
     "output_type": "display_data"
    }
   ],
   "source": [
    "plt.clf()   # clear figure\n",
    "acc_values = history_dict['acc']\n",
    "val_acc_values = history_dict['val_acc']\n",
    "\n",
    "plt.plot(epochs, acc, 'bo', label='Training acc')\n",
    "plt.plot(epochs, val_acc, 'b', label='Validation acc')\n",
    "plt.title('Training and validation accuracy')\n",
    "plt.xlabel('Epochs')\n",
    "plt.ylabel('Accuracy')\n",
    "plt.legend()\n",
    "\n",
    "plt.show()"
   ]
  },
  {
   "cell_type": "markdown",
   "metadata": {},
   "source": [
    "## 3. Model with pre-trained embedding layer - Word2Vec and FastText"
   ]
  },
  {
   "cell_type": "code",
   "execution_count": 35,
   "metadata": {},
   "outputs": [
    {
     "data": {
      "text/plain": [
       "(5628839, 9105250)"
      ]
     },
     "execution_count": 35,
     "metadata": {},
     "output_type": "execute_result"
    }
   ],
   "source": [
    "# training the model of word2vec by mail body\n",
    "source_text=pd.DataFrame(data=pd.concat([source['mailbody'],source['mailquestion']]),columns=['mailbody'])\n",
    "mb_sen,_,_=text2word(source_text['mailbody'])\n",
    "model_embedding_w = Word2Vec(sentences=mb_sen, size=EMBEDDING_DIM, window=5, min_count=2, workers=4, sg=0)\n",
    "#model_embedding_w = FastText(mb_sen, size=EMBEDDING_DIM, window=5, min_count=1, workers=4,sg=1)\n",
    "model_embedding_w.train(mb_sen, total_examples=len(mb_sen), epochs=50)"
   ]
  },
  {
   "cell_type": "code",
   "execution_count": 36,
   "metadata": {},
   "outputs": [
    {
     "name": "stdout",
     "output_type": "stream",
     "text": [
      "k not found\n",
      "jan not found\n",
      "aug not found\n",
      "sep not found\n",
      "planed not found\n",
      "away not found\n",
      "tuk not found\n",
      "advanced not found\n",
      "high not found\n",
      "priority not found\n",
      "mavis not found\n",
      "hey not found\n",
      "jingwen not found\n",
      "09 not found\n",
      "tentative not found\n",
      "property not found\n",
      "fills not found\n",
      "oct not found\n",
      "joins not found\n",
      "fontarial not found\n",
      "boldarial not found\n",
      "boldarialred not found\n",
      "layout not found\n",
      "width not found\n",
      "bgsilver not found\n",
      "bgsilverred not found\n",
      "bgwhite not found\n",
      "bgwhitered not found\n",
      "bgyellow not found\n",
      "ffff00 not found\n",
      "hoiday not found\n",
      "comp not found\n",
      "y not found\n"
     ]
    }
   ],
   "source": [
    "#leverage embedding_index dictionary and word_index to compute our embedding matrix:\n",
    "embedding_matrix = np.zeros((len(word_index) + 1, EMBEDDING_DIM))\n",
    "for word, i in word_index.items():\n",
    "    try:\n",
    "        embedding_vector = model_embedding_w.wv.get_vector(word)\n",
    "        if embedding_vector is not None:\n",
    "            # words not found in embedding index will be all-zeros.\n",
    "            embedding_matrix[i] = embedding_vector\n",
    "    except: \n",
    "        print(word, 'not found')"
   ]
  },
  {
   "cell_type": "code",
   "execution_count": 37,
   "metadata": {
    "collapsed": true
   },
   "outputs": [],
   "source": [
    "embedding_layer = Embedding(len(word_index) + 1,\n",
    "                            EMBEDDING_DIM,\n",
    "                            weights=[embedding_matrix],\n",
    "                            input_length=MAX_SEQUENCE_LENGTH,\n",
    "                            trainable=False)"
   ]
  },
  {
   "cell_type": "code",
   "execution_count": 38,
   "metadata": {
    "collapsed": true
   },
   "outputs": [],
   "source": [
    "# Build the model\n",
    "model = Sequential()\n",
    "model.add(embedding_layer)\n",
    "model.add(Flatten())\n",
    "model.add(Dense(16, activation='sigmoid'))\n",
    "model.add(Dropout(0.8))\n",
    "model.add(Dense(num_classes))\n",
    "model.add(Activation('softmax'))\n",
    "model.compile(loss='categorical_crossentropy',\n",
    "              optimizer='adam',\n",
    "              metrics=['accuracy'])"
   ]
  },
  {
   "cell_type": "code",
   "execution_count": 39,
   "metadata": {},
   "outputs": [
    {
     "name": "stdout",
     "output_type": "stream",
     "text": [
      "Train on 468 samples, validate on 118 samples\n",
      "Epoch 1/50\n",
      "468/468 [==============================] - 2s 3ms/step - loss: 1.5079 - acc: 0.4252 - val_loss: 1.0031 - val_acc: 0.6017\n",
      "Epoch 2/50\n",
      "468/468 [==============================] - 1s 2ms/step - loss: 1.2661 - acc: 0.5192 - val_loss: 0.9473 - val_acc: 0.6186\n",
      "Epoch 3/50\n",
      "468/468 [==============================] - 1s 2ms/step - loss: 1.2180 - acc: 0.5897 - val_loss: 0.9390 - val_acc: 0.6017\n",
      "Epoch 4/50\n",
      "468/468 [==============================] - 1s 3ms/step - loss: 1.2424 - acc: 0.5556 - val_loss: 0.8838 - val_acc: 0.6186\n",
      "Epoch 5/50\n",
      "468/468 [==============================] - 1s 2ms/step - loss: 1.0831 - acc: 0.6026 - val_loss: 0.8485 - val_acc: 0.6441\n",
      "Epoch 6/50\n",
      "468/468 [==============================] - 1s 2ms/step - loss: 1.0958 - acc: 0.6346 - val_loss: 0.8541 - val_acc: 0.6271\n",
      "Epoch 7/50\n",
      "468/468 [==============================] - 1s 3ms/step - loss: 1.0673 - acc: 0.6218 - val_loss: 0.9172 - val_acc: 0.6186\n",
      "Epoch 8/50\n",
      "468/468 [==============================] - 1s 3ms/step - loss: 0.9950 - acc: 0.6068 - val_loss: 0.7999 - val_acc: 0.7203\n",
      "Epoch 9/50\n",
      "468/468 [==============================] - 1s 2ms/step - loss: 1.0364 - acc: 0.6068 - val_loss: 0.7898 - val_acc: 0.7288\n",
      "Epoch 10/50\n",
      "468/468 [==============================] - 1s 2ms/step - loss: 0.9449 - acc: 0.6368 - val_loss: 0.7856 - val_acc: 0.7373\n",
      "Epoch 11/50\n",
      "468/468 [==============================] - 1s 2ms/step - loss: 0.9830 - acc: 0.6111 - val_loss: 0.7952 - val_acc: 0.6864\n",
      "Epoch 12/50\n",
      "468/468 [==============================] - 1s 2ms/step - loss: 0.9865 - acc: 0.6175 - val_loss: 0.7827 - val_acc: 0.7288\n",
      "Epoch 13/50\n",
      "468/468 [==============================] - 1s 2ms/step - loss: 0.9370 - acc: 0.6709 - val_loss: 0.7702 - val_acc: 0.7288\n",
      "Epoch 14/50\n",
      "468/468 [==============================] - 1s 2ms/step - loss: 0.8647 - acc: 0.7009 - val_loss: 0.7655 - val_acc: 0.7288\n",
      "Epoch 15/50\n",
      "468/468 [==============================] - 1s 3ms/step - loss: 0.9103 - acc: 0.6838 - val_loss: 0.8051 - val_acc: 0.6864\n",
      "Epoch 16/50\n",
      "468/468 [==============================] - 1s 3ms/step - loss: 0.8893 - acc: 0.6667 - val_loss: 0.7528 - val_acc: 0.7203\n",
      "Epoch 17/50\n",
      "468/468 [==============================] - 1s 2ms/step - loss: 0.8437 - acc: 0.6560 - val_loss: 0.7768 - val_acc: 0.7203\n",
      "Epoch 18/50\n",
      "468/468 [==============================] - 1s 2ms/step - loss: 0.9740 - acc: 0.6197 - val_loss: 0.8073 - val_acc: 0.6949\n",
      "Epoch 19/50\n",
      "468/468 [==============================] - 1s 3ms/step - loss: 0.8893 - acc: 0.6303 - val_loss: 0.8140 - val_acc: 0.6356\n",
      "Epoch 20/50\n",
      "468/468 [==============================] - 1s 3ms/step - loss: 0.9584 - acc: 0.6303 - val_loss: 0.8280 - val_acc: 0.6356\n",
      "Epoch 21/50\n",
      "468/468 [==============================] - 1s 2ms/step - loss: 0.8880 - acc: 0.6731 - val_loss: 0.8032 - val_acc: 0.6780\n",
      "Epoch 22/50\n",
      "468/468 [==============================] - 1s 2ms/step - loss: 0.8497 - acc: 0.6774 - val_loss: 0.7821 - val_acc: 0.7034\n",
      "Epoch 23/50\n",
      "468/468 [==============================] - 1s 2ms/step - loss: 0.8445 - acc: 0.6923 - val_loss: 0.8148 - val_acc: 0.6695\n",
      "Epoch 24/50\n",
      "468/468 [==============================] - 1s 2ms/step - loss: 0.9046 - acc: 0.6752 - val_loss: 0.8483 - val_acc: 0.6271\n",
      "Epoch 25/50\n",
      "468/468 [==============================] - 1s 2ms/step - loss: 0.8524 - acc: 0.6709 - val_loss: 0.8498 - val_acc: 0.6441\n",
      "Epoch 26/50\n",
      "468/468 [==============================] - 1s 3ms/step - loss: 0.8570 - acc: 0.6624 - val_loss: 0.8568 - val_acc: 0.6356\n",
      "Epoch 27/50\n",
      "468/468 [==============================] - 1s 3ms/step - loss: 0.8756 - acc: 0.6453 - val_loss: 0.7776 - val_acc: 0.7203\n",
      "Epoch 28/50\n",
      "468/468 [==============================] - 1s 2ms/step - loss: 0.8301 - acc: 0.6688 - val_loss: 0.7927 - val_acc: 0.6780\n",
      "Epoch 29/50\n",
      "468/468 [==============================] - 1s 3ms/step - loss: 0.8327 - acc: 0.6432 - val_loss: 0.7762 - val_acc: 0.6864\n",
      "Epoch 30/50\n",
      "468/468 [==============================] - 1s 3ms/step - loss: 0.8469 - acc: 0.6261 - val_loss: 0.7997 - val_acc: 0.7034\n",
      "Epoch 31/50\n",
      "468/468 [==============================] - 1s 2ms/step - loss: 0.8352 - acc: 0.6410 - val_loss: 0.7928 - val_acc: 0.6949\n",
      "Epoch 32/50\n",
      "468/468 [==============================] - 1s 2ms/step - loss: 0.8343 - acc: 0.6603 - val_loss: 0.7932 - val_acc: 0.6186\n",
      "Epoch 33/50\n",
      "468/468 [==============================] - 1s 3ms/step - loss: 0.8412 - acc: 0.6474 - val_loss: 0.8382 - val_acc: 0.6186\n",
      "Epoch 34/50\n",
      "468/468 [==============================] - 1s 3ms/step - loss: 0.9126 - acc: 0.6239 - val_loss: 0.8182 - val_acc: 0.6356\n",
      "Epoch 35/50\n",
      "468/468 [==============================] - 1s 3ms/step - loss: 0.8658 - acc: 0.6154 - val_loss: 0.7805 - val_acc: 0.7203\n",
      "Epoch 36/50\n",
      "468/468 [==============================] - 1s 2ms/step - loss: 0.8607 - acc: 0.6346 - val_loss: 0.7872 - val_acc: 0.6864\n",
      "Epoch 37/50\n",
      "468/468 [==============================] - 1s 3ms/step - loss: 0.8426 - acc: 0.6282 - val_loss: 0.7965 - val_acc: 0.6949\n",
      "Epoch 38/50\n",
      "468/468 [==============================] - 1s 3ms/step - loss: 0.8278 - acc: 0.6538 - val_loss: 0.7864 - val_acc: 0.6949\n",
      "Epoch 39/50\n",
      "468/468 [==============================] - 1s 3ms/step - loss: 0.8261 - acc: 0.6560 - val_loss: 0.7911 - val_acc: 0.6864\n",
      "Epoch 40/50\n",
      "468/468 [==============================] - 1s 3ms/step - loss: 0.7931 - acc: 0.6432 - val_loss: 0.7834 - val_acc: 0.6949\n",
      "Epoch 41/50\n",
      "468/468 [==============================] - 1s 2ms/step - loss: 0.8095 - acc: 0.6282 - val_loss: 0.7793 - val_acc: 0.7034\n",
      "Epoch 42/50\n",
      "468/468 [==============================] - 1s 2ms/step - loss: 0.7907 - acc: 0.6453 - val_loss: 0.7858 - val_acc: 0.7034\n",
      "Epoch 43/50\n",
      "468/468 [==============================] - 1s 3ms/step - loss: 0.8039 - acc: 0.6752 - val_loss: 0.8178 - val_acc: 0.6864\n",
      "Epoch 44/50\n",
      "468/468 [==============================] - 1s 2ms/step - loss: 0.8295 - acc: 0.6453 - val_loss: 0.8265 - val_acc: 0.6949\n",
      "Epoch 45/50\n",
      "468/468 [==============================] - 1s 2ms/step - loss: 0.8279 - acc: 0.6688 - val_loss: 0.8016 - val_acc: 0.6949\n",
      "Epoch 46/50\n",
      "468/468 [==============================] - 1s 3ms/step - loss: 0.8533 - acc: 0.6410 - val_loss: 0.7961 - val_acc: 0.6186\n",
      "Epoch 47/50\n",
      "468/468 [==============================] - 1s 2ms/step - loss: 0.8414 - acc: 0.6496 - val_loss: 0.7833 - val_acc: 0.6186\n",
      "Epoch 48/50\n",
      "468/468 [==============================] - 1s 2ms/step - loss: 0.8409 - acc: 0.6517 - val_loss: 0.8083 - val_acc: 0.6356\n",
      "Epoch 49/50\n",
      "468/468 [==============================] - 1s 2ms/step - loss: 0.8123 - acc: 0.6688 - val_loss: 0.8294 - val_acc: 0.6271\n",
      "Epoch 50/50\n",
      "468/468 [==============================] - 1s 2ms/step - loss: 0.8520 - acc: 0.6410 - val_loss: 0.8013 - val_acc: 0.6949\n"
     ]
    }
   ],
   "source": [
    "batch_size = 5\n",
    "epochs = 50\n",
    "history = model.fit(x_train_o, y_train_o,\n",
    "                    batch_size=batch_size,\n",
    "                    epochs=epochs,\n",
    "                    verbose=1,\n",
    "                    validation_split=0.2)"
   ]
  },
  {
   "cell_type": "code",
   "execution_count": 40,
   "metadata": {},
   "outputs": [
    {
     "name": "stdout",
     "output_type": "stream",
     "text": [
      "147/147 [==============================] - 0s 431us/step\n",
      "Test score: 0.892202361100385\n",
      "Test accuracy: 0.7006802844757937\n"
     ]
    }
   ],
   "source": [
    "# Evaluate the accuracy of our trained model\n",
    "score = model.evaluate(x_test_o, y_test_o,\n",
    "                       batch_size=batch_size, verbose=1)\n",
    "print('Test score:', score[0])\n",
    "print('Test accuracy:', score[1])"
   ]
  },
  {
   "cell_type": "code",
   "execution_count": 41,
   "metadata": {},
   "outputs": [
    {
     "data": {
      "text/plain": [
       "dict_keys(['val_loss', 'val_acc', 'loss', 'acc'])"
      ]
     },
     "execution_count": 41,
     "metadata": {},
     "output_type": "execute_result"
    }
   ],
   "source": [
    "history_dict = history.history\n",
    "history_dict.keys()"
   ]
  },
  {
   "cell_type": "code",
   "execution_count": 42,
   "metadata": {},
   "outputs": [
    {
     "data": {
      "image/png": "[encoded data removed]",
      "text/plain": [
       "<matplotlib.figure.Figure at 0x1439d49e8>"
      ]
     },
     "metadata": {},
     "output_type": "display_data"
    }
   ],
   "source": [
    "import matplotlib.pyplot as plt\n",
    "\n",
    "acc = history.history['acc']\n",
    "val_acc = history.history['val_acc']\n",
    "loss = history.history['loss']\n",
    "val_loss = history.history['val_loss']\n",
    "\n",
    "epochs = range(1, len(acc) + 1)\n",
    "\n",
    "# \"bo\" is for \"blue dot\"\n",
    "plt.plot(epochs, loss, 'bo', label='Training loss')\n",
    "# b is for \"solid blue line\"\n",
    "plt.plot(epochs, val_loss, 'b', label='Validation loss')\n",
    "plt.title('Training and validation loss')\n",
    "plt.xlabel('Epochs')\n",
    "plt.ylabel('Loss')\n",
    "plt.legend()\n",
    "\n",
    "plt.show()"
   ]
  },
  {
   "cell_type": "code",
   "execution_count": 43,
   "metadata": {},
   "outputs": [
    {
     "data": {
      "image/png": "[encoded data removed]",
      "text/plain": [
       "<matplotlib.figure.Figure at 0x1439d46a0>"
      ]
     },
     "metadata": {},
     "output_type": "display_data"
    }
   ],
   "source": [
    "plt.clf()   # clear figure\n",
    "acc_values = history_dict['acc']\n",
    "val_acc_values = history_dict['val_acc']\n",
    "\n",
    "plt.plot(epochs, acc, 'bo', label='Training acc')\n",
    "plt.plot(epochs, val_acc, 'b', label='Validation acc')\n",
    "plt.title('Training and validation accuracy')\n",
    "plt.xlabel('Epochs')\n",
    "plt.ylabel('Accuracy')\n",
    "plt.legend()\n",
    "\n",
    "plt.show()"
   ]
  },
  {
   "cell_type": "markdown",
   "metadata": {},
   "source": [
    "## 4. LSTM, GRU with simple embedding layer"
   ]
  },
  {
   "cell_type": "code",
   "execution_count": 66,
   "metadata": {},
   "outputs": [
    {
     "ename": "ValueError",
     "evalue": "Input 0 is incompatible with layer lstm_9: expected ndim=3, found ndim=2",
     "output_type": "error",
     "traceback": [
      "\u001b[0;31m---------------------------------------------------------------------------\u001b[0m",
      "\u001b[0;31mValueError\u001b[0m                                Traceback (most recent call last)",
      "\u001b[0;32m<ipython-input-66-bc1f1306d6b7>\u001b[0m in \u001b[0;36m<module>\u001b[0;34m()\u001b[0m\n\u001b[1;32m      6\u001b[0m \u001b[0mmodel\u001b[0m \u001b[0;34m=\u001b[0m \u001b[0mSequential\u001b[0m\u001b[0;34m(\u001b[0m\u001b[0;34m)\u001b[0m\u001b[0;34m\u001b[0m\u001b[0m\n\u001b[1;32m      7\u001b[0m model.add(LSTM(32, return_sequences=True,\n\u001b[0;32m----> 8\u001b[0;31m                input_shape=(max_words,)))\n\u001b[0m\u001b[1;32m      9\u001b[0m \u001b[0;31m#model.add(Embedding(max_words, 512))\u001b[0m\u001b[0;34m\u001b[0m\u001b[0;34m\u001b[0m\u001b[0m\n\u001b[1;32m     10\u001b[0m \u001b[0;31m#model.add(LSTM(512, dropout=0.8, recurrent_dropout=0.8))\u001b[0m\u001b[0;34m\u001b[0m\u001b[0;34m\u001b[0m\u001b[0m\n",
      "\u001b[0;32m/Library/Frameworks/Python.framework/Versions/3.6/lib/python3.6/site-packages/keras/engine/sequential.py\u001b[0m in \u001b[0;36madd\u001b[0;34m(self, layer)\u001b[0m\n\u001b[1;32m    164\u001b[0m                     \u001b[0;31m# and create the node connecting the current layer\u001b[0m\u001b[0;34m\u001b[0m\u001b[0;34m\u001b[0m\u001b[0m\n\u001b[1;32m    165\u001b[0m                     \u001b[0;31m# to the input layer we just created.\u001b[0m\u001b[0;34m\u001b[0m\u001b[0;34m\u001b[0m\u001b[0m\n\u001b[0;32m--> 166\u001b[0;31m                     \u001b[0mlayer\u001b[0m\u001b[0;34m(\u001b[0m\u001b[0mx\u001b[0m\u001b[0;34m)\u001b[0m\u001b[0;34m\u001b[0m\u001b[0m\n\u001b[0m\u001b[1;32m    167\u001b[0m                     \u001b[0mset_inputs\u001b[0m \u001b[0;34m=\u001b[0m \u001b[0;32mTrue\u001b[0m\u001b[0;34m\u001b[0m\u001b[0m\n\u001b[1;32m    168\u001b[0m                 \u001b[0;32melse\u001b[0m\u001b[0;34m:\u001b[0m\u001b[0;34m\u001b[0m\u001b[0m\n",
      "\u001b[0;32m/Library/Frameworks/Python.framework/Versions/3.6/lib/python3.6/site-packages/keras/layers/recurrent.py\u001b[0m in \u001b[0;36m__call__\u001b[0;34m(self, inputs, initial_state, constants, **kwargs)\u001b[0m\n\u001b[1;32m    498\u001b[0m \u001b[0;34m\u001b[0m\u001b[0m\n\u001b[1;32m    499\u001b[0m         \u001b[0;32mif\u001b[0m \u001b[0minitial_state\u001b[0m \u001b[0;32mis\u001b[0m \u001b[0;32mNone\u001b[0m \u001b[0;32mand\u001b[0m \u001b[0mconstants\u001b[0m \u001b[0;32mis\u001b[0m \u001b[0;32mNone\u001b[0m\u001b[0;34m:\u001b[0m\u001b[0;34m\u001b[0m\u001b[0m\n\u001b[0;32m--> 500\u001b[0;31m             \u001b[0;32mreturn\u001b[0m \u001b[0msuper\u001b[0m\u001b[0;34m(\u001b[0m\u001b[0mRNN\u001b[0m\u001b[0;34m,\u001b[0m \u001b[0mself\u001b[0m\u001b[0;34m)\u001b[0m\u001b[0;34m.\u001b[0m\u001b[0m__call__\u001b[0m\u001b[0;34m(\u001b[0m\u001b[0minputs\u001b[0m\u001b[0;34m,\u001b[0m \u001b[0;34m**\u001b[0m\u001b[0mkwargs\u001b[0m\u001b[0;34m)\u001b[0m\u001b[0;34m\u001b[0m\u001b[0m\n\u001b[0m\u001b[1;32m    501\u001b[0m \u001b[0;34m\u001b[0m\u001b[0m\n\u001b[1;32m    502\u001b[0m         \u001b[0;31m# If any of `initial_state` or `constants` are specified and are Keras\u001b[0m\u001b[0;34m\u001b[0m\u001b[0;34m\u001b[0m\u001b[0m\n",
      "\u001b[0;32m/Library/Frameworks/Python.framework/Versions/3.6/lib/python3.6/site-packages/keras/engine/base_layer.py\u001b[0m in \u001b[0;36m__call__\u001b[0;34m(self, inputs, **kwargs)\u001b[0m\n\u001b[1;32m    412\u001b[0m                 \u001b[0;31m# Raise exceptions in case the input is not compatible\u001b[0m\u001b[0;34m\u001b[0m\u001b[0;34m\u001b[0m\u001b[0m\n\u001b[1;32m    413\u001b[0m                 \u001b[0;31m# with the input_spec specified in the layer constructor.\u001b[0m\u001b[0;34m\u001b[0m\u001b[0;34m\u001b[0m\u001b[0m\n\u001b[0;32m--> 414\u001b[0;31m                 \u001b[0mself\u001b[0m\u001b[0;34m.\u001b[0m\u001b[0massert_input_compatibility\u001b[0m\u001b[0;34m(\u001b[0m\u001b[0minputs\u001b[0m\u001b[0;34m)\u001b[0m\u001b[0;34m\u001b[0m\u001b[0m\n\u001b[0m\u001b[1;32m    415\u001b[0m \u001b[0;34m\u001b[0m\u001b[0m\n\u001b[1;32m    416\u001b[0m                 \u001b[0;31m# Collect input shapes to build layer.\u001b[0m\u001b[0;34m\u001b[0m\u001b[0;34m\u001b[0m\u001b[0m\n",
      "\u001b[0;32m/Library/Frameworks/Python.framework/Versions/3.6/lib/python3.6/site-packages/keras/engine/base_layer.py\u001b[0m in \u001b[0;36massert_input_compatibility\u001b[0;34m(self, inputs)\u001b[0m\n\u001b[1;32m    309\u001b[0m                                      \u001b[0mself\u001b[0m\u001b[0;34m.\u001b[0m\u001b[0mname\u001b[0m \u001b[0;34m+\u001b[0m \u001b[0;34m': expected ndim='\u001b[0m \u001b[0;34m+\u001b[0m\u001b[0;34m\u001b[0m\u001b[0m\n\u001b[1;32m    310\u001b[0m                                      \u001b[0mstr\u001b[0m\u001b[0;34m(\u001b[0m\u001b[0mspec\u001b[0m\u001b[0;34m.\u001b[0m\u001b[0mndim\u001b[0m\u001b[0;34m)\u001b[0m \u001b[0;34m+\u001b[0m \u001b[0;34m', found ndim='\u001b[0m \u001b[0;34m+\u001b[0m\u001b[0;34m\u001b[0m\u001b[0m\n\u001b[0;32m--> 311\u001b[0;31m                                      str(K.ndim(x)))\n\u001b[0m\u001b[1;32m    312\u001b[0m             \u001b[0;32mif\u001b[0m \u001b[0mspec\u001b[0m\u001b[0;34m.\u001b[0m\u001b[0mmax_ndim\u001b[0m \u001b[0;32mis\u001b[0m \u001b[0;32mnot\u001b[0m \u001b[0;32mNone\u001b[0m\u001b[0;34m:\u001b[0m\u001b[0;34m\u001b[0m\u001b[0m\n\u001b[1;32m    313\u001b[0m                 \u001b[0mndim\u001b[0m \u001b[0;34m=\u001b[0m \u001b[0mK\u001b[0m\u001b[0;34m.\u001b[0m\u001b[0mndim\u001b[0m\u001b[0;34m(\u001b[0m\u001b[0mx\u001b[0m\u001b[0;34m)\u001b[0m\u001b[0;34m\u001b[0m\u001b[0m\n",
      "\u001b[0;31mValueError\u001b[0m: Input 0 is incompatible with layer lstm_9: expected ndim=3, found ndim=2"
     ]
    }
   ],
   "source": [
    "# Open questions: why are those parameters used for?\n",
    "batch_size = 5\n",
    "epochs = 20\n",
    "timesteps=10\n",
    "# Build the model\n",
    "model = Sequential()\n",
    "model.add(Embedding(max_words, 512))\n",
    "model.add(LSTM(512, dropout=0.8, recurrent_dropout=0.8))\n",
    "#model.add(GRU(128,dropout=0.2))\n",
    "model.add(Dense(num_classes))\n",
    "model.add(Activation('softmax'))\n",
    "\n",
    "model.compile(loss='categorical_crossentropy',\n",
    "              optimizer='adam',\n",
    "              metrics=['accuracy'])\n",
    "model.summary()"
   ]
  },
  {
   "cell_type": "code",
   "execution_count": 67,
   "metadata": {},
   "outputs": [
    {
     "ename": "RuntimeError",
     "evalue": "You must compile a model before training/testing. Use `model.compile(optimizer, loss)`.",
     "output_type": "error",
     "traceback": [
      "\u001b[0;31m---------------------------------------------------------------------------\u001b[0m",
      "\u001b[0;31mRuntimeError\u001b[0m                              Traceback (most recent call last)",
      "\u001b[0;32m<ipython-input-67-3fd2b8e40c94>\u001b[0m in \u001b[0;36m<module>\u001b[0;34m()\u001b[0m\n\u001b[1;32m      3\u001b[0m                     \u001b[0mepochs\u001b[0m\u001b[0;34m=\u001b[0m\u001b[0mepochs\u001b[0m\u001b[0;34m,\u001b[0m\u001b[0;34m\u001b[0m\u001b[0m\n\u001b[1;32m      4\u001b[0m                     \u001b[0mverbose\u001b[0m\u001b[0;34m=\u001b[0m\u001b[0;36m1\u001b[0m\u001b[0;34m,\u001b[0m\u001b[0;34m\u001b[0m\u001b[0m\n\u001b[0;32m----> 5\u001b[0;31m                     validation_split=0.2)\n\u001b[0m",
      "\u001b[0;32m/Library/Frameworks/Python.framework/Versions/3.6/lib/python3.6/site-packages/keras/engine/training.py\u001b[0m in \u001b[0;36mfit\u001b[0;34m(self, x, y, batch_size, epochs, verbose, callbacks, validation_split, validation_data, shuffle, class_weight, sample_weight, initial_epoch, steps_per_epoch, validation_steps, **kwargs)\u001b[0m\n\u001b[1;32m    953\u001b[0m             \u001b[0msample_weight\u001b[0m\u001b[0;34m=\u001b[0m\u001b[0msample_weight\u001b[0m\u001b[0;34m,\u001b[0m\u001b[0;34m\u001b[0m\u001b[0m\n\u001b[1;32m    954\u001b[0m             \u001b[0mclass_weight\u001b[0m\u001b[0;34m=\u001b[0m\u001b[0mclass_weight\u001b[0m\u001b[0;34m,\u001b[0m\u001b[0;34m\u001b[0m\u001b[0m\n\u001b[0;32m--> 955\u001b[0;31m             batch_size=batch_size)\n\u001b[0m\u001b[1;32m    956\u001b[0m         \u001b[0;31m# Prepare validation data.\u001b[0m\u001b[0;34m\u001b[0m\u001b[0;34m\u001b[0m\u001b[0m\n\u001b[1;32m    957\u001b[0m         \u001b[0mdo_validation\u001b[0m \u001b[0;34m=\u001b[0m \u001b[0;32mFalse\u001b[0m\u001b[0;34m\u001b[0m\u001b[0m\n",
      "\u001b[0;32m/Library/Frameworks/Python.framework/Versions/3.6/lib/python3.6/site-packages/keras/engine/training.py\u001b[0m in \u001b[0;36m_standardize_user_data\u001b[0;34m(self, x, y, sample_weight, class_weight, check_array_lengths, batch_size)\u001b[0m\n\u001b[1;32m    678\u001b[0m         \u001b[0;32mif\u001b[0m \u001b[0my\u001b[0m \u001b[0;32mis\u001b[0m \u001b[0;32mnot\u001b[0m \u001b[0;32mNone\u001b[0m\u001b[0;34m:\u001b[0m\u001b[0;34m\u001b[0m\u001b[0m\n\u001b[1;32m    679\u001b[0m             \u001b[0;32mif\u001b[0m \u001b[0;32mnot\u001b[0m \u001b[0mself\u001b[0m\u001b[0;34m.\u001b[0m\u001b[0moptimizer\u001b[0m\u001b[0;34m:\u001b[0m\u001b[0;34m\u001b[0m\u001b[0m\n\u001b[0;32m--> 680\u001b[0;31m                 raise RuntimeError('You must compile a model before '\n\u001b[0m\u001b[1;32m    681\u001b[0m                                    \u001b[0;34m'training/testing. '\u001b[0m\u001b[0;34m\u001b[0m\u001b[0m\n\u001b[1;32m    682\u001b[0m                                    'Use `model.compile(optimizer, loss)`.')\n",
      "\u001b[0;31mRuntimeError\u001b[0m: You must compile a model before training/testing. Use `model.compile(optimizer, loss)`."
     ]
    }
   ],
   "source": [
    "history = model.fit(x_train_o, y_train_o,\n",
    "                    batch_size=batch_size,\n",
    "                    epochs=epochs,\n",
    "                    verbose=1,\n",
    "                    validation_split=0.2)\n"
   ]
  },
  {
   "cell_type": "code",
   "execution_count": 46,
   "metadata": {},
   "outputs": [
    {
     "name": "stdout",
     "output_type": "stream",
     "text": [
      "147/147 [==============================] - 3s 20ms/step\n",
      "Test score: 1.1128758954353073\n",
      "Test accuracy: 0.4761904878478472\n"
     ]
    }
   ],
   "source": [
    "# Evaluate the accuracy of our trained model\n",
    "score = model.evaluate(x_test_o, y_test_o,\n",
    "                       batch_size=batch_size, verbose=1)\n",
    "print('Test score:', score[0])\n",
    "print('Test accuracy:', score[1])"
   ]
  },
  {
   "cell_type": "code",
   "execution_count": 47,
   "metadata": {},
   "outputs": [
    {
     "data": {
      "image/png": "[encoded data removed]",
      "text/plain": [
       "<matplotlib.figure.Figure at 0x145faf7f0>"
      ]
     },
     "metadata": {},
     "output_type": "display_data"
    }
   ],
   "source": [
    "history_dict = history.history\n",
    "history_dict.keys()\n",
    "import matplotlib.pyplot as plt\n",
    "\n",
    "acc = history.history['acc']\n",
    "val_acc = history.history['val_acc']\n",
    "loss = history.history['loss']\n",
    "val_loss = history.history['val_loss']\n",
    "\n",
    "epochs = range(1, len(acc) + 1)\n",
    "\n",
    "# \"bo\" is for \"blue dot\"\n",
    "plt.plot(epochs, loss, 'bo', label='Training loss')\n",
    "# b is for \"solid blue line\"\n",
    "plt.plot(epochs, val_loss, 'b', label='Validation loss')\n",
    "plt.title('Training and validation loss')\n",
    "plt.xlabel('Epochs')\n",
    "plt.ylabel('Loss')\n",
    "plt.legend()\n",
    "\n",
    "plt.show()"
   ]
  },
  {
   "cell_type": "code",
   "execution_count": 48,
   "metadata": {},
   "outputs": [
    {
     "data": {
      "image/png": "[encoded data removed]",
      "text/plain": [
       "<matplotlib.figure.Figure at 0x14453ffd0>"
      ]
     },
     "metadata": {},
     "output_type": "display_data"
    }
   ],
   "source": [
    "plt.clf()   # clear figure\n",
    "acc_values = history_dict['acc']\n",
    "val_acc_values = history_dict['val_acc']\n",
    "\n",
    "plt.plot(epochs, acc, 'bo', label='Training acc')\n",
    "plt.plot(epochs, val_acc, 'b', label='Validation acc')\n",
    "plt.title('Training and validation accuracy')\n",
    "plt.xlabel('Epochs')\n",
    "plt.ylabel('Accuracy')\n",
    "plt.legend()\n",
    "\n",
    "plt.show()"
   ]
  },
  {
   "cell_type": "markdown",
   "metadata": {},
   "source": [
    "## 5. BERT"
   ]
  },
  {
   "cell_type": "markdown",
   "metadata": {},
   "source": [
    "Steps to execute BERT:\n",
    "\n",
    "1. Manually copy train.tsv, dev.tsv, test.tsv to the following GLUE_DIR:\n",
    "2. Under the BERT folder, run the following command:\n",
    "<pre><code>\n",
    " export BERT_BASE_DIR=/Users/patrick/documents/github/bert/uncased_L-12_H-768_A-12\n",
    " export GLUE_DIR=/Users/patrick/documents/github/bert/glue_data\n",
    " \n",
    " python3 run_classifier.py \\\n",
    "  --task_name=BB-8 \\\n",
    "  --do_train=true \\\n",
    "  --do_eval=true \\\n",
    "  --data_dir=$GLUE_DIR/BB-8 \\\n",
    "  --vocab_file=$BERT_BASE_DIR/vocab.txt \\\n",
    "  --bert_config_file=$BERT_BASE_DIR/bert_config.json \\\n",
    "  --init_checkpoint=$BERT_BASE_DIR/bert_model.ckpt \\\n",
    "  —max_seq_length=128 \\\n",
    "  —train_batch_size=32 \\\n",
    "  --learning_rate=2e-5 \\\n",
    "  —num_train_epochs=3.0 \\\n",
    "  --output_dir=./tmp/BB-8_output/\n",
    "</code></pre>\n",
    "\n",
    "3. After completing the above steps, run the following command:\n",
    "\n",
    "<pre><code>\n",
    "export BERT_BASE_DIR=/Users/patrick/documents/github/bert/uncased_L-12_H-768_A-12\n",
    "export GLUE_DIR=/Users/patrick/documents/github/bert/glue_data\n",
    "export TRAINED_CLASSIFIER=/Users/patrick/documents/github/bert/tmp/BB-8_output/test_20181202\n",
    " \n",
    "python3 run_classifier.py \\\n",
    "  --task_name=BB-8 \\\n",
    "  --do_predict=true \\\n",
    "  --data_dir=$GLUE_DIR/BB-8 \\\n",
    "  --vocab_file=$BERT_BASE_DIR/vocab.txt \\\n",
    "  --bert_config_file=$BERT_BASE_DIR/bert_config.json \\\n",
    "  --init_checkpoint=$TRAINED_CLASSIFIER \\\n",
    "  —max_seq_length=128 \\\n",
    "  --output_dir=./tmp/BB-8_output/\n",
    "</code></pre>"
   ]
  },
  {
   "cell_type": "code",
   "execution_count": null,
   "metadata": {
    "collapsed": true
   },
   "outputs": [],
   "source": [
    "## After running the above step no,3, the file \"test_results.tsv\" is produced, which can be used to compare the result\n",
    "test_result_pd=pd.read_csv('/Users/patrick/documents/github/bert/tmp/BB-8_output/test_results.tsv', sep='\\t',header=None)\n",
    "test_result_pd.columns=['Authorization','Others','Project','Report','Timesheet','non-issue']"
   ]
  },
  {
   "cell_type": "code",
   "execution_count": null,
   "metadata": {
    "collapsed": true
   },
   "outputs": [],
   "source": [
    "prediction=pd.DataFrame(test_result_pd.idxmax(axis=1),columns=['prediction'])"
   ]
  },
  {
   "cell_type": "code",
   "execution_count": null,
   "metadata": {
    "collapsed": true
   },
   "outputs": [],
   "source": [
    "x=0\n",
    "for i in range(test_product.shape[0]):\n",
    "    if prediction.iloc[i][0]==test_product.iloc[i]:\n",
    "        x +=1\n",
    "print(\"Test Accuracy is:\",x/i)"
   ]
  },
  {
   "cell_type": "markdown",
   "metadata": {
    "collapsed": true
   },
   "source": [
    "## 6. Google Best Practice"
   ]
  },
  {
   "cell_type": "code",
   "execution_count": null,
   "metadata": {
    "collapsed": true
   },
   "outputs": [],
   "source": [
    "def convert_cat(label_set,encoder=encoder):\n",
    "    \"\"\"\n",
    "    usage: convert label types into numbers.\n",
    "    parameters: \n",
    "             label_set: label categories' set\n",
    "             encoder: encoder of label categories\n",
    "    return: number list of label categories\n",
    "    \"\"\"\n",
    "    train_label=[]\n",
    "    for label in label_set:\n",
    "        x=0\n",
    "        for items in encoder.classes_:\n",
    "            if label == items:\n",
    "                train_label.append(x)\n",
    "                continue\n",
    "            x +=1\n",
    "    return np.array(train_label)\n",
    "\n",
    "y_train_cat=convert_cat(train_product,encoder)\n",
    "y_dev_cat=convert_cat(dev_product,encoder)\n",
    "y_test_cat=convert_cat(test_product,encoder)\n",
    "\n",
    "total_train=pd.concat([train_narrative,dev_narrative])\n",
    "\n",
    "data=((total_train, np.concatenate((y_train_cat,y_dev_cat))),\n",
    "            (test_narrative, y_test_cat))"
   ]
  },
  {
   "cell_type": "code",
   "execution_count": null,
   "metadata": {
    "collapsed": true
   },
   "outputs": [],
   "source": [
    "from google_text_classification.train_sequence_model import train_sequence_model\n",
    "\n",
    "train_sequence_model(data)"
   ]
  },
  {
   "cell_type": "code",
   "execution_count": 14,
   "metadata": {},
   "outputs": [
    {
     "ename": "NameError",
     "evalue": "name 'data' is not defined",
     "output_type": "error",
     "traceback": [
      "\u001b[0;31m---------------------------------------------------------------------------\u001b[0m",
      "\u001b[0;31mNameError\u001b[0m                                 Traceback (most recent call last)",
      "\u001b[0;32m<ipython-input-14-ba842b0c3a15>\u001b[0m in \u001b[0;36m<module>\u001b[0;34m()\u001b[0m\n\u001b[1;32m      1\u001b[0m \u001b[0;32mfrom\u001b[0m \u001b[0mgoogle_text_classification\u001b[0m\u001b[0;34m.\u001b[0m\u001b[0mtrain_fine_tuned_sequence_model\u001b[0m \u001b[0;32mimport\u001b[0m \u001b[0mtrain_fine_tuned_sequence_model\u001b[0m\u001b[0;34m\u001b[0m\u001b[0m\n\u001b[0;32m----> 2\u001b[0;31m \u001b[0mtrain_fine_tuned_sequence_model\u001b[0m\u001b[0;34m(\u001b[0m\u001b[0mdata\u001b[0m\u001b[0;34m,\u001b[0m \u001b[0;34m'../98_data/'\u001b[0m\u001b[0;34m)\u001b[0m\u001b[0;34m\u001b[0m\u001b[0m\n\u001b[0m",
      "\u001b[0;31mNameError\u001b[0m: name 'data' is not defined"
     ]
    }
   ],
   "source": [
    "from google_text_classification.train_fine_tuned_sequence_model import train_fine_tuned_sequence_model\n",
    "train_fine_tuned_sequence_model(data, '../98_data/')"
   ]
  },
  {
   "cell_type": "code",
   "execution_count": null,
   "metadata": {
    "collapsed": true
   },
   "outputs": [],
   "source": []
  }
 ],
 "metadata": {
  "extensions": {
   "jupyter_dashboards": {
    "activeView": "grid_default",
    "version": 1,
    "views": {
     "grid_default": {
      "cellMargin": 10,
      "defaultCellHeight": 20,
      "maxColumns": 12,
      "name": "grid",
      "type": "grid"
     },
     "report_default": {
      "name": "report",
      "type": "report"
     }
    }
   }
  },
  "kernelspec": {
   "display_name": "Python 3",
   "language": "python",
   "name": "python3"
  },
  "language_info": {
   "codemirror_mode": {
    "name": "ipython",
    "version": 3
   },
   "file_extension": ".py",
   "mimetype": "text/x-python",
   "name": "python",
   "nbconvert_exporter": "python",
   "pygments_lexer": "ipython3",
   "version": "3.6.1"
  }
 },
 "nbformat": 4,
 "nbformat_minor": 2
}
