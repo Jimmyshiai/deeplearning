{
 "cells": [
  {
   "cell_type": "markdown",
   "metadata": {},
   "source": [
    "# Deep Learning with Keras - Chapter 1\n",
    "## This program is used to learn Keras in terms of deep learning,  which was made based on the folk from:\n",
    "https://github.com/PacktPublishing/Deep-Learning-with-Keras\n",
    "\n",
    "The related info can be found in the book:\"Deep Learning with Keras\""
   ]
  },
  {
   "cell_type": "code",
   "execution_count": 12,
   "metadata": {},
   "outputs": [],
   "source": [
    "from __future__ import print_function\n",
    "import numpy as np\n",
    "from keras.datasets import mnist\n",
    "from keras.models import Sequential\n",
    "from keras.layers.core import Dense,Dropout,Activation\n",
    "from keras.optimizers import SGD\n",
    "from keras.utils import np_utils"
   ]
  },
  {
   "cell_type": "code",
   "execution_count": 10,
   "metadata": {},
   "outputs": [],
   "source": [
    "np.random.seed(1671)  # for reproducibility\n",
    "\n",
    "# network and training\n",
    "NB_EPOCH = 20\n",
    "BATCH_SIZE = 128\n",
    "VERBOSE = 1\n",
    "NB_CLASSES = 10   # number of outputs = number of digits\n",
    "OPTIMIZER = SGD() # SGD optimizer, explained later in this chapter\n",
    "N_HIDDEN = 128\n",
    "VALIDATION_SPLIT=0.2 # how much TRAIN is reserved for VALIDATION\n",
    "DROPOUT = 0.3 # Add dropout rate"
   ]
  },
  {
   "cell_type": "code",
   "execution_count": 4,
   "metadata": {},
   "outputs": [
    {
     "name": "stdout",
     "output_type": "stream",
     "text": [
      "Downloading data from https://s3.amazonaws.com/img-datasets/mnist.npz\n",
      "11493376/11490434 [==============================] - 33s 3us/step\n"
     ]
    }
   ],
   "source": [
    "# data: shuffled and split between train and test sets\n",
    "#\n",
    "(X_train, y_train), (X_test, y_test) = mnist.load_data()\n",
    "\n",
    "#X_train is 60000 rows of 28x28 values --> reshaped in 60000 x 784\n",
    "RESHAPED = 784\n",
    "#\n",
    "X_train = X_train.reshape(60000, RESHAPED)\n",
    "X_test = X_test.reshape(10000, RESHAPED)\n",
    "X_train = X_train.astype('float32')\n",
    "X_test = X_test.astype('float32')"
   ]
  },
  {
   "cell_type": "code",
   "execution_count": 5,
   "metadata": {},
   "outputs": [
    {
     "name": "stdout",
     "output_type": "stream",
     "text": [
      "60000 train samples\n",
      "10000 test samples\n"
     ]
    }
   ],
   "source": [
    "# normalize \n",
    "#\n",
    "X_train /= 255\n",
    "X_test /= 255\n",
    "print(X_train.shape[0], 'train samples')\n",
    "print(X_test.shape[0], 'test samples')\n",
    "\n",
    "# convert class vectors to binary class matrices\n",
    "Y_train = np_utils.to_categorical(y_train, NB_CLASSES)\n",
    "Y_test = np_utils.to_categorical(y_test, NB_CLASSES)"
   ]
  },
  {
   "cell_type": "code",
   "execution_count": 13,
   "metadata": {},
   "outputs": [
    {
     "name": "stdout",
     "output_type": "stream",
     "text": [
      "_________________________________________________________________\n",
      "Layer (type)                 Output Shape              Param #   \n",
      "=================================================================\n",
      "dense_6 (Dense)              (None, 128)               100480    \n",
      "_________________________________________________________________\n",
      "activation_6 (Activation)    (None, 128)               0         \n",
      "_________________________________________________________________\n",
      "dropout_1 (Dropout)          (None, 128)               0         \n",
      "_________________________________________________________________\n",
      "dense_7 (Dense)              (None, 128)               16512     \n",
      "_________________________________________________________________\n",
      "activation_7 (Activation)    (None, 128)               0         \n",
      "_________________________________________________________________\n",
      "dropout_2 (Dropout)          (None, 128)               0         \n",
      "_________________________________________________________________\n",
      "dense_8 (Dense)              (None, 10)                1290      \n",
      "_________________________________________________________________\n",
      "activation_8 (Activation)    (None, 10)                0         \n",
      "=================================================================\n",
      "Total params: 118,282\n",
      "Trainable params: 118,282\n",
      "Non-trainable params: 0\n",
      "_________________________________________________________________\n",
      "Train on 48000 samples, validate on 12000 samples\n",
      "Epoch 1/20\n",
      "48000/48000 [==============================] - 2s 34us/step - loss: 1.7633 - acc: 0.4492 - val_loss: 0.9536 - val_acc: 0.8109\n",
      "Epoch 2/20\n",
      "48000/48000 [==============================] - 2s 32us/step - loss: 0.9411 - acc: 0.7137 - val_loss: 0.5368 - val_acc: 0.8723\n",
      "Epoch 3/20\n",
      "48000/48000 [==============================] - 1s 28us/step - loss: 0.6996 - acc: 0.7854 - val_loss: 0.4229 - val_acc: 0.8897\n",
      "Epoch 4/20\n",
      "48000/48000 [==============================] - 1s 27us/step - loss: 0.5977 - acc: 0.8185 - val_loss: 0.3691 - val_acc: 0.9001\n",
      "Epoch 5/20\n",
      "48000/48000 [==============================] - 1s 27us/step - loss: 0.5360 - acc: 0.8373 - val_loss: 0.3342 - val_acc: 0.9064\n",
      "Epoch 6/20\n",
      "48000/48000 [==============================] - 1s 27us/step - loss: 0.4894 - acc: 0.8520 - val_loss: 0.3115 - val_acc: 0.9119\n",
      "Epoch 7/20\n",
      "48000/48000 [==============================] - 1s 28us/step - loss: 0.4589 - acc: 0.8650 - val_loss: 0.2953 - val_acc: 0.9153\n",
      "Epoch 8/20\n",
      "48000/48000 [==============================] - 2s 35us/step - loss: 0.4363 - acc: 0.8707 - val_loss: 0.2819 - val_acc: 0.9185\n",
      "Epoch 9/20\n",
      "48000/48000 [==============================] - 1s 29us/step - loss: 0.4134 - acc: 0.8778 - val_loss: 0.2679 - val_acc: 0.9232\n",
      "Epoch 10/20\n",
      "48000/48000 [==============================] - 1s 28us/step - loss: 0.3970 - acc: 0.8839 - val_loss: 0.2586 - val_acc: 0.9242\n",
      "Epoch 11/20\n",
      "48000/48000 [==============================] - 1s 28us/step - loss: 0.3837 - acc: 0.8857 - val_loss: 0.2478 - val_acc: 0.9282\n",
      "Epoch 12/20\n",
      "48000/48000 [==============================] - 1s 28us/step - loss: 0.3690 - acc: 0.8900 - val_loss: 0.2407 - val_acc: 0.9304\n",
      "Epoch 13/20\n",
      "48000/48000 [==============================] - 1s 29us/step - loss: 0.3559 - acc: 0.8947 - val_loss: 0.2326 - val_acc: 0.9314\n",
      "Epoch 14/20\n",
      "48000/48000 [==============================] - 1s 29us/step - loss: 0.3438 - acc: 0.8982 - val_loss: 0.2253 - val_acc: 0.9333\n",
      "Epoch 15/20\n",
      "48000/48000 [==============================] - 1s 30us/step - loss: 0.3348 - acc: 0.9026 - val_loss: 0.2188 - val_acc: 0.9357\n",
      "Epoch 16/20\n",
      "48000/48000 [==============================] - 1s 29us/step - loss: 0.3264 - acc: 0.9029 - val_loss: 0.2137 - val_acc: 0.9372\n",
      "Epoch 17/20\n",
      "48000/48000 [==============================] - 1s 29us/step - loss: 0.3156 - acc: 0.9064 - val_loss: 0.2088 - val_acc: 0.9388\n",
      "Epoch 18/20\n",
      "48000/48000 [==============================] - 1s 29us/step - loss: 0.3094 - acc: 0.9089 - val_loss: 0.2028 - val_acc: 0.9402\n",
      "Epoch 19/20\n",
      "48000/48000 [==============================] - 1s 28us/step - loss: 0.3025 - acc: 0.9111 - val_loss: 0.1986 - val_acc: 0.9413\n",
      "Epoch 20/20\n",
      "48000/48000 [==============================] - 1s 28us/step - loss: 0.2947 - acc: 0.9145 - val_loss: 0.1942 - val_acc: 0.9427\n"
     ]
    }
   ],
   "source": [
    "# 10 outputs\n",
    "# final stage is softmax\n",
    "\n",
    "model = Sequential()\n",
    "\n",
    "# Input layer\n",
    "model.add(Dense(N_HIDDEN, input_shape=(RESHAPED,)))\n",
    "model.add(Activation('relu'))\n",
    "model.add(Dropout(DROPOUT))\n",
    "\n",
    "# 1st improvement: add one more hidden layer\n",
    "model.add(Dense(N_HIDDEN))\n",
    "model.add(Activation('relu'))\n",
    "model.add(Dropout(DROPOUT))\n",
    "\n",
    "# Output layer\n",
    "model.add(Dense(NB_CLASSES, input_shape=(RESHAPED,)))\n",
    "model.add(Activation('softmax'))\n",
    "\n",
    "model.summary()\n",
    "model.compile(loss='categorical_crossentropy',\n",
    "              optimizer=OPTIMIZER,\n",
    "              metrics=['accuracy'])\n",
    "\n",
    "history = model.fit(X_train, Y_train,\n",
    "                    batch_size=BATCH_SIZE, epochs=NB_EPOCH,\n",
    "                    verbose=VERBOSE, validation_split=VALIDATION_SPLIT)"
   ]
  },
  {
   "cell_type": "code",
   "execution_count": null,
   "metadata": {},
   "outputs": [],
   "source": [
    "score = model.evaluate(X_test, Y_test, verbose=VERBOSE)\n",
    "print(\"\\nTest score:\", score[0])\n",
    "print('Test accuracy:', score[1])"
   ]
  },
  {
   "cell_type": "code",
   "execution_count": null,
   "metadata": {
    "collapsed": true
   },
   "outputs": [],
   "source": []
  }
 ],
 "metadata": {
  "kernelspec": {
   "display_name": "Python 3",
   "language": "python",
   "name": "python3"
  },
  "language_info": {
   "codemirror_mode": {
    "name": "ipython",
    "version": 3
   },
   "file_extension": ".py",
   "mimetype": "text/x-python",
   "name": "python",
   "nbconvert_exporter": "python",
   "pygments_lexer": "ipython3",
   "version": "3.6.1"
  }
 },
 "nbformat": 4,
 "nbformat_minor": 2
}
