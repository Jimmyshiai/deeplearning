{
 "cells": [
  {
   "cell_type": "code",
   "execution_count": 1,
   "metadata": {},
   "outputs": [
    {
     "name": "stderr",
     "output_type": "stream",
     "text": [
      "/Library/Frameworks/Python.framework/Versions/3.6/lib/python3.6/site-packages/h5py/__init__.py:36: FutureWarning: Conversion of the second argument of issubdtype from `float` to `np.floating` is deprecated. In future, it will be treated as `np.float64 == np.dtype(float).type`.\n",
      "  from ._conv import register_converters as _register_converters\n",
      "Using TensorFlow backend.\n"
     ]
    }
   ],
   "source": [
    "import pandas as pd\n",
    "import numpy as np\n",
    "import gzip\n",
    "from collections import defaultdict\n",
    "from keras.utils.np_utils import to_categorical\n",
    "import matplotlib.pyplot as plt\n",
    "from keras.layers import Dense, LSTM, Embedding\n",
    "from keras.models import Sequential\n",
    "from keras.preprocessing.text import Tokenizer,text_to_word_sequence\n",
    "\n",
    "from keras.utils.np_utils import to_categorical\n",
    "from keras.preprocessing.sequence import pad_sequences"
   ]
  },
  {
   "cell_type": "code",
   "execution_count": 54,
   "metadata": {
    "collapsed": true
   },
   "outputs": [],
   "source": [
    "vocab_size = 400000\n",
    "embedding_size = 50\n",
    "maxlen = 100\n",
    "#embeddings_path = 'glove.6B.50d.txt.gz'\n",
    "embeddings_path = './98_data/glove/glove.6B.50d.txt'"
   ]
  },
  {
   "cell_type": "code",
   "execution_count": 55,
   "metadata": {},
   "outputs": [],
   "source": [
    "import pandas as pd\n",
    "from sklearn.cross_validation import train_test_split\n",
    "\n",
    "df = pd.read_excel('./98_data/qalist_answer.xlsx', encoding='latin-1')\n",
    "df.columns=['Emails','Cat']\n",
    "df = df[pd.notnull(df['Emails'])]\n",
    "train, test  = train_test_split( df, test_size=0.20, random_state=10)"
   ]
  },
  {
   "cell_type": "code",
   "execution_count": 56,
   "metadata": {},
   "outputs": [
    {
     "data": {
      "text/plain": [
       "(16262, 2)"
      ]
     },
     "execution_count": 56,
     "metadata": {},
     "output_type": "execute_result"
    }
   ],
   "source": [
    "train.shape"
   ]
  },
  {
   "cell_type": "code",
   "execution_count": 57,
   "metadata": {},
   "outputs": [
    {
     "data": {
      "text/plain": [
       "(4066, 2)"
      ]
     },
     "execution_count": 57,
     "metadata": {},
     "output_type": "execute_result"
    }
   ],
   "source": [
    "test.shape"
   ]
  },
  {
   "cell_type": "code",
   "execution_count": 58,
   "metadata": {},
   "outputs": [
    {
     "data": {
      "text/html": [
       "<div>\n",
       "<style scoped>\n",
       "    .dataframe tbody tr th:only-of-type {\n",
       "        vertical-align: middle;\n",
       "    }\n",
       "\n",
       "    .dataframe tbody tr th {\n",
       "        vertical-align: top;\n",
       "    }\n",
       "\n",
       "    .dataframe thead th {\n",
       "        text-align: right;\n",
       "    }\n",
       "</style>\n",
       "<table border=\"1\" class=\"dataframe\">\n",
       "  <thead>\n",
       "    <tr style=\"text-align: right;\">\n",
       "      <th></th>\n",
       "      <th>Emails</th>\n",
       "      <th>Cat</th>\n",
       "    </tr>\n",
       "  </thead>\n",
       "  <tbody>\n",
       "    <tr>\n",
       "      <th>6473</th>\n",
       "      <td>I could not The field engagement_code is chang...</td>\n",
       "      <td>The system bug and it is working now after app...</td>\n",
       "    </tr>\n",
       "    <tr>\n",
       "      <th>13849</th>\n",
       "      <td>The following issue was encountered. The field...</td>\n",
       "      <td>The system bug and it is working now after app...</td>\n",
       "    </tr>\n",
       "    <tr>\n",
       "      <th>13758</th>\n",
       "      <td>The following issue was encountered. The field...</td>\n",
       "      <td>The system bug and it is working now after app...</td>\n",
       "    </tr>\n",
       "    <tr>\n",
       "      <th>16758</th>\n",
       "      <td>Does anyone know how to solve The field employ...</td>\n",
       "      <td>The system setting is missing, and it is corre...</td>\n",
       "    </tr>\n",
       "    <tr>\n",
       "      <th>19780</th>\n",
       "      <td>The error messges comes out when I inputted my...</td>\n",
       "      <td>The system maintenance was completed, and it i...</td>\n",
       "    </tr>\n",
       "  </tbody>\n",
       "</table>\n",
       "</div>"
      ],
      "text/plain": [
       "                                                  Emails  \\\n",
       "6473   I could not The field engagement_code is chang...   \n",
       "13849  The following issue was encountered. The field...   \n",
       "13758  The following issue was encountered. The field...   \n",
       "16758  Does anyone know how to solve The field employ...   \n",
       "19780  The error messges comes out when I inputted my...   \n",
       "\n",
       "                                                     Cat  \n",
       "6473   The system bug and it is working now after app...  \n",
       "13849  The system bug and it is working now after app...  \n",
       "13758  The system bug and it is working now after app...  \n",
       "16758  The system setting is missing, and it is corre...  \n",
       "19780  The system maintenance was completed, and it i...  "
      ]
     },
     "execution_count": 58,
     "metadata": {},
     "output_type": "execute_result"
    }
   ],
   "source": [
    "train.head()"
   ]
  },
  {
   "cell_type": "code",
   "execution_count": 59,
   "metadata": {
    "collapsed": true
   },
   "outputs": [],
   "source": [
    "# Common methods to read data and get embeddings\n",
    "def read_data():\n",
    "    df_train = train\n",
    "    df_val = test\n",
    "    categories = list(set(df_train.Cat.values))\n",
    "    return df_train,df_val,categories\n",
    "\n",
    "def load_embeddings():\n",
    "    word_index = {}\n",
    "    embeddings = np.zeros((vocab_size,embedding_size))\n",
    "    #with gzip.open(embeddings_path) as file:\n",
    "    with open(embeddings_path) as file:\n",
    "        for i,line in enumerate(file):\n",
    "            if i<vocab_size:\n",
    "                line_tokens = line.split()\n",
    "                word=line_tokens[0]\n",
    "                #word = line_tokens[0].decode(encoding='UTF-8')\n",
    "                embeddings[i] = np.asarray(line_tokens[1:],dtype='float32')\n",
    "                word_index[word] = i\n",
    "    file.close()\n",
    "    return embeddings,word_index"
   ]
  },
  {
   "cell_type": "code",
   "execution_count": 60,
   "metadata": {
    "collapsed": true
   },
   "outputs": [],
   "source": [
    "def get_embedding(word,word_index,embeddings):\n",
    "    if word in word_index:\n",
    "        return embeddings[word_index[word]].reshape(((embedding_size,1)))\n",
    "    else:\n",
    "        return np.zeros((embedding_size,1))"
   ]
  },
  {
   "cell_type": "code",
   "execution_count": 61,
   "metadata": {
    "collapsed": true
   },
   "outputs": [],
   "source": [
    "# Methods for Neural Network Model\n",
    "def prepare_data(df_train,df_val,categories):\n",
    "    train_text = df_train['Emails'].tolist()\n",
    "    val_text = df_val['Emails'].tolist()\n",
    "    tk = Tokenizer(num_words = vocab_size, lower = True)\n",
    "    tk.fit_on_texts(train_text + val_text)\n",
    "    x_train = pad_sequences(tk.texts_to_sequences(train_text),maxlen=maxlen)\n",
    "    x_val = pad_sequences(tk.texts_to_sequences(val_text),maxlen=maxlen)\n",
    "    y_train = category_to_one_hot(df_train['Cat'].values,categories)\n",
    "    y_val = category_to_one_hot(df_val['Cat'].values,categories) \n",
    "    return tk.word_index,x_train,y_train,x_val,y_val\n",
    "\n",
    "def prepare_data_from_full_word_index(df_train,df_val,categories,word_index):\n",
    "    train_text = df_train['Emails'].tolist()\n",
    "    val_text = df_val['Emails'].tolist()\n",
    "    x_train = get_pad_sequences(train_text,word_index)\n",
    "    x_val = get_pad_sequences(val_text,word_index)\n",
    "    y_train = category_to_one_hot(df_train['Cat'].values,categories)\n",
    "    y_val = category_to_one_hot(df_val['Cat'].values,categories) \n",
    "    return word_index,x_train,y_train,x_val,y_val\n",
    "\n",
    "def get_pad_sequences(text_list,word_index):\n",
    "    seqs = []\n",
    "    for text in text_list:\n",
    "        word_seq = text_to_word_sequence(text.lower())\n",
    "        seq = []\n",
    "        for word in word_seq:\n",
    "          if word in word_index:\n",
    "            seq.append(word_index[word])\n",
    "        seqs.append(seq)\n",
    "    return pad_sequences(seqs,maxlen)\n",
    "\n",
    "\n",
    "# Convert the list of categories to one_hot vector\n",
    "def category_to_one_hot(cat_list,cat_master):\n",
    "    cat_dict = {}\n",
    "    for i,cat in enumerate(cat_master):\n",
    "        cat_dict[cat] = i\n",
    "    cat_integers = [cat_dict[cat] for cat in cat_list]\n",
    "    return to_categorical(cat_integers,num_classes=len(cat_master))\n",
    "\n",
    "# Convert one_hot to category\n",
    "def one_hot_to_category(cat_one_hot_list,cat_master):\n",
    "    return [cat_master[cat_one_hot.argmax()] for cat_one_hot in cat_one_hot_list]\n",
    "\n",
    "# Get the embedding weights for the model\n",
    "def get_embedding_matrix_for_model(embeddings,word_index):\n",
    "    train_val_words = min(vocab_size, len(word_index)) +1\n",
    "    embedding_matrix = np.zeros((train_val_words, embedding_size))\n",
    "    for word, i in word_index.items():\n",
    "        embedding_vector = get_embedding(word,word_index,embeddings).flatten()\n",
    "        if embedding_vector is not None: \n",
    "            embedding_matrix[i] = embedding_vector\n",
    "    return embedding_matrix\n",
    "\n",
    "# Build the keras model\n",
    "def build_model(embedding_matrix,categories):\n",
    "    model = Sequential()\n",
    "    model.add(Embedding(embedding_matrix.shape[0], embedding_size, weights=[embedding_matrix],input_length=maxlen,trainable=False))\n",
    "    model.add(LSTM(32))\n",
    "#   We don't lose much by replacing LSTM with this flatten layer (as we have short sequences)\n",
    "#   model.add(Flatten())\n",
    "    model.add(Dense(32, activation='relu'))\n",
    "    model.add(Dense(len(categories), activation='sigmoid'))\n",
    "    model.compile(optimizer='rmsprop',\n",
    "              loss='categorical_crossentropy',\n",
    "              metrics=['acc'])\n",
    "    return model\n",
    "\n",
    "def get_val(numerator,divisor):\n",
    "    return float('nan') if divisor == 0 else np.round(numerator/divisor,3)\n",
    "\n",
    "def analyze_predictions(categories,y_true,y_pred):\n",
    "    tp = defaultdict(int)\n",
    "    tn = defaultdict(int)\n",
    "    fp = defaultdict(int)\n",
    "    fn = defaultdict(int)\n",
    "    precisions = []\n",
    "    recalls = []\n",
    "    f1s = []\n",
    "    cat_counts = defaultdict(int)\n",
    "    for cat in y_true:\n",
    "        cat_counts[cat]+=1 \n",
    "    correct = 0\n",
    "    conf_mat = defaultdict(dict)\n",
    "    for cat1 in categories:\n",
    "        for cat2 in categories:\n",
    "            conf_mat[cat1][cat2] = 0\n",
    "    for y,y_hat in zip(y_true,y_pred):\n",
    "        conf_mat[y][y_hat]+=1\n",
    "        if y == y_hat:\n",
    "            correct+=1\n",
    "            tp[y]+=1\n",
    "        else:\n",
    "            fp[y_hat]+=1\n",
    "            fn[y]+=1\n",
    "    print('Overall Accuracy:',round(correct/len(y_pred),3))\n",
    "    for cat in categories:\n",
    "        precision = get_val(tp[cat],tp[cat]+fp[cat])\n",
    "        recall = get_val(tp[cat],(tp[cat]+fn[cat]))\n",
    "        f1 = get_val(2*precision*recall,precision + recall)\n",
    "        precisions.append(precision)\n",
    "        recalls.append(recall)  \n",
    "        f1s.append(f1)\n",
    "        print('{} --> Precision:{},Recall:{},F1:{}'.format(cat,precision,recall,f1))\n",
    "    print ('\\nAverages---> Precision:{}, Recall:{}, F1:{}'.format(np.round(np.nanmean(precisions),3),                                                                                                np.round(np.nanmean(recalls),3),\n",
    "                                                               np.round(np.nanmean(f1s),3))\n",
    "          )\n",
    "          \n",
    "    print('\\nConfusion Matrix')\n",
    "    for cat1 in categories:\n",
    "        print('\\n'  +cat1+'({}) --> '.format(cat_counts[cat1]),end='')\n",
    "        for cat2 in categories:\n",
    "            print('{}({})'.format(cat2,conf_mat[cat1][cat2]),end=' , ')\n",
    "    print('')\n",
    "    \n",
    "\n",
    "\n",
    "# From Deep Learning with Python book\n",
    "def make_history_plot(history):\n",
    "    acc = history.history['acc']\n",
    "    val_acc = history.history['val_acc']\n",
    "    loss = history.history['loss']\n",
    "    val_loss = history.history['val_loss']\n",
    "\n",
    "    epochs = range(1, len(acc) + 1)\n",
    "\n",
    "    plt.plot(epochs, acc, 'bo', label='Training acc')\n",
    "    plt.plot(epochs, val_acc, 'b', color='green',label='Validation acc')\n",
    "    plt.title('Training and validation accuracy')\n",
    "    plt.legend()\n",
    "\n",
    "    plt.figure()\n",
    "\n",
    "    plt.plot(epochs, loss, 'bo', label='Training loss')\n",
    "    plt.plot(epochs, val_loss, 'b', color='green',label='Validation loss')\n",
    "    plt.title('Training and validation loss')\n",
    "    plt.legend()\n",
    "    plt.show()"
   ]
  },
  {
   "cell_type": "code",
   "execution_count": 62,
   "metadata": {
    "collapsed": true
   },
   "outputs": [],
   "source": [
    "import numpy as np\n",
    "np.random.seed(42) # for reproducibility\n",
    "from IPython.display import SVG\n",
    "from keras.utils.vis_utils import model_to_dot\n",
    "import matplotlib.pyplot as plt\n",
    "%matplotlib inline"
   ]
  },
  {
   "cell_type": "code",
   "execution_count": 63,
   "metadata": {
    "collapsed": true
   },
   "outputs": [],
   "source": [
    "df_train,df_val,categories = read_data()"
   ]
  },
  {
   "cell_type": "code",
   "execution_count": 64,
   "metadata": {
    "collapsed": true
   },
   "outputs": [],
   "source": [
    "#Load Glove 50-d embeddings\n",
    "embeddings,word_index = load_embeddings()"
   ]
  },
  {
   "cell_type": "code",
   "execution_count": 65,
   "metadata": {
    "collapsed": true
   },
   "outputs": [],
   "source": [
    "#Prepare the data for the model\n",
    "tk_word_index,x_train,y_train,x_val,y_val = prepare_data_from_full_word_index(df_train,df_val,categories,word_index)"
   ]
  },
  {
   "cell_type": "code",
   "execution_count": 66,
   "metadata": {},
   "outputs": [
    {
     "name": "stdout",
     "output_type": "stream",
     "text": [
      "_________________________________________________________________\n",
      "Layer (type)                 Output Shape              Param #   \n",
      "=================================================================\n",
      "embedding_2 (Embedding)      (None, 100, 50)           20000050  \n",
      "_________________________________________________________________\n",
      "lstm_2 (LSTM)                (None, 32)                10624     \n",
      "_________________________________________________________________\n",
      "dense_3 (Dense)              (None, 32)                1056      \n",
      "_________________________________________________________________\n",
      "dense_4 (Dense)              (None, 8)                 264       \n",
      "=================================================================\n",
      "Total params: 20,011,994\n",
      "Trainable params: 11,944\n",
      "Non-trainable params: 20,000,050\n",
      "_________________________________________________________________\n"
     ]
    }
   ],
   "source": [
    "# Get the embedding matrix for the model, build model, display model summary\n",
    "embedding_matrix = get_embedding_matrix_for_model(embeddings,word_index)\n",
    "model = build_model(embedding_matrix,categories)\n",
    "model.summary()"
   ]
  },
  {
   "cell_type": "code",
   "execution_count": 67,
   "metadata": {},
   "outputs": [
    {
     "name": "stdout",
     "output_type": "stream",
     "text": [
      "Train on 16262 samples, validate on 4066 samples\n",
      "Epoch 1/5\n",
      "16262/16262 [==============================] - 58s 4ms/step - loss: 0.6102 - acc: 0.7843 - val_loss: 0.0421 - val_acc: 0.9961\n",
      "Epoch 2/5\n",
      "16262/16262 [==============================] - 57s 3ms/step - loss: 0.0198 - acc: 0.9958 - val_loss: 0.0101 - val_acc: 0.9975\n",
      "Epoch 3/5\n",
      "16262/16262 [==============================] - 57s 3ms/step - loss: 0.0086 - acc: 0.9984 - val_loss: 1.7865e-04 - val_acc: 1.0000\n",
      "Epoch 4/5\n",
      "16262/16262 [==============================] - 57s 4ms/step - loss: 0.0049 - acc: 0.9991 - val_loss: 1.0974e-06 - val_acc: 1.0000\n",
      "Epoch 5/5\n",
      "16262/16262 [==============================] - 57s 3ms/step - loss: 0.0017 - acc: 0.9998 - val_loss: 1.2575e-06 - val_acc: 1.0000\n"
     ]
    }
   ],
   "source": [
    "# Train the model, record history\n",
    "history = model.fit(x_train, y_train,\n",
    "                    epochs=5,\n",
    "                    batch_size=24,\n",
    "                    shuffle=False,\n",
    "                    validation_data=(x_val, y_val))"
   ]
  },
  {
   "cell_type": "code",
   "execution_count": 68,
   "metadata": {},
   "outputs": [
    {
     "data": {
      "image/png": "[encoded data removed]",
      "text/plain": [
       "<matplotlib.figure.Figure at 0x132316cc0>"
      ]
     },
     "metadata": {},
     "output_type": "display_data"
    },
    {
     "data": {
      "image/png": "[encoded data removed]",
      "text/plain": [
       "<matplotlib.figure.Figure at 0x1513a9d68>"
      ]
     },
     "metadata": {},
     "output_type": "display_data"
    }
   ],
   "source": [
    "make_history_plot(history)"
   ]
  },
  {
   "cell_type": "code",
   "execution_count": 69,
   "metadata": {
    "scrolled": false
   },
   "outputs": [
    {
     "name": "stdout",
     "output_type": "stream",
     "text": [
      "Overall Accuracy: 1.0\n",
      "The system setting is missing, and it is corrected after reinputting it. --> Precision:1.0,Recall:1.0,F1:1.0\n",
      "Please clear your IE cache, if not work, please upgrade your windows to windows 10. --> Precision:1.0,Recall:1.0,F1:1.0\n",
      "The role was not changes since the change was not transferred to system.It was done, and should be work now. --> Precision:1.0,Recall:1.0,F1:1.0\n",
      "The system bug and it is working now after applying patch. --> Precision:1.0,Recall:1.0,F1:1.0\n",
      "The system setting was changed, and we will restore the system setting, after that, please try it again. --> Precision:1.0,Recall:1.0,F1:1.0\n",
      "Your authorization is insufficient, please apply for the additional authorizations. --> Precision:1.0,Recall:1.0,F1:1.0\n",
      "The system maintenance was completed, and it is working now. --> Precision:1.0,Recall:1.0,F1:1.0\n",
      "The system change was done, and this field was removed. Please check the annoucement sent last month. --> Precision:1.0,Recall:1.0,F1:1.0\n",
      "\n",
      "Averages---> Precision:1.0, Recall:1.0, F1:1.0\n",
      "\n",
      "Confusion Matrix\n",
      "\n",
      "The system setting is missing, and it is corrected after reinputting it.(3079) --> The system setting is missing, and it is corrected after reinputting it.(3079) , Please clear your IE cache, if not work, please upgrade your windows to windows 10.(0) , The role was not changes since the change was not transferred to system.It was done, and should be work now.(0) , The system bug and it is working now after applying patch.(0) , The system setting was changed, and we will restore the system setting, after that, please try it again.(0) , Your authorization is insufficient, please apply for the additional authorizations.(0) , The system maintenance was completed, and it is working now.(0) , The system change was done, and this field was removed. Please check the annoucement sent last month.(0) , \n",
      "Please clear your IE cache, if not work, please upgrade your windows to windows 10.(387) --> The system setting is missing, and it is corrected after reinputting it.(0) , Please clear your IE cache, if not work, please upgrade your windows to windows 10.(387) , The role was not changes since the change was not transferred to system.It was done, and should be work now.(0) , The system bug and it is working now after applying patch.(0) , The system setting was changed, and we will restore the system setting, after that, please try it again.(0) , Your authorization is insufficient, please apply for the additional authorizations.(0) , The system maintenance was completed, and it is working now.(0) , The system change was done, and this field was removed. Please check the annoucement sent last month.(0) , \n",
      "The role was not changes since the change was not transferred to system.It was done, and should be work now.(3066) --> The system setting is missing, and it is corrected after reinputting it.(0) , Please clear your IE cache, if not work, please upgrade your windows to windows 10.(0) , The role was not changes since the change was not transferred to system.It was done, and should be work now.(3066) , The system bug and it is working now after applying patch.(0) , The system setting was changed, and we will restore the system setting, after that, please try it again.(0) , Your authorization is insufficient, please apply for the additional authorizations.(0) , The system maintenance was completed, and it is working now.(0) , The system change was done, and this field was removed. Please check the annoucement sent last month.(0) , \n",
      "The system bug and it is working now after applying patch.(4648) --> The system setting is missing, and it is corrected after reinputting it.(0) , Please clear your IE cache, if not work, please upgrade your windows to windows 10.(0) , The role was not changes since the change was not transferred to system.It was done, and should be work now.(0) , The system bug and it is working now after applying patch.(4648) , The system setting was changed, and we will restore the system setting, after that, please try it again.(0) , Your authorization is insufficient, please apply for the additional authorizations.(0) , The system maintenance was completed, and it is working now.(0) , The system change was done, and this field was removed. Please check the annoucement sent last month.(0) , \n",
      "The system setting was changed, and we will restore the system setting, after that, please try it again.(198) --> The system setting is missing, and it is corrected after reinputting it.(0) , Please clear your IE cache, if not work, please upgrade your windows to windows 10.(0) , The role was not changes since the change was not transferred to system.It was done, and should be work now.(0) , The system bug and it is working now after applying patch.(0) , The system setting was changed, and we will restore the system setting, after that, please try it again.(198) , Your authorization is insufficient, please apply for the additional authorizations.(0) , The system maintenance was completed, and it is working now.(0) , The system change was done, and this field was removed. Please check the annoucement sent last month.(0) , \n",
      "Your authorization is insufficient, please apply for the additional authorizations.(197) --> The system setting is missing, and it is corrected after reinputting it.(0) , Please clear your IE cache, if not work, please upgrade your windows to windows 10.(0) , The role was not changes since the change was not transferred to system.It was done, and should be work now.(0) , The system bug and it is working now after applying patch.(0) , The system setting was changed, and we will restore the system setting, after that, please try it again.(0) , Your authorization is insufficient, please apply for the additional authorizations.(197) , The system maintenance was completed, and it is working now.(0) , The system change was done, and this field was removed. Please check the annoucement sent last month.(0) , \n",
      "The system maintenance was completed, and it is working now.(1560) --> The system setting is missing, and it is corrected after reinputting it.(0) , Please clear your IE cache, if not work, please upgrade your windows to windows 10.(0) , The role was not changes since the change was not transferred to system.It was done, and should be work now.(0) , The system bug and it is working now after applying patch.(0) , The system setting was changed, and we will restore the system setting, after that, please try it again.(0) , Your authorization is insufficient, please apply for the additional authorizations.(0) , The system maintenance was completed, and it is working now.(1560) , The system change was done, and this field was removed. Please check the annoucement sent last month.(0) , \n",
      "The system change was done, and this field was removed. Please check the annoucement sent last month.(3127) --> The system setting is missing, and it is corrected after reinputting it.(0) , Please clear your IE cache, if not work, please upgrade your windows to windows 10.(0) , The role was not changes since the change was not transferred to system.It was done, and should be work now.(0) , The system bug and it is working now after applying patch.(0) , The system setting was changed, and we will restore the system setting, after that, please try it again.(0) , Your authorization is insufficient, please apply for the additional authorizations.(0) , The system maintenance was completed, and it is working now.(0) , The system change was done, and this field was removed. Please check the annoucement sent last month.(3127) , \n"
     ]
    }
   ],
   "source": [
    "# Make and analyze training predictions\n",
    "train_predictions = one_hot_to_category(model.predict(x_train),categories)\n",
    "analyze_predictions(categories,df_train['Cat'].values,train_predictions)"
   ]
  },
  {
   "cell_type": "code",
   "execution_count": 70,
   "metadata": {
    "scrolled": false
   },
   "outputs": [
    {
     "name": "stdout",
     "output_type": "stream",
     "text": [
      "Overall Accuracy: 1.0\n",
      "The system setting is missing, and it is corrected after reinputting it. --> Precision:1.0,Recall:1.0,F1:1.0\n",
      "Please clear your IE cache, if not work, please upgrade your windows to windows 10. --> Precision:1.0,Recall:1.0,F1:1.0\n",
      "The role was not changes since the change was not transferred to system.It was done, and should be work now. --> Precision:1.0,Recall:1.0,F1:1.0\n",
      "The system bug and it is working now after applying patch. --> Precision:1.0,Recall:1.0,F1:1.0\n",
      "The system setting was changed, and we will restore the system setting, after that, please try it again. --> Precision:1.0,Recall:1.0,F1:1.0\n",
      "Your authorization is insufficient, please apply for the additional authorizations. --> Precision:1.0,Recall:1.0,F1:1.0\n",
      "The system maintenance was completed, and it is working now. --> Precision:1.0,Recall:1.0,F1:1.0\n",
      "The system change was done, and this field was removed. Please check the annoucement sent last month. --> Precision:1.0,Recall:1.0,F1:1.0\n",
      "\n",
      "Averages---> Precision:1.0, Recall:1.0, F1:1.0\n",
      "\n",
      "Confusion Matrix\n",
      "\n",
      "The system setting is missing, and it is corrected after reinputting it.(793) --> The system setting is missing, and it is corrected after reinputting it.(793) , Please clear your IE cache, if not work, please upgrade your windows to windows 10.(0) , The role was not changes since the change was not transferred to system.It was done, and should be work now.(0) , The system bug and it is working now after applying patch.(0) , The system setting was changed, and we will restore the system setting, after that, please try it again.(0) , Your authorization is insufficient, please apply for the additional authorizations.(0) , The system maintenance was completed, and it is working now.(0) , The system change was done, and this field was removed. Please check the annoucement sent last month.(0) , \n",
      "Please clear your IE cache, if not work, please upgrade your windows to windows 10.(97) --> The system setting is missing, and it is corrected after reinputting it.(0) , Please clear your IE cache, if not work, please upgrade your windows to windows 10.(97) , The role was not changes since the change was not transferred to system.It was done, and should be work now.(0) , The system bug and it is working now after applying patch.(0) , The system setting was changed, and we will restore the system setting, after that, please try it again.(0) , Your authorization is insufficient, please apply for the additional authorizations.(0) , The system maintenance was completed, and it is working now.(0) , The system change was done, and this field was removed. Please check the annoucement sent last month.(0) , \n",
      "The role was not changes since the change was not transferred to system.It was done, and should be work now.(806) --> The system setting is missing, and it is corrected after reinputting it.(0) , Please clear your IE cache, if not work, please upgrade your windows to windows 10.(0) , The role was not changes since the change was not transferred to system.It was done, and should be work now.(806) , The system bug and it is working now after applying patch.(0) , The system setting was changed, and we will restore the system setting, after that, please try it again.(0) , Your authorization is insufficient, please apply for the additional authorizations.(0) , The system maintenance was completed, and it is working now.(0) , The system change was done, and this field was removed. Please check the annoucement sent last month.(0) , \n",
      "The system bug and it is working now after applying patch.(1160) --> The system setting is missing, and it is corrected after reinputting it.(0) , Please clear your IE cache, if not work, please upgrade your windows to windows 10.(0) , The role was not changes since the change was not transferred to system.It was done, and should be work now.(0) , The system bug and it is working now after applying patch.(1160) , The system setting was changed, and we will restore the system setting, after that, please try it again.(0) , Your authorization is insufficient, please apply for the additional authorizations.(0) , The system maintenance was completed, and it is working now.(0) , The system change was done, and this field was removed. Please check the annoucement sent last month.(0) , \n",
      "The system setting was changed, and we will restore the system setting, after that, please try it again.(44) --> The system setting is missing, and it is corrected after reinputting it.(0) , Please clear your IE cache, if not work, please upgrade your windows to windows 10.(0) , The role was not changes since the change was not transferred to system.It was done, and should be work now.(0) , The system bug and it is working now after applying patch.(0) , The system setting was changed, and we will restore the system setting, after that, please try it again.(44) , Your authorization is insufficient, please apply for the additional authorizations.(0) , The system maintenance was completed, and it is working now.(0) , The system change was done, and this field was removed. Please check the annoucement sent last month.(0) , \n",
      "Your authorization is insufficient, please apply for the additional authorizations.(45) --> The system setting is missing, and it is corrected after reinputting it.(0) , Please clear your IE cache, if not work, please upgrade your windows to windows 10.(0) , The role was not changes since the change was not transferred to system.It was done, and should be work now.(0) , The system bug and it is working now after applying patch.(0) , The system setting was changed, and we will restore the system setting, after that, please try it again.(0) , Your authorization is insufficient, please apply for the additional authorizations.(45) , The system maintenance was completed, and it is working now.(0) , The system change was done, and this field was removed. Please check the annoucement sent last month.(0) , \n",
      "The system maintenance was completed, and it is working now.(376) --> The system setting is missing, and it is corrected after reinputting it.(0) , Please clear your IE cache, if not work, please upgrade your windows to windows 10.(0) , The role was not changes since the change was not transferred to system.It was done, and should be work now.(0) , The system bug and it is working now after applying patch.(0) , The system setting was changed, and we will restore the system setting, after that, please try it again.(0) , Your authorization is insufficient, please apply for the additional authorizations.(0) , The system maintenance was completed, and it is working now.(376) , The system change was done, and this field was removed. Please check the annoucement sent last month.(0) , \n",
      "The system change was done, and this field was removed. Please check the annoucement sent last month.(745) --> The system setting is missing, and it is corrected after reinputting it.(0) , Please clear your IE cache, if not work, please upgrade your windows to windows 10.(0) , The role was not changes since the change was not transferred to system.It was done, and should be work now.(0) , The system bug and it is working now after applying patch.(0) , The system setting was changed, and we will restore the system setting, after that, please try it again.(0) , Your authorization is insufficient, please apply for the additional authorizations.(0) , The system maintenance was completed, and it is working now.(0) , The system change was done, and this field was removed. Please check the annoucement sent last month.(745) , \n"
     ]
    }
   ],
   "source": [
    "# Make and analyze validation predictions\n",
    "val_predictions = one_hot_to_category(model.predict(x_val),categories)\n",
    "analyze_predictions(categories,df_val['Cat'].values,val_predictions)"
   ]
  },
  {
   "cell_type": "code",
   "execution_count": 75,
   "metadata": {},
   "outputs": [
    {
     "name": "stdout",
     "output_type": "stream",
     "text": [
      "['The system setting is missing, and it is corrected after reinputting it.']\n"
     ]
    }
   ],
   "source": [
    "input_narratives=['I have not authorization on the field city and this situation has lasted 2 days']\n",
    "#tokenize = Tokenizer(num_words=vocab_size, char_level=False)\n",
    "#tokenize.fit_on_texts(input_narratives)\n",
    "input_test=get_pad_sequences(input_narratives,word_index)\n",
    "#input_test = pad_sequences(tokenize.texts_to_sequences(input_narratives),maxlen=maxlen)\n",
    "input_predictions = one_hot_to_category(model.predict(input_test),categories)\n",
    "print(input_predictions)\n",
    "#prediction_prob=model.predict_proba(np.array(input_test))\n",
    "#print(categories,prediction_prob)\n"
   ]
  },
  {
   "cell_type": "code",
   "execution_count": 97,
   "metadata": {},
   "outputs": [
    {
     "name": "stdout",
     "output_type": "stream",
     "text": [
      "['The role was not changes since the change was not transferred to system.It was done, and should be work now.']\n"
     ]
    }
   ],
   "source": []
  },
  {
   "cell_type": "code",
   "execution_count": null,
   "metadata": {
    "collapsed": true
   },
   "outputs": [],
   "source": []
  }
 ],
 "metadata": {
  "kernelspec": {
   "display_name": "Python 3",
   "language": "python",
   "name": "python3"
  },
  "language_info": {
   "codemirror_mode": {
    "name": "ipython",
    "version": 3
   },
   "file_extension": ".py",
   "mimetype": "text/x-python",
   "name": "python",
   "nbconvert_exporter": "python",
   "pygments_lexer": "ipython3",
   "version": "3.6.1"
  }
 },
 "nbformat": 4,
 "nbformat_minor": 2
}
