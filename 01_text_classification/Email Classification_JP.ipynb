{
 "cells": [
  {
   "cell_type": "markdown",
   "metadata": {
    "extensions": {
     "jupyter_dashboards": {
      "version": 1,
      "views": {
       "grid_default": {
        "hidden": true
       },
       "report_default": {}
      }
     }
    }
   },
   "source": [
    "## Email Classification\n",
    "This program is used to classify the supporting emails in my firm, this idea is inspired by: <br />\n",
    "1) the tutorial of tensorflow: https://www.tensorflow.org/tutorials/keras/basic_text_classification <br />\n",
    "2) BERT. <br />\n",
    "3) Google's best practice on text classification.<br />\n",
    "https://github.com/google/eng-edu/tree/master/ml/guides/text_classification\n",
    "https://developers.google.com/machine-learning/guides/text-classification/\n",
    "\n",
    "In addition, the source file in this program was not uploaded, and the audience can create your own by MS excel file, in which, 2 columns, one for input question ( Data x), and one for label ( Data y)."
   ]
  },
  {
   "cell_type": "code",
   "execution_count": 1,
   "metadata": {
    "collapsed": true,
    "extensions": {
     "jupyter_dashboards": {
      "version": 1,
      "views": {
       "grid_default": {
        "hidden": true
       },
       "report_default": {}
      }
     }
    }
   },
   "outputs": [],
   "source": [
    "from __future__ import absolute_import\n",
    "from __future__ import division\n",
    "from __future__ import print_function"
   ]
  },
  {
   "cell_type": "code",
   "execution_count": 2,
   "metadata": {
    "extensions": {
     "jupyter_dashboards": {
      "version": 1,
      "views": {
       "grid_default": {
        "col": 0,
        "height": 4,
        "hidden": false,
        "row": 0,
        "width": 4
       },
       "report_default": {}
      }
     }
    }
   },
   "outputs": [
    {
     "name": "stderr",
     "output_type": "stream",
     "text": [
      "/Library/Frameworks/Python.framework/Versions/3.6/lib/python3.6/site-packages/h5py/__init__.py:34: FutureWarning: Conversion of the second argument of issubdtype from `float` to `np.floating` is deprecated. In future, it will be treated as `np.float64 == np.dtype(float).type`.\n",
      "  from ._conv import register_converters as _register_converters\n",
      "Using TensorFlow backend.\n"
     ]
    },
    {
     "name": "stdout",
     "output_type": "stream",
     "text": [
      "You have TensorFlow version 1.12.0\n"
     ]
    }
   ],
   "source": [
    "import itertools\n",
    "import os\n",
    "import logging\n",
    "import csv        \n",
    "\n",
    "%matplotlib inline\n",
    "import matplotlib.pyplot as plt\n",
    "import numpy as np\n",
    "import pandas as pd\n",
    "import tensorflow as tf\n",
    "\n",
    "from sklearn.preprocessing import LabelBinarizer, LabelEncoder\n",
    "from sklearn.metrics import confusion_matrix\n",
    "from sklearn.model_selection import train_test_split\n",
    "\n",
    "from tensorflow import keras\n",
    "from keras.models import Sequential\n",
    "from keras.layers import Dense, Activation, Dropout, Embedding,LSTM,Flatten,GRU\n",
    "from keras.preprocessing import text, sequence\n",
    "from keras import utils\n",
    "\n",
    "import gensim\n",
    "from gensim.models import Word2Vec\n",
    "from gensim.models import FastText\n",
    "\n",
    "# This code was tested with TensorFlow v1.4\n",
    "print(\"You have TensorFlow version\", tf.__version__)\n",
    "\n",
    "logging.basicConfig(format = '%(asctime)s - %(levelname)s - %(name)s -   %(message)s', \n",
    "                    datefmt = '%m/%d/%Y %H:%M:%S',\n",
    "                    level = logging.INFO)\n",
    "logger = logging.getLogger(__name__)"
   ]
  },
  {
   "cell_type": "markdown",
   "metadata": {
    "extensions": {
     "jupyter_dashboards": {
      "version": 1,
      "views": {
       "grid_default": {
        "col": 4,
        "height": 4,
        "hidden": false,
        "row": 0,
        "width": 4
       },
       "report_default": {}
      }
     }
    }
   },
   "source": [
    "### Load the mock dataset"
   ]
  },
  {
   "cell_type": "code",
   "execution_count": 3,
   "metadata": {
    "extensions": {
     "jupyter_dashboards": {
      "version": 1,
      "views": {
       "grid_default": {
        "col": 8,
        "height": 9,
        "hidden": false,
        "row": 0,
        "width": 4
       },
       "report_default": {}
      }
     }
    }
   },
   "outputs": [
    {
     "data": {
      "text/html": [
       "<div>\n",
       "<style scoped>\n",
       "    .dataframe tbody tr th:only-of-type {\n",
       "        vertical-align: middle;\n",
       "    }\n",
       "\n",
       "    .dataframe tbody tr th {\n",
       "        vertical-align: top;\n",
       "    }\n",
       "\n",
       "    .dataframe thead th {\n",
       "        text-align: right;\n",
       "    }\n",
       "</style>\n",
       "<table border=\"1\" class=\"dataframe\">\n",
       "  <thead>\n",
       "    <tr style=\"text-align: right;\">\n",
       "      <th></th>\n",
       "      <th>Unnamed: 0</th>\n",
       "      <th>Unnamed: 0.1</th>\n",
       "      <th>convid</th>\n",
       "      <th>subject</th>\n",
       "      <th>length</th>\n",
       "      <th>tousflag</th>\n",
       "      <th>dialognm</th>\n",
       "      <th>forwardtime</th>\n",
       "      <th>imagenm</th>\n",
       "      <th>notimagenm</th>\n",
       "      <th>...</th>\n",
       "      <th>en_question</th>\n",
       "      <th>Category</th>\n",
       "      <th>Category_SAPFI</th>\n",
       "      <th>Category_SAPHR</th>\n",
       "      <th>Category_Auth</th>\n",
       "      <th>Category_Subcon</th>\n",
       "      <th>Category_Timesheet</th>\n",
       "      <th>Category_Project</th>\n",
       "      <th>Category_Report</th>\n",
       "      <th>Category_Resource</th>\n",
       "    </tr>\n",
       "  </thead>\n",
       "  <tbody>\n",
       "    <tr>\n",
       "      <th>0</th>\n",
       "      <td>0</td>\n",
       "      <td>0</td>\n",
       "      <td>AAQkADA3MWMzMjQyLWI1NzQtNGRlNi05MTMzLTA1NTU5YW...</td>\n",
       "      <td>NaN</td>\n",
       "      <td>92.000000</td>\n",
       "      <td>1</td>\n",
       "      <td>4.5</td>\n",
       "      <td>0</td>\n",
       "      <td>0</td>\n",
       "      <td>0</td>\n",
       "      <td>...</td>\n",
       "      <td>Serious. Your report will be late. I\\x26#39  B...</td>\n",
       "      <td>Report</td>\n",
       "      <td>NaN</td>\n",
       "      <td>NaN</td>\n",
       "      <td>NaN</td>\n",
       "      <td>NaN</td>\n",
       "      <td>NaN</td>\n",
       "      <td>NaN</td>\n",
       "      <td>Report</td>\n",
       "      <td>NaN</td>\n",
       "    </tr>\n",
       "    <tr>\n",
       "      <th>2</th>\n",
       "      <td>2</td>\n",
       "      <td>2</td>\n",
       "      <td>AAQkADA3MWMzMjQyLWI1NzQtNGRlNi05MTMzLTA1NTU5YW...</td>\n",
       "      <td>10月度カウンセラーデータupload完了 データ確認のお願い</td>\n",
       "      <td>38.600000</td>\n",
       "      <td>1</td>\n",
       "      <td>2.5</td>\n",
       "      <td>0</td>\n",
       "      <td>0</td>\n",
       "      <td>0</td>\n",
       "      <td>...</td>\n",
       "      <td>Good morning. I uploaded 9 uploaded counselor ...</td>\n",
       "      <td>Others</td>\n",
       "      <td>NaN</td>\n",
       "      <td>NaN</td>\n",
       "      <td>NaN</td>\n",
       "      <td>NaN</td>\n",
       "      <td>NaN</td>\n",
       "      <td>NaN</td>\n",
       "      <td>NaN</td>\n",
       "      <td>NaN</td>\n",
       "    </tr>\n",
       "    <tr>\n",
       "      <th>3</th>\n",
       "      <td>3</td>\n",
       "      <td>3</td>\n",
       "      <td>AAQkADA3MWMzMjQyLWI1NzQtNGRlNi05MTMzLTA1NTU5YW...</td>\n",
       "      <td>11月度カウンセラーデータupload完了</td>\n",
       "      <td>38.000000</td>\n",
       "      <td>1</td>\n",
       "      <td>1.5</td>\n",
       "      <td>0</td>\n",
       "      <td>0</td>\n",
       "      <td>0</td>\n",
       "      <td>...</td>\n",
       "      <td>Thank you for your concern. Attempting to uplo...</td>\n",
       "      <td>Report</td>\n",
       "      <td>NaN</td>\n",
       "      <td>NaN</td>\n",
       "      <td>NaN</td>\n",
       "      <td>NaN</td>\n",
       "      <td>NaN</td>\n",
       "      <td>NaN</td>\n",
       "      <td>Report</td>\n",
       "      <td>Resource</td>\n",
       "    </tr>\n",
       "    <tr>\n",
       "      <th>4</th>\n",
       "      <td>4</td>\n",
       "      <td>4</td>\n",
       "      <td>AAQkADA3MWMzMjQyLWI1NzQtNGRlNi05MTMzLTA1NTU5YW...</td>\n",
       "      <td>11月度カウンセラーデータupload完了 1回目</td>\n",
       "      <td>55.500000</td>\n",
       "      <td>1</td>\n",
       "      <td>1.0</td>\n",
       "      <td>0</td>\n",
       "      <td>0</td>\n",
       "      <td>0</td>\n",
       "      <td>...</td>\n",
       "      <td>Good morning. We will inform you that the firs...</td>\n",
       "      <td>Others</td>\n",
       "      <td>NaN</td>\n",
       "      <td>NaN</td>\n",
       "      <td>NaN</td>\n",
       "      <td>NaN</td>\n",
       "      <td>NaN</td>\n",
       "      <td>NaN</td>\n",
       "      <td>NaN</td>\n",
       "      <td>NaN</td>\n",
       "    </tr>\n",
       "    <tr>\n",
       "      <th>5</th>\n",
       "      <td>5</td>\n",
       "      <td>5</td>\n",
       "      <td>AAQkADA3MWMzMjQyLWI1NzQtNGRlNi05MTMzLTA1NTU5YW...</td>\n",
       "      <td>12月度カウンセラーデータupload完了</td>\n",
       "      <td>29.888889</td>\n",
       "      <td>1</td>\n",
       "      <td>3.0</td>\n",
       "      <td>0</td>\n",
       "      <td>0</td>\n",
       "      <td>0</td>\n",
       "      <td>...</td>\n",
       "      <td>Good morning. Since the upload for December ha...</td>\n",
       "      <td>Report</td>\n",
       "      <td>NaN</td>\n",
       "      <td>NaN</td>\n",
       "      <td>NaN</td>\n",
       "      <td>NaN</td>\n",
       "      <td>NaN</td>\n",
       "      <td>NaN</td>\n",
       "      <td>Report</td>\n",
       "      <td>NaN</td>\n",
       "    </tr>\n",
       "  </tbody>\n",
       "</table>\n",
       "<p>5 rows × 27 columns</p>\n",
       "</div>"
      ],
      "text/plain": [
       "   Unnamed: 0  Unnamed: 0.1  \\\n",
       "0           0             0   \n",
       "2           2             2   \n",
       "3           3             3   \n",
       "4           4             4   \n",
       "5           5             5   \n",
       "\n",
       "                                              convid  \\\n",
       "0  AAQkADA3MWMzMjQyLWI1NzQtNGRlNi05MTMzLTA1NTU5YW...   \n",
       "2  AAQkADA3MWMzMjQyLWI1NzQtNGRlNi05MTMzLTA1NTU5YW...   \n",
       "3  AAQkADA3MWMzMjQyLWI1NzQtNGRlNi05MTMzLTA1NTU5YW...   \n",
       "4  AAQkADA3MWMzMjQyLWI1NzQtNGRlNi05MTMzLTA1NTU5YW...   \n",
       "5  AAQkADA3MWMzMjQyLWI1NzQtNGRlNi05MTMzLTA1NTU5YW...   \n",
       "\n",
       "                           subject     length  tousflag  dialognm  \\\n",
       "0                              NaN  92.000000         1       4.5   \n",
       "2  10月度カウンセラーデータupload完了 データ確認のお願い  38.600000         1       2.5   \n",
       "3            11月度カウンセラーデータupload完了  38.000000         1       1.5   \n",
       "4        11月度カウンセラーデータupload完了 1回目  55.500000         1       1.0   \n",
       "5            12月度カウンセラーデータupload完了  29.888889         1       3.0   \n",
       "\n",
       "   forwardtime  imagenm  notimagenm        ...         \\\n",
       "0            0        0           0        ...          \n",
       "2            0        0           0        ...          \n",
       "3            0        0           0        ...          \n",
       "4            0        0           0        ...          \n",
       "5            0        0           0        ...          \n",
       "\n",
       "                                         en_question Category Category_SAPFI  \\\n",
       "0  Serious. Your report will be late. I\\x26#39  B...   Report            NaN   \n",
       "2  Good morning. I uploaded 9 uploaded counselor ...   Others            NaN   \n",
       "3  Thank you for your concern. Attempting to uplo...   Report            NaN   \n",
       "4  Good morning. We will inform you that the firs...   Others            NaN   \n",
       "5  Good morning. Since the upload for December ha...   Report            NaN   \n",
       "\n",
       "  Category_SAPHR  Category_Auth Category_Subcon Category_Timesheet  \\\n",
       "0            NaN            NaN             NaN                NaN   \n",
       "2            NaN            NaN             NaN                NaN   \n",
       "3            NaN            NaN             NaN                NaN   \n",
       "4            NaN            NaN             NaN                NaN   \n",
       "5            NaN            NaN             NaN                NaN   \n",
       "\n",
       "  Category_Project Category_Report Category_Resource  \n",
       "0              NaN          Report               NaN  \n",
       "2              NaN             NaN               NaN  \n",
       "3              NaN          Report          Resource  \n",
       "4              NaN             NaN               NaN  \n",
       "5              NaN          Report               NaN  \n",
       "\n",
       "[5 rows x 27 columns]"
      ]
     },
     "execution_count": 3,
     "metadata": {},
     "output_type": "execute_result"
    }
   ],
   "source": [
    "source = pd.read_excel('../98_data/mail_translate_first_part.xlsx', encoding='latin-1')\n",
    "source.head()"
   ]
  },
  {
   "cell_type": "code",
   "execution_count": 4,
   "metadata": {
    "extensions": {
     "jupyter_dashboards": {
      "version": 1,
      "views": {
       "grid_default": {
        "col": 0,
        "height": 9,
        "hidden": false,
        "row": 4,
        "width": 4
       },
       "report_default": {}
      }
     }
    }
   },
   "outputs": [
    {
     "data": {
      "text/html": [
       "<div>\n",
       "<style scoped>\n",
       "    .dataframe tbody tr th:only-of-type {\n",
       "        vertical-align: middle;\n",
       "    }\n",
       "\n",
       "    .dataframe tbody tr th {\n",
       "        vertical-align: top;\n",
       "    }\n",
       "\n",
       "    .dataframe thead th {\n",
       "        text-align: right;\n",
       "    }\n",
       "</style>\n",
       "<table border=\"1\" class=\"dataframe\">\n",
       "  <thead>\n",
       "    <tr style=\"text-align: right;\">\n",
       "      <th></th>\n",
       "      <th>Emails</th>\n",
       "      <th>Cat</th>\n",
       "    </tr>\n",
       "  </thead>\n",
       "  <tbody>\n",
       "    <tr>\n",
       "      <th>0</th>\n",
       "      <td>大変 。 ご 連絡 が 遅く なり 。 失礼 し まし た 。 説明 が 多い 為 。 電話...</td>\n",
       "      <td>Report</td>\n",
       "    </tr>\n",
       "    <tr>\n",
       "      <th>2</th>\n",
       "      <td>お疲れさま です 。 10 月 分 カウンセラー データ 9 件 の upload 完了 し...</td>\n",
       "      <td>Others</td>\n",
       "    </tr>\n",
       "    <tr>\n",
       "      <th>3</th>\n",
       "      <td>担当 者 様 お疲れさま です 。 今月 分 の カウンセラー データ upload を 試...</td>\n",
       "      <td>Report</td>\n",
       "    </tr>\n",
       "    <tr>\n",
       "      <th>4</th>\n",
       "      <td>お疲れさま です 。 11 月 分 1 回 目 の カウンセラー データ upload が ...</td>\n",
       "      <td>Others</td>\n",
       "    </tr>\n",
       "    <tr>\n",
       "      <th>5</th>\n",
       "      <td>お疲れさま です 。 12 月 分 の upload 完了 し まし た ので 。 ご 報告...</td>\n",
       "      <td>Report</td>\n",
       "    </tr>\n",
       "  </tbody>\n",
       "</table>\n",
       "</div>"
      ],
      "text/plain": [
       "                                              Emails     Cat\n",
       "0  大変 。 ご 連絡 が 遅く なり 。 失礼 し まし た 。 説明 が 多い 為 。 電話...  Report\n",
       "2  お疲れさま です 。 10 月 分 カウンセラー データ 9 件 の upload 完了 し...  Others\n",
       "3  担当 者 様 お疲れさま です 。 今月 分 の カウンセラー データ upload を 試...  Report\n",
       "4  お疲れさま です 。 11 月 分 1 回 目 の カウンセラー データ upload が ...  Others\n",
       "5  お疲れさま です 。 12 月 分 の upload 完了 し まし た ので 。 ご 報告...  Report"
      ]
     },
     "execution_count": 4,
     "metadata": {},
     "output_type": "execute_result"
    }
   ],
   "source": [
    "# Rename the columns\n",
    "df=source[['mailquestion','Category']]\n",
    "df.columns=['Emails','Cat']\n",
    "df = df[pd.notnull(df['Emails'])]\n",
    "df.head()"
   ]
  },
  {
   "cell_type": "code",
   "execution_count": 5,
   "metadata": {
    "extensions": {
     "jupyter_dashboards": {
      "version": 1,
      "views": {
       "grid_default": {
        "col": 4,
        "height": 4,
        "hidden": false,
        "row": 4,
        "width": 4
       },
       "report_default": {}
      }
     }
    }
   },
   "outputs": [
    {
     "data": {
      "text/plain": [
       "Emails    0\n",
       "Cat       0\n",
       "dtype: int64"
      ]
     },
     "execution_count": 5,
     "metadata": {},
     "output_type": "execute_result"
    }
   ],
   "source": [
    "df.isnull().sum()"
   ]
  },
  {
   "cell_type": "code",
   "execution_count": 6,
   "metadata": {
    "extensions": {
     "jupyter_dashboards": {
      "version": 1,
      "views": {
       "grid_default": {
        "col": 4,
        "height": 15,
        "hidden": false,
        "row": 8,
        "width": 4
       },
       "report_default": {}
      }
     }
    }
   },
   "outputs": [
    {
     "data": {
      "text/plain": [
       "Others       1054\n",
       "Auth          328\n",
       "Subcon        285\n",
       "Report        274\n",
       "Project       149\n",
       "Timesheet      74\n",
       "Resource       55\n",
       "SAPHR          33\n",
       "SAPFI          31\n",
       "Name: Cat, dtype: int64"
      ]
     },
     "execution_count": 6,
     "metadata": {},
     "output_type": "execute_result"
    }
   ],
   "source": [
    "df['Cat'].value_counts()"
   ]
  },
  {
   "cell_type": "code",
   "execution_count": 7,
   "metadata": {},
   "outputs": [
    {
     "name": "stdout",
     "output_type": "stream",
     "text": [
      "Median words per sample: 112.0\n"
     ]
    },
    {
     "data": {
      "image/png": "[encoded data removed]",
      "text/plain": [
       "<Figure size 432x288 with 1 Axes>"
      ]
     },
     "metadata": {},
     "output_type": "display_data"
    }
   ],
   "source": [
    "from google_text_classification.explore_data import get_num_words_per_sample,plot_sample_length_distribution\n",
    "\n",
    "print(\"Median words per sample:\",get_num_words_per_sample(df['Emails']))\n",
    "\n",
    "plot_sample_length_distribution(df['Emails'])"
   ]
  },
  {
   "cell_type": "code",
   "execution_count": 8,
   "metadata": {
    "extensions": {
     "jupyter_dashboards": {
      "version": 1,
      "views": {
       "grid_default": {
        "col": 8,
        "height": 4,
        "hidden": false,
        "row": 9,
        "width": 4
       },
       "report_default": {}
      }
     }
    }
   },
   "outputs": [
    {
     "name": "stdout",
     "output_type": "stream",
     "text": [
      "Train size: 1460\n",
      "Validation size: 366\n",
      "Test size: 457\n"
     ]
    }
   ],
   "source": [
    "# Split data into train, validation, and test\n",
    "trans_narrative,test_narrative,trans_product, test_product = train_test_split(df['Emails'], df['Cat'],\n",
    "                                                                              random_state=42, train_size=0.8\n",
    "                                                                              )\n",
    "train_narrative,dev_narrative,train_product, dev_product = train_test_split(trans_narrative, \n",
    "                                                                            trans_product,random_state=42,\n",
    "                                                                            train_size=0.8)\n",
    "print (\"Train size: %d\" % train_product.shape[0])\n",
    "print (\"Validation size: %d\" % dev_product.shape[0])\n",
    "print (\"Test size: %d\" % test_product.shape[0])"
   ]
  },
  {
   "cell_type": "code",
   "execution_count": 9,
   "metadata": {
    "collapsed": true
   },
   "outputs": [],
   "source": [
    "# Create the training, dev, test set for BERT:\n",
    "\n",
    "with open('train.tsv', 'w', newline='') as f_output:\n",
    "    tsv_output = csv.writer(f_output, delimiter='\\t')\n",
    "    for i in range(train_narrative.shape[0]):\n",
    "        tsv_output.writerow([str(1000+i),train_product.iloc[i],'',train_narrative.iloc[i]])\n",
    "\n",
    "with open('dev.tsv', 'w', newline='') as f_output:\n",
    "    tsv_output = csv.writer(f_output, delimiter='\\t')\n",
    "    for i in range(dev_narrative.shape[0]):\n",
    "        tsv_output.writerow([str(4000+i),dev_product.iloc[i],'',dev_narrative.iloc[i]])\n",
    "\n",
    "with open('test.tsv', 'w', newline='') as f_output:\n",
    "    tsv_output = csv.writer(f_output, delimiter='\\t')\n",
    "    for i in range(test_narrative.shape[0]+1):\n",
    "        if i==0:\n",
    "            tsv_output.writerow(['index','sentence','label'])\n",
    "        else:\n",
    "            tsv_output.writerow([str(6000+i),test_narrative.iloc[i-1],test_product.iloc[i-1]])\n"
   ]
  },
  {
   "cell_type": "markdown",
   "metadata": {
    "extensions": {
     "jupyter_dashboards": {
      "version": 1,
      "views": {
       "grid_default": {
        "col": 0,
        "height": 4,
        "hidden": false,
        "row": 13,
        "width": 4
       },
       "report_default": {}
      }
     }
    }
   },
   "source": [
    "### Convert the words to integers"
   ]
  },
  {
   "cell_type": "code",
   "execution_count": 10,
   "metadata": {
    "collapsed": true
   },
   "outputs": [],
   "source": [
    "# Find out the maximum words for the dimension of word vectors\n",
    "def text2word(doc):\n",
    "    \"\"\"\n",
    "    Usage: Convert one text into word list.\n",
    "    Input: doc - string list\n",
    "    Output: documents - string list: all sentences in words list.\n",
    "            text_len - int: maximum numbers of words in one sentense\n",
    "            max_text - strig list: the words list of the sentence with maximum words\n",
    "    \"\"\"\n",
    "    return_docs=[]\n",
    "    text_len=0\n",
    "    max_text=''\n",
    "    #for item in df['Emails']:\n",
    "    for item in doc:\n",
    "        text_words=[word for word in str(item).lower().split()]\n",
    "        return_docs.append(text_words)\n",
    "        if len(text_words)> text_len:\n",
    "            text_len=len(text_words)\n",
    "            max_text=text_words\n",
    "    #max_words = text_len\n",
    "    \n",
    "    return return_docs,text_len,max_text\n",
    "\n",
    "documents,max_words,_=text2word(df['Emails'])\n",
    "tokenize = text.Tokenizer(num_words=max_words, char_level=False)"
   ]
  },
  {
   "cell_type": "code",
   "execution_count": 11,
   "metadata": {
    "extensions": {
     "jupyter_dashboards": {
      "version": 1,
      "views": {
       "grid_default": {
        "hidden": true
       },
       "report_default": {}
      }
     }
    }
   },
   "outputs": [
    {
     "name": "stdout",
     "output_type": "stream",
     "text": [
      "Found 7943 unique tokens.\n"
     ]
    }
   ],
   "source": [
    "tokenize.fit_on_texts(train_narrative) # only fit on train\n",
    "x_train_o = tokenize.texts_to_matrix(train_narrative)\n",
    "x_test_o = tokenize.texts_to_matrix(test_narrative)\n",
    "word_index = tokenize.word_index\n",
    "print('Found %s unique tokens.' % len(word_index))"
   ]
  },
  {
   "cell_type": "code",
   "execution_count": 12,
   "metadata": {
    "collapsed": true,
    "extensions": {
     "jupyter_dashboards": {
      "version": 1,
      "views": {
       "grid_default": {
        "hidden": true
       },
       "report_default": {}
      }
     }
    }
   },
   "outputs": [],
   "source": [
    "# Use sklearn utility to convert label strings to numbered index\n",
    "encoder = LabelEncoder()\n",
    "encoder.fit(train_product)\n",
    "y_train_o = encoder.transform(train_product)\n",
    "y_test_o = encoder.transform(test_product)"
   ]
  },
  {
   "cell_type": "code",
   "execution_count": 13,
   "metadata": {
    "collapsed": true,
    "extensions": {
     "jupyter_dashboards": {
      "version": 1,
      "views": {
       "grid_default": {
        "hidden": true
       },
       "report_default": {}
      }
     }
    }
   },
   "outputs": [],
   "source": [
    "# Converts the labels to a one-hot representation\n",
    "num_classes = np.max(y_train_o) + 1\n",
    "y_train_o = utils.to_categorical(y_train_o, num_classes)\n",
    "y_test_o = utils.to_categorical(y_test_o, num_classes)"
   ]
  },
  {
   "cell_type": "code",
   "execution_count": 14,
   "metadata": {},
   "outputs": [
    {
     "name": "stdout",
     "output_type": "stream",
     "text": [
      "['Auth' 'Others' 'Project' 'Report' 'Resource' 'SAPFI' 'SAPHR' 'Subcon'\n",
      " 'Timesheet']\n"
     ]
    }
   ],
   "source": [
    "print(encoder.classes_)"
   ]
  },
  {
   "cell_type": "code",
   "execution_count": 15,
   "metadata": {},
   "outputs": [
    {
     "name": "stdout",
     "output_type": "stream",
     "text": [
      "['Auth' 'Others' 'Project' 'Report' 'Resource' 'SAPFI' 'SAPHR' 'Subcon'\n",
      " 'Timesheet']\n"
     ]
    }
   ],
   "source": [
    "encoder_t = LabelEncoder()\n",
    "encoder_t.fit(test_product)\n",
    "print(encoder_t.classes_)"
   ]
  },
  {
   "cell_type": "code",
   "execution_count": 16,
   "metadata": {
    "extensions": {
     "jupyter_dashboards": {
      "version": 1,
      "views": {
       "grid_default": {
        "col": 8,
        "height": 4,
        "hidden": false,
        "row": 13,
        "width": 4
       },
       "report_default": {}
      }
     }
    }
   },
   "outputs": [
    {
     "name": "stdout",
     "output_type": "stream",
     "text": [
      "x_train shape: (1460, 5485)\n",
      "x_test shape: (457, 5485)\n",
      "y_train shape: (1460, 9)\n",
      "y_test shape: (457, 9)\n"
     ]
    }
   ],
   "source": [
    "# Inspect the dimenstions of our training and test data (this is helpful to debug)\n",
    "print('x_train shape:', x_train_o.shape)\n",
    "print('x_test shape:', x_test_o.shape)\n",
    "print('y_train shape:', y_train_o.shape)\n",
    "print('y_test shape:', y_test_o.shape)"
   ]
  },
  {
   "cell_type": "markdown",
   "metadata": {},
   "source": [
    "## 1.  Model without embedding layer"
   ]
  },
  {
   "cell_type": "markdown",
   "metadata": {
    "extensions": {
     "jupyter_dashboards": {
      "version": 1,
      "views": {
       "grid_default": {
        "col": 0,
        "height": 4,
        "hidden": false,
        "row": 17,
        "width": 4
       },
       "report_default": {}
      }
     }
    }
   },
   "source": [
    "### Build the model"
   ]
  },
  {
   "cell_type": "code",
   "execution_count": 17,
   "metadata": {
    "collapsed": true,
    "extensions": {
     "jupyter_dashboards": {
      "version": 1,
      "views": {
       "grid_default": {
        "hidden": true
       },
       "report_default": {}
      }
     }
    }
   },
   "outputs": [],
   "source": [
    "# Open questions: why are those parameters used for?\n",
    "batch_size = 5\n",
    "epochs = 50"
   ]
  },
  {
   "cell_type": "code",
   "execution_count": 18,
   "metadata": {
    "collapsed": true,
    "extensions": {
     "jupyter_dashboards": {
      "version": 1,
      "views": {
       "grid_default": {
        "hidden": true
       },
       "report_default": {}
      }
     }
    }
   },
   "outputs": [],
   "source": [
    "# Build the model\n",
    "model = Sequential()\n",
    "model.add(Dense(16, input_shape=(max_words,)))\n",
    "model.add(Activation('relu'))\n",
    "model.add(Dropout(0.8))\n",
    "model.add(Dense(num_classes))\n",
    "model.add(Activation('softmax'))"
   ]
  },
  {
   "cell_type": "markdown",
   "metadata": {
    "extensions": {
     "jupyter_dashboards": {
      "version": 1,
      "views": {
       "grid_default": {
        "hidden": true
       },
       "report_default": {}
      }
     }
    }
   },
   "source": [
    "### Loss function and optimizer\n",
    "A model needs a loss function and an optimizer for training. Since this is a categorical classification problem and the model outputs a probability (a single-unit layer with a sigmoid activation), we'll use the categorical_crossentropy loss function.\n",
    "This isn't the only choice for a loss function, you could, for instance, choose mean_squared_error. But, generally, categorical_crossentropy is better for dealing with probabilities—it measures the \"distance\" between probability distributions, or in our case, between the ground-truth distribution and the predictions.\n",
    "Later, when we are exploring regression problems (say, to predict the price of a house), we will see how to use another loss function called mean squared error.\n",
    "Now, configure the model to use an optimizer and a loss function:"
   ]
  },
  {
   "cell_type": "code",
   "execution_count": 19,
   "metadata": {
    "extensions": {
     "jupyter_dashboards": {
      "version": 1,
      "views": {
       "grid_default": {
        "hidden": true
       },
       "report_default": {}
      }
     }
    }
   },
   "outputs": [
    {
     "name": "stdout",
     "output_type": "stream",
     "text": [
      "_________________________________________________________________\n",
      "Layer (type)                 Output Shape              Param #   \n",
      "=================================================================\n",
      "dense_1 (Dense)              (None, 16)                87776     \n",
      "_________________________________________________________________\n",
      "activation_1 (Activation)    (None, 16)                0         \n",
      "_________________________________________________________________\n",
      "dropout_1 (Dropout)          (None, 16)                0         \n",
      "_________________________________________________________________\n",
      "dense_2 (Dense)              (None, 9)                 153       \n",
      "_________________________________________________________________\n",
      "activation_2 (Activation)    (None, 9)                 0         \n",
      "=================================================================\n",
      "Total params: 87,929\n",
      "Trainable params: 87,929\n",
      "Non-trainable params: 0\n",
      "_________________________________________________________________\n"
     ]
    }
   ],
   "source": [
    "model.compile(loss='categorical_crossentropy',\n",
    "              optimizer='adam',\n",
    "              metrics=['accuracy'])\n",
    "model.summary()"
   ]
  },
  {
   "cell_type": "markdown",
   "metadata": {
    "extensions": {
     "jupyter_dashboards": {
      "version": 1,
      "views": {
       "grid_default": {
        "col": 8,
        "height": 4,
        "hidden": false,
        "row": 17,
        "width": 4
       },
       "report_default": {}
      }
     }
    }
   },
   "source": [
    "### Train the model"
   ]
  },
  {
   "cell_type": "code",
   "execution_count": 20,
   "metadata": {
    "extensions": {
     "jupyter_dashboards": {
      "version": 1,
      "views": {
       "grid_default": {
        "col": 0,
        "height": 16,
        "hidden": false,
        "row": 21,
        "width": 4
       },
       "report_default": {}
      }
     }
    }
   },
   "outputs": [
    {
     "name": "stdout",
     "output_type": "stream",
     "text": [
      "Train on 1168 samples, validate on 292 samples\n",
      "Epoch 1/50\n",
      "1168/1168 [==============================] - 1s 682us/step - loss: 1.8646 - acc: 0.4418 - val_loss: 1.5093 - val_acc: 0.5034\n",
      "Epoch 2/50\n",
      "1168/1168 [==============================] - 0s 364us/step - loss: 1.5999 - acc: 0.4966 - val_loss: 1.3707 - val_acc: 0.4966\n",
      "Epoch 3/50\n",
      "1168/1168 [==============================] - 0s 363us/step - loss: 1.4417 - acc: 0.5077 - val_loss: 1.2964 - val_acc: 0.5171\n",
      "Epoch 4/50\n",
      "1168/1168 [==============================] - 0s 366us/step - loss: 1.3495 - acc: 0.5180 - val_loss: 1.2346 - val_acc: 0.5788\n",
      "Epoch 5/50\n",
      "1168/1168 [==============================] - 0s 368us/step - loss: 1.2973 - acc: 0.5402 - val_loss: 1.1778 - val_acc: 0.5616\n",
      "Epoch 6/50\n",
      "1168/1168 [==============================] - 0s 366us/step - loss: 1.2844 - acc: 0.5394 - val_loss: 1.1811 - val_acc: 0.5548\n",
      "Epoch 7/50\n",
      "1168/1168 [==============================] - 0s 349us/step - loss: 1.2125 - acc: 0.5471 - val_loss: 1.1435 - val_acc: 0.5788\n",
      "Epoch 8/50\n",
      "1168/1168 [==============================] - 0s 354us/step - loss: 1.1859 - acc: 0.5574 - val_loss: 1.1310 - val_acc: 0.5685\n",
      "Epoch 9/50\n",
      "1168/1168 [==============================] - 0s 363us/step - loss: 1.1910 - acc: 0.5539 - val_loss: 1.1252 - val_acc: 0.5890\n",
      "Epoch 10/50\n",
      "1168/1168 [==============================] - 1s 439us/step - loss: 1.1616 - acc: 0.5462 - val_loss: 1.0972 - val_acc: 0.5753\n",
      "Epoch 11/50\n",
      "1168/1168 [==============================] - 0s 357us/step - loss: 1.1542 - acc: 0.5565 - val_loss: 1.0862 - val_acc: 0.6130\n",
      "Epoch 12/50\n",
      "1168/1168 [==============================] - 0s 393us/step - loss: 1.1439 - acc: 0.5616 - val_loss: 1.0678 - val_acc: 0.6301\n",
      "Epoch 13/50\n",
      "1168/1168 [==============================] - 1s 439us/step - loss: 1.1198 - acc: 0.5625 - val_loss: 1.0754 - val_acc: 0.5993\n",
      "Epoch 14/50\n",
      "1168/1168 [==============================] - 1s 521us/step - loss: 1.1542 - acc: 0.5514 - val_loss: 1.0895 - val_acc: 0.5993\n",
      "Epoch 15/50\n",
      "1168/1168 [==============================] - 0s 366us/step - loss: 1.1082 - acc: 0.5676 - val_loss: 1.0528 - val_acc: 0.6301\n",
      "Epoch 16/50\n",
      "1168/1168 [==============================] - 0s 390us/step - loss: 1.0838 - acc: 0.5711 - val_loss: 1.0643 - val_acc: 0.6336\n",
      "Epoch 17/50\n",
      "1168/1168 [==============================] - 0s 351us/step - loss: 1.0890 - acc: 0.5702 - val_loss: 1.0473 - val_acc: 0.6336\n",
      "Epoch 18/50\n",
      "1168/1168 [==============================] - 0s 372us/step - loss: 1.0816 - acc: 0.5865 - val_loss: 1.0504 - val_acc: 0.6164\n",
      "Epoch 19/50\n",
      "1168/1168 [==============================] - 1s 457us/step - loss: 1.0718 - acc: 0.5634 - val_loss: 1.0583 - val_acc: 0.6336\n",
      "Epoch 20/50\n",
      "1168/1168 [==============================] - 0s 357us/step - loss: 1.0684 - acc: 0.5882 - val_loss: 1.0515 - val_acc: 0.6404\n",
      "Epoch 21/50\n",
      "1168/1168 [==============================] - 0s 367us/step - loss: 1.0724 - acc: 0.5634 - val_loss: 1.0299 - val_acc: 0.6507\n",
      "Epoch 22/50\n",
      "1168/1168 [==============================] - 0s 340us/step - loss: 1.0597 - acc: 0.5865 - val_loss: 1.0378 - val_acc: 0.6473\n",
      "Epoch 23/50\n",
      "1168/1168 [==============================] - 0s 339us/step - loss: 1.0466 - acc: 0.5882 - val_loss: 1.0439 - val_acc: 0.6473\n",
      "Epoch 24/50\n",
      "1168/1168 [==============================] - 0s 350us/step - loss: 1.0559 - acc: 0.5890 - val_loss: 1.0328 - val_acc: 0.6575\n",
      "Epoch 25/50\n",
      "1168/1168 [==============================] - 0s 388us/step - loss: 1.0484 - acc: 0.5813 - val_loss: 1.0144 - val_acc: 0.6712\n",
      "Epoch 26/50\n",
      "1168/1168 [==============================] - 0s 338us/step - loss: 1.0749 - acc: 0.5805 - val_loss: 1.0473 - val_acc: 0.6473\n",
      "Epoch 27/50\n",
      "1168/1168 [==============================] - 0s 400us/step - loss: 1.0385 - acc: 0.5822 - val_loss: 1.0508 - val_acc: 0.6301\n",
      "Epoch 28/50\n",
      "1168/1168 [==============================] - 0s 354us/step - loss: 1.0269 - acc: 0.5848 - val_loss: 1.0492 - val_acc: 0.6575\n",
      "Epoch 29/50\n",
      "1168/1168 [==============================] - 0s 357us/step - loss: 1.0177 - acc: 0.5788 - val_loss: 1.0704 - val_acc: 0.6473\n",
      "Epoch 30/50\n",
      "1168/1168 [==============================] - 0s 344us/step - loss: 1.0228 - acc: 0.6027 - val_loss: 1.0591 - val_acc: 0.6438\n",
      "Epoch 31/50\n",
      "1168/1168 [==============================] - 0s 341us/step - loss: 0.9994 - acc: 0.5899 - val_loss: 1.0825 - val_acc: 0.6507\n",
      "Epoch 32/50\n",
      "1168/1168 [==============================] - 0s 362us/step - loss: 1.0727 - acc: 0.5745 - val_loss: 1.0625 - val_acc: 0.6404\n",
      "Epoch 33/50\n",
      "1168/1168 [==============================] - 1s 432us/step - loss: 1.0247 - acc: 0.5985 - val_loss: 1.0847 - val_acc: 0.6541\n",
      "Epoch 34/50\n",
      "1168/1168 [==============================] - 0s 405us/step - loss: 1.0228 - acc: 0.5976 - val_loss: 1.0778 - val_acc: 0.6267\n",
      "Epoch 35/50\n",
      "1168/1168 [==============================] - 0s 337us/step - loss: 1.0096 - acc: 0.6045 - val_loss: 1.0568 - val_acc: 0.6507\n",
      "Epoch 36/50\n",
      "1168/1168 [==============================] - 0s 343us/step - loss: 1.0489 - acc: 0.5865 - val_loss: 1.0544 - val_acc: 0.6644\n",
      "Epoch 37/50\n",
      "1168/1168 [==============================] - 0s 325us/step - loss: 1.0134 - acc: 0.5882 - val_loss: 1.0776 - val_acc: 0.6575\n",
      "Epoch 38/50\n",
      "1168/1168 [==============================] - 0s 333us/step - loss: 1.0421 - acc: 0.5933 - val_loss: 1.0722 - val_acc: 0.6575\n",
      "Epoch 39/50\n",
      "1168/1168 [==============================] - 0s 427us/step - loss: 0.9960 - acc: 0.6130 - val_loss: 1.0607 - val_acc: 0.6575\n",
      "Epoch 40/50\n",
      "1168/1168 [==============================] - 0s 361us/step - loss: 1.0143 - acc: 0.6113 - val_loss: 1.0988 - val_acc: 0.6610\n",
      "Epoch 41/50\n",
      "1168/1168 [==============================] - 0s 406us/step - loss: 1.0198 - acc: 0.5882 - val_loss: 1.1475 - val_acc: 0.6404\n",
      "Epoch 42/50\n",
      "1168/1168 [==============================] - 0s 408us/step - loss: 1.0444 - acc: 0.6019 - val_loss: 1.1257 - val_acc: 0.6404\n",
      "Epoch 43/50\n",
      "1168/1168 [==============================] - 0s 346us/step - loss: 1.0062 - acc: 0.6062 - val_loss: 1.0909 - val_acc: 0.6610\n",
      "Epoch 44/50\n",
      "1168/1168 [==============================] - 0s 389us/step - loss: 0.9855 - acc: 0.6070 - val_loss: 1.1010 - val_acc: 0.6644\n",
      "Epoch 45/50\n",
      "1168/1168 [==============================] - 0s 336us/step - loss: 0.9943 - acc: 0.5933 - val_loss: 1.2362 - val_acc: 0.6301\n",
      "Epoch 46/50\n",
      "1168/1168 [==============================] - 0s 370us/step - loss: 1.0013 - acc: 0.6062 - val_loss: 1.0790 - val_acc: 0.6644\n",
      "Epoch 47/50\n",
      "1168/1168 [==============================] - 0s 351us/step - loss: 0.9988 - acc: 0.6062 - val_loss: 1.1124 - val_acc: 0.6644\n",
      "Epoch 48/50\n",
      "1168/1168 [==============================] - 0s 367us/step - loss: 1.0169 - acc: 0.5993 - val_loss: 1.0949 - val_acc: 0.6712\n",
      "Epoch 49/50\n",
      "1168/1168 [==============================] - 0s 377us/step - loss: 1.0173 - acc: 0.6002 - val_loss: 1.0937 - val_acc: 0.6678\n",
      "Epoch 50/50\n",
      "1168/1168 [==============================] - 0s 360us/step - loss: 1.0310 - acc: 0.6002 - val_loss: 1.1661 - val_acc: 0.6575\n"
     ]
    }
   ],
   "source": [
    "history = model.fit(x_train_o, y_train_o,\n",
    "                    batch_size=batch_size,\n",
    "                    epochs=epochs,\n",
    "                    verbose=1,\n",
    "                    validation_split=0.2)"
   ]
  },
  {
   "cell_type": "code",
   "execution_count": 21,
   "metadata": {
    "extensions": {
     "jupyter_dashboards": {
      "version": 1,
      "views": {
       "grid_default": {
        "col": 8,
        "height": 4,
        "hidden": false,
        "row": 21,
        "width": 4
       },
       "report_default": {}
      }
     }
    }
   },
   "outputs": [
    {
     "name": "stdout",
     "output_type": "stream",
     "text": [
      "457/457 [==============================] - 0s 186us/step\n",
      "Test score: 1.0159998761858848\n",
      "Test accuracy: 0.7002188299560442\n"
     ]
    }
   ],
   "source": [
    "# Evaluate the accuracy of our trained model\n",
    "score = model.evaluate(x_test_o, y_test_o,\n",
    "                       batch_size=batch_size, verbose=1)\n",
    "print('Test score:', score[0])\n",
    "print('Test accuracy:', score[1])"
   ]
  },
  {
   "cell_type": "markdown",
   "metadata": {
    "extensions": {
     "jupyter_dashboards": {
      "version": 1,
      "views": {
       "grid_default": {
        "col": 0,
        "height": 4,
        "hidden": false,
        "row": 37,
        "width": 12
       },
       "report_default": {}
      }
     }
    }
   },
   "source": [
    "### Create a graph of accuracy and loss over time\n",
    "\n",
    "`model.fit()` returns a `History` object that contains a dictionary with everything that happened during training:"
   ]
  },
  {
   "cell_type": "code",
   "execution_count": 22,
   "metadata": {
    "extensions": {
     "jupyter_dashboards": {
      "version": 1,
      "views": {
       "grid_default": {
        "col": 4,
        "height": 4,
        "hidden": false,
        "row": 23,
        "width": 4
       },
       "report_default": {}
      }
     }
    }
   },
   "outputs": [
    {
     "data": {
      "text/plain": [
       "dict_keys(['val_loss', 'val_acc', 'loss', 'acc'])"
      ]
     },
     "execution_count": 22,
     "metadata": {},
     "output_type": "execute_result"
    }
   ],
   "source": [
    "history_dict = history.history\n",
    "history_dict.keys()"
   ]
  },
  {
   "cell_type": "markdown",
   "metadata": {
    "extensions": {
     "jupyter_dashboards": {
      "version": 1,
      "views": {
       "grid_default": {
        "hidden": true
       },
       "report_default": {}
      }
     }
    }
   },
   "source": [
    "There are four entries: one for each monitored metric during training and validation. We can use these to plot the training and validation loss for comparison, as well as the training and validation accuracy:"
   ]
  },
  {
   "cell_type": "code",
   "execution_count": 23,
   "metadata": {
    "extensions": {
     "jupyter_dashboards": {
      "version": 1,
      "views": {
       "grid_default": {
        "col": 8,
        "height": 9,
        "hidden": false,
        "row": 25,
        "width": 4
       },
       "report_default": {}
      }
     }
    }
   },
   "outputs": [
    {
     "data": {
      "image/png": "[encoded data removed]",
      "text/plain": [
       "<Figure size 432x288 with 1 Axes>"
      ]
     },
     "metadata": {},
     "output_type": "display_data"
    }
   ],
   "source": [
    "import matplotlib.pyplot as plt\n",
    "\n",
    "acc = history.history['acc']\n",
    "val_acc = history.history['val_acc']\n",
    "loss = history.history['loss']\n",
    "val_loss = history.history['val_loss']\n",
    "\n",
    "epochs = range(1, len(acc) + 1)\n",
    "\n",
    "# \"bo\" is for \"blue dot\"\n",
    "plt.plot(epochs, loss, 'bo', label='Training loss')\n",
    "# b is for \"solid blue line\"\n",
    "plt.plot(epochs, val_loss, 'b', label='Validation loss')\n",
    "plt.title('Training and validation loss')\n",
    "plt.xlabel('Epochs')\n",
    "plt.ylabel('Loss')\n",
    "plt.legend()\n",
    "\n",
    "plt.show()"
   ]
  },
  {
   "cell_type": "code",
   "execution_count": 24,
   "metadata": {
    "extensions": {
     "jupyter_dashboards": {
      "version": 1,
      "views": {
       "grid_default": {
        "col": 4,
        "height": 9,
        "hidden": false,
        "row": 27,
        "width": 4
       },
       "report_default": {}
      }
     }
    }
   },
   "outputs": [
    {
     "data": {
      "image/png": "[encoded data removed]",
      "text/plain": [
       "<Figure size 432x288 with 1 Axes>"
      ]
     },
     "metadata": {},
     "output_type": "display_data"
    }
   ],
   "source": [
    "plt.clf()   # clear figure\n",
    "acc_values = history_dict['acc']\n",
    "val_acc_values = history_dict['val_acc']\n",
    "\n",
    "plt.plot(epochs, acc, 'bo', label='Training acc')\n",
    "plt.plot(epochs, val_acc, 'b', label='Validation acc')\n",
    "plt.title('Training and validation accuracy')\n",
    "plt.xlabel('Epochs')\n",
    "plt.ylabel('Accuracy')\n",
    "plt.legend()\n",
    "\n",
    "plt.show()"
   ]
  },
  {
   "cell_type": "markdown",
   "metadata": {
    "extensions": {
     "jupyter_dashboards": {
      "version": 1,
      "views": {
       "grid_default": {
        "hidden": true
       },
       "report_default": {}
      }
     }
    }
   },
   "source": [
    "In this plot, the dots represent the training loss and accuracy, and the solid lines are the validation loss and accuracy.\n",
    "Notice the training loss decreases with each epoch and the training accuracy increases with each epoch. This is expected when using a gradient descent optimization—it should minimize the desired quantity on every iteration.\n",
    "This isn't the case for the validation loss and accuracy—they seem to peak after about twenty epochs. This is an example of overfitting: the model performs better on the training data than it does on data it has never seen before. After this point, the model over-optimizes and learns representations specific to the training data that do not generalize to test data.\n",
    "For this particular case, we could prevent overfitting by simply stopping the training after twenty or so epochs. Later, you'll see how to do this automatically with a callback."
   ]
  },
  {
   "cell_type": "markdown",
   "metadata": {
    "extensions": {
     "jupyter_dashboards": {
      "version": 1,
      "views": {
       "grid_default": {
        "col": 0,
        "height": 4,
        "hidden": false,
        "row": 41,
        "width": 4
       },
       "report_default": {}
      }
     }
    }
   },
   "source": [
    "### Evaluate model"
   ]
  },
  {
   "cell_type": "markdown",
   "metadata": {
    "extensions": {
     "jupyter_dashboards": {
      "version": 1,
      "views": {
       "grid_default": {
        "col": 4,
        "height": 4,
        "hidden": false,
        "row": 41,
        "width": 4
       },
       "report_default": {}
      }
     }
    }
   },
   "source": [
    "#### Scenario 1: Verify 10 records in test dataset"
   ]
  },
  {
   "cell_type": "code",
   "execution_count": 22,
   "metadata": {
    "extensions": {
     "jupyter_dashboards": {
      "version": 1,
      "views": {
       "grid_default": {
        "col": 8,
        "height": 52,
        "hidden": false,
        "row": 41,
        "width": 4
       },
       "report_default": {}
      }
     }
    }
   },
   "outputs": [
    {
     "name": "stdout",
     "output_type": "stream",
     "text": [
      "do you have user guide as to what i need to do . f ...\n",
      "Actual label:Timesheet\n",
      "Predicted label: Timesheet\n",
      "\n",
      "as you know there s still missing approver data as ...\n",
      "Actual label:non-issue\n",
      "Predicted label: non-issue\n",
      "\n",
      "we already assigned cheng shin aik staff as 2nd ap ...\n",
      "Actual label:Authorization\n",
      "Predicted label: Timesheet\n",
      "\n",
      "when i click on choose button to select timesheet  ...\n",
      "Actual label:Timesheet\n",
      "Predicted label: Timesheet\n",
      "\n",
      "you must be busy now but there s timesheet missing ...\n",
      "Actual label:Timesheet\n",
      "Predicted label: Timesheet\n",
      "\n",
      "i would like to inform the problem that i couldn t ...\n",
      "Actual label:Authorization\n",
      "Predicted label: Timesheet\n",
      "\n",
      "sorry to bother you please approve my timesheet kh ...\n",
      "Actual label:Timesheet\n",
      "Predicted label: Timesheet\n",
      "\n",
      "could you please set up your browser according to  ...\n",
      "Actual label:non-issue\n",
      "Predicted label: non-issue\n",
      "\n",
      "i d like to check why 0 hour charged following sta ...\n",
      "Actual label:non-issue\n",
      "Predicted label: non-issue\n",
      "\n",
      "i d like to check why 0 hour charged as below . if ...\n",
      "Actual label:non-issue\n",
      "Predicted label: non-issue\n",
      "\n"
     ]
    }
   ],
   "source": [
    "# Here's how to generate a prediction on individual examples\n",
    "text_labels = encoder.classes_ \n",
    "\n",
    "for i in range(10):\n",
    "    prediction = model.predict(np.array([x_test_o[i]]))\n",
    "    predicted_label = text_labels[np.argmax(prediction)]\n",
    "    print(test_narrative.iloc[i][:50], \"...\")\n",
    "    print('Actual label:' + test_product.iloc[i])\n",
    "    print(\"Predicted label: \" + predicted_label + \"\\n\")"
   ]
  },
  {
   "cell_type": "markdown",
   "metadata": {
    "extensions": {
     "jupyter_dashboards": {
      "version": 1,
      "views": {
       "grid_default": {
        "hidden": true
       },
       "report_default": {}
      }
     }
    }
   },
   "source": [
    "#### Scenario 2: Predict category based on manual input"
   ]
  },
  {
   "cell_type": "code",
   "execution_count": 23,
   "metadata": {
    "extensions": {
     "jupyter_dashboards": {
      "version": 1,
      "views": {
       "grid_default": {
        "hidden": true
       },
       "report_default": {}
      }
     }
    }
   },
   "outputs": [
    {
     "name": "stdout",
     "output_type": "stream",
     "text": [
      "> I have assigned mr. li with accessing timesheet\n",
      "Bot: Timesheet Probality: 0.6140563\n",
      "> quit\n"
     ]
    }
   ],
   "source": [
    "input_sentence = ''\n",
    "while(1):\n",
    "    try:\n",
    "        # Get input sentence\n",
    "        input_sentence = input('> ')\n",
    "        # Check if it is quit case\n",
    "        if input_sentence == 'q' or input_sentence == 'quit': \n",
    "            break\n",
    "        # Normalize sentence\n",
    "        input_sentence = tokenize.texts_to_matrix([input_sentence])       \n",
    "        pred_output = model.predict(np.array(input_sentence))\n",
    "        pred_prob=model.predict_proba(np.array(input_sentence))\n",
    "        predicted_label = text_labels[np.argmax(pred_output)]\n",
    "        print('Bot:', ' '.join([predicted_label,'Probality:',str(pred_prob[0,np.argmax(pred_output)])]))\n",
    "    except KeyError:\n",
    "        print(\"Error: Encountered unknown word.\")"
   ]
  },
  {
   "cell_type": "code",
   "execution_count": 24,
   "metadata": {
    "extensions": {
     "jupyter_dashboards": {
      "version": 1,
      "views": {
       "grid_default": {
        "col": 0,
        "height": 14,
        "hidden": false,
        "row": 50,
        "width": 4
       },
       "report_default": {}
      }
     }
    }
   },
   "outputs": [
    {
     "data": {
      "text/plain": [
       "array(['Authorization', 'Others', 'Project', 'Report', 'Timesheet',\n",
       "       'non-issue'], dtype=object)"
      ]
     },
     "execution_count": 24,
     "metadata": {},
     "output_type": "execute_result"
    }
   ],
   "source": [
    "encoder.classes_"
   ]
  },
  {
   "cell_type": "markdown",
   "metadata": {},
   "source": [
    "## 2. Model with pre-trained embedding layer - Glove"
   ]
  },
  {
   "cell_type": "code",
   "execution_count": 25,
   "metadata": {
    "collapsed": true
   },
   "outputs": [],
   "source": [
    "MAX_SEQUENCE_LENGTH = max_words\n",
    "MAX_NUM_WORDS = 20000\n",
    "EMBEDDING_DIM = 100\n",
    "VALIDATION_SPLIT = 0.2"
   ]
  },
  {
   "cell_type": "code",
   "execution_count": 26,
   "metadata": {},
   "outputs": [
    {
     "name": "stdout",
     "output_type": "stream",
     "text": [
      "Found 400001 word vectors.\n"
     ]
    }
   ],
   "source": [
    "embeddings_index = {}\n",
    "f = open(os.path.join('../98_data/glove.6B.100d.txt'))\n",
    "for line in f:\n",
    "    values = line.split()\n",
    "    word = values[0]\n",
    "    coefs = np.asarray(values[1:], dtype='float32')\n",
    "    embeddings_index[word] = coefs\n",
    "f.close()\n",
    "\n",
    "print('Found %s word vectors.' % len(embeddings_index))"
   ]
  },
  {
   "cell_type": "code",
   "execution_count": 71,
   "metadata": {
    "collapsed": true
   },
   "outputs": [],
   "source": [
    "#leverage embedding_index dictionary and word_index to compute our embedding matrix:\n",
    "embedding_matrix = np.zeros((len(word_index) + 1, EMBEDDING_DIM))\n",
    "for word, i in word_index.items():\n",
    "    embedding_vector = embeddings_index.get(word)\n",
    "    if embedding_vector is not None:\n",
    "        # words not found in embedding index will be all-zeros.\n",
    "        embedding_matrix[i] = embedding_vector"
   ]
  },
  {
   "cell_type": "code",
   "execution_count": 72,
   "metadata": {
    "collapsed": true
   },
   "outputs": [],
   "source": [
    "embedding_layer = Embedding(len(word_index) + 1,\n",
    "                            EMBEDDING_DIM,\n",
    "                            weights=[embedding_matrix],\n",
    "                            input_length=MAX_SEQUENCE_LENGTH,\n",
    "                            trainable=False)"
   ]
  },
  {
   "cell_type": "code",
   "execution_count": 73,
   "metadata": {},
   "outputs": [
    {
     "name": "stdout",
     "output_type": "stream",
     "text": [
      "_________________________________________________________________\n",
      "Layer (type)                 Output Shape              Param #   \n",
      "=================================================================\n",
      "embedding_7 (Embedding)      (None, 925, 100)          238700    \n",
      "_________________________________________________________________\n",
      "flatten_3 (Flatten)          (None, 92500)             0         \n",
      "_________________________________________________________________\n",
      "dense_17 (Dense)             (None, 16)                1480016   \n",
      "_________________________________________________________________\n",
      "dropout_5 (Dropout)          (None, 16)                0         \n",
      "_________________________________________________________________\n",
      "dense_18 (Dense)             (None, 6)                 102       \n",
      "_________________________________________________________________\n",
      "activation_15 (Activation)   (None, 6)                 0         \n",
      "=================================================================\n",
      "Total params: 1,718,818\n",
      "Trainable params: 1,480,118\n",
      "Non-trainable params: 238,700\n",
      "_________________________________________________________________\n"
     ]
    }
   ],
   "source": [
    "# Build the model\n",
    "model = Sequential()\n",
    "model.add(embedding_layer)\n",
    "model.add(Flatten())\n",
    "model.add(Dense(16, activation='sigmoid'))\n",
    "model.add(Dropout(0.8))\n",
    "model.add(Dense(num_classes))\n",
    "model.add(Activation('softmax'))\n",
    "model.compile(loss='categorical_crossentropy',\n",
    "              optimizer='adam',\n",
    "              metrics=['accuracy'])\n",
    "model.summary()"
   ]
  },
  {
   "cell_type": "code",
   "execution_count": 30,
   "metadata": {},
   "outputs": [
    {
     "name": "stdout",
     "output_type": "stream",
     "text": [
      "Train on 468 samples, validate on 118 samples\n",
      "Epoch 1/50\n",
      "468/468 [==============================] - 1s 3ms/step - loss: 1.5297 - acc: 0.4103 - val_loss: 1.0540 - val_acc: 0.6780\n",
      "Epoch 2/50\n",
      "468/468 [==============================] - 1s 2ms/step - loss: 1.3488 - acc: 0.5128 - val_loss: 0.9750 - val_acc: 0.7373\n",
      "Epoch 3/50\n",
      "468/468 [==============================] - 1s 2ms/step - loss: 1.2051 - acc: 0.5491 - val_loss: 0.9446 - val_acc: 0.6441\n",
      "Epoch 4/50\n",
      "468/468 [==============================] - 1s 2ms/step - loss: 1.2005 - acc: 0.5620 - val_loss: 0.9322 - val_acc: 0.6780\n",
      "Epoch 5/50\n",
      "468/468 [==============================] - 1s 2ms/step - loss: 1.1051 - acc: 0.5919 - val_loss: 0.8734 - val_acc: 0.7288\n",
      "Epoch 6/50\n",
      "468/468 [==============================] - 1s 2ms/step - loss: 1.0878 - acc: 0.5726 - val_loss: 0.8583 - val_acc: 0.7119\n",
      "Epoch 7/50\n",
      "468/468 [==============================] - 1s 2ms/step - loss: 1.0054 - acc: 0.5833 - val_loss: 0.8322 - val_acc: 0.6949\n",
      "Epoch 8/50\n",
      "468/468 [==============================] - 1s 2ms/step - loss: 0.9329 - acc: 0.6282 - val_loss: 0.7944 - val_acc: 0.7458\n",
      "Epoch 9/50\n",
      "468/468 [==============================] - 1s 2ms/step - loss: 0.9995 - acc: 0.6026 - val_loss: 0.8648 - val_acc: 0.6695\n",
      "Epoch 10/50\n",
      "468/468 [==============================] - 1s 2ms/step - loss: 0.9557 - acc: 0.6389 - val_loss: 0.8235 - val_acc: 0.7119\n",
      "Epoch 11/50\n",
      "468/468 [==============================] - 1s 3ms/step - loss: 0.9852 - acc: 0.5919 - val_loss: 0.8137 - val_acc: 0.7119\n",
      "Epoch 12/50\n",
      "468/468 [==============================] - 1s 3ms/step - loss: 0.8968 - acc: 0.6068 - val_loss: 0.8018 - val_acc: 0.6864\n",
      "Epoch 13/50\n",
      "468/468 [==============================] - 1s 3ms/step - loss: 0.9300 - acc: 0.6111 - val_loss: 0.8231 - val_acc: 0.6864\n",
      "Epoch 14/50\n",
      "468/468 [==============================] - 1s 2ms/step - loss: 0.8665 - acc: 0.6346 - val_loss: 0.7931 - val_acc: 0.7119\n",
      "Epoch 15/50\n",
      "468/468 [==============================] - 1s 2ms/step - loss: 0.8226 - acc: 0.6816 - val_loss: 0.7909 - val_acc: 0.7203\n",
      "Epoch 16/50\n",
      "468/468 [==============================] - 1s 2ms/step - loss: 0.8847 - acc: 0.6282 - val_loss: 0.8095 - val_acc: 0.7288\n",
      "Epoch 17/50\n",
      "468/468 [==============================] - 1s 2ms/step - loss: 0.8791 - acc: 0.6581 - val_loss: 0.7720 - val_acc: 0.7458\n",
      "Epoch 18/50\n",
      "468/468 [==============================] - 1s 2ms/step - loss: 0.8674 - acc: 0.6538 - val_loss: 0.8540 - val_acc: 0.7034\n",
      "Epoch 19/50\n",
      "468/468 [==============================] - 1s 2ms/step - loss: 0.8748 - acc: 0.6175 - val_loss: 0.7729 - val_acc: 0.6864\n",
      "Epoch 20/50\n",
      "468/468 [==============================] - 1s 2ms/step - loss: 0.8697 - acc: 0.6346 - val_loss: 0.7621 - val_acc: 0.7203\n",
      "Epoch 21/50\n",
      "468/468 [==============================] - 1s 2ms/step - loss: 0.8518 - acc: 0.6282 - val_loss: 0.8126 - val_acc: 0.6525\n",
      "Epoch 22/50\n",
      "468/468 [==============================] - 1s 2ms/step - loss: 0.8201 - acc: 0.6090 - val_loss: 0.7963 - val_acc: 0.7119\n",
      "Epoch 23/50\n",
      "468/468 [==============================] - 1s 2ms/step - loss: 0.8529 - acc: 0.6090 - val_loss: 0.7399 - val_acc: 0.7373\n",
      "Epoch 24/50\n",
      "468/468 [==============================] - 1s 2ms/step - loss: 0.8292 - acc: 0.6303 - val_loss: 0.7897 - val_acc: 0.7034\n",
      "Epoch 25/50\n",
      "468/468 [==============================] - 1s 2ms/step - loss: 0.7941 - acc: 0.6282 - val_loss: 0.8267 - val_acc: 0.7203\n",
      "Epoch 26/50\n",
      "468/468 [==============================] - 1s 3ms/step - loss: 0.7954 - acc: 0.6709 - val_loss: 0.8030 - val_acc: 0.7203\n",
      "Epoch 27/50\n",
      "468/468 [==============================] - 1s 3ms/step - loss: 0.8076 - acc: 0.6368 - val_loss: 0.7719 - val_acc: 0.7034\n",
      "Epoch 28/50\n",
      "468/468 [==============================] - 1s 2ms/step - loss: 0.7587 - acc: 0.6688 - val_loss: 0.7219 - val_acc: 0.7288\n",
      "Epoch 29/50\n",
      "468/468 [==============================] - 1s 2ms/step - loss: 0.7807 - acc: 0.6453 - val_loss: 0.8282 - val_acc: 0.7034\n",
      "Epoch 30/50\n",
      "468/468 [==============================] - 1s 2ms/step - loss: 0.8231 - acc: 0.6517 - val_loss: 0.7358 - val_acc: 0.7203\n",
      "Epoch 31/50\n",
      "468/468 [==============================] - 1s 2ms/step - loss: 0.7588 - acc: 0.6624 - val_loss: 0.7887 - val_acc: 0.7288\n",
      "Epoch 32/50\n",
      "468/468 [==============================] - 1s 3ms/step - loss: 0.7923 - acc: 0.6560 - val_loss: 0.7446 - val_acc: 0.7288\n",
      "Epoch 33/50\n",
      "468/468 [==============================] - 1s 3ms/step - loss: 0.7345 - acc: 0.6944 - val_loss: 0.7309 - val_acc: 0.7119\n",
      "Epoch 34/50\n",
      "468/468 [==============================] - 1s 2ms/step - loss: 0.7845 - acc: 0.6709 - val_loss: 0.7357 - val_acc: 0.7119\n",
      "Epoch 35/50\n",
      "468/468 [==============================] - 1s 2ms/step - loss: 0.7314 - acc: 0.6517 - val_loss: 0.7162 - val_acc: 0.7288\n",
      "Epoch 36/50\n",
      "468/468 [==============================] - 1s 2ms/step - loss: 0.7094 - acc: 0.6902 - val_loss: 0.7678 - val_acc: 0.7458\n",
      "Epoch 37/50\n",
      "468/468 [==============================] - 1s 2ms/step - loss: 0.7251 - acc: 0.6902 - val_loss: 0.7123 - val_acc: 0.7542\n",
      "Epoch 38/50\n",
      "468/468 [==============================] - 1s 3ms/step - loss: 0.7430 - acc: 0.6432 - val_loss: 0.7323 - val_acc: 0.7373\n",
      "Epoch 39/50\n",
      "468/468 [==============================] - 1s 3ms/step - loss: 0.7234 - acc: 0.6688 - val_loss: 0.7254 - val_acc: 0.7373\n",
      "Epoch 40/50\n",
      "468/468 [==============================] - 2s 3ms/step - loss: 0.7345 - acc: 0.6603 - val_loss: 0.7255 - val_acc: 0.7119\n",
      "Epoch 41/50\n",
      "468/468 [==============================] - 2s 4ms/step - loss: 0.7138 - acc: 0.6838 - val_loss: 0.6969 - val_acc: 0.7373\n",
      "Epoch 42/50\n",
      "468/468 [==============================] - 2s 3ms/step - loss: 0.6768 - acc: 0.7222 - val_loss: 0.7785 - val_acc: 0.7288\n",
      "Epoch 43/50\n",
      "468/468 [==============================] - 1s 3ms/step - loss: 0.7122 - acc: 0.7329 - val_loss: 0.7099 - val_acc: 0.7373\n",
      "Epoch 44/50\n",
      "468/468 [==============================] - 1s 3ms/step - loss: 0.7038 - acc: 0.6923 - val_loss: 0.7115 - val_acc: 0.7373\n",
      "Epoch 45/50\n",
      "468/468 [==============================] - 1s 3ms/step - loss: 0.7142 - acc: 0.7009 - val_loss: 0.7703 - val_acc: 0.7119\n",
      "Epoch 46/50\n",
      "468/468 [==============================] - 1s 3ms/step - loss: 0.6850 - acc: 0.7030 - val_loss: 0.7334 - val_acc: 0.7458\n",
      "Epoch 47/50\n",
      "468/468 [==============================] - 1s 3ms/step - loss: 0.7050 - acc: 0.6731 - val_loss: 0.7411 - val_acc: 0.7373\n",
      "Epoch 48/50\n",
      "468/468 [==============================] - 1s 3ms/step - loss: 0.7719 - acc: 0.6709 - val_loss: 0.7534 - val_acc: 0.7288\n",
      "Epoch 49/50\n",
      "468/468 [==============================] - 1s 3ms/step - loss: 0.7240 - acc: 0.6859 - val_loss: 0.7446 - val_acc: 0.7542\n",
      "Epoch 50/50\n",
      "468/468 [==============================] - 1s 3ms/step - loss: 0.7032 - acc: 0.6966 - val_loss: 0.7185 - val_acc: 0.7288\n"
     ]
    }
   ],
   "source": [
    "batch_size = 5\n",
    "epochs = 50\n",
    "history = model.fit(x_train_o, y_train_o,\n",
    "                    batch_size=batch_size,\n",
    "                    epochs=epochs,\n",
    "                    verbose=1,\n",
    "                    validation_split=0.2)"
   ]
  },
  {
   "cell_type": "code",
   "execution_count": 31,
   "metadata": {},
   "outputs": [
    {
     "name": "stdout",
     "output_type": "stream",
     "text": [
      "147/147 [==============================] - 0s 469us/step\n",
      "Test score: 0.8581229376346886\n",
      "Test accuracy: 0.7346938909316549\n"
     ]
    }
   ],
   "source": [
    "# Evaluate the accuracy of our trained model\n",
    "score = model.evaluate(x_test_o, y_test_o,\n",
    "                       batch_size=batch_size, verbose=1)\n",
    "print('Test score:', score[0])\n",
    "print('Test accuracy:', score[1])"
   ]
  },
  {
   "cell_type": "code",
   "execution_count": 32,
   "metadata": {},
   "outputs": [
    {
     "data": {
      "text/plain": [
       "dict_keys(['val_loss', 'val_acc', 'loss', 'acc'])"
      ]
     },
     "execution_count": 32,
     "metadata": {},
     "output_type": "execute_result"
    }
   ],
   "source": [
    "history_dict = history.history\n",
    "history_dict.keys()"
   ]
  },
  {
   "cell_type": "code",
   "execution_count": 33,
   "metadata": {},
   "outputs": [
    {
     "data": {
      "image/png": "[encoded data removed]",
      "text/plain": [
       "<matplotlib.figure.Figure at 0x127c90320>"
      ]
     },
     "metadata": {},
     "output_type": "display_data"
    }
   ],
   "source": [
    "import matplotlib.pyplot as plt\n",
    "\n",
    "acc = history.history['acc']\n",
    "val_acc = history.history['val_acc']\n",
    "loss = history.history['loss']\n",
    "val_loss = history.history['val_loss']\n",
    "\n",
    "epochs = range(1, len(acc) + 1)\n",
    "\n",
    "# \"bo\" is for \"blue dot\"\n",
    "plt.plot(epochs, loss, 'bo', label='Training loss')\n",
    "# b is for \"solid blue line\"\n",
    "plt.plot(epochs, val_loss, 'b', label='Validation loss')\n",
    "plt.title('Training and validation loss')\n",
    "plt.xlabel('Epochs')\n",
    "plt.ylabel('Loss')\n",
    "plt.legend()\n",
    "\n",
    "plt.show()"
   ]
  },
  {
   "cell_type": "code",
   "execution_count": 34,
   "metadata": {},
   "outputs": [
    {
     "data": {
      "image/png": "[encoded data removed]",
      "text/plain": [
       "<matplotlib.figure.Figure at 0x127cbe358>"
      ]
     },
     "metadata": {},
     "output_type": "display_data"
    }
   ],
   "source": [
    "plt.clf()   # clear figure\n",
    "acc_values = history_dict['acc']\n",
    "val_acc_values = history_dict['val_acc']\n",
    "\n",
    "plt.plot(epochs, acc, 'bo', label='Training acc')\n",
    "plt.plot(epochs, val_acc, 'b', label='Validation acc')\n",
    "plt.title('Training and validation accuracy')\n",
    "plt.xlabel('Epochs')\n",
    "plt.ylabel('Accuracy')\n",
    "plt.legend()\n",
    "\n",
    "plt.show()"
   ]
  },
  {
   "cell_type": "markdown",
   "metadata": {},
   "source": [
    "## 3. Model with pre-trained embedding layer - Word2Vec and FastText"
   ]
  },
  {
   "cell_type": "code",
   "execution_count": 35,
   "metadata": {},
   "outputs": [
    {
     "data": {
      "text/plain": [
       "(5628839, 9105250)"
      ]
     },
     "execution_count": 35,
     "metadata": {},
     "output_type": "execute_result"
    }
   ],
   "source": [
    "# training the model of word2vec by mail body\n",
    "source_text=pd.DataFrame(data=pd.concat([source['mailbody'],source['mailquestion']]),columns=['mailbody'])\n",
    "mb_sen,_,_=text2word(source_text['mailbody'])\n",
    "model_embedding_w = Word2Vec(sentences=mb_sen, size=EMBEDDING_DIM, window=5, min_count=2, workers=4, sg=0)\n",
    "#model_embedding_w = FastText(mb_sen, size=EMBEDDING_DIM, window=5, min_count=1, workers=4,sg=1)\n",
    "model_embedding_w.train(mb_sen, total_examples=len(mb_sen), epochs=50)"
   ]
  },
  {
   "cell_type": "code",
   "execution_count": 36,
   "metadata": {},
   "outputs": [
    {
     "name": "stdout",
     "output_type": "stream",
     "text": [
      "k not found\n",
      "jan not found\n",
      "aug not found\n",
      "sep not found\n",
      "planed not found\n",
      "away not found\n",
      "tuk not found\n",
      "advanced not found\n",
      "high not found\n",
      "priority not found\n",
      "mavis not found\n",
      "hey not found\n",
      "jingwen not found\n",
      "09 not found\n",
      "tentative not found\n",
      "property not found\n",
      "fills not found\n",
      "oct not found\n",
      "joins not found\n",
      "fontarial not found\n",
      "boldarial not found\n",
      "boldarialred not found\n",
      "layout not found\n",
      "width not found\n",
      "bgsilver not found\n",
      "bgsilverred not found\n",
      "bgwhite not found\n",
      "bgwhitered not found\n",
      "bgyellow not found\n",
      "ffff00 not found\n",
      "hoiday not found\n",
      "comp not found\n",
      "y not found\n"
     ]
    }
   ],
   "source": [
    "#leverage embedding_index dictionary and word_index to compute our embedding matrix:\n",
    "embedding_matrix = np.zeros((len(word_index) + 1, EMBEDDING_DIM))\n",
    "for word, i in word_index.items():\n",
    "    try:\n",
    "        embedding_vector = model_embedding_w.wv.get_vector(word)\n",
    "        if embedding_vector is not None:\n",
    "            # words not found in embedding index will be all-zeros.\n",
    "            embedding_matrix[i] = embedding_vector\n",
    "    except: \n",
    "        print(word, 'not found')"
   ]
  },
  {
   "cell_type": "code",
   "execution_count": 37,
   "metadata": {
    "collapsed": true
   },
   "outputs": [],
   "source": [
    "embedding_layer = Embedding(len(word_index) + 1,\n",
    "                            EMBEDDING_DIM,\n",
    "                            weights=[embedding_matrix],\n",
    "                            input_length=MAX_SEQUENCE_LENGTH,\n",
    "                            trainable=False)"
   ]
  },
  {
   "cell_type": "code",
   "execution_count": 38,
   "metadata": {
    "collapsed": true
   },
   "outputs": [],
   "source": [
    "# Build the model\n",
    "model = Sequential()\n",
    "model.add(embedding_layer)\n",
    "model.add(Flatten())\n",
    "model.add(Dense(16, activation='sigmoid'))\n",
    "model.add(Dropout(0.8))\n",
    "model.add(Dense(num_classes))\n",
    "model.add(Activation('softmax'))\n",
    "model.compile(loss='categorical_crossentropy',\n",
    "              optimizer='adam',\n",
    "              metrics=['accuracy'])"
   ]
  },
  {
   "cell_type": "code",
   "execution_count": 39,
   "metadata": {},
   "outputs": [
    {
     "name": "stdout",
     "output_type": "stream",
     "text": [
      "Train on 468 samples, validate on 118 samples\n",
      "Epoch 1/50\n",
      "468/468 [==============================] - 2s 3ms/step - loss: 1.5079 - acc: 0.4252 - val_loss: 1.0031 - val_acc: 0.6017\n",
      "Epoch 2/50\n",
      "468/468 [==============================] - 1s 2ms/step - loss: 1.2661 - acc: 0.5192 - val_loss: 0.9473 - val_acc: 0.6186\n",
      "Epoch 3/50\n",
      "468/468 [==============================] - 1s 2ms/step - loss: 1.2180 - acc: 0.5897 - val_loss: 0.9390 - val_acc: 0.6017\n",
      "Epoch 4/50\n",
      "468/468 [==============================] - 1s 3ms/step - loss: 1.2424 - acc: 0.5556 - val_loss: 0.8838 - val_acc: 0.6186\n",
      "Epoch 5/50\n",
      "468/468 [==============================] - 1s 2ms/step - loss: 1.0831 - acc: 0.6026 - val_loss: 0.8485 - val_acc: 0.6441\n",
      "Epoch 6/50\n",
      "468/468 [==============================] - 1s 2ms/step - loss: 1.0958 - acc: 0.6346 - val_loss: 0.8541 - val_acc: 0.6271\n",
      "Epoch 7/50\n",
      "468/468 [==============================] - 1s 3ms/step - loss: 1.0673 - acc: 0.6218 - val_loss: 0.9172 - val_acc: 0.6186\n",
      "Epoch 8/50\n",
      "468/468 [==============================] - 1s 3ms/step - loss: 0.9950 - acc: 0.6068 - val_loss: 0.7999 - val_acc: 0.7203\n",
      "Epoch 9/50\n",
      "468/468 [==============================] - 1s 2ms/step - loss: 1.0364 - acc: 0.6068 - val_loss: 0.7898 - val_acc: 0.7288\n",
      "Epoch 10/50\n",
      "468/468 [==============================] - 1s 2ms/step - loss: 0.9449 - acc: 0.6368 - val_loss: 0.7856 - val_acc: 0.7373\n",
      "Epoch 11/50\n",
      "468/468 [==============================] - 1s 2ms/step - loss: 0.9830 - acc: 0.6111 - val_loss: 0.7952 - val_acc: 0.6864\n",
      "Epoch 12/50\n",
      "468/468 [==============================] - 1s 2ms/step - loss: 0.9865 - acc: 0.6175 - val_loss: 0.7827 - val_acc: 0.7288\n",
      "Epoch 13/50\n",
      "468/468 [==============================] - 1s 2ms/step - loss: 0.9370 - acc: 0.6709 - val_loss: 0.7702 - val_acc: 0.7288\n",
      "Epoch 14/50\n",
      "468/468 [==============================] - 1s 2ms/step - loss: 0.8647 - acc: 0.7009 - val_loss: 0.7655 - val_acc: 0.7288\n",
      "Epoch 15/50\n",
      "468/468 [==============================] - 1s 3ms/step - loss: 0.9103 - acc: 0.6838 - val_loss: 0.8051 - val_acc: 0.6864\n",
      "Epoch 16/50\n",
      "468/468 [==============================] - 1s 3ms/step - loss: 0.8893 - acc: 0.6667 - val_loss: 0.7528 - val_acc: 0.7203\n",
      "Epoch 17/50\n",
      "468/468 [==============================] - 1s 2ms/step - loss: 0.8437 - acc: 0.6560 - val_loss: 0.7768 - val_acc: 0.7203\n",
      "Epoch 18/50\n",
      "468/468 [==============================] - 1s 2ms/step - loss: 0.9740 - acc: 0.6197 - val_loss: 0.8073 - val_acc: 0.6949\n",
      "Epoch 19/50\n",
      "468/468 [==============================] - 1s 3ms/step - loss: 0.8893 - acc: 0.6303 - val_loss: 0.8140 - val_acc: 0.6356\n",
      "Epoch 20/50\n",
      "468/468 [==============================] - 1s 3ms/step - loss: 0.9584 - acc: 0.6303 - val_loss: 0.8280 - val_acc: 0.6356\n",
      "Epoch 21/50\n",
      "468/468 [==============================] - 1s 2ms/step - loss: 0.8880 - acc: 0.6731 - val_loss: 0.8032 - val_acc: 0.6780\n",
      "Epoch 22/50\n",
      "468/468 [==============================] - 1s 2ms/step - loss: 0.8497 - acc: 0.6774 - val_loss: 0.7821 - val_acc: 0.7034\n",
      "Epoch 23/50\n",
      "468/468 [==============================] - 1s 2ms/step - loss: 0.8445 - acc: 0.6923 - val_loss: 0.8148 - val_acc: 0.6695\n",
      "Epoch 24/50\n",
      "468/468 [==============================] - 1s 2ms/step - loss: 0.9046 - acc: 0.6752 - val_loss: 0.8483 - val_acc: 0.6271\n",
      "Epoch 25/50\n",
      "468/468 [==============================] - 1s 2ms/step - loss: 0.8524 - acc: 0.6709 - val_loss: 0.8498 - val_acc: 0.6441\n",
      "Epoch 26/50\n",
      "468/468 [==============================] - 1s 3ms/step - loss: 0.8570 - acc: 0.6624 - val_loss: 0.8568 - val_acc: 0.6356\n",
      "Epoch 27/50\n",
      "468/468 [==============================] - 1s 3ms/step - loss: 0.8756 - acc: 0.6453 - val_loss: 0.7776 - val_acc: 0.7203\n",
      "Epoch 28/50\n",
      "468/468 [==============================] - 1s 2ms/step - loss: 0.8301 - acc: 0.6688 - val_loss: 0.7927 - val_acc: 0.6780\n",
      "Epoch 29/50\n",
      "468/468 [==============================] - 1s 3ms/step - loss: 0.8327 - acc: 0.6432 - val_loss: 0.7762 - val_acc: 0.6864\n",
      "Epoch 30/50\n",
      "468/468 [==============================] - 1s 3ms/step - loss: 0.8469 - acc: 0.6261 - val_loss: 0.7997 - val_acc: 0.7034\n",
      "Epoch 31/50\n",
      "468/468 [==============================] - 1s 2ms/step - loss: 0.8352 - acc: 0.6410 - val_loss: 0.7928 - val_acc: 0.6949\n",
      "Epoch 32/50\n",
      "468/468 [==============================] - 1s 2ms/step - loss: 0.8343 - acc: 0.6603 - val_loss: 0.7932 - val_acc: 0.6186\n",
      "Epoch 33/50\n",
      "468/468 [==============================] - 1s 3ms/step - loss: 0.8412 - acc: 0.6474 - val_loss: 0.8382 - val_acc: 0.6186\n",
      "Epoch 34/50\n",
      "468/468 [==============================] - 1s 3ms/step - loss: 0.9126 - acc: 0.6239 - val_loss: 0.8182 - val_acc: 0.6356\n",
      "Epoch 35/50\n",
      "468/468 [==============================] - 1s 3ms/step - loss: 0.8658 - acc: 0.6154 - val_loss: 0.7805 - val_acc: 0.7203\n",
      "Epoch 36/50\n",
      "468/468 [==============================] - 1s 2ms/step - loss: 0.8607 - acc: 0.6346 - val_loss: 0.7872 - val_acc: 0.6864\n",
      "Epoch 37/50\n",
      "468/468 [==============================] - 1s 3ms/step - loss: 0.8426 - acc: 0.6282 - val_loss: 0.7965 - val_acc: 0.6949\n",
      "Epoch 38/50\n",
      "468/468 [==============================] - 1s 3ms/step - loss: 0.8278 - acc: 0.6538 - val_loss: 0.7864 - val_acc: 0.6949\n",
      "Epoch 39/50\n",
      "468/468 [==============================] - 1s 3ms/step - loss: 0.8261 - acc: 0.6560 - val_loss: 0.7911 - val_acc: 0.6864\n",
      "Epoch 40/50\n",
      "468/468 [==============================] - 1s 3ms/step - loss: 0.7931 - acc: 0.6432 - val_loss: 0.7834 - val_acc: 0.6949\n",
      "Epoch 41/50\n",
      "468/468 [==============================] - 1s 2ms/step - loss: 0.8095 - acc: 0.6282 - val_loss: 0.7793 - val_acc: 0.7034\n",
      "Epoch 42/50\n",
      "468/468 [==============================] - 1s 2ms/step - loss: 0.7907 - acc: 0.6453 - val_loss: 0.7858 - val_acc: 0.7034\n",
      "Epoch 43/50\n",
      "468/468 [==============================] - 1s 3ms/step - loss: 0.8039 - acc: 0.6752 - val_loss: 0.8178 - val_acc: 0.6864\n",
      "Epoch 44/50\n",
      "468/468 [==============================] - 1s 2ms/step - loss: 0.8295 - acc: 0.6453 - val_loss: 0.8265 - val_acc: 0.6949\n",
      "Epoch 45/50\n",
      "468/468 [==============================] - 1s 2ms/step - loss: 0.8279 - acc: 0.6688 - val_loss: 0.8016 - val_acc: 0.6949\n",
      "Epoch 46/50\n",
      "468/468 [==============================] - 1s 3ms/step - loss: 0.8533 - acc: 0.6410 - val_loss: 0.7961 - val_acc: 0.6186\n",
      "Epoch 47/50\n",
      "468/468 [==============================] - 1s 2ms/step - loss: 0.8414 - acc: 0.6496 - val_loss: 0.7833 - val_acc: 0.6186\n",
      "Epoch 48/50\n",
      "468/468 [==============================] - 1s 2ms/step - loss: 0.8409 - acc: 0.6517 - val_loss: 0.8083 - val_acc: 0.6356\n",
      "Epoch 49/50\n",
      "468/468 [==============================] - 1s 2ms/step - loss: 0.8123 - acc: 0.6688 - val_loss: 0.8294 - val_acc: 0.6271\n",
      "Epoch 50/50\n",
      "468/468 [==============================] - 1s 2ms/step - loss: 0.8520 - acc: 0.6410 - val_loss: 0.8013 - val_acc: 0.6949\n"
     ]
    }
   ],
   "source": [
    "batch_size = 5\n",
    "epochs = 50\n",
    "history = model.fit(x_train_o, y_train_o,\n",
    "                    batch_size=batch_size,\n",
    "                    epochs=epochs,\n",
    "                    verbose=1,\n",
    "                    validation_split=0.2)"
   ]
  },
  {
   "cell_type": "code",
   "execution_count": 40,
   "metadata": {},
   "outputs": [
    {
     "name": "stdout",
     "output_type": "stream",
     "text": [
      "147/147 [==============================] - 0s 431us/step\n",
      "Test score: 0.892202361100385\n",
      "Test accuracy: 0.7006802844757937\n"
     ]
    }
   ],
   "source": [
    "# Evaluate the accuracy of our trained model\n",
    "score = model.evaluate(x_test_o, y_test_o,\n",
    "                       batch_size=batch_size, verbose=1)\n",
    "print('Test score:', score[0])\n",
    "print('Test accuracy:', score[1])"
   ]
  },
  {
   "cell_type": "code",
   "execution_count": 41,
   "metadata": {},
   "outputs": [
    {
     "data": {
      "text/plain": [
       "dict_keys(['val_loss', 'val_acc', 'loss', 'acc'])"
      ]
     },
     "execution_count": 41,
     "metadata": {},
     "output_type": "execute_result"
    }
   ],
   "source": [
    "history_dict = history.history\n",
    "history_dict.keys()"
   ]
  },
  {
   "cell_type": "code",
   "execution_count": 42,
   "metadata": {},
   "outputs": [
    {
     "data": {
      "image/png": "[encoded data removed]",
      "text/plain": [
       "<matplotlib.figure.Figure at 0x1439d49e8>"
      ]
     },
     "metadata": {},
     "output_type": "display_data"
    }
   ],
   "source": [
    "import matplotlib.pyplot as plt\n",
    "\n",
    "acc = history.history['acc']\n",
    "val_acc = history.history['val_acc']\n",
    "loss = history.history['loss']\n",
    "val_loss = history.history['val_loss']\n",
    "\n",
    "epochs = range(1, len(acc) + 1)\n",
    "\n",
    "# \"bo\" is for \"blue dot\"\n",
    "plt.plot(epochs, loss, 'bo', label='Training loss')\n",
    "# b is for \"solid blue line\"\n",
    "plt.plot(epochs, val_loss, 'b', label='Validation loss')\n",
    "plt.title('Training and validation loss')\n",
    "plt.xlabel('Epochs')\n",
    "plt.ylabel('Loss')\n",
    "plt.legend()\n",
    "\n",
    "plt.show()"
   ]
  },
  {
   "cell_type": "code",
   "execution_count": 43,
   "metadata": {},
   "outputs": [
    {
     "data": {
      "image/png": "[encoded data removed]",
      "text/plain": [
       "<matplotlib.figure.Figure at 0x1439d46a0>"
      ]
     },
     "metadata": {},
     "output_type": "display_data"
    }
   ],
   "source": [
    "plt.clf()   # clear figure\n",
    "acc_values = history_dict['acc']\n",
    "val_acc_values = history_dict['val_acc']\n",
    "\n",
    "plt.plot(epochs, acc, 'bo', label='Training acc')\n",
    "plt.plot(epochs, val_acc, 'b', label='Validation acc')\n",
    "plt.title('Training and validation accuracy')\n",
    "plt.xlabel('Epochs')\n",
    "plt.ylabel('Accuracy')\n",
    "plt.legend()\n",
    "\n",
    "plt.show()"
   ]
  },
  {
   "cell_type": "markdown",
   "metadata": {},
   "source": [
    "## 4. LSTM, GRU with simple embedding layer"
   ]
  },
  {
   "cell_type": "code",
   "execution_count": 66,
   "metadata": {},
   "outputs": [
    {
     "ename": "ValueError",
     "evalue": "Input 0 is incompatible with layer lstm_9: expected ndim=3, found ndim=2",
     "output_type": "error",
     "traceback": [
      "\u001b[0;31m---------------------------------------------------------------------------\u001b[0m",
      "\u001b[0;31mValueError\u001b[0m                                Traceback (most recent call last)",
      "\u001b[0;32m<ipython-input-66-bc1f1306d6b7>\u001b[0m in \u001b[0;36m<module>\u001b[0;34m()\u001b[0m\n\u001b[1;32m      6\u001b[0m \u001b[0mmodel\u001b[0m \u001b[0;34m=\u001b[0m \u001b[0mSequential\u001b[0m\u001b[0;34m(\u001b[0m\u001b[0;34m)\u001b[0m\u001b[0;34m\u001b[0m\u001b[0m\n\u001b[1;32m      7\u001b[0m model.add(LSTM(32, return_sequences=True,\n\u001b[0;32m----> 8\u001b[0;31m                input_shape=(max_words,)))\n\u001b[0m\u001b[1;32m      9\u001b[0m \u001b[0;31m#model.add(Embedding(max_words, 512))\u001b[0m\u001b[0;34m\u001b[0m\u001b[0;34m\u001b[0m\u001b[0m\n\u001b[1;32m     10\u001b[0m \u001b[0;31m#model.add(LSTM(512, dropout=0.8, recurrent_dropout=0.8))\u001b[0m\u001b[0;34m\u001b[0m\u001b[0;34m\u001b[0m\u001b[0m\n",
      "\u001b[0;32m/Library/Frameworks/Python.framework/Versions/3.6/lib/python3.6/site-packages/keras/engine/sequential.py\u001b[0m in \u001b[0;36madd\u001b[0;34m(self, layer)\u001b[0m\n\u001b[1;32m    164\u001b[0m                     \u001b[0;31m# and create the node connecting the current layer\u001b[0m\u001b[0;34m\u001b[0m\u001b[0;34m\u001b[0m\u001b[0m\n\u001b[1;32m    165\u001b[0m                     \u001b[0;31m# to the input layer we just created.\u001b[0m\u001b[0;34m\u001b[0m\u001b[0;34m\u001b[0m\u001b[0m\n\u001b[0;32m--> 166\u001b[0;31m                     \u001b[0mlayer\u001b[0m\u001b[0;34m(\u001b[0m\u001b[0mx\u001b[0m\u001b[0;34m)\u001b[0m\u001b[0;34m\u001b[0m\u001b[0m\n\u001b[0m\u001b[1;32m    167\u001b[0m                     \u001b[0mset_inputs\u001b[0m \u001b[0;34m=\u001b[0m \u001b[0;32mTrue\u001b[0m\u001b[0;34m\u001b[0m\u001b[0m\n\u001b[1;32m    168\u001b[0m                 \u001b[0;32melse\u001b[0m\u001b[0;34m:\u001b[0m\u001b[0;34m\u001b[0m\u001b[0m\n",
      "\u001b[0;32m/Library/Frameworks/Python.framework/Versions/3.6/lib/python3.6/site-packages/keras/layers/recurrent.py\u001b[0m in \u001b[0;36m__call__\u001b[0;34m(self, inputs, initial_state, constants, **kwargs)\u001b[0m\n\u001b[1;32m    498\u001b[0m \u001b[0;34m\u001b[0m\u001b[0m\n\u001b[1;32m    499\u001b[0m         \u001b[0;32mif\u001b[0m \u001b[0minitial_state\u001b[0m \u001b[0;32mis\u001b[0m \u001b[0;32mNone\u001b[0m \u001b[0;32mand\u001b[0m \u001b[0mconstants\u001b[0m \u001b[0;32mis\u001b[0m \u001b[0;32mNone\u001b[0m\u001b[0;34m:\u001b[0m\u001b[0;34m\u001b[0m\u001b[0m\n\u001b[0;32m--> 500\u001b[0;31m             \u001b[0;32mreturn\u001b[0m \u001b[0msuper\u001b[0m\u001b[0;34m(\u001b[0m\u001b[0mRNN\u001b[0m\u001b[0;34m,\u001b[0m \u001b[0mself\u001b[0m\u001b[0;34m)\u001b[0m\u001b[0;34m.\u001b[0m\u001b[0m__call__\u001b[0m\u001b[0;34m(\u001b[0m\u001b[0minputs\u001b[0m\u001b[0;34m,\u001b[0m \u001b[0;34m**\u001b[0m\u001b[0mkwargs\u001b[0m\u001b[0;34m)\u001b[0m\u001b[0;34m\u001b[0m\u001b[0m\n\u001b[0m\u001b[1;32m    501\u001b[0m \u001b[0;34m\u001b[0m\u001b[0m\n\u001b[1;32m    502\u001b[0m         \u001b[0;31m# If any of `initial_state` or `constants` are specified and are Keras\u001b[0m\u001b[0;34m\u001b[0m\u001b[0;34m\u001b[0m\u001b[0m\n",
      "\u001b[0;32m/Library/Frameworks/Python.framework/Versions/3.6/lib/python3.6/site-packages/keras/engine/base_layer.py\u001b[0m in \u001b[0;36m__call__\u001b[0;34m(self, inputs, **kwargs)\u001b[0m\n\u001b[1;32m    412\u001b[0m                 \u001b[0;31m# Raise exceptions in case the input is not compatible\u001b[0m\u001b[0;34m\u001b[0m\u001b[0;34m\u001b[0m\u001b[0m\n\u001b[1;32m    413\u001b[0m                 \u001b[0;31m# with the input_spec specified in the layer constructor.\u001b[0m\u001b[0;34m\u001b[0m\u001b[0;34m\u001b[0m\u001b[0m\n\u001b[0;32m--> 414\u001b[0;31m                 \u001b[0mself\u001b[0m\u001b[0;34m.\u001b[0m\u001b[0massert_input_compatibility\u001b[0m\u001b[0;34m(\u001b[0m\u001b[0minputs\u001b[0m\u001b[0;34m)\u001b[0m\u001b[0;34m\u001b[0m\u001b[0m\n\u001b[0m\u001b[1;32m    415\u001b[0m \u001b[0;34m\u001b[0m\u001b[0m\n\u001b[1;32m    416\u001b[0m                 \u001b[0;31m# Collect input shapes to build layer.\u001b[0m\u001b[0;34m\u001b[0m\u001b[0;34m\u001b[0m\u001b[0m\n",
      "\u001b[0;32m/Library/Frameworks/Python.framework/Versions/3.6/lib/python3.6/site-packages/keras/engine/base_layer.py\u001b[0m in \u001b[0;36massert_input_compatibility\u001b[0;34m(self, inputs)\u001b[0m\n\u001b[1;32m    309\u001b[0m                                      \u001b[0mself\u001b[0m\u001b[0;34m.\u001b[0m\u001b[0mname\u001b[0m \u001b[0;34m+\u001b[0m \u001b[0;34m': expected ndim='\u001b[0m \u001b[0;34m+\u001b[0m\u001b[0;34m\u001b[0m\u001b[0m\n\u001b[1;32m    310\u001b[0m                                      \u001b[0mstr\u001b[0m\u001b[0;34m(\u001b[0m\u001b[0mspec\u001b[0m\u001b[0;34m.\u001b[0m\u001b[0mndim\u001b[0m\u001b[0;34m)\u001b[0m \u001b[0;34m+\u001b[0m \u001b[0;34m', found ndim='\u001b[0m \u001b[0;34m+\u001b[0m\u001b[0;34m\u001b[0m\u001b[0m\n\u001b[0;32m--> 311\u001b[0;31m                                      str(K.ndim(x)))\n\u001b[0m\u001b[1;32m    312\u001b[0m             \u001b[0;32mif\u001b[0m \u001b[0mspec\u001b[0m\u001b[0;34m.\u001b[0m\u001b[0mmax_ndim\u001b[0m \u001b[0;32mis\u001b[0m \u001b[0;32mnot\u001b[0m \u001b[0;32mNone\u001b[0m\u001b[0;34m:\u001b[0m\u001b[0;34m\u001b[0m\u001b[0m\n\u001b[1;32m    313\u001b[0m                 \u001b[0mndim\u001b[0m \u001b[0;34m=\u001b[0m \u001b[0mK\u001b[0m\u001b[0;34m.\u001b[0m\u001b[0mndim\u001b[0m\u001b[0;34m(\u001b[0m\u001b[0mx\u001b[0m\u001b[0;34m)\u001b[0m\u001b[0;34m\u001b[0m\u001b[0m\n",
      "\u001b[0;31mValueError\u001b[0m: Input 0 is incompatible with layer lstm_9: expected ndim=3, found ndim=2"
     ]
    }
   ],
   "source": [
    "# Open questions: why are those parameters used for?\n",
    "batch_size = 5\n",
    "epochs = 20\n",
    "timesteps=10\n",
    "# Build the model\n",
    "model = Sequential()\n",
    "model.add(Embedding(max_words, 512))\n",
    "model.add(LSTM(512, dropout=0.8, recurrent_dropout=0.8))\n",
    "#model.add(GRU(128,dropout=0.2))\n",
    "model.add(Dense(num_classes))\n",
    "model.add(Activation('softmax'))\n",
    "\n",
    "model.compile(loss='categorical_crossentropy',\n",
    "              optimizer='adam',\n",
    "              metrics=['accuracy'])\n",
    "model.summary()"
   ]
  },
  {
   "cell_type": "code",
   "execution_count": 67,
   "metadata": {},
   "outputs": [
    {
     "ename": "RuntimeError",
     "evalue": "You must compile a model before training/testing. Use `model.compile(optimizer, loss)`.",
     "output_type": "error",
     "traceback": [
      "\u001b[0;31m---------------------------------------------------------------------------\u001b[0m",
      "\u001b[0;31mRuntimeError\u001b[0m                              Traceback (most recent call last)",
      "\u001b[0;32m<ipython-input-67-3fd2b8e40c94>\u001b[0m in \u001b[0;36m<module>\u001b[0;34m()\u001b[0m\n\u001b[1;32m      3\u001b[0m                     \u001b[0mepochs\u001b[0m\u001b[0;34m=\u001b[0m\u001b[0mepochs\u001b[0m\u001b[0;34m,\u001b[0m\u001b[0;34m\u001b[0m\u001b[0m\n\u001b[1;32m      4\u001b[0m                     \u001b[0mverbose\u001b[0m\u001b[0;34m=\u001b[0m\u001b[0;36m1\u001b[0m\u001b[0;34m,\u001b[0m\u001b[0;34m\u001b[0m\u001b[0m\n\u001b[0;32m----> 5\u001b[0;31m                     validation_split=0.2)\n\u001b[0m",
      "\u001b[0;32m/Library/Frameworks/Python.framework/Versions/3.6/lib/python3.6/site-packages/keras/engine/training.py\u001b[0m in \u001b[0;36mfit\u001b[0;34m(self, x, y, batch_size, epochs, verbose, callbacks, validation_split, validation_data, shuffle, class_weight, sample_weight, initial_epoch, steps_per_epoch, validation_steps, **kwargs)\u001b[0m\n\u001b[1;32m    953\u001b[0m             \u001b[0msample_weight\u001b[0m\u001b[0;34m=\u001b[0m\u001b[0msample_weight\u001b[0m\u001b[0;34m,\u001b[0m\u001b[0;34m\u001b[0m\u001b[0m\n\u001b[1;32m    954\u001b[0m             \u001b[0mclass_weight\u001b[0m\u001b[0;34m=\u001b[0m\u001b[0mclass_weight\u001b[0m\u001b[0;34m,\u001b[0m\u001b[0;34m\u001b[0m\u001b[0m\n\u001b[0;32m--> 955\u001b[0;31m             batch_size=batch_size)\n\u001b[0m\u001b[1;32m    956\u001b[0m         \u001b[0;31m# Prepare validation data.\u001b[0m\u001b[0;34m\u001b[0m\u001b[0;34m\u001b[0m\u001b[0m\n\u001b[1;32m    957\u001b[0m         \u001b[0mdo_validation\u001b[0m \u001b[0;34m=\u001b[0m \u001b[0;32mFalse\u001b[0m\u001b[0;34m\u001b[0m\u001b[0m\n",
      "\u001b[0;32m/Library/Frameworks/Python.framework/Versions/3.6/lib/python3.6/site-packages/keras/engine/training.py\u001b[0m in \u001b[0;36m_standardize_user_data\u001b[0;34m(self, x, y, sample_weight, class_weight, check_array_lengths, batch_size)\u001b[0m\n\u001b[1;32m    678\u001b[0m         \u001b[0;32mif\u001b[0m \u001b[0my\u001b[0m \u001b[0;32mis\u001b[0m \u001b[0;32mnot\u001b[0m \u001b[0;32mNone\u001b[0m\u001b[0;34m:\u001b[0m\u001b[0;34m\u001b[0m\u001b[0m\n\u001b[1;32m    679\u001b[0m             \u001b[0;32mif\u001b[0m \u001b[0;32mnot\u001b[0m \u001b[0mself\u001b[0m\u001b[0;34m.\u001b[0m\u001b[0moptimizer\u001b[0m\u001b[0;34m:\u001b[0m\u001b[0;34m\u001b[0m\u001b[0m\n\u001b[0;32m--> 680\u001b[0;31m                 raise RuntimeError('You must compile a model before '\n\u001b[0m\u001b[1;32m    681\u001b[0m                                    \u001b[0;34m'training/testing. '\u001b[0m\u001b[0;34m\u001b[0m\u001b[0m\n\u001b[1;32m    682\u001b[0m                                    'Use `model.compile(optimizer, loss)`.')\n",
      "\u001b[0;31mRuntimeError\u001b[0m: You must compile a model before training/testing. Use `model.compile(optimizer, loss)`."
     ]
    }
   ],
   "source": [
    "history = model.fit(x_train_o, y_train_o,\n",
    "                    batch_size=batch_size,\n",
    "                    epochs=epochs,\n",
    "                    verbose=1,\n",
    "                    validation_split=0.2)\n"
   ]
  },
  {
   "cell_type": "code",
   "execution_count": 46,
   "metadata": {},
   "outputs": [
    {
     "name": "stdout",
     "output_type": "stream",
     "text": [
      "147/147 [==============================] - 3s 20ms/step\n",
      "Test score: 1.1128758954353073\n",
      "Test accuracy: 0.4761904878478472\n"
     ]
    }
   ],
   "source": [
    "# Evaluate the accuracy of our trained model\n",
    "score = model.evaluate(x_test_o, y_test_o,\n",
    "                       batch_size=batch_size, verbose=1)\n",
    "print('Test score:', score[0])\n",
    "print('Test accuracy:', score[1])"
   ]
  },
  {
   "cell_type": "code",
   "execution_count": 47,
   "metadata": {},
   "outputs": [
    {
     "data": {
      "image/png": "[encoded data removed]",
      "text/plain": [
       "<matplotlib.figure.Figure at 0x145faf7f0>"
      ]
     },
     "metadata": {},
     "output_type": "display_data"
    }
   ],
   "source": [
    "history_dict = history.history\n",
    "history_dict.keys()\n",
    "import matplotlib.pyplot as plt\n",
    "\n",
    "acc = history.history['acc']\n",
    "val_acc = history.history['val_acc']\n",
    "loss = history.history['loss']\n",
    "val_loss = history.history['val_loss']\n",
    "\n",
    "epochs = range(1, len(acc) + 1)\n",
    "\n",
    "# \"bo\" is for \"blue dot\"\n",
    "plt.plot(epochs, loss, 'bo', label='Training loss')\n",
    "# b is for \"solid blue line\"\n",
    "plt.plot(epochs, val_loss, 'b', label='Validation loss')\n",
    "plt.title('Training and validation loss')\n",
    "plt.xlabel('Epochs')\n",
    "plt.ylabel('Loss')\n",
    "plt.legend()\n",
    "\n",
    "plt.show()"
   ]
  },
  {
   "cell_type": "code",
   "execution_count": 48,
   "metadata": {},
   "outputs": [
    {
     "data": {
      "image/png": "[encoded data removed]",
      "text/plain": [
       "<matplotlib.figure.Figure at 0x14453ffd0>"
      ]
     },
     "metadata": {},
     "output_type": "display_data"
    }
   ],
   "source": [
    "plt.clf()   # clear figure\n",
    "acc_values = history_dict['acc']\n",
    "val_acc_values = history_dict['val_acc']\n",
    "\n",
    "plt.plot(epochs, acc, 'bo', label='Training acc')\n",
    "plt.plot(epochs, val_acc, 'b', label='Validation acc')\n",
    "plt.title('Training and validation accuracy')\n",
    "plt.xlabel('Epochs')\n",
    "plt.ylabel('Accuracy')\n",
    "plt.legend()\n",
    "\n",
    "plt.show()"
   ]
  },
  {
   "cell_type": "markdown",
   "metadata": {},
   "source": [
    "## 5. BERT"
   ]
  },
  {
   "cell_type": "markdown",
   "metadata": {},
   "source": [
    "Steps to execute BERT:\n",
    "\n",
    "1. Manually copy train.tsv, dev.tsv, test.tsv to the following GLUE_DIR:\n",
    "2. Under the BERT folder, run the following command:\n",
    "<pre><code>\n",
    " export BERT_BASE_DIR=/Users/patrick/documents/github/bert/multilingual_L-12_H-768_A-12\n",
    " export GLUE_DIR=/Users/patrick/documents/github/bert/glue_data\n",
    " \n",
    " python3 run_classifier.py \\\n",
    "  --task_name=BB-8 \\\n",
    "  --do_train=true \\\n",
    "  --do_eval=true \\\n",
    "  --data_dir=$GLUE_DIR/BB-8 \\\n",
    "  --vocab_file=$BERT_BASE_DIR/vocab.txt \\\n",
    "  --bert_config_file=$BERT_BASE_DIR/bert_config.json \\\n",
    "  --init_checkpoint=$BERT_BASE_DIR/bert_model.ckpt \\\n",
    "  —max_seq_length=128 \\\n",
    "  —train_batch_size=32 \\\n",
    "  --learning_rate=2e-5 \\\n",
    "  —num_train_epochs=3.0 \\\n",
    "  --output_dir=./tmp/BB-8_output/test_20181206\n",
    "</code></pre>\n",
    "\n",
    "3. After completing the above steps, run the following command:\n",
    "\n",
    "<pre><code>\n",
    "export BERT_BASE_DIR=/Users/patrick/documents/github/bert/multilingual_L-12_H-768_A-12\n",
    "export GLUE_DIR=/Users/patrick/documents/github/bert/glue_data\n",
    "export TRAINED_CLASSIFIER=/Users/patrick/documents/github/bert/tmp/BB-8_output/test_20181206\n",
    " \n",
    "python3 run_classifier.py \\\n",
    "  --task_name=BB-8 \\\n",
    "  --do_predict=true \\\n",
    "  --data_dir=$GLUE_DIR/BB-8 \\\n",
    "  --vocab_file=$BERT_BASE_DIR/vocab.txt \\\n",
    "  --bert_config_file=$BERT_BASE_DIR/bert_config.json \\\n",
    "  --init_checkpoint=$TRAINED_CLASSIFIER \\\n",
    "  —max_seq_length=128 \\\n",
    "  --output_dir=./tmp/BB-8_output/\n",
    "</code></pre>"
   ]
  },
  {
   "cell_type": "code",
   "execution_count": 25,
   "metadata": {
    "collapsed": true
   },
   "outputs": [],
   "source": [
    "## After running the above step no,3, the file \"test_results.tsv\" is produced, which can be used to compare the result\n",
    "test_result_pd=pd.read_csv('/Users/patrick/documents/github/bert/tmp/BB-8_output/test_results.tsv', sep='\\t',header=None)\n",
    "test_result_pd.columns=['Auth','Others','Project','Report','Resource','SAPFI','SAPHR','Subcon','Timesheet']"
   ]
  },
  {
   "cell_type": "code",
   "execution_count": 26,
   "metadata": {
    "collapsed": true
   },
   "outputs": [],
   "source": [
    "prediction=pd.DataFrame(test_result_pd.idxmax(axis=1),columns=['prediction'])"
   ]
  },
  {
   "cell_type": "code",
   "execution_count": 27,
   "metadata": {},
   "outputs": [
    {
     "name": "stdout",
     "output_type": "stream",
     "text": [
      "Test Accuracy is: 0.5570175438596491\n"
     ]
    }
   ],
   "source": [
    "x=0\n",
    "for i in range(test_product.shape[0]):\n",
    "    if prediction.iloc[i][0]==test_product.iloc[i]:\n",
    "        x +=1\n",
    "print(\"Test Accuracy is:\",x/i)"
   ]
  },
  {
   "cell_type": "markdown",
   "metadata": {
    "collapsed": true
   },
   "source": [
    "## 6. Google Best Practice"
   ]
  },
  {
   "cell_type": "code",
   "execution_count": 28,
   "metadata": {
    "collapsed": true
   },
   "outputs": [],
   "source": [
    "def convert_cat(label_set,encoder=encoder):\n",
    "    \"\"\"\n",
    "    usage: convert label types into numbers.\n",
    "    parameters: \n",
    "             label_set: label categories' set\n",
    "             encoder: encoder of label categories\n",
    "    return: number list of label categories\n",
    "    \"\"\"\n",
    "    train_label=[]\n",
    "    for label in label_set:\n",
    "        x=0\n",
    "        for items in encoder.classes_:\n",
    "            if label == items:\n",
    "                train_label.append(x)\n",
    "                continue\n",
    "            x +=1\n",
    "    return np.array(train_label)\n",
    "\n",
    "y_train_cat=convert_cat(train_product,encoder)\n",
    "y_dev_cat=convert_cat(dev_product,encoder)\n",
    "y_test_cat=convert_cat(test_product,encoder)\n",
    "\n",
    "total_train=pd.concat([train_narrative,dev_narrative])\n",
    "\n",
    "data=((total_train, np.concatenate((y_train_cat,y_dev_cat))),\n",
    "            (test_narrative, y_test_cat))"
   ]
  },
  {
   "cell_type": "code",
   "execution_count": 29,
   "metadata": {},
   "outputs": [
    {
     "name": "stderr",
     "output_type": "stream",
     "text": [
      "/Library/Frameworks/Python.framework/Versions/3.6/lib/python3.6/site-packages/tensorflow/python/ops/gradients_impl.py:112: UserWarning: Converting sparse IndexedSlices to a dense Tensor of unknown shape. This may consume a large amount of memory.\n",
      "  \"Converting sparse IndexedSlices to a dense Tensor of unknown shape. \"\n"
     ]
    },
    {
     "name": "stdout",
     "output_type": "stream",
     "text": [
      "Train on 1826 samples, validate on 457 samples\n",
      "Epoch 1/1000\n",
      " - 9s - loss: 2.1615 - acc: 0.3516 - val_loss: 2.1235 - val_acc: 0.4551\n",
      "Epoch 2/1000\n",
      " - 8s - loss: 2.0844 - acc: 0.4633 - val_loss: 2.0357 - val_acc: 0.4551\n",
      "Epoch 3/1000\n",
      " - 7s - loss: 1.9747 - acc: 0.4633 - val_loss: 1.8897 - val_acc: 0.4551\n",
      "Epoch 4/1000\n",
      " - 8s - loss: 1.7915 - acc: 0.4633 - val_loss: 1.6875 - val_acc: 0.4551\n",
      "Epoch 5/1000\n",
      " - 8s - loss: 1.6605 - acc: 0.4633 - val_loss: 1.6650 - val_acc: 0.4551\n",
      "Epoch 6/1000\n",
      " - 7s - loss: 1.6276 - acc: 0.4633 - val_loss: 1.6461 - val_acc: 0.4551\n",
      "Epoch 7/1000\n",
      " - 7s - loss: 1.5976 - acc: 0.4633 - val_loss: 1.6377 - val_acc: 0.4551\n",
      "Epoch 8/1000\n",
      " - 7s - loss: 1.5826 - acc: 0.4633 - val_loss: 1.6506 - val_acc: 0.4551\n",
      "Epoch 9/1000\n",
      " - 7s - loss: 1.5824 - acc: 0.4633 - val_loss: 1.6276 - val_acc: 0.4551\n",
      "Epoch 10/1000\n",
      " - 7s - loss: 1.5725 - acc: 0.4633 - val_loss: 1.6200 - val_acc: 0.4551\n",
      "Epoch 11/1000\n",
      " - 7s - loss: 1.5652 - acc: 0.4633 - val_loss: 1.6145 - val_acc: 0.4551\n",
      "Epoch 12/1000\n",
      " - 7s - loss: 1.5459 - acc: 0.4633 - val_loss: 1.6060 - val_acc: 0.4551\n",
      "Epoch 13/1000\n",
      " - 7s - loss: 1.5394 - acc: 0.4628 - val_loss: 1.5952 - val_acc: 0.4551\n",
      "Epoch 14/1000\n",
      " - 6s - loss: 1.5304 - acc: 0.4699 - val_loss: 1.5845 - val_acc: 0.4683\n",
      "Epoch 15/1000\n",
      " - 7s - loss: 1.5121 - acc: 0.4825 - val_loss: 1.5649 - val_acc: 0.4683\n",
      "Epoch 16/1000\n",
      " - 7s - loss: 1.4833 - acc: 0.4890 - val_loss: 1.5304 - val_acc: 0.4683\n",
      "Epoch 17/1000\n",
      " - 7s - loss: 1.4159 - acc: 0.5027 - val_loss: 1.4409 - val_acc: 0.4989\n",
      "Epoch 18/1000\n",
      " - 7s - loss: 1.3162 - acc: 0.5405 - val_loss: 1.3539 - val_acc: 0.5120\n",
      "Epoch 19/1000\n",
      " - 7s - loss: 1.2327 - acc: 0.5515 - val_loss: 1.2699 - val_acc: 0.5252\n",
      "Epoch 20/1000\n",
      " - 8s - loss: 1.1589 - acc: 0.5657 - val_loss: 1.2166 - val_acc: 0.5602\n",
      "Epoch 21/1000\n",
      " - 8s - loss: 1.0897 - acc: 0.5936 - val_loss: 1.1789 - val_acc: 0.5667\n",
      "Epoch 22/1000\n",
      " - 7s - loss: 1.0272 - acc: 0.6084 - val_loss: 1.1431 - val_acc: 0.5777\n",
      "Epoch 23/1000\n",
      " - 8s - loss: 0.9978 - acc: 0.6391 - val_loss: 1.1156 - val_acc: 0.5821\n",
      "Epoch 24/1000\n",
      " - 7s - loss: 0.9564 - acc: 0.6457 - val_loss: 1.0994 - val_acc: 0.6214\n",
      "Epoch 25/1000\n",
      " - 8s - loss: 0.9117 - acc: 0.6621 - val_loss: 1.1104 - val_acc: 0.6389\n",
      "Epoch 26/1000\n",
      " - 7s - loss: 0.8731 - acc: 0.6846 - val_loss: 1.0815 - val_acc: 0.6499\n",
      "Epoch 27/1000\n",
      " - 7s - loss: 0.8474 - acc: 0.7032 - val_loss: 1.0899 - val_acc: 0.6543\n",
      "Epoch 28/1000\n",
      " - 7s - loss: 0.8111 - acc: 0.7136 - val_loss: 1.0909 - val_acc: 0.6521\n",
      "Validation accuracy: 0.6520787785298454, loss: 1.0909074271012187\n"
     ]
    },
    {
     "data": {
      "text/plain": [
       "(0.6520787785298454, 1.0909074271012187)"
      ]
     },
     "execution_count": 29,
     "metadata": {},
     "output_type": "execute_result"
    }
   ],
   "source": [
    "from google_text_classification.train_sequence_model import train_sequence_model\n",
    "\n",
    "train_sequence_model(data)"
   ]
  },
  {
   "cell_type": "code",
   "execution_count": 30,
   "metadata": {},
   "outputs": [
    {
     "name": "stdout",
     "output_type": "stream",
     "text": [
      "Train on 1826 samples, validate on 457 samples\n",
      "Epoch 1/1000\n",
      " - 6s - loss: 2.1518 - acc: 0.4294 - val_loss: 2.1089 - val_acc: 0.4551\n",
      "Epoch 2/1000\n",
      " - 5s - loss: 2.0699 - acc: 0.4633 - val_loss: 2.0175 - val_acc: 0.4551\n",
      "Epoch 3/1000\n",
      " - 5s - loss: 1.9545 - acc: 0.4633 - val_loss: 1.8731 - val_acc: 0.4551\n",
      "Epoch 4/1000\n",
      " - 5s - loss: 1.7833 - acc: 0.4633 - val_loss: 1.6953 - val_acc: 0.4551\n",
      "Epoch 5/1000\n",
      " - 5s - loss: 1.6727 - acc: 0.4633 - val_loss: 1.6815 - val_acc: 0.4551\n",
      "Epoch 6/1000\n",
      " - 5s - loss: 1.6569 - acc: 0.4633 - val_loss: 1.6770 - val_acc: 0.4551\n",
      "Epoch 7/1000\n",
      " - 6s - loss: 1.6488 - acc: 0.4633 - val_loss: 1.6767 - val_acc: 0.4551\n",
      "Epoch 8/1000\n",
      " - 6s - loss: 1.6428 - acc: 0.4633 - val_loss: 1.6745 - val_acc: 0.4551\n",
      "Epoch 9/1000\n",
      " - 6s - loss: 1.6419 - acc: 0.4633 - val_loss: 1.6652 - val_acc: 0.4551\n",
      "Epoch 10/1000\n",
      " - 6s - loss: 1.6214 - acc: 0.4633 - val_loss: 1.6399 - val_acc: 0.4551\n",
      "Epoch 11/1000\n",
      " - 6s - loss: 1.5843 - acc: 0.4633 - val_loss: 1.6175 - val_acc: 0.4551\n",
      "Epoch 12/1000\n",
      " - 6s - loss: 1.5564 - acc: 0.4660 - val_loss: 1.6081 - val_acc: 0.4705\n",
      "Epoch 13/1000\n",
      " - 6s - loss: 1.5399 - acc: 0.4803 - val_loss: 1.6011 - val_acc: 0.4661\n",
      "Epoch 14/1000\n",
      " - 6s - loss: 1.5303 - acc: 0.4841 - val_loss: 1.6086 - val_acc: 0.4661\n",
      "Epoch 15/1000\n",
      " - 6s - loss: 1.5351 - acc: 0.4814 - val_loss: 1.5987 - val_acc: 0.4639\n",
      "Epoch 16/1000\n",
      " - 6s - loss: 1.5295 - acc: 0.4803 - val_loss: 1.5977 - val_acc: 0.4639\n",
      "Epoch 17/1000\n",
      " - 6s - loss: 1.5282 - acc: 0.4814 - val_loss: 1.6014 - val_acc: 0.4639\n",
      "Epoch 18/1000\n",
      " - 6s - loss: 1.5211 - acc: 0.4808 - val_loss: 1.5904 - val_acc: 0.4595\n",
      "Epoch 19/1000\n",
      " - 6s - loss: 1.5243 - acc: 0.4814 - val_loss: 1.5946 - val_acc: 0.4617\n",
      "Epoch 20/1000\n",
      " - 6s - loss: 1.5221 - acc: 0.4792 - val_loss: 1.5931 - val_acc: 0.4617\n"
     ]
    },
    {
     "name": "stderr",
     "output_type": "stream",
     "text": [
      "/Library/Frameworks/Python.framework/Versions/3.6/lib/python3.6/site-packages/tensorflow/python/ops/gradients_impl.py:112: UserWarning: Converting sparse IndexedSlices to a dense Tensor of unknown shape. This may consume a large amount of memory.\n",
      "  \"Converting sparse IndexedSlices to a dense Tensor of unknown shape. \"\n"
     ]
    },
    {
     "name": "stdout",
     "output_type": "stream",
     "text": [
      "Train on 1826 samples, validate on 457 samples\n",
      "Epoch 1/1000\n",
      " - 9s - loss: 1.5072 - acc: 0.4803 - val_loss: 1.5280 - val_acc: 0.4639\n",
      "Epoch 2/1000\n",
      " - 7s - loss: 1.4119 - acc: 0.5126 - val_loss: 1.4150 - val_acc: 0.4967\n",
      "Epoch 3/1000\n",
      " - 7s - loss: 1.2869 - acc: 0.5285 - val_loss: 1.3057 - val_acc: 0.5142\n",
      "Epoch 4/1000\n",
      " - 8s - loss: 1.1928 - acc: 0.5646 - val_loss: 1.2525 - val_acc: 0.5449\n",
      "Epoch 5/1000\n",
      " - 8s - loss: 1.1039 - acc: 0.5843 - val_loss: 1.2405 - val_acc: 0.5449\n",
      "Epoch 6/1000\n",
      " - 7s - loss: 1.0457 - acc: 0.6068 - val_loss: 1.2082 - val_acc: 0.5646\n",
      "Epoch 7/1000\n",
      " - 8s - loss: 0.9800 - acc: 0.6265 - val_loss: 1.2022 - val_acc: 0.5536\n",
      "Epoch 8/1000\n",
      " - 7s - loss: 0.9396 - acc: 0.6462 - val_loss: 1.2182 - val_acc: 0.5580\n",
      "Epoch 9/1000\n",
      " - 7s - loss: 0.9024 - acc: 0.6583 - val_loss: 1.2182 - val_acc: 0.5842\n",
      "Validation accuracy: 0.5842450758038777, loss: 1.2181828914116457\n"
     ]
    },
    {
     "data": {
      "text/plain": [
       "(0.5842450758038777, 1.2181828914116457)"
      ]
     },
     "execution_count": 30,
     "metadata": {},
     "output_type": "execute_result"
    }
   ],
   "source": [
    "from google_text_classification.train_fine_tuned_sequence_model import train_fine_tuned_sequence_model\n",
    "train_fine_tuned_sequence_model(data, '../98_data/')"
   ]
  },
  {
   "cell_type": "code",
   "execution_count": null,
   "metadata": {
    "collapsed": true
   },
   "outputs": [],
   "source": []
  }
 ],
 "metadata": {
  "extensions": {
   "jupyter_dashboards": {
    "activeView": "grid_default",
    "version": 1,
    "views": {
     "grid_default": {
      "cellMargin": 10,
      "defaultCellHeight": 20,
      "maxColumns": 12,
      "name": "grid",
      "type": "grid"
     },
     "report_default": {
      "name": "report",
      "type": "report"
     }
    }
   }
  },
  "kernelspec": {
   "display_name": "Python 3",
   "language": "python",
   "name": "python3"
  },
  "language_info": {
   "codemirror_mode": {
    "name": "ipython",
    "version": 3
   },
   "file_extension": ".py",
   "mimetype": "text/x-python",
   "name": "python",
   "nbconvert_exporter": "python",
   "pygments_lexer": "ipython3",
   "version": "3.6.1"
  }
 },
 "nbformat": 4,
 "nbformat_minor": 2
}
