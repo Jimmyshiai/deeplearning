{
 "cells": [
  {
   "cell_type": "markdown",
   "metadata": {
    "extensions": {
     "jupyter_dashboards": {
      "version": 1,
      "views": {
       "grid_default": {
        "hidden": true
       },
       "report_default": {}
      }
     }
    }
   },
   "source": [
    "## BERT on Email Classification\n",
    "#### This program is used to utilize BERT to verify whether it can improve the performance of supporting email classification in my firm.\n",
    "####  The detail of BERT can be found in: https://github.com/google-research/bert\n",
    "\n",
    "This program is consisted of the following:\n",
    "1. Data preparation for run_classifier.py in BERT: <br />\n",
    " 1) Load the supporting email data and divide those into 3 files: train.tsv, dev.tsv, test.tsv, \n",
    "which is required by run_classifier.py in the sample of BERT.<br />\n",
    " 2) Revise run_classifier.py with the label list. <br />\n",
    " 3) After run run_classifer.py for the training / testing, then compare the result of test result.<br />\n",
    "2. Build the similiar DL structure by keras and compare the result with 1 to see the feasiblity of BERT application. <br />\n",
    "\n",
    "In addition, the source file in this program was not uploaded, and the audience can create your own by MS excel file, in which, 2 columns, one for input question ( Data x), and one for label ( Data y)."
   ]
  },
  {
   "cell_type": "code",
   "execution_count": 25,
   "metadata": {
    "collapsed": true,
    "extensions": {
     "jupyter_dashboards": {
      "version": 1,
      "views": {
       "grid_default": {
        "hidden": true
       },
       "report_default": {}
      }
     }
    }
   },
   "outputs": [],
   "source": [
    "from __future__ import absolute_import\n",
    "from __future__ import division\n",
    "from __future__ import print_function"
   ]
  },
  {
   "cell_type": "code",
   "execution_count": 26,
   "metadata": {
    "extensions": {
     "jupyter_dashboards": {
      "version": 1,
      "views": {
       "grid_default": {
        "col": 0,
        "height": 4,
        "hidden": false,
        "row": 0,
        "width": 4
       },
       "report_default": {}
      }
     }
    }
   },
   "outputs": [
    {
     "name": "stdout",
     "output_type": "stream",
     "text": [
      "You have TensorFlow version 1.12.0\n"
     ]
    }
   ],
   "source": [
    "import itertools\n",
    "import os\n",
    "import logging\n",
    "import csv        \n",
    "\n",
    "%matplotlib inline\n",
    "%matplotlib notebook\n",
    "import matplotlib.pyplot as plt\n",
    "import numpy as np\n",
    "import pandas as pd\n",
    "import tensorflow as tf\n",
    "\n",
    "from sklearn.preprocessing import LabelBinarizer, LabelEncoder\n",
    "from sklearn.metrics import confusion_matrix\n",
    "from sklearn.model_selection import train_test_split\n",
    "\n",
    "from tensorflow import keras\n",
    "from keras.models import Sequential\n",
    "from keras.layers import Dense, Activation, Dropout, Embedding,LSTM,Flatten,GRU,Bidirectional\n",
    "from keras.preprocessing import text, sequence\n",
    "from keras import utils\n",
    "\n",
    "import gensim\n",
    "from gensim.models import Word2Vec\n",
    "from gensim.models import FastText\n",
    "\n",
    "# This code was tested with TensorFlow v1.4\n",
    "print(\"You have TensorFlow version\", tf.__version__)\n",
    "\n",
    "logging.basicConfig(format = '%(asctime)s - %(levelname)s - %(name)s -   %(message)s', \n",
    "                    datefmt = '%m/%d/%Y %H:%M:%S',\n",
    "                    level = logging.INFO)\n",
    "logger = logging.getLogger(__name__)"
   ]
  },
  {
   "cell_type": "markdown",
   "metadata": {
    "extensions": {
     "jupyter_dashboards": {
      "version": 1,
      "views": {
       "grid_default": {
        "col": 4,
        "height": 4,
        "hidden": false,
        "row": 0,
        "width": 4
       },
       "report_default": {}
      }
     }
    }
   },
   "source": [
    "### Load the dataset"
   ]
  },
  {
   "cell_type": "code",
   "execution_count": 27,
   "metadata": {
    "extensions": {
     "jupyter_dashboards": {
      "version": 1,
      "views": {
       "grid_default": {
        "col": 8,
        "height": 9,
        "hidden": false,
        "row": 0,
        "width": 4
       },
       "report_default": {}
      }
     }
    }
   },
   "outputs": [
    {
     "data": {
      "text/html": [
       "<div>\n",
       "<style scoped>\n",
       "    .dataframe tbody tr th:only-of-type {\n",
       "        vertical-align: middle;\n",
       "    }\n",
       "\n",
       "    .dataframe tbody tr th {\n",
       "        vertical-align: top;\n",
       "    }\n",
       "\n",
       "    .dataframe thead th {\n",
       "        text-align: right;\n",
       "    }\n",
       "</style>\n",
       "<table border=\"1\" class=\"dataframe\">\n",
       "  <thead>\n",
       "    <tr style=\"text-align: right;\">\n",
       "      <th></th>\n",
       "      <th>convid</th>\n",
       "      <th>subject</th>\n",
       "      <th>length</th>\n",
       "      <th>tousflag</th>\n",
       "      <th>dialognm</th>\n",
       "      <th>forwardtime</th>\n",
       "      <th>imagenm</th>\n",
       "      <th>notimagenm</th>\n",
       "      <th>mailbody</th>\n",
       "      <th>mailquestion</th>\n",
       "      <th>imagetype</th>\n",
       "      <th>firstanswername</th>\n",
       "      <th>firstforwardname</th>\n",
       "      <th>Category</th>\n",
       "      <th>Unnamed: 14</th>\n",
       "    </tr>\n",
       "  </thead>\n",
       "  <tbody>\n",
       "    <tr>\n",
       "      <th>0</th>\n",
       "      <td>AAQkAGI3MzUxMzk3LTZiZjItNDQ5Ni1hMzJlLWU5NWMxNm...</td>\n",
       "      <td>NaN</td>\n",
       "      <td>26.5</td>\n",
       "      <td>1</td>\n",
       "      <td>3.0</td>\n",
       "      <td>1</td>\n",
       "      <td>0</td>\n",
       "      <td>0</td>\n",
       "      <td>now personname change target date and able to ...</td>\n",
       "      <td>i can not find anything related to this after ...</td>\n",
       "      <td>NaN</td>\n",
       "      <td>yosong@abeam.com</td>\n",
       "      <td>yosong@abeam.com</td>\n",
       "      <td>Timesheet</td>\n",
       "      <td>NaN</td>\n",
       "    </tr>\n",
       "    <tr>\n",
       "      <th>4</th>\n",
       "      <td>AAQkAGI3MzUxMzk3LTZiZjItNDQ5Ni1hMzJlLWU5NWMxNm...</td>\n",
       "      <td>NaN</td>\n",
       "      <td>21.0</td>\n",
       "      <td>1</td>\n",
       "      <td>1.5</td>\n",
       "      <td>0</td>\n",
       "      <td>0</td>\n",
       "      <td>0</td>\n",
       "      <td>we think it was caused by google bar in your b...</td>\n",
       "      <td>hi nasa team i had a problem which accessing t...</td>\n",
       "      <td>NaN</td>\n",
       "      <td>yosong@abeam.com</td>\n",
       "      <td>NaN</td>\n",
       "      <td>Authorization</td>\n",
       "      <td>NaN</td>\n",
       "    </tr>\n",
       "    <tr>\n",
       "      <th>22</th>\n",
       "      <td>AAQkAGI3MzUxMzk3LTZiZjItNDQ5Ni1hMzJlLWU5NWMxNm...</td>\n",
       "      <td>10 15</td>\n",
       "      <td>12.0</td>\n",
       "      <td>1</td>\n",
       "      <td>1.5</td>\n",
       "      <td>0</td>\n",
       "      <td>0</td>\n",
       "      <td>0</td>\n",
       "      <td>staff 9 tel 9 9 fax 9 9 mailto emailaddress fs...</td>\n",
       "      <td>staff 9 tel 9 9 fax 9 9 mailto emailaddress fs...</td>\n",
       "      <td>NaN</td>\n",
       "      <td>NaN</td>\n",
       "      <td>NaN</td>\n",
       "      <td>Timesheet</td>\n",
       "      <td>NaN</td>\n",
       "    </tr>\n",
       "    <tr>\n",
       "      <th>26</th>\n",
       "      <td>AAQkAGI3MzUxMzk3LTZiZjItNDQ5Ni1hMzJlLWU5NWMxNm...</td>\n",
       "      <td>ab my new finance cum project executive erica ...</td>\n",
       "      <td>72.0</td>\n",
       "      <td>1</td>\n",
       "      <td>0.0</td>\n",
       "      <td>0</td>\n",
       "      <td>0</td>\n",
       "      <td>0</td>\n",
       "      <td>i would like to take this opportunity to intro...</td>\n",
       "      <td>i would like to take this opportunity to intro...</td>\n",
       "      <td>NaN</td>\n",
       "      <td>NaN</td>\n",
       "      <td>NaN</td>\n",
       "      <td>Others</td>\n",
       "      <td>NaN</td>\n",
       "    </tr>\n",
       "    <tr>\n",
       "      <th>27</th>\n",
       "      <td>AAQkAGI3MzUxMzk3LTZiZjItNDQ5Ni1hMzJlLWU5NWMxNm...</td>\n",
       "      <td>abeam consulting sap implementation for yan wa...</td>\n",
       "      <td>10.0</td>\n",
       "      <td>1</td>\n",
       "      <td>6.5</td>\n",
       "      <td>0</td>\n",
       "      <td>0</td>\n",
       "      <td>0</td>\n",
       "      <td>let s discuss with you soon please in 30 min ....</td>\n",
       "      <td>let s discuss with you soon please in 30 min ....</td>\n",
       "      <td>NaN</td>\n",
       "      <td>NaN</td>\n",
       "      <td>NaN</td>\n",
       "      <td>Others</td>\n",
       "      <td>NaN</td>\n",
       "    </tr>\n",
       "  </tbody>\n",
       "</table>\n",
       "</div>"
      ],
      "text/plain": [
       "                                               convid  \\\n",
       "0   AAQkAGI3MzUxMzk3LTZiZjItNDQ5Ni1hMzJlLWU5NWMxNm...   \n",
       "4   AAQkAGI3MzUxMzk3LTZiZjItNDQ5Ni1hMzJlLWU5NWMxNm...   \n",
       "22  AAQkAGI3MzUxMzk3LTZiZjItNDQ5Ni1hMzJlLWU5NWMxNm...   \n",
       "26  AAQkAGI3MzUxMzk3LTZiZjItNDQ5Ni1hMzJlLWU5NWMxNm...   \n",
       "27  AAQkAGI3MzUxMzk3LTZiZjItNDQ5Ni1hMzJlLWU5NWMxNm...   \n",
       "\n",
       "                                              subject  length  tousflag  \\\n",
       "0                                                 NaN    26.5         1   \n",
       "4                                                 NaN    21.0         1   \n",
       "22                                              10 15    12.0         1   \n",
       "26  ab my new finance cum project executive erica ...    72.0         1   \n",
       "27  abeam consulting sap implementation for yan wa...    10.0         1   \n",
       "\n",
       "    dialognm  forwardtime  imagenm  notimagenm  \\\n",
       "0        3.0            1        0           0   \n",
       "4        1.5            0        0           0   \n",
       "22       1.5            0        0           0   \n",
       "26       0.0            0        0           0   \n",
       "27       6.5            0        0           0   \n",
       "\n",
       "                                             mailbody  \\\n",
       "0   now personname change target date and able to ...   \n",
       "4   we think it was caused by google bar in your b...   \n",
       "22  staff 9 tel 9 9 fax 9 9 mailto emailaddress fs...   \n",
       "26  i would like to take this opportunity to intro...   \n",
       "27  let s discuss with you soon please in 30 min ....   \n",
       "\n",
       "                                         mailquestion  imagetype  \\\n",
       "0   i can not find anything related to this after ...        NaN   \n",
       "4   hi nasa team i had a problem which accessing t...        NaN   \n",
       "22  staff 9 tel 9 9 fax 9 9 mailto emailaddress fs...        NaN   \n",
       "26  i would like to take this opportunity to intro...        NaN   \n",
       "27  let s discuss with you soon please in 30 min ....        NaN   \n",
       "\n",
       "     firstanswername  firstforwardname       Category Unnamed: 14  \n",
       "0   yosong@abeam.com  yosong@abeam.com      Timesheet         NaN  \n",
       "4   yosong@abeam.com               NaN  Authorization         NaN  \n",
       "22               NaN               NaN      Timesheet         NaN  \n",
       "26               NaN               NaN         Others         NaN  \n",
       "27               NaN               NaN         Others         NaN  "
      ]
     },
     "execution_count": 27,
     "metadata": {},
     "output_type": "execute_result"
    }
   ],
   "source": [
    "source = pd.read_excel('../98_data/mail_timesheet_admin_woissue.xlsx', encoding='latin-1')\n",
    "source.head()"
   ]
  },
  {
   "cell_type": "code",
   "execution_count": 28,
   "metadata": {
    "extensions": {
     "jupyter_dashboards": {
      "version": 1,
      "views": {
       "grid_default": {
        "col": 0,
        "height": 9,
        "hidden": false,
        "row": 4,
        "width": 4
       },
       "report_default": {}
      }
     }
    }
   },
   "outputs": [
    {
     "data": {
      "text/html": [
       "<div>\n",
       "<style scoped>\n",
       "    .dataframe tbody tr th:only-of-type {\n",
       "        vertical-align: middle;\n",
       "    }\n",
       "\n",
       "    .dataframe tbody tr th {\n",
       "        vertical-align: top;\n",
       "    }\n",
       "\n",
       "    .dataframe thead th {\n",
       "        text-align: right;\n",
       "    }\n",
       "</style>\n",
       "<table border=\"1\" class=\"dataframe\">\n",
       "  <thead>\n",
       "    <tr style=\"text-align: right;\">\n",
       "      <th></th>\n",
       "      <th>Emails</th>\n",
       "      <th>Cat</th>\n",
       "    </tr>\n",
       "  </thead>\n",
       "  <tbody>\n",
       "    <tr>\n",
       "      <th>0</th>\n",
       "      <td>i can not find anything related to this after ...</td>\n",
       "      <td>Timesheet</td>\n",
       "    </tr>\n",
       "    <tr>\n",
       "      <th>4</th>\n",
       "      <td>hi nasa team i had a problem which accessing t...</td>\n",
       "      <td>Authorization</td>\n",
       "    </tr>\n",
       "    <tr>\n",
       "      <th>22</th>\n",
       "      <td>staff 9 tel 9 9 fax 9 9 mailto emailaddress fs...</td>\n",
       "      <td>Timesheet</td>\n",
       "    </tr>\n",
       "    <tr>\n",
       "      <th>26</th>\n",
       "      <td>i would like to take this opportunity to intro...</td>\n",
       "      <td>Others</td>\n",
       "    </tr>\n",
       "    <tr>\n",
       "      <th>27</th>\n",
       "      <td>let s discuss with you soon please in 30 min ....</td>\n",
       "      <td>Others</td>\n",
       "    </tr>\n",
       "  </tbody>\n",
       "</table>\n",
       "</div>"
      ],
      "text/plain": [
       "                                               Emails            Cat\n",
       "0   i can not find anything related to this after ...      Timesheet\n",
       "4   hi nasa team i had a problem which accessing t...  Authorization\n",
       "22  staff 9 tel 9 9 fax 9 9 mailto emailaddress fs...      Timesheet\n",
       "26  i would like to take this opportunity to intro...         Others\n",
       "27  let s discuss with you soon please in 30 min ....         Others"
      ]
     },
     "execution_count": 28,
     "metadata": {},
     "output_type": "execute_result"
    }
   ],
   "source": [
    "# Rename the columns\n",
    "df=source[['mailquestion','Category']]\n",
    "df.columns=['Emails','Cat']\n",
    "df = df[pd.notnull(df['Emails'])]\n",
    "df.head()"
   ]
  },
  {
   "cell_type": "code",
   "execution_count": 29,
   "metadata": {
    "extensions": {
     "jupyter_dashboards": {
      "version": 1,
      "views": {
       "grid_default": {
        "col": 4,
        "height": 4,
        "hidden": false,
        "row": 4,
        "width": 4
       },
       "report_default": {}
      }
     }
    }
   },
   "outputs": [
    {
     "data": {
      "text/plain": [
       "Emails    0\n",
       "Cat       0\n",
       "dtype: int64"
      ]
     },
     "execution_count": 29,
     "metadata": {},
     "output_type": "execute_result"
    }
   ],
   "source": [
    "df.isnull().sum()"
   ]
  },
  {
   "cell_type": "code",
   "execution_count": 30,
   "metadata": {
    "extensions": {
     "jupyter_dashboards": {
      "version": 1,
      "views": {
       "grid_default": {
        "col": 4,
        "height": 15,
        "hidden": false,
        "row": 8,
        "width": 4
       },
       "report_default": {}
      }
     }
    }
   },
   "outputs": [
    {
     "data": {
      "text/plain": [
       "Timesheet        333\n",
       "Others           159\n",
       "Authorization    131\n",
       "Project          100\n",
       "Report            56\n",
       "SAP_HR            15\n",
       "Subcon            13\n",
       "Resource           1\n",
       "Name: Cat, dtype: int64"
      ]
     },
     "execution_count": 30,
     "metadata": {},
     "output_type": "execute_result"
    }
   ],
   "source": [
    "df['Cat'].value_counts()"
   ]
  },
  {
   "cell_type": "markdown",
   "metadata": {},
   "source": [
    "## 1.  Data Preparation and Test for BERT"
   ]
  },
  {
   "cell_type": "markdown",
   "metadata": {},
   "source": [
    "### Create train, dev, test files for BERT"
   ]
  },
  {
   "cell_type": "code",
   "execution_count": 31,
   "metadata": {
    "collapsed": true
   },
   "outputs": [],
   "source": [
    "# Create the training, dev, test set for BERT:\n",
    "trans_narrative,test_narrative,trans_product, test_product = train_test_split(df['Emails'], df['Cat'],\n",
    "                                                                              random_state=42, train_size=0.8)\n",
    "train_narrative,dev_narrative,train_product, dev_product = train_test_split(trans_narrative, \n",
    "                                                                            trans_product,random_state=42,\n",
    "                                                                            train_size=0.8)"
   ]
  },
  {
   "cell_type": "code",
   "execution_count": 32,
   "metadata": {
    "collapsed": true
   },
   "outputs": [],
   "source": [
    "# Since BERT will be run in command window, the files of train, dev, test will be produced for this purposes.\n",
    "with open('train.tsv', 'w', newline='') as f_output:\n",
    "    tsv_output = csv.writer(f_output, delimiter='\\t')\n",
    "    for i in range(train_narrative.shape[0]):\n",
    "        tsv_output.writerow([str(1000+i),train_product.iloc[i],'',train_narrative.iloc[i]])\n",
    "\n",
    "with open('dev.tsv', 'w', newline='') as f_output:\n",
    "    tsv_output = csv.writer(f_output, delimiter='\\t')\n",
    "    for i in range(dev_narrative.shape[0]):\n",
    "        tsv_output.writerow([str(4000+i),dev_product.iloc[i],'',dev_narrative.iloc[i]])\n",
    "\n",
    "with open('test.tsv', 'w', newline='') as f_output:\n",
    "    tsv_output = csv.writer(f_output, delimiter='\\t')\n",
    "    for i in range(test_narrative.shape[0]+1):\n",
    "        if i==0:\n",
    "            tsv_output.writerow(['index','sentence','label'])\n",
    "        else:\n",
    "            tsv_output.writerow([str(6000+i),test_narrative.iloc[i-1],test_product.iloc[i-1]])\n"
   ]
  },
  {
   "cell_type": "code",
   "execution_count": 33,
   "metadata": {},
   "outputs": [
    {
     "name": "stdout",
     "output_type": "stream",
     "text": [
      "['Authorization' 'Others' 'Project' 'Report' 'Resource' 'SAP_HR' 'Subcon'\n",
      " 'Timesheet']\n"
     ]
    }
   ],
   "source": [
    "# Use sklearn utility to convert label strings to numbered index, and convert it for BERT classification\n",
    "encoder = LabelEncoder()\n",
    "encoder.fit(df['Cat'])\n",
    "# add the following output with comma on each item into the line 378 of run_classifier.py in BERT, then run train it.\n",
    "print(encoder.classes_)"
   ]
  },
  {
   "cell_type": "markdown",
   "metadata": {},
   "source": [
    "### Evaluate the test results"
   ]
  },
  {
   "cell_type": "code",
   "execution_count": 34,
   "metadata": {
    "collapsed": true
   },
   "outputs": [],
   "source": [
    "\"\"\"\n",
    "The process is, running training and testing in command, then back to this block to run the following code.\n",
    "\"\"\"\n",
    "## After running prediction, the file \"test_results.tsv\" is produced, which can be used to compare the result\n",
    "test_result_pd=pd.read_csv('/Users/patrick/documents/github/bert/tmp/BB-8_output/test_results.tsv',\n",
    "                           sep='\\t',header=None)\n",
    "test_result_pd.columns=['Authorization','Others','Project',\n",
    "                        'Report','Resource','SAP_HR','Subcon','Timesheet','non-issue']"
   ]
  },
  {
   "cell_type": "code",
   "execution_count": 35,
   "metadata": {
    "collapsed": true
   },
   "outputs": [],
   "source": [
    "prediction=pd.DataFrame(test_result_pd.idxmax(axis=1),columns=['prediction'])"
   ]
  },
  {
   "cell_type": "code",
   "execution_count": 66,
   "metadata": {},
   "outputs": [],
   "source": [
    "prediction=pd.DataFrame({'prediction':test_result_pd.idxmax(axis=1),'probality':np.max(test_result_pd,axis=1)})"
   ]
  },
  {
   "cell_type": "code",
   "execution_count": 75,
   "metadata": {},
   "outputs": [
    {
     "name": "stdout",
     "output_type": "stream",
     "text": [
      "Test Accuracy is: 0.6459627329192547\n"
     ]
    }
   ],
   "source": [
    "# Identify the matchable records in test file for the further investigation or comparison with other algorithms' result.\n",
    "x=0\n",
    "for i in range(test_product.shape[0]):\n",
    "    if prediction.iloc[i][0]==test_product.iloc[i]:\n",
    "        x +=1\n",
    "print(\"Test Accuracy is:\",x/i)\n",
    "\n",
    "test_result_BERT=pd.DataFrame(columns=['index','sentence','label','prediction','matchable','probality'])\n",
    "\n",
    "with open('test_results_bert.tsv', 'w', newline='') as f_output:\n",
    "    tsv_output = csv.writer(f_output, delimiter='\\t')\n",
    "    for i in range(test_narrative.shape[0]+1):\n",
    "        if i==0:\n",
    "            tsv_output.writerow(['index','sentence','label','prediction','matchable','probality'])\n",
    "        else:\n",
    "            if test_product.iloc[i-1]==prediction.iloc[i-1][0]:\n",
    "                matchable='Y'\n",
    "            else:\n",
    "                matchable='N'\n",
    "            tsv_output.writerow([str(6000+i),test_narrative.iloc[i-1],test_product.iloc[i-1],\n",
    "                                 prediction.iloc[i-1][0],matchable,prediction.iloc[i-1][1]])\n",
    "            test_result_BERT.loc[i-1]=[str(6000+i),test_narrative.iloc[i-1],test_product.iloc[i-1],\n",
    "                                 prediction.iloc[i-1][0],matchable,prediction.iloc[i-1][1]]\n",
    "    "
   ]
  },
  {
   "cell_type": "code",
   "execution_count": 76,
   "metadata": {},
   "outputs": [
    {
     "data": {
      "text/html": [
       "<div>\n",
       "<style scoped>\n",
       "    .dataframe tbody tr th:only-of-type {\n",
       "        vertical-align: middle;\n",
       "    }\n",
       "\n",
       "    .dataframe tbody tr th {\n",
       "        vertical-align: top;\n",
       "    }\n",
       "\n",
       "    .dataframe thead th {\n",
       "        text-align: right;\n",
       "    }\n",
       "</style>\n",
       "<table border=\"1\" class=\"dataframe\">\n",
       "  <thead>\n",
       "    <tr style=\"text-align: right;\">\n",
       "      <th></th>\n",
       "      <th>index</th>\n",
       "      <th>sentence</th>\n",
       "      <th>label</th>\n",
       "      <th>prediction</th>\n",
       "      <th>matchable</th>\n",
       "      <th>probality</th>\n",
       "    </tr>\n",
       "  </thead>\n",
       "  <tbody>\n",
       "    <tr>\n",
       "      <th>0</th>\n",
       "      <td>6001</td>\n",
       "      <td>would you please kindly tell me how to update ...</td>\n",
       "      <td>Others</td>\n",
       "      <td>Others</td>\n",
       "      <td>Y</td>\n",
       "      <td>0.283963</td>\n",
       "    </tr>\n",
       "    <tr>\n",
       "      <th>1</th>\n",
       "      <td>6002</td>\n",
       "      <td>timesheets which need your approve have not be...</td>\n",
       "      <td>Timesheet</td>\n",
       "      <td>Timesheet</td>\n",
       "      <td>Y</td>\n",
       "      <td>0.909263</td>\n",
       "    </tr>\n",
       "    <tr>\n",
       "      <th>2</th>\n",
       "      <td>6003</td>\n",
       "      <td>staff yoraka stated in submit delay report alr...</td>\n",
       "      <td>Timesheet</td>\n",
       "      <td>Timesheet</td>\n",
       "      <td>Y</td>\n",
       "      <td>0.906963</td>\n",
       "    </tr>\n",
       "    <tr>\n",
       "      <th>3</th>\n",
       "      <td>6004</td>\n",
       "      <td>i m not sure whether the message from nasa as ...</td>\n",
       "      <td>Timesheet</td>\n",
       "      <td>Timesheet</td>\n",
       "      <td>Y</td>\n",
       "      <td>0.902591</td>\n",
       "    </tr>\n",
       "    <tr>\n",
       "      <th>4</th>\n",
       "      <td>6005</td>\n",
       "      <td>hi when i tried to login on nasa global site l...</td>\n",
       "      <td>Authorization</td>\n",
       "      <td>Authorization</td>\n",
       "      <td>Y</td>\n",
       "      <td>0.410477</td>\n",
       "    </tr>\n",
       "    <tr>\n",
       "      <th>5</th>\n",
       "      <td>6006</td>\n",
       "      <td>for the resigned staff nik zhang we need to re...</td>\n",
       "      <td>Timesheet</td>\n",
       "      <td>Timesheet</td>\n",
       "      <td>Y</td>\n",
       "      <td>0.742715</td>\n",
       "    </tr>\n",
       "    <tr>\n",
       "      <th>6</th>\n",
       "      <td>6007</td>\n",
       "      <td>to all chua teerin was resigned last month as ...</td>\n",
       "      <td>Timesheet</td>\n",
       "      <td>Timesheet</td>\n",
       "      <td>Y</td>\n",
       "      <td>0.909418</td>\n",
       "    </tr>\n",
       "    <tr>\n",
       "      <th>7</th>\n",
       "      <td>6008</td>\n",
       "      <td>because the period is closed so what can i do ...</td>\n",
       "      <td>Timesheet</td>\n",
       "      <td>Others</td>\n",
       "      <td>N</td>\n",
       "      <td>0.308135</td>\n",
       "    </tr>\n",
       "    <tr>\n",
       "      <th>8</th>\n",
       "      <td>6009</td>\n",
       "      <td>i could not input project code in expense page...</td>\n",
       "      <td>Report</td>\n",
       "      <td>Project</td>\n",
       "      <td>N</td>\n",
       "      <td>0.430631</td>\n",
       "    </tr>\n",
       "    <tr>\n",
       "      <th>9</th>\n",
       "      <td>6010</td>\n",
       "      <td>i have recently posted an billing in nasa and ...</td>\n",
       "      <td>Report</td>\n",
       "      <td>Project</td>\n",
       "      <td>N</td>\n",
       "      <td>0.349714</td>\n",
       "    </tr>\n",
       "  </tbody>\n",
       "</table>\n",
       "</div>"
      ],
      "text/plain": [
       "  index                                           sentence          label  \\\n",
       "0  6001  would you please kindly tell me how to update ...         Others   \n",
       "1  6002  timesheets which need your approve have not be...      Timesheet   \n",
       "2  6003  staff yoraka stated in submit delay report alr...      Timesheet   \n",
       "3  6004  i m not sure whether the message from nasa as ...      Timesheet   \n",
       "4  6005  hi when i tried to login on nasa global site l...  Authorization   \n",
       "5  6006  for the resigned staff nik zhang we need to re...      Timesheet   \n",
       "6  6007  to all chua teerin was resigned last month as ...      Timesheet   \n",
       "7  6008  because the period is closed so what can i do ...      Timesheet   \n",
       "8  6009  i could not input project code in expense page...         Report   \n",
       "9  6010  i have recently posted an billing in nasa and ...         Report   \n",
       "\n",
       "      prediction matchable  probality  \n",
       "0         Others         Y   0.283963  \n",
       "1      Timesheet         Y   0.909263  \n",
       "2      Timesheet         Y   0.906963  \n",
       "3      Timesheet         Y   0.902591  \n",
       "4  Authorization         Y   0.410477  \n",
       "5      Timesheet         Y   0.742715  \n",
       "6      Timesheet         Y   0.909418  \n",
       "7         Others         N   0.308135  \n",
       "8        Project         N   0.430631  \n",
       "9        Project         N   0.349714  "
      ]
     },
     "execution_count": 76,
     "metadata": {},
     "output_type": "execute_result"
    }
   ],
   "source": [
    "test_result_BERT.head(10)"
   ]
  },
  {
   "cell_type": "markdown",
   "metadata": {},
   "source": [
    "## 2. Predict the results by MLP to compare the BERT"
   ]
  },
  {
   "cell_type": "markdown",
   "metadata": {
    "extensions": {
     "jupyter_dashboards": {
      "version": 1,
      "views": {
       "grid_default": {
        "col": 0,
        "height": 4,
        "hidden": false,
        "row": 13,
        "width": 4
       },
       "report_default": {}
      }
     }
    }
   },
   "source": [
    "### Data preparation for MLP"
   ]
  },
  {
   "cell_type": "code",
   "execution_count": 37,
   "metadata": {
    "collapsed": true
   },
   "outputs": [],
   "source": [
    "# Find out the maximum words for the dimension of word vectors\n",
    "def text2word(doc):\n",
    "    \"\"\"\n",
    "    Usage: Convert one text into word list.\n",
    "    Input: doc - string list\n",
    "    Output: documents - string list: all sentences in words list.\n",
    "            text_len - int: maximum numbers of words in one sentense\n",
    "            max_text - strig list: the words list of the sentence with maximum words\n",
    "    \"\"\"\n",
    "    return_docs=[]\n",
    "    text_len=0\n",
    "    max_text=''\n",
    "    #for item in df['Emails']:\n",
    "    for item in doc:\n",
    "        text_words=[word for word in str(item).lower().split()]\n",
    "        return_docs.append(text_words)\n",
    "        if len(text_words)> text_len:\n",
    "            text_len=len(text_words)\n",
    "            max_text=text_words\n",
    "    #max_words = text_len\n",
    "    \n",
    "    return return_docs,text_len,max_text\n",
    "\n",
    "documents,max_words,_=text2word(df['Emails'])\n",
    "tokenize = text.Tokenizer(num_words=max_words, char_level=False)"
   ]
  },
  {
   "cell_type": "code",
   "execution_count": 38,
   "metadata": {
    "extensions": {
     "jupyter_dashboards": {
      "version": 1,
      "views": {
       "grid_default": {
        "hidden": true
       },
       "report_default": {}
      }
     }
    }
   },
   "outputs": [
    {
     "name": "stdout",
     "output_type": "stream",
     "text": [
      "Found 3294 unique tokens.\n"
     ]
    }
   ],
   "source": [
    "#tokenize.fit_on_texts(train_narrative) # only fit on train\n",
    "tokenize.fit_on_texts(df['Emails'])\n",
    "x_train = tokenize.texts_to_matrix(train_narrative)\n",
    "x_dev= tokenize.texts_to_matrix(dev_narrative)\n",
    "x_test = tokenize.texts_to_matrix(test_narrative)\n",
    "word_index = tokenize.word_index\n",
    "print('Found %s unique tokens.' % len(word_index))"
   ]
  },
  {
   "cell_type": "code",
   "execution_count": 39,
   "metadata": {
    "collapsed": true,
    "extensions": {
     "jupyter_dashboards": {
      "version": 1,
      "views": {
       "grid_default": {
        "hidden": true
       },
       "report_default": {}
      }
     }
    }
   },
   "outputs": [],
   "source": [
    "# Use sklearn utility to convert label strings to numbered index\n",
    "encoder = LabelEncoder()\n",
    "encoder.fit(train_product)\n",
    "y_train = encoder.transform(train_product)\n",
    "y_dev = encoder.transform(dev_product)\n",
    "y_test = encoder.transform(test_product)"
   ]
  },
  {
   "cell_type": "code",
   "execution_count": 40,
   "metadata": {
    "collapsed": true,
    "extensions": {
     "jupyter_dashboards": {
      "version": 1,
      "views": {
       "grid_default": {
        "hidden": true
       },
       "report_default": {}
      }
     }
    }
   },
   "outputs": [],
   "source": [
    "# Converts the labels to a one-hot representation\n",
    "num_classes = np.max(y_train) + 1\n",
    "y_train = utils.to_categorical(y_train, num_classes)\n",
    "y_dev = utils.to_categorical(y_dev, num_classes)\n",
    "y_test = utils.to_categorical(y_test, num_classes)"
   ]
  },
  {
   "cell_type": "code",
   "execution_count": 41,
   "metadata": {},
   "outputs": [
    {
     "name": "stdout",
     "output_type": "stream",
     "text": [
      "['Authorization' 'Others' 'Project' 'Report' 'Resource' 'SAP_HR' 'Subcon'\n",
      " 'Timesheet']\n"
     ]
    }
   ],
   "source": [
    "print(encoder.classes_)"
   ]
  },
  {
   "cell_type": "code",
   "execution_count": 42,
   "metadata": {
    "extensions": {
     "jupyter_dashboards": {
      "version": 1,
      "views": {
       "grid_default": {
        "col": 8,
        "height": 4,
        "hidden": false,
        "row": 13,
        "width": 4
       },
       "report_default": {}
      }
     }
    }
   },
   "outputs": [
    {
     "name": "stdout",
     "output_type": "stream",
     "text": [
      "x_train shape: (516, 1106)\n",
      "x_test shape: (162, 1106)\n",
      "x_dev shape: (130, 1106)\n",
      "y_dev shape: (130, 8)\n",
      "y_train shape: (516, 8)\n",
      "y_test shape: (162, 8)\n"
     ]
    }
   ],
   "source": [
    "# Inspect the dimenstions of our training and test data (this is helpful to debug)\n",
    "print('x_train shape:', x_train.shape)\n",
    "print('x_test shape:', x_test.shape)\n",
    "print('x_dev shape:', x_dev.shape)\n",
    "print('y_dev shape:', y_dev.shape)\n",
    "print('y_train shape:', y_train.shape)\n",
    "print('y_test shape:', y_test.shape)"
   ]
  },
  {
   "cell_type": "markdown",
   "metadata": {
    "extensions": {
     "jupyter_dashboards": {
      "version": 1,
      "views": {
       "grid_default": {
        "col": 0,
        "height": 4,
        "hidden": false,
        "row": 17,
        "width": 4
       },
       "report_default": {}
      }
     }
    }
   },
   "source": [
    "### Build the model"
   ]
  },
  {
   "cell_type": "code",
   "execution_count": 43,
   "metadata": {
    "collapsed": true,
    "extensions": {
     "jupyter_dashboards": {
      "version": 1,
      "views": {
       "grid_default": {
        "hidden": true
       },
       "report_default": {}
      }
     }
    }
   },
   "outputs": [],
   "source": [
    "# Open questions: why are those parameters used for?\n",
    "batch_size = 20\n",
    "hidden_size = 128\n",
    "epochs = 20\n",
    "dropout=0.2\n",
    "# numbers of hidden layers\n",
    "layers=0"
   ]
  },
  {
   "cell_type": "code",
   "execution_count": 44,
   "metadata": {
    "collapsed": true,
    "extensions": {
     "jupyter_dashboards": {
      "version": 1,
      "views": {
       "grid_default": {
        "hidden": true
       },
       "report_default": {}
      }
     }
    }
   },
   "outputs": [],
   "source": [
    "# Build the model\n",
    "model = Sequential()\n",
    "model.add(Dense(hidden_size, input_shape=(max_words,)))\n",
    "model.add(Activation('relu'))\n",
    "model.add(Dropout(dropout))\n",
    "\n",
    "for i in range(layers):\n",
    "    model.add(Dense(hidden_size))\n",
    "    model.add(Activation('relu'))\n",
    "    model.add(Dropout(dropout))\n",
    "\n",
    "model.add(Dense(num_classes))\n",
    "model.add(Activation('softmax'))"
   ]
  },
  {
   "cell_type": "markdown",
   "metadata": {
    "extensions": {
     "jupyter_dashboards": {
      "version": 1,
      "views": {
       "grid_default": {
        "hidden": true
       },
       "report_default": {}
      }
     }
    }
   },
   "source": [
    "### Loss function and optimizer\n",
    "A model needs a loss function and an optimizer for training. Since this is a categorical classification problem and the model outputs a probability (a single-unit layer with a sigmoid activation), we'll use the categorical_crossentropy loss function.\n",
    "This isn't the only choice for a loss function, you could, for instance, choose mean_squared_error. But, generally, categorical_crossentropy is better for dealing with probabilities—it measures the \"distance\" between probability distributions, or in our case, between the ground-truth distribution and the predictions.\n",
    "Later, when we are exploring regression problems (say, to predict the price of a house), we will see how to use another loss function called mean squared error.\n",
    "Now, configure the model to use an optimizer and a loss function:"
   ]
  },
  {
   "cell_type": "code",
   "execution_count": 45,
   "metadata": {
    "extensions": {
     "jupyter_dashboards": {
      "version": 1,
      "views": {
       "grid_default": {
        "hidden": true
       },
       "report_default": {}
      }
     }
    }
   },
   "outputs": [
    {
     "name": "stdout",
     "output_type": "stream",
     "text": [
      "{'lr': 0.0010000000474974513, 'beta_1': 0.8999999761581421, 'beta_2': 0.9990000128746033, 'decay': 0.0, 'epsilon': 1e-07, 'amsgrad': False}\n",
      "_________________________________________________________________\n",
      "Layer (type)                 Output Shape              Param #   \n",
      "=================================================================\n",
      "dense_3 (Dense)              (None, 128)               141696    \n",
      "_________________________________________________________________\n",
      "activation_3 (Activation)    (None, 128)               0         \n",
      "_________________________________________________________________\n",
      "dropout_2 (Dropout)          (None, 128)               0         \n",
      "_________________________________________________________________\n",
      "dense_4 (Dense)              (None, 8)                 1032      \n",
      "_________________________________________________________________\n",
      "activation_4 (Activation)    (None, 8)                 0         \n",
      "=================================================================\n",
      "Total params: 142,728\n",
      "Trainable params: 142,728\n",
      "Non-trainable params: 0\n",
      "_________________________________________________________________\n"
     ]
    }
   ],
   "source": [
    "model.compile(loss='categorical_crossentropy',\n",
    "              optimizer='adam',\n",
    "              metrics=['accuracy'])\n",
    "print(model.optimizer.get_config())\n",
    "model.summary()"
   ]
  },
  {
   "cell_type": "markdown",
   "metadata": {
    "extensions": {
     "jupyter_dashboards": {
      "version": 1,
      "views": {
       "grid_default": {
        "col": 8,
        "height": 4,
        "hidden": false,
        "row": 17,
        "width": 4
       },
       "report_default": {}
      }
     }
    }
   },
   "source": [
    "### Train the model"
   ]
  },
  {
   "cell_type": "code",
   "execution_count": 46,
   "metadata": {
    "extensions": {
     "jupyter_dashboards": {
      "version": 1,
      "views": {
       "grid_default": {
        "col": 0,
        "height": 16,
        "hidden": false,
        "row": 21,
        "width": 4
       },
       "report_default": {}
      }
     }
    }
   },
   "outputs": [
    {
     "name": "stdout",
     "output_type": "stream",
     "text": [
      "Train on 516 samples, validate on 130 samples\n",
      "Epoch 1/20\n",
      "516/516 [==============================] - 0s 626us/step - loss: 1.5138 - acc: 0.4477 - val_loss: 1.1546 - val_acc: 0.6077\n",
      "Epoch 2/20\n",
      "516/516 [==============================] - 0s 156us/step - loss: 0.9430 - acc: 0.7364 - val_loss: 0.9691 - val_acc: 0.7000\n",
      "Epoch 3/20\n",
      "516/516 [==============================] - 0s 140us/step - loss: 0.7048 - acc: 0.8508 - val_loss: 0.8384 - val_acc: 0.7385\n",
      "Epoch 4/20\n",
      "516/516 [==============================] - 0s 151us/step - loss: 0.5370 - acc: 0.8953 - val_loss: 0.7581 - val_acc: 0.7692\n",
      "Epoch 5/20\n",
      "516/516 [==============================] - 0s 146us/step - loss: 0.4174 - acc: 0.9186 - val_loss: 0.7034 - val_acc: 0.8231\n",
      "Epoch 6/20\n",
      "516/516 [==============================] - 0s 146us/step - loss: 0.3094 - acc: 0.9399 - val_loss: 0.6735 - val_acc: 0.7923\n",
      "Epoch 7/20\n",
      "516/516 [==============================] - 0s 142us/step - loss: 0.2511 - acc: 0.9574 - val_loss: 0.6565 - val_acc: 0.8077\n",
      "Epoch 8/20\n",
      "516/516 [==============================] - 0s 142us/step - loss: 0.1945 - acc: 0.9729 - val_loss: 0.6334 - val_acc: 0.8231\n",
      "Epoch 9/20\n",
      "516/516 [==============================] - 0s 145us/step - loss: 0.1682 - acc: 0.9767 - val_loss: 0.6245 - val_acc: 0.8077\n",
      "Epoch 10/20\n",
      "516/516 [==============================] - 0s 147us/step - loss: 0.1338 - acc: 0.9806 - val_loss: 0.6307 - val_acc: 0.8308\n",
      "Epoch 11/20\n",
      "516/516 [==============================] - 0s 146us/step - loss: 0.1231 - acc: 0.9826 - val_loss: 0.6190 - val_acc: 0.8154\n",
      "Epoch 12/20\n",
      "516/516 [==============================] - 0s 139us/step - loss: 0.1004 - acc: 0.9864 - val_loss: 0.6129 - val_acc: 0.8154\n",
      "Epoch 13/20\n",
      "516/516 [==============================] - 0s 149us/step - loss: 0.0837 - acc: 0.9884 - val_loss: 0.6240 - val_acc: 0.8077\n",
      "Epoch 14/20\n",
      "516/516 [==============================] - 0s 130us/step - loss: 0.0753 - acc: 0.9903 - val_loss: 0.6186 - val_acc: 0.8154\n",
      "Epoch 15/20\n",
      "516/516 [==============================] - 0s 133us/step - loss: 0.0652 - acc: 0.9903 - val_loss: 0.6153 - val_acc: 0.8308\n",
      "Epoch 16/20\n",
      "516/516 [==============================] - 0s 138us/step - loss: 0.0634 - acc: 0.9942 - val_loss: 0.6100 - val_acc: 0.8154\n",
      "Epoch 17/20\n",
      "516/516 [==============================] - 0s 128us/step - loss: 0.0592 - acc: 0.9884 - val_loss: 0.6240 - val_acc: 0.8154\n",
      "Epoch 18/20\n",
      "516/516 [==============================] - 0s 133us/step - loss: 0.0488 - acc: 0.9942 - val_loss: 0.6189 - val_acc: 0.8308\n",
      "Epoch 19/20\n",
      "516/516 [==============================] - 0s 153us/step - loss: 0.0460 - acc: 0.9903 - val_loss: 0.6399 - val_acc: 0.8077\n",
      "Epoch 20/20\n",
      "516/516 [==============================] - 0s 148us/step - loss: 0.0439 - acc: 0.9981 - val_loss: 0.6342 - val_acc: 0.8154\n"
     ]
    }
   ],
   "source": [
    "\n",
    "history = model.fit(x_train, y_train,\n",
    "                    batch_size=batch_size,\n",
    "                    epochs=epochs,\n",
    "                    verbose=1,\n",
    "                    validation_data=(x_dev,y_dev))"
   ]
  },
  {
   "cell_type": "markdown",
   "metadata": {
    "extensions": {
     "jupyter_dashboards": {
      "version": 1,
      "views": {
       "grid_default": {
        "col": 0,
        "height": 4,
        "hidden": false,
        "row": 37,
        "width": 12
       },
       "report_default": {}
      }
     }
    }
   },
   "source": [
    "### Create a graph of accuracy and loss over time\n",
    "\n",
    "`model.fit()` returns a `History` object that contains a dictionary with everything that happened during training:"
   ]
  },
  {
   "cell_type": "code",
   "execution_count": 22,
   "metadata": {
    "extensions": {
     "jupyter_dashboards": {
      "version": 1,
      "views": {
       "grid_default": {
        "col": 4,
        "height": 4,
        "hidden": false,
        "row": 23,
        "width": 4
       },
       "report_default": {}
      }
     }
    }
   },
   "outputs": [
    {
     "data": {
      "text/plain": [
       "dict_keys(['val_loss', 'val_acc', 'loss', 'acc'])"
      ]
     },
     "execution_count": 22,
     "metadata": {},
     "output_type": "execute_result"
    }
   ],
   "source": [
    "history_dict = history.history\n",
    "history_dict.keys()"
   ]
  },
  {
   "cell_type": "markdown",
   "metadata": {
    "extensions": {
     "jupyter_dashboards": {
      "version": 1,
      "views": {
       "grid_default": {
        "hidden": true
       },
       "report_default": {}
      }
     }
    }
   },
   "source": [
    "There are four entries: one for each monitored metric during training and validation. We can use these to plot the training and validation loss for comparison, as well as the training and validation accuracy:"
   ]
  },
  {
   "cell_type": "code",
   "execution_count": 23,
   "metadata": {
    "extensions": {
     "jupyter_dashboards": {
      "version": 1,
      "views": {
       "grid_default": {
        "col": 8,
        "height": 9,
        "hidden": false,
        "row": 25,
        "width": 4
       },
       "report_default": {}
      }
     }
    }
   },
   "outputs": [
    {
     "data": {
      "image/png": "[encoded data removed]",
      "text/plain": [
       "<Figure size 432x288 with 1 Axes>"
      ]
     },
     "metadata": {},
     "output_type": "display_data"
    }
   ],
   "source": [
    "import matplotlib.pyplot as plt\n",
    "\n",
    "acc = history.history['acc']\n",
    "val_acc = history.history['val_acc']\n",
    "loss = history.history['loss']\n",
    "val_loss = history.history['val_loss']\n",
    "\n",
    "epochs = range(1, len(acc) + 1)\n",
    "\n",
    "# \"bo\" is for \"blue dot\"\n",
    "plt.plot(epochs, loss, 'bo', label='Training loss')\n",
    "# b is for \"solid blue line\"\n",
    "plt.plot(epochs, val_loss, 'b', label='Validation loss')\n",
    "plt.title('Training and validation loss')\n",
    "plt.xlabel('Epochs')\n",
    "plt.ylabel('Loss')\n",
    "plt.legend()\n",
    "\n",
    "plt.show()"
   ]
  },
  {
   "cell_type": "code",
   "execution_count": 24,
   "metadata": {
    "extensions": {
     "jupyter_dashboards": {
      "version": 1,
      "views": {
       "grid_default": {
        "col": 4,
        "height": 9,
        "hidden": false,
        "row": 27,
        "width": 4
       },
       "report_default": {}
      }
     }
    }
   },
   "outputs": [
    {
     "data": {
      "image/png": "[encoded data removed]",
      "text/plain": [
       "<Figure size 432x288 with 1 Axes>"
      ]
     },
     "metadata": {},
     "output_type": "display_data"
    }
   ],
   "source": [
    "plt.clf()   # clear figure\n",
    "acc_values = history_dict['acc']\n",
    "val_acc_values = history_dict['val_acc']\n",
    "\n",
    "plt.plot(epochs, acc, 'bo', label='Training acc')\n",
    "plt.plot(epochs, val_acc, 'b', label='Validation acc')\n",
    "plt.title('Training and validation accuracy')\n",
    "plt.xlabel('Epochs')\n",
    "plt.ylabel('Accuracy')\n",
    "plt.legend()\n",
    "\n",
    "plt.show()"
   ]
  },
  {
   "cell_type": "code",
   "execution_count": 79,
   "metadata": {},
   "outputs": [
    {
     "name": "stdout",
     "output_type": "stream",
     "text": [
      "162/162 [==============================] - 0s 74us/step\n",
      "Test score: 1.0621719896149489\n",
      "Test accuracy: 0.7777777910232544\n"
     ]
    }
   ],
   "source": [
    "# Evaluate the accuracy of our trained model\n",
    "score = model.evaluate(x_test, y_test,\n",
    "                       batch_size=batch_size, verbose=1)\n",
    "print('Test score:', score[0])\n",
    "print('Test accuracy:', score[1])"
   ]
  },
  {
   "cell_type": "code",
   "execution_count": 80,
   "metadata": {
    "collapsed": true
   },
   "outputs": [],
   "source": [
    "# Produce the result of test into one tsv file for the further analysis\n",
    "y_pred=encoder.classes_[np.argmax(model.predict(x_test,batch_size=batch_size),axis=1)]\n",
    "y_prob=np.max(model.predict(x_test,batch_size=batch_size),axis=1)\n",
    "test_result=pd.DataFrame(columns=['index','sentence','label','prediction','matchable','probality'])\n",
    "\n",
    "with open('test_results.tsv', 'w', newline='') as f_output:\n",
    "    tsv_output = csv.writer(f_output, delimiter='\\t')\n",
    "    for i in range(test_narrative.shape[0]+1):\n",
    "        if i==0:\n",
    "            tsv_output.writerow(test_result.columns)\n",
    "        else:\n",
    "            if test_product.iloc[i-1]==y_pred[i-1]:\n",
    "                matchable='Y'\n",
    "            else:\n",
    "                matchable='N'\n",
    "            tsv_output.writerow([str(6000+i),test_narrative.iloc[i-1],\n",
    "                                 test_product.iloc[i-1],y_pred[i-1],matchable,y_prob[i-1]])\n",
    "            test_result.loc[i-1]=[str(6000+i),test_narrative.iloc[i-1],\n",
    "                                 test_product.iloc[i-1],y_pred[i-1],matchable,y_prob[i-1]]\n",
    "    "
   ]
  },
  {
   "cell_type": "code",
   "execution_count": 81,
   "metadata": {},
   "outputs": [
    {
     "data": {
      "text/html": [
       "<div>\n",
       "<style scoped>\n",
       "    .dataframe tbody tr th:only-of-type {\n",
       "        vertical-align: middle;\n",
       "    }\n",
       "\n",
       "    .dataframe tbody tr th {\n",
       "        vertical-align: top;\n",
       "    }\n",
       "\n",
       "    .dataframe thead th {\n",
       "        text-align: right;\n",
       "    }\n",
       "</style>\n",
       "<table border=\"1\" class=\"dataframe\">\n",
       "  <thead>\n",
       "    <tr style=\"text-align: right;\">\n",
       "      <th></th>\n",
       "      <th>index</th>\n",
       "      <th>sentence</th>\n",
       "      <th>label</th>\n",
       "      <th>prediction</th>\n",
       "      <th>matchable</th>\n",
       "      <th>probality</th>\n",
       "    </tr>\n",
       "  </thead>\n",
       "  <tbody>\n",
       "    <tr>\n",
       "      <th>0</th>\n",
       "      <td>6001</td>\n",
       "      <td>would you please kindly tell me how to update ...</td>\n",
       "      <td>Others</td>\n",
       "      <td>Others</td>\n",
       "      <td>Y</td>\n",
       "      <td>0.965423</td>\n",
       "    </tr>\n",
       "    <tr>\n",
       "      <th>1</th>\n",
       "      <td>6002</td>\n",
       "      <td>timesheets which need your approve have not be...</td>\n",
       "      <td>Timesheet</td>\n",
       "      <td>Timesheet</td>\n",
       "      <td>Y</td>\n",
       "      <td>0.999352</td>\n",
       "    </tr>\n",
       "    <tr>\n",
       "      <th>2</th>\n",
       "      <td>6003</td>\n",
       "      <td>staff yoraka stated in submit delay report alr...</td>\n",
       "      <td>Timesheet</td>\n",
       "      <td>Timesheet</td>\n",
       "      <td>Y</td>\n",
       "      <td>0.999947</td>\n",
       "    </tr>\n",
       "    <tr>\n",
       "      <th>3</th>\n",
       "      <td>6004</td>\n",
       "      <td>i m not sure whether the message from nasa as ...</td>\n",
       "      <td>Timesheet</td>\n",
       "      <td>Timesheet</td>\n",
       "      <td>Y</td>\n",
       "      <td>0.996173</td>\n",
       "    </tr>\n",
       "    <tr>\n",
       "      <th>4</th>\n",
       "      <td>6005</td>\n",
       "      <td>hi when i tried to login on nasa global site l...</td>\n",
       "      <td>Authorization</td>\n",
       "      <td>Others</td>\n",
       "      <td>N</td>\n",
       "      <td>0.900655</td>\n",
       "    </tr>\n",
       "    <tr>\n",
       "      <th>5</th>\n",
       "      <td>6006</td>\n",
       "      <td>for the resigned staff nik zhang we need to re...</td>\n",
       "      <td>Timesheet</td>\n",
       "      <td>Timesheet</td>\n",
       "      <td>Y</td>\n",
       "      <td>0.628266</td>\n",
       "    </tr>\n",
       "    <tr>\n",
       "      <th>6</th>\n",
       "      <td>6007</td>\n",
       "      <td>to all chua teerin was resigned last month as ...</td>\n",
       "      <td>Timesheet</td>\n",
       "      <td>Timesheet</td>\n",
       "      <td>Y</td>\n",
       "      <td>0.999996</td>\n",
       "    </tr>\n",
       "    <tr>\n",
       "      <th>7</th>\n",
       "      <td>6008</td>\n",
       "      <td>because the period is closed so what can i do ...</td>\n",
       "      <td>Timesheet</td>\n",
       "      <td>Timesheet</td>\n",
       "      <td>Y</td>\n",
       "      <td>0.481926</td>\n",
       "    </tr>\n",
       "    <tr>\n",
       "      <th>8</th>\n",
       "      <td>6009</td>\n",
       "      <td>i could not input project code in expense page...</td>\n",
       "      <td>Report</td>\n",
       "      <td>Report</td>\n",
       "      <td>Y</td>\n",
       "      <td>0.566993</td>\n",
       "    </tr>\n",
       "    <tr>\n",
       "      <th>9</th>\n",
       "      <td>6010</td>\n",
       "      <td>i have recently posted an billing in nasa and ...</td>\n",
       "      <td>Report</td>\n",
       "      <td>Others</td>\n",
       "      <td>N</td>\n",
       "      <td>0.696963</td>\n",
       "    </tr>\n",
       "  </tbody>\n",
       "</table>\n",
       "</div>"
      ],
      "text/plain": [
       "  index                                           sentence          label  \\\n",
       "0  6001  would you please kindly tell me how to update ...         Others   \n",
       "1  6002  timesheets which need your approve have not be...      Timesheet   \n",
       "2  6003  staff yoraka stated in submit delay report alr...      Timesheet   \n",
       "3  6004  i m not sure whether the message from nasa as ...      Timesheet   \n",
       "4  6005  hi when i tried to login on nasa global site l...  Authorization   \n",
       "5  6006  for the resigned staff nik zhang we need to re...      Timesheet   \n",
       "6  6007  to all chua teerin was resigned last month as ...      Timesheet   \n",
       "7  6008  because the period is closed so what can i do ...      Timesheet   \n",
       "8  6009  i could not input project code in expense page...         Report   \n",
       "9  6010  i have recently posted an billing in nasa and ...         Report   \n",
       "\n",
       "  prediction matchable  probality  \n",
       "0     Others         Y   0.965423  \n",
       "1  Timesheet         Y   0.999352  \n",
       "2  Timesheet         Y   0.999947  \n",
       "3  Timesheet         Y   0.996173  \n",
       "4     Others         N   0.900655  \n",
       "5  Timesheet         Y   0.628266  \n",
       "6  Timesheet         Y   0.999996  \n",
       "7  Timesheet         Y   0.481926  \n",
       "8     Report         Y   0.566993  \n",
       "9     Others         N   0.696963  "
      ]
     },
     "execution_count": 81,
     "metadata": {},
     "output_type": "execute_result"
    }
   ],
   "source": [
    "test_result.head(10)"
   ]
  },
  {
   "cell_type": "markdown",
   "metadata": {},
   "source": [
    "### Data processing to keep the records satisfying both Algorithms"
   ]
  },
  {
   "cell_type": "code",
   "execution_count": 113,
   "metadata": {},
   "outputs": [],
   "source": [
    "# Merge both MLP test result and BERT result\n",
    "test_result_merg=pd.merge(test_result,test_result_BERT,on=['index'])\n",
    "\n",
    "# Count the total test result for coming combining accuracy's calculation\n",
    "total_test_records=test_result_merg.shape[0]\n",
    "\n",
    "# Setup the probability level to keep the records\n",
    "prob_level=0.8"
   ]
  },
  {
   "cell_type": "code",
   "execution_count": 114,
   "metadata": {
    "collapsed": true
   },
   "outputs": [],
   "source": [
    "# Making sure the prediction is same between them\n",
    "test_result_merg=test_result_merg[test_result_merg['prediction_x']==test_result_merg['prediction_y']]\n",
    "\n",
    "# Remove unmatchable records\n",
    "test_result_merg=test_result_merg[test_result_merg['matchable_x']=='Y']\n",
    "test_result_merg=test_result_merg[test_result_merg['matchable_y']=='Y']\n",
    "\n",
    "# Remove records less than prob_level\n",
    "test_result_merg=test_result_merg[test_result_merg['probality_x']>=prob_level]\n",
    "test_result_merg=test_result_merg[test_result_merg['probality_y']>=prob_level]"
   ]
  },
  {
   "cell_type": "code",
   "execution_count": 115,
   "metadata": {},
   "outputs": [
    {
     "name": "stdout",
     "output_type": "stream",
     "text": [
      "Percent of remaining: 0.31\n"
     ]
    }
   ],
   "source": [
    "print('Percent of remaining:', round(test_result_merg.shape[0]/total_test_records,2))"
   ]
  },
  {
   "cell_type": "code",
   "execution_count": null,
   "metadata": {
    "collapsed": true
   },
   "outputs": [],
   "source": []
  }
 ],
 "metadata": {
  "extensions": {
   "jupyter_dashboards": {
    "activeView": "grid_default",
    "version": 1,
    "views": {
     "grid_default": {
      "cellMargin": 10,
      "defaultCellHeight": 20,
      "maxColumns": 12,
      "name": "grid",
      "type": "grid"
     },
     "report_default": {
      "name": "report",
      "type": "report"
     }
    }
   }
  },
  "kernelspec": {
   "display_name": "Python 3",
   "language": "python",
   "name": "python3"
  },
  "language_info": {
   "codemirror_mode": {
    "name": "ipython",
    "version": 3
   },
   "file_extension": ".py",
   "mimetype": "text/x-python",
   "name": "python",
   "nbconvert_exporter": "python",
   "pygments_lexer": "ipython3",
   "version": "3.6.1"
  }
 },
 "nbformat": 4,
 "nbformat_minor": 2
}
